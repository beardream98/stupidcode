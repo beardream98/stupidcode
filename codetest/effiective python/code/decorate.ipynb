{
 "cells": [
  {
   "cell_type": "code",
   "execution_count": 1,
   "metadata": {},
   "outputs": [],
   "source": [
    "def deco(func):\n",
    "    def inner():\n",
    "        print(\"that is inner func\")\n",
    "    return inner\n",
    "\n",
    "@deco\n",
    "def target():\n",
    "    print(\"running target\")\n",
    "    "
   ]
  },
  {
   "cell_type": "code",
   "execution_count": 3,
   "metadata": {},
   "outputs": [
    {
     "name": "stdout",
     "output_type": "stream",
     "text": [
      "that is inner func\n"
     ]
    }
   ],
   "source": [
    "target()"
   ]
  },
  {
   "cell_type": "code",
   "execution_count": 4,
   "metadata": {},
   "outputs": [
    {
     "data": {
      "text/plain": [
       "<function __main__.deco.<locals>.inner>"
      ]
     },
     "execution_count": 4,
     "metadata": {},
     "output_type": "execute_result"
    }
   ],
   "source": [
    "target"
   ]
  },
  {
   "cell_type": "code",
   "execution_count": 6,
   "metadata": {},
   "outputs": [
    {
     "name": "stdout",
     "output_type": "stream",
     "text": [
      "running register(<function f1 at 0x0000026DAA3C9EA0>)\n",
      "running register(<function f2 at 0x0000026DAA3C99D8>)\n",
      "registry -> [<function f1 at 0x0000026DAA3C9EA0>, <function f2 at 0x0000026DAA3C99D8>]\n",
      "running f1()\n",
      "running f2()\n",
      "running f3()\n"
     ]
    }
   ],
   "source": [
    "registry = [] \n",
    "def register(func): \n",
    "    print('running register(%s)' % func) \n",
    "    registry.append(func) \n",
    "    return func \n",
    "\n",
    "\n",
    "@register \n",
    "def f1():\n",
    "    print('running f1()')\n",
    "@register\n",
    "def f2():\n",
    "    print('running f2()')\n",
    "def f3(): \n",
    "    print('running f3()')\n",
    "def main(): \n",
    "    print('running main()')\n",
    "    \n",
    "print('registry ->', registry)\n",
    "f1()\n",
    "f2()\n",
    "f3()\n"
   ]
  },
  {
   "cell_type": "code",
   "execution_count": 20,
   "metadata": {},
   "outputs": [],
   "source": [
    "# time装饰器\n",
    "\n",
    "import time\n",
    "def clock(func):\n",
    "    def clocked(*args):\n",
    "        t0=time.perf_counter()\n",
    "        result=func(*args)\n",
    "        elapsed=time.perf_counter()-t0\n",
    "        print(f\"time:{elapsed:0.8f}\")\n",
    "        return result\n",
    "    return clocked\n"
   ]
  },
  {
   "cell_type": "code",
   "execution_count": 21,
   "metadata": {},
   "outputs": [],
   "source": [
    "@clock\n",
    "def add(a,b,c):\n",
    "    return a+b+c"
   ]
  },
  {
   "cell_type": "code",
   "execution_count": 22,
   "metadata": {},
   "outputs": [
    {
     "name": "stdout",
     "output_type": "stream",
     "text": [
      "time:0.00000050\n"
     ]
    },
    {
     "data": {
      "text/plain": [
       "6"
      ]
     },
     "execution_count": 22,
     "metadata": {},
     "output_type": "execute_result"
    }
   ],
   "source": [
    "add(1,2,3)"
   ]
  },
  {
   "cell_type": "code",
   "execution_count": 1,
   "metadata": {},
   "outputs": [],
   "source": [
    "def parti(nums,left,right):\n",
    "    pivot=nums[left]\n",
    "    i,j=left,right\n",
    "    while(i<j):\n",
    "        while(i<j and nums[j]>=pivot):\n",
    "            j-=1\n",
    "        nums[i]=nums[j]\n",
    "        while(i<j and nums[i]<=pivot):\n",
    "            i+=1\n",
    "        nums[j]=nums[i]\n",
    "    nums[i]=pivot\n",
    "    return i\n"
   ]
  },
  {
   "cell_type": "code",
   "execution_count": 10,
   "metadata": {},
   "outputs": [
    {
     "data": {
      "text/plain": [
       "4"
      ]
     },
     "execution_count": 10,
     "metadata": {},
     "output_type": "execute_result"
    }
   ],
   "source": [
    "nums=[6,2,4,5,3]\n",
    "parti(nums,0,4)"
   ]
  },
  {
   "cell_type": "code",
   "execution_count": null,
   "metadata": {},
   "outputs": [],
   "source": []
  }
 ],
 "metadata": {
  "interpreter": {
   "hash": "82fb43e1ad5ce561335ce8de899fd4fd13781da24404c8b01563b1f935ef1024"
  },
  "kernelspec": {
   "display_name": "Python 3.6.12 ('python36')",
   "language": "python",
   "name": "python3"
  },
  "language_info": {
   "codemirror_mode": {
    "name": "ipython",
    "version": 3
   },
   "file_extension": ".py",
   "mimetype": "text/x-python",
   "name": "python",
   "nbconvert_exporter": "python",
   "pygments_lexer": "ipython3",
   "version": "3.6.12"
  },
  "orig_nbformat": 4
 },
 "nbformat": 4,
 "nbformat_minor": 2
}
