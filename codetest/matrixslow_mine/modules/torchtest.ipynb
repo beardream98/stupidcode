{
 "cells": [
  {
   "cell_type": "code",
   "execution_count": 1,
   "metadata": {},
   "outputs": [],
   "source": [
    "import pandas as pd\n",
    "import numpy as np\n",
    "import sys\n",
    "sys.path.append(\"..\")\n",
    "from core.node import Tensor\n",
    "from core.module import Linear,LogisticRegression,normalization\n",
    "\n",
    "from core.module import MSELoss,BCELoss\n",
    "from core.module import Linear,LogisticRegression\n",
    "from core.opt import SGD,GCHECK\n",
    "from core.node import Tensor\n",
    "from core.functions import sigmoid\n",
    "import torch \n"
   ]
  },
  {
   "cell_type": "code",
   "execution_count": 2,
   "metadata": {},
   "outputs": [],
   "source": [
    "path=\"../data/marks.txt\"\n",
    "def load_data(path):\n",
    "    data=pd.read_csv(path,header=None,names=[\"x1\",\"x2\",\"y\"])\n",
    "    # data=data.loc[0:1]\n",
    "    x=data[[\"x1\",\"x2\"]].to_numpy()\n",
    "\n",
    "    y=data[\"y\"].to_numpy()\n",
    "    # x,y=x[0],y[0]\n",
    "    x,y=x.reshape(-1,2),y.reshape(-1,1)\n",
    "    \n",
    "    x=(x-66)/358\n",
    "    return x,y\n",
    "\n",
    "path=\"../data/marks.txt\"\n",
    "x,y=load_data(path)"
   ]
  },
  {
   "cell_type": "code",
   "execution_count": 3,
   "metadata": {},
   "outputs": [],
   "source": [
    "x_torch,y_torch=torch.tensor(x,dtype=float),torch.tensor(y)\n",
    "x_torch,y_torch=x_torch.to(torch.float32),y_torch.to(torch.float32)"
   ]
  },
  {
   "cell_type": "code",
   "execution_count": 4,
   "metadata": {},
   "outputs": [],
   "source": [
    "class LR(torch.nn.Module):\n",
    "    def __init__(self):\n",
    "        super(LR,self).__init__()\n",
    "        self.fc=torch.nn.Linear(2,1)\n",
    "    def forward(self,x):\n",
    "        out1=self.fc(x)\n",
    "        out2=torch.sigmoid(out1)\n",
    "        return out2\n"
   ]
  },
  {
   "cell_type": "code",
   "execution_count": 5,
   "metadata": {},
   "outputs": [],
   "source": [
    "model_torch=LR()\n",
    "loss_torch=torch.nn.BCELoss()\n",
    "out=model_torch(x_torch)\n",
    "y_torch=y_torch.to(torch.float)"
   ]
  },
  {
   "cell_type": "code",
   "execution_count": 6,
   "metadata": {},
   "outputs": [
    {
     "name": "stdout",
     "output_type": "stream",
     "text": [
      "tensor([[-0.0150, -0.0129]])\n",
      "tensor([-0.1145])\n"
     ]
    }
   ],
   "source": [
    "l_torch=loss_torch(out,y_torch)\n",
    "\n",
    "l_torch.backward()\n",
    "for n,p in model_torch.named_parameters():\n",
    "    print(p.grad)"
   ]
  },
  {
   "cell_type": "code",
   "execution_count": 7,
   "metadata": {},
   "outputs": [],
   "source": [
    "x,y=Tensor(x),Tensor(y)    "
   ]
  },
  {
   "cell_type": "code",
   "execution_count": 8,
   "metadata": {},
   "outputs": [],
   "source": [
    "axis=0\n",
    "ln=normalization(method=\"distrubution\",axis=axis)\n",
    "# x_n=ln(x)\n",
    "x_n=x\n",
    "model=LogisticRegression(2,1)\n",
    "loss=BCELoss(\"mean\")\n",
    "\n",
    "output=model(x_n)\n",
    "l=loss(output,y)\n",
    "l.backward()\n"
   ]
  },
  {
   "cell_type": "code",
   "execution_count": 9,
   "metadata": {},
   "outputs": [
    {
     "name": "stdout",
     "output_type": "stream",
     "text": [
      "9.5367431640625e-07\n",
      "1.1920928955078125e-07\n",
      "1.1920928955078125e-07\n"
     ]
    }
   ],
   "source": [
    "epslion=1e-5\n",
    "optimizer=GCHECK(model.parameters(),epsilon=epslion)\n",
    "\n",
    "its=optimizer.step()\n",
    "\n",
    "grad_approx=np.array([])\n",
    "for it in its:\n",
    "    output1=model(x_n)\n",
    "    l1=loss(output1,y)\n",
    "    print(l1.data.item()-l.data.item())\n",
    "    grad_one=-(l1.data.item()-l.data.item()) /epslion\n",
    "    grad_approx=np.concatenate([grad_approx,np.array(grad_one).reshape(1)])"
   ]
  },
  {
   "cell_type": "code",
   "execution_count": 10,
   "metadata": {},
   "outputs": [
    {
     "data": {
      "text/plain": [
       "array([-0.09536743, -0.01192093, -0.01192093])"
      ]
     },
     "execution_count": 10,
     "metadata": {},
     "output_type": "execute_result"
    }
   ],
   "source": []
  },
  {
   "cell_type": "code",
   "execution_count": null,
   "metadata": {},
   "outputs": [],
   "source": []
  }
 ],
 "metadata": {
  "interpreter": {
   "hash": "82fb43e1ad5ce561335ce8de899fd4fd13781da24404c8b01563b1f935ef1024"
  },
  "kernelspec": {
   "display_name": "Python 3.6.12 ('python36')",
   "language": "python",
   "name": "python3"
  },
  "language_info": {
   "codemirror_mode": {
    "name": "ipython",
    "version": 3
   },
   "file_extension": ".py",
   "mimetype": "text/x-python",
   "name": "python",
   "nbconvert_exporter": "python",
   "pygments_lexer": "ipython3",
   "version": "3.6.12"
  },
  "orig_nbformat": 4
 },
 "nbformat": 4,
 "nbformat_minor": 2
}
