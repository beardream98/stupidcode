{
 "cells": [
  {
   "cell_type": "code",
   "execution_count": 18,
   "metadata": {},
   "outputs": [],
   "source": [
    "# -*- coding: utf-8 -*-\n",
    "import yaml\n",
    "import data\n",
    "from data.read_data_temp import select_data,TrainData,file_split,DataByFile,sample_negative\n",
    "from data.data_split import kfsplit\n",
    "from data.datasets import prepare_loaders\n",
    "from utils.wandb_init import get_run,wandb_utils\n",
    "from utils.train import get_score,train_set,get_score_list\n",
    "from utils.trivial import get_logger\n",
    "from model.head import OriginModel\n",
    "from model.trainer import train,predict\n",
    "import torch\n",
    "from transformers import logging\n",
    "\n",
    "import wandb\n",
    "\n",
    "import numpy as np\n",
    "import pandas as pd \n",
    "import os\n",
    "import torch\n",
    "\n",
    "from sklearn.metrics import precision_score,recall_score,f1_score\n",
    "import gc \n",
    "gc.enable()\n",
    "from utils.trivial import set_seed\n",
    "\n",
    "import warnings\n",
    "from pandas.core.common import SettingWithCopyWarning\n",
    "warnings.simplefilter(action=\"ignore\", category=SettingWithCopyWarning)\n"
   ]
  },
  {
   "cell_type": "code",
   "execution_count": 19,
   "metadata": {},
   "outputs": [
    {
     "name": "stderr",
     "output_type": "stream",
     "text": [
      "\u001b[34m\u001b[1mwandb\u001b[0m: \u001b[33mWARNING\u001b[0m If you're specifying your api key in code, ensure this code is not shared publicly.\n",
      "\u001b[34m\u001b[1mwandb\u001b[0m: \u001b[33mWARNING\u001b[0m Consider setting the WANDB_API_KEY environment variable, or running `wandb login` from the command line.\n",
      "\u001b[34m\u001b[1mwandb\u001b[0m: Appending key for api.wandb.ai to your netrc file: /home/v-mxiong/.netrc\n"
     ]
    }
   ],
   "source": [
    "yaml_path=\"./config/train.yaml\"\n",
    "CONFIG,Logger,DEVICE=train_set(yaml_path,experimentName=None,upload=False,filename=\"./test/logs\",is_notebook=True)\n",
    "\n",
    "CONFIG[\"num_hidden_layers\"]=12\n",
    "CONFIG[\"DATA_NUM\"]=50000\n",
    "CONFIG[\"EPOCHS\"]=1\n",
    "CONFIG[\"DEBUG_MODEL\"]=False\n",
    "CONFIG[\"run_db\"]=False\n"
   ]
  },
  {
   "cell_type": "code",
   "execution_count": 20,
   "metadata": {},
   "outputs": [],
   "source": [
    "# trainDataObj=DataByFile(CONFIG,\"train\")\n",
    "# trainData=trainDataObj.get_data()\n",
    "# CONFIG[\"Logger\"].info(\"-\"*10+\"trainData label's value_counts\"+\"-\"*10)\n",
    "# CONFIG[\"Logger\"].info(trainData[\"label\"].value_counts())\n",
    "# CONFIG[\"Logger\"].info(\"-\"*10+\"trainData fold's value_counts\"+\"-\"*10)\n",
    "# CONFIG[\"Logger\"].info(trainData[\"fold\"].value_counts())\n"
   ]
  },
  {
   "cell_type": "code",
   "execution_count": 21,
   "metadata": {},
   "outputs": [
    {
     "name": "stderr",
     "output_type": "stream",
     "text": [
      "column_name :['Query', 'label', 'dsat']\n",
      "column_name :['Query', 'label', 'dsat']\n"
     ]
    }
   ],
   "source": [
    "    \n",
    "\n",
    "CONFIG[\"INPUT_DIR\"]=\"/vc_data/users/v-mxiong/qc/QueryTitle\"\n",
    "with open(os.path.join(CONFIG[\"INPUT_DIR\"],\"Schema\"),\"r\") as f:\n",
    "    line=f.readlines()[0].strip()\n",
    "    column_name=line.split(\"\\t\")\n",
    "    CONFIG[\"Logger\"].info(f\"column_name :{column_name}\")"
   ]
  },
  {
   "cell_type": "code",
   "execution_count": 22,
   "metadata": {},
   "outputs": [],
   "source": [
    "\n",
    "# from data.read_data_temp import read_data_file\n",
    "def read_data_file(input_file,is_debug,data_num,head=[\"Query\",\"label\"]):\n",
    "    with open(input_file,\"r\",encoding=\"UTF-8\") as input_object:\n",
    "        if is_debug==True:\n",
    "            input_lines=[]\n",
    "            for _ in range(data_num):\n",
    "                input_lines.append(input_object.readline())\n",
    "        else:\n",
    "            input_lines=input_object.readlines()\n",
    "    input_lines=[ line.strip().split(\"\\t\") for line in input_lines]\n",
    "    # may return wrong number \n",
    "    input_lines=[ line for line in input_lines if len(line)==len(head)]\n",
    "    # input_lines=[ [line[0].split(\"$$\")[0],line[1]] for line in input_lines if len(line)==len(head)]\n",
    "    \n",
    "    # url+title\n",
    "    # input_lines=[ [\" \".join(line[0].split(\"$$\")[1:3]),line[1]] for line in input_lines if len(line)==len(head)]\n",
    "    \n",
    "    input_df=pd.DataFrame(input_lines,columns=head)\n",
    "    \n",
    "    return input_df\n",
    "\n",
    "positivepath=os.path.join(CONFIG[\"INPUT_DIR\"],\"positivefold\")\n",
    "data_type=\"test\"\n",
    "\n",
    "positive_file=os.path.join(positivepath,data_type)\n",
    "positive_df=read_data_file(positive_file,CONFIG[\"DEBUG_MODEL\"],data_num=CONFIG[\"DATA_NUM\"],head=column_name)\n",
    "\n",
    "positive_df[\"label\"]=positive_df[\"label\"].replace([\"0\",\"1\"],[0,1])\n",
    "positive_df=positive_df.query(\"label==1 or label==0\")\n",
    "positive_df[\"label\"]=positive_df[\"label\"].astype(int)\n",
    "positive_df.reset_index(inplace=True,drop=True)\n"
   ]
  },
  {
   "cell_type": "code",
   "execution_count": 23,
   "metadata": {},
   "outputs": [
    {
     "name": "stdout",
     "output_type": "stream",
     "text": [
      "<class 'pandas.core.frame.DataFrame'>\n",
      "RangeIndex: 163606 entries, 0 to 163605\n",
      "Data columns (total 3 columns):\n",
      "Query    163606 non-null object\n",
      "label    163606 non-null int64\n",
      "dsat     163606 non-null object\n",
      "dtypes: int64(1), object(2)\n",
      "memory usage: 3.7+ MB\n"
     ]
    }
   ],
   "source": [
    "positive_df=positive_df.sample(frac=0.1,random_state=11).reset_index(drop=True)\n",
    "positive_df.info()"
   ]
  },
  {
   "cell_type": "code",
   "execution_count": 24,
   "metadata": {},
   "outputs": [],
   "source": [
    "\n",
    "input_file=os.path.join(CONFIG[\"INPUT_DIR\"],\"NegativeTest\")\n",
    "\n",
    "negative_df=read_data_file(input_file,CONFIG[\"DEBUG_MODEL\"],data_num=CONFIG[\"DATA_NUM\"],head=column_name)\n",
    "negative_df=negative_df.sample(frac=0.1,random_state=11).reset_index(drop=True)\n",
    "negative_df[\"label\"]=negative_df[\"label\"].replace([\"0\",\"1\"],[0,1])\n",
    "negative_df=negative_df.query(\"label==1 or label==0\")\n",
    "negative_df[\"label\"]=negative_df[\"label\"].astype(int)\n",
    "negative_df.reset_index(inplace=True,drop=True)\n",
    "\n"
   ]
  },
  {
   "cell_type": "code",
   "execution_count": 25,
   "metadata": {},
   "outputs": [
    {
     "data": {
      "text/plain": [
       "0    5550326\n",
       "1      74035\n",
       "Name: dsat, dtype: int64"
      ]
     },
     "execution_count": 25,
     "metadata": {},
     "output_type": "execute_result"
    }
   ],
   "source": [
    "negative_df[\"dsat\"]=negative_df[\"dsat\"].replace([\"0\",\"1\"],[0,1])\n",
    "negative_df=negative_df.query(\"dsat==1 or dsat==0\")\n",
    "negative_df[\"dsat\"]=negative_df[\"dsat\"].astype(int)\n",
    "negative_df.reset_index(inplace=True,drop=True)\n",
    "negative_df[\"dsat\"].value_counts()\n"
   ]
  },
  {
   "cell_type": "code",
   "execution_count": 26,
   "metadata": {},
   "outputs": [
    {
     "name": "stdout",
     "output_type": "stream",
     "text": [
      "<class 'pandas.core.frame.DataFrame'>\n",
      "RangeIndex: 5624361 entries, 0 to 5624360\n",
      "Data columns (total 3 columns):\n",
      "Query    object\n",
      "label    int64\n",
      "dsat     int64\n",
      "dtypes: int64(2), object(1)\n",
      "memory usage: 128.7+ MB\n"
     ]
    }
   ],
   "source": [
    "negative_df.info()"
   ]
  },
  {
   "cell_type": "code",
   "execution_count": 27,
   "metadata": {},
   "outputs": [],
   "source": [
    "dsat_df,unclick_df=negative_df.query(\"dsat==1\"),negative_df.query(\"dsat==0\")\n",
    "\n",
    "dsat_df.reset_index(inplace=True,drop=True)\n",
    "unclick_df.reset_index(inplace=True,drop=True)\n",
    "\n",
    "# unclick_sample_df=unclick_df.sample(n=len(positive_df))\n",
    "# unclick_sample_df.reset_index(inplace=True,drop=True)"
   ]
  },
  {
   "cell_type": "code",
   "execution_count": 28,
   "metadata": {},
   "outputs": [
    {
     "name": "stderr",
     "output_type": "stream",
     "text": [
      "\n",
      "Using/vc_data/users/v-mxiong/qc/checkpoint/best/qt10m/bestmodel0.pth\n",
      "\n",
      "Using/vc_data/users/v-mxiong/qc/checkpoint/best/qt10m/bestmodel0.pth\n"
     ]
    },
    {
     "name": "stdout",
     "output_type": "stream",
     "text": [
      "0    74035\n",
      "Name: label, dtype: int64\n"
     ]
    },
    {
     "name": "stderr",
     "output_type": "stream",
     "text": [
      "100%|██████████| 10/10 [00:54<00:00,  4.27s/it]\n",
      "/opt/conda/lib/python3.6/site-packages/sklearn/metrics/_classification.py:1221: UndefinedMetricWarning: Recall is ill-defined and being set to 0.0 in labels with no true samples. Use `zero_division` parameter to control this behavior.\n",
      "  _warn_prf(average, modifier, msg_start, len(result))\n",
      "----------summary test metric----------\n",
      "----------summary test metric----------\n",
      "label0:test-acc:0.35579117984736947 test:precesion:1.0,recall:0.35579117984736947,f1:0.5248465768709651\n",
      "label0:test-acc:0.35579117984736947 test:precesion:1.0,recall:0.35579117984736947,f1:0.5248465768709651\n",
      "test-acc:0.35579117984736947 test:precesion:0.0,recall:0.0,f1:0.0\n",
      "test-acc:0.35579117984736947 test:precesion:0.0,recall:0.0,f1:0.0\n",
      "\n",
      "Using/vc_data/users/v-mxiong/qc/checkpoint/best/qt10m/bestmodel0.pth\n",
      "\n",
      "Using/vc_data/users/v-mxiong/qc/checkpoint/best/qt10m/bestmodel0.pth\n"
     ]
    },
    {
     "name": "stdout",
     "output_type": "stream",
     "text": [
      "0    5550326\n",
      "Name: label, dtype: int64\n"
     ]
    },
    {
     "name": "stderr",
     "output_type": "stream",
     "text": [
      "100%|██████████| 678/678 [53:49<00:00,  3.57s/it]  \n",
      "----------summary test metric----------\n",
      "----------summary test metric----------\n",
      "label0:test-acc:0.5717348854824023 test:precesion:1.0,recall:0.5717348854824023,f1:0.727520767991255\n",
      "label0:test-acc:0.5717348854824023 test:precesion:1.0,recall:0.5717348854824023,f1:0.727520767991255\n",
      "test-acc:0.5717348854824023 test:precesion:0.0,recall:0.0,f1:0.0\n",
      "test-acc:0.5717348854824023 test:precesion:0.0,recall:0.0,f1:0.0\n",
      "\n",
      "Using/vc_data/users/v-mxiong/qc/checkpoint/best/qt10m/bestmodel0.pth\n",
      "\n",
      "Using/vc_data/users/v-mxiong/qc/checkpoint/best/qt10m/bestmodel0.pth\n"
     ]
    },
    {
     "name": "stdout",
     "output_type": "stream",
     "text": [
      "1    163606\n",
      "Name: label, dtype: int64\n"
     ]
    },
    {
     "name": "stderr",
     "output_type": "stream",
     "text": [
      "100%|██████████| 20/20 [01:25<00:00,  4.18s/it]\n",
      "----------summary test metric----------\n",
      "----------summary test metric----------\n",
      "label0:test-acc:0.7260491669009694 test:precesion:0.0,recall:0.0,f1:0.0\n",
      "label0:test-acc:0.7260491669009694 test:precesion:0.0,recall:0.0,f1:0.0\n",
      "test-acc:0.7260491669009694 test:precesion:1.0,recall:0.7260491669009694,f1:0.8412844556503017\n",
      "test-acc:0.7260491669009694 test:precesion:1.0,recall:0.7260491669009694,f1:0.8412844556503017\n"
     ]
    }
   ],
   "source": [
    "from query_baseline import test_floop\n",
    "\n",
    "def get_result(test_df):\n",
    "    # test_df=pd.concat([positive_df,dsat_df],axis=0)\n",
    "    test_df=test_df.sample(frac=1).reset_index(drop=True)\n",
    "\n",
    "    print(test_df[\"label\"].value_counts())\n",
    "\n",
    "    # CONFIG[\"SAVE_PATH\"]=\"./checkpoint/handlesave/querytitlebest\"\n",
    "    CONFIG[\"SAVE_PATH\"]=\"/vc_data/users/v-mxiong/qc/checkpoint/best/qt10m\"\n",
    "    result_df=test_floop(CONFIG,test_df,DEVICE)\n",
    "    return result_df\n",
    "\n",
    "dsat_df=get_result(dsat_df)\n",
    "unclick_df=get_result(unclick_df)\n",
    "positive_df=get_result(positive_df)\n"
   ]
  },
  {
   "cell_type": "code",
   "execution_count": null,
   "metadata": {},
   "outputs": [],
   "source": []
  },
  {
   "cell_type": "code",
   "execution_count": 29,
   "metadata": {},
   "outputs": [],
   "source": [
    "result_df1,result_df2=pd.concat([positive_df,dsat_df],axis=0),pd.concat([positive_df,unclick_df],axis=0)\n",
    "result_df1=result_df1.sample(frac=1).reset_index(drop=True)\n",
    "result_df2=result_df2.sample(frac=1).reset_index(drop=True)\n"
   ]
  },
  {
   "cell_type": "code",
   "execution_count": 30,
   "metadata": {},
   "outputs": [],
   "source": [
    "# from utils.train import get_score_list\n",
    "# p,r,c=get_score_list(result_df1[\"label\"],result_df1[\"predict\"],average=None,position=1)\n",
    "# print(p,r,c)\n",
    "# p,r,c=get_score_list(result_df1[\"label\"],result_df1[\"predict\"],average=None,position=2)\n",
    "# print(p,r,c)\n",
    "\n",
    "# p,r,c=get_score_list(result_df2[\"label\"],result_df2[\"predict\"],average=None,position=1)\n",
    "# print(p,r,c)\n",
    "# p,r,c=get_score_list(result_df2[\"label\"],result_df2[\"predict\"],average=None,position=0)\n",
    "# print(p,r,c)"
   ]
  },
  {
   "cell_type": "code",
   "execution_count": 31,
   "metadata": {},
   "outputs": [],
   "source": [
    "\n",
    "import matplotlib.pyplot as plt\n",
    "from sklearn.metrics import precision_recall_curve, average_precision_score,roc_curve,roc_auc_score\n",
    "\n",
    "def plot_pr(result_df1,result_df2):\n",
    "\n",
    "  y_true1,y_scores1=result_df1[\"label\"],result_df1[\"prob1\"]\n",
    "  y_true2,y_scores2=result_df2[\"label\"],result_df2[\"prob1\"]\n",
    "\n",
    "  '''\n",
    "  y_true: \n",
    "    类型：np.array； gt标签\n",
    "  y_scores：\n",
    "    类型：np.array； 由大至小排序的阈值score,\n",
    "  '''\n",
    "  #画曲线\n",
    "  precision1, recall1, thresholds1 = precision_recall_curve(y_true1, y_scores1)\n",
    "  precision2, recall2, thresholds2 = precision_recall_curve(y_true2, y_scores2)\n",
    "\n",
    "  plt.figure(\"P-R Curve\")\n",
    "  plt.title('Precision/Recall Curve')\n",
    "  plt.xlabel('Recall')\n",
    "  plt.ylabel('Precision')\n",
    "  plt.plot(recall1,precision1,color=\"blue\",label=\"dsat\")\n",
    "  plt.plot(recall2,precision2,color=\"purple\",label=\"unclick\")\n",
    "  plt.legend()\n",
    "  plt.show()\n",
    "\n",
    "  AP1 = average_precision_score(y_true1, y_scores1, average='macro', pos_label=1, sample_weight=None)\n",
    "  print('AP1:', AP1)\n",
    "\n",
    "  AP2 = average_precision_score(y_true2, y_scores2, average='macro', pos_label=1, sample_weight=None)\n",
    "  print('AP2:', AP2)\n",
    "\n",
    "\n",
    "def plot_roc(result_df1,result_df2):\n",
    "\n",
    "  y_true1,y_scores1=result_df1[\"label\"],result_df1[\"prob1\"]\n",
    "  y_true2,y_scores2=result_df2[\"label\"],result_df2[\"prob1\"]\n",
    "\n",
    "  '''\n",
    "  y_true: \n",
    "    类型：np.array； gt标签\n",
    "  y_scores：\n",
    "    类型：np.array； 由大至小排序的阈值score,\n",
    "  '''\n",
    "  #画曲线\n",
    "  fpr1, tpr1, thresholds1 = roc_curve(y_true1, y_scores1)\n",
    "  fpr2, tpr2, thresholds2 = roc_curve(y_true2, y_scores2)\n",
    "\n",
    "  plt.figure(\"ROC Curve\")\n",
    "  plt.title('ROC Curve')\n",
    "  plt.xlabel('fpr')\n",
    "  plt.ylabel('tpr')\n",
    "  plt.plot(fpr1,tpr1,color=\"blue\",label=\"dsat\")\n",
    "  plt.plot(fpr2,tpr2,color=\"purple\",label=\"unclick\")\n",
    "  plt.legend()\n",
    "  plt.show()\n",
    "\n",
    "  auc1 = roc_auc_score(y_true1, y_scores1)\n",
    "  print('auc1:', auc1)\n",
    "\n",
    "  auc2 = roc_auc_score(y_true2, y_scores2)\n",
    "  print('auc2:', auc2)"
   ]
  },
  {
   "cell_type": "code",
   "execution_count": 32,
   "metadata": {},
   "outputs": [
    {
     "data": {
      "image/png": "[encoded data removed]",
      "text/plain": [
       "<Figure size 432x288 with 1 Axes>"
      ]
     },
     "metadata": {
      "needs_background": "light"
     },
     "output_type": "display_data"
    },
    {
     "name": "stdout",
     "output_type": "stream",
     "text": [
      "AP1: 0.745471832027236\n",
      "AP2: 0.07745046100163319\n"
     ]
    }
   ],
   "source": [
    "%matplotlib inline\n",
    "plot_pr(result_df1,result_df2)"
   ]
  },
  {
   "cell_type": "code",
   "execution_count": 33,
   "metadata": {},
   "outputs": [
    {
     "data": {
      "image/png": "[encoded data removed]",
      "text/plain": [
       "<Figure size 432x288 with 1 Axes>"
      ]
     },
     "metadata": {
      "needs_background": "light"
     },
     "output_type": "display_data"
    },
    {
     "name": "stdout",
     "output_type": "stream",
     "text": [
      "auc1: 0.5711587929775972\n",
      "auc2: 0.709804640101493\n"
     ]
    }
   ],
   "source": [
    "%matplotlib inline\n",
    "plot_roc(result_df1,result_df2)"
   ]
  },
  {
   "cell_type": "code",
   "execution_count": 34,
   "metadata": {},
   "outputs": [
    {
     "data": {
      "text/plain": [
       "<matplotlib.legend.Legend at 0x7f9782d08518>"
      ]
     },
     "execution_count": 34,
     "metadata": {},
     "output_type": "execute_result"
    },
    {
     "data": {
      "image/png": "[encoded data removed]",
      "text/plain": [
       "<Figure size 720x432 with 1 Axes>"
      ]
     },
     "metadata": {
      "needs_background": "light"
     },
     "output_type": "display_data"
    }
   ],
   "source": [
    "import seaborn as sns\n",
    "%matplotlib inline\n",
    "plt.figure(figsize=(10,6))\n",
    "plt.xlabel(\"rate distribution\")\n",
    "\n",
    "sns.kdeplot(data=positive_df[\"prob1\"],shade=True,label=\"positive\")\n",
    "sns.kdeplot(data=dsat_df[\"prob1\"],shade=True,label=\"dsat\")\n",
    "sns.kdeplot(data=unclick_df[\"prob1\"],shade=True,label=\"unclick\")\n",
    "plt.legend()"
   ]
  },
  {
   "cell_type": "code",
   "execution_count": 70,
   "metadata": {},
   "outputs": [],
   "source": [
    "def prob_counts(df,bins=None):\n",
    "\n",
    "    prob_array=pd.cut(x=df[\"prob\"],right=False,bins=bins)\n",
    "    prob_count=prob_array.value_counts().sort_index()\n",
    "    return prob_count\n",
    "def get_rate(count1,count2,count3,len_bins):\n",
    "    sum1,sum2,sum3=sum(count1),sum(count2),sum(count3)\n",
    "    all_sum=sum1+sum2+sum3\n",
    "    sum4=all_sum\n",
    "    rate1,rate2,rate3,rate4=[sum1/all_sum],[sum2/all_sum],[sum3/all_sum],[1]\n",
    "    for i in range(len_bins-2):\n",
    "        sum1-=count1[i]\n",
    "        sum2-=count2[i]\n",
    "        sum3-=count3[i]\n",
    "        sum4-=(count1[i]+count2[i]+count3[i])\n",
    "        rate1.append(sum1/sum4)\n",
    "        rate2.append(sum2/sum4)\n",
    "        rate3.append(sum3/sum4)\n",
    "        rate4.append(sum4/all_sum)\n",
    "    rate1.append(rate1[-1])\n",
    "    rate2.append(rate2[-1])\n",
    "    rate3.append(rate3[-1])\n",
    "    rate4.append(0)\n",
    "    return rate1,rate2,rate3,rate4"
   ]
  },
  {
   "cell_type": "code",
   "execution_count": 71,
   "metadata": {},
   "outputs": [],
   "source": [
    "def getAllRate(prob_path):\n",
    "    positive_df[\"prob1\"].to_csv(os.path.join(prob_path,\"positiveprob\"),index=0,header=0)\n",
    "    dsat_df[\"prob1\"].to_csv(os.path.join(prob_path,\"dsatprob\"),index=0,header=0)\n",
    "    unclick_df[\"prob1\"].to_csv(os.path.join(prob_path,\"unclickprob\"),index=0,header=0)\n",
    "    dsat_file=os.path.join(prob_path,\"dsatprob\")\n",
    "    dsatprob=read_data_file(dsat_file,False,0,head=[\"prob\"])\n",
    "    dsatprob[\"prob\"]=dsatprob[\"prob\"].astype(float)\n",
    "\n",
    "    positive_file=os.path.join(prob_path,\"positiveprob\")\n",
    "    positiveprob=read_data_file(positive_file,False,0,head=[\"prob\"])\n",
    "    positiveprob[\"prob\"]=positiveprob[\"prob\"].astype(float)\n",
    "\n",
    "    unclick_file=os.path.join(prob_path,\"unclickprob\")\n",
    "    unclickprob=read_data_file(unclick_file,False,0,head=[\"prob\"])\n",
    "    unclickprob[\"prob\"]=unclickprob[\"prob\"].astype(float)\n",
    "\n",
    "    bins=[i*(0.01) for i in range(101)]\n",
    "\n",
    "\n",
    "    count_dsat=prob_counts(dsatprob,bins=bins).values.tolist()\n",
    "    count_positive=prob_counts(positiveprob,bins=bins).values.tolist()\n",
    "    count_unclick=prob_counts(unclickprob,bins=bins).values.tolist()\n",
    "    rate_positive,rate_dsat,rate_unclick,rate_num=get_rate(count_positive,count_dsat,count_unclick,len(bins))\n",
    "\n",
    "    rate_clickInAll=np.array(rate_num)*(np.array(rate_dsat)+np.array(rate_positive))\n",
    "    rate_clickInAll=rate_clickInAll.tolist()\n",
    "\n",
    "    rate_unclickInAll=np.array(rate_num)*(np.array(rate_unclick))\n",
    "    rate_unclickInAll=rate_unclickInAll.tolist()\n",
    "\n",
    "    return rate_positive,rate_dsat,rate_unclick,rate_num,rate_clickInAll,rate_unclickInAll\n"
   ]
  },
  {
   "cell_type": "code",
   "execution_count": 72,
   "metadata": {},
   "outputs": [],
   "source": [
    "prob_path0=\"./special_save/prob\"\n",
    "rate_positive,rate_dsat,rate_unclick,rate_num,rate_clickInAll,rate_unclickInAll=getAllRate(prob_path0)\n",
    "prob_path1=\"./special_save/prob1\"\n",
    "rate_positive1,rate_dsat1,rate_unclick1,rate_num1,rate_clickInAll1,rate_unclickInAll1=getAllRate(prob_path1)\n",
    "\n"
   ]
  },
  {
   "cell_type": "code",
   "execution_count": 73,
   "metadata": {},
   "outputs": [],
   "source": [
    "bins=[i*(0.01) for i in range(101)]\n"
   ]
  },
  {
   "cell_type": "code",
   "execution_count": 74,
   "metadata": {},
   "outputs": [
    {
     "data": {
      "image/png": "[encoded data removed]",
      "text/plain": [
       "<Figure size 432x288 with 1 Axes>"
      ]
     },
     "metadata": {
      "needs_background": "light"
     },
     "output_type": "display_data"
    }
   ],
   "source": [
    "import matplotlib.pyplot as plt\n",
    "\n",
    "plt.figure(\"threshold/rate Curve\")\n",
    "plt.title('threshold/rate Curve')\n",
    "plt.xlabel('threshold')\n",
    "plt.ylabel('rate')\n",
    "plt.grid(True)\n",
    "plt.plot(bins,rate_positive,color=\"blue\",label=\"sat\")\n",
    "plt.plot(bins,rate_dsat,color=\"purple\",label=\"dsat\")\n",
    "plt.plot(bins,rate_clickInAll,color=\"red\",label=\"clickInAll rate\")\n",
    "\n",
    "plt.plot(bins,rate_positive1,color=\"c\",label=\"sat1\")\n",
    "plt.plot(bins,rate_dsat1,color=\"pink\",label=\"dsat1\")\n",
    "plt.plot(bins,rate_clickInAll1,color=\"m\",label=\"clickInAll rate1\")\n",
    "# plt.plot(bins,rate_num,color=\"red\",label=\"trigger rate\")\n",
    "plt.legend()\n",
    "plt.show()"
   ]
  },
  {
   "cell_type": "code",
   "execution_count": 62,
   "metadata": {},
   "outputs": [
    {
     "data": {
      "image/png": "[encoded data removed]",
      "text/plain": [
       "<Figure size 432x288 with 1 Axes>"
      ]
     },
     "metadata": {
      "needs_background": "light"
     },
     "output_type": "display_data"
    }
   ],
   "source": [
    "import matplotlib.pyplot as plt\n",
    "\n",
    "plt.figure(\"threshold/rate Curve\")\n",
    "plt.title('threshold/rate Curve')\n",
    "plt.xlabel('threshold')\n",
    "plt.ylabel('rate')\n",
    "plt.grid(True)\n",
    "plt.plot(bins,rate_unclick,color=\"green\",label=\"unclick\")\n",
    "plt.plot(bins,rate_num,color=\"red\",label=\"trigger rate\")\n",
    "plt.plot(bins,rate_unclickInAll,color=\"black\",label=\"unclickInAll rate\")\n",
    "\n",
    "plt.legend()\n",
    "plt.show()"
   ]
  },
  {
   "cell_type": "code",
   "execution_count": 63,
   "metadata": {},
   "outputs": [],
   "source": [
    "import numpy as np\n",
    "temp1=np.array(rate_positive)\n",
    "temp1=np.round(temp1,3)\n",
    "\n",
    "temp2=np.array(rate_unclick)\n",
    "temp2=np.round(temp2,3)\n",
    "\n",
    "temp3=np.array(rate_dsat)\n",
    "temp3=np.round(temp3,3)\n",
    "\n",
    "temp4=np.array(rate_num)\n",
    "temp4=np.round(temp4,3)"
   ]
  },
  {
   "cell_type": "code",
   "execution_count": 64,
   "metadata": {},
   "outputs": [],
   "source": [
    "df=pd.DataFrame({\"rate_sat\":temp1,\"rate_unclick\":temp2,\"rate_dsat\":temp3,\"rate_trigger\":temp4})"
   ]
  },
  {
   "cell_type": "code",
   "execution_count": 65,
   "metadata": {},
   "outputs": [],
   "source": [
    "df.index=bins"
   ]
  },
  {
   "cell_type": "code",
   "execution_count": 67,
   "metadata": {},
   "outputs": [
    {
     "data": {
      "text/html": [
       "<div>\n",
       "<style scoped>\n",
       "    .dataframe tbody tr th:only-of-type {\n",
       "        vertical-align: middle;\n",
       "    }\n",
       "\n",
       "    .dataframe tbody tr th {\n",
       "        vertical-align: top;\n",
       "    }\n",
       "\n",
       "    .dataframe thead th {\n",
       "        text-align: right;\n",
       "    }\n",
       "</style>\n",
       "<table border=\"1\" class=\"dataframe\">\n",
       "  <thead>\n",
       "    <tr style=\"text-align: right;\">\n",
       "      <th></th>\n",
       "      <th>rate_sat</th>\n",
       "      <th>rate_unclick</th>\n",
       "      <th>rate_dsat</th>\n",
       "      <th>rate_trigger</th>\n",
       "    </tr>\n",
       "  </thead>\n",
       "  <tbody>\n",
       "    <tr>\n",
       "      <th>0.00</th>\n",
       "      <td>0.028</td>\n",
       "      <td>0.959</td>\n",
       "      <td>0.013</td>\n",
       "      <td>1.000</td>\n",
       "    </tr>\n",
       "    <tr>\n",
       "      <th>0.01</th>\n",
       "      <td>0.029</td>\n",
       "      <td>0.958</td>\n",
       "      <td>0.013</td>\n",
       "      <td>0.988</td>\n",
       "    </tr>\n",
       "    <tr>\n",
       "      <th>0.02</th>\n",
       "      <td>0.029</td>\n",
       "      <td>0.958</td>\n",
       "      <td>0.013</td>\n",
       "      <td>0.980</td>\n",
       "    </tr>\n",
       "    <tr>\n",
       "      <th>0.03</th>\n",
       "      <td>0.029</td>\n",
       "      <td>0.958</td>\n",
       "      <td>0.013</td>\n",
       "      <td>0.973</td>\n",
       "    </tr>\n",
       "    <tr>\n",
       "      <th>0.04</th>\n",
       "      <td>0.029</td>\n",
       "      <td>0.958</td>\n",
       "      <td>0.013</td>\n",
       "      <td>0.967</td>\n",
       "    </tr>\n",
       "    <tr>\n",
       "      <th>0.05</th>\n",
       "      <td>0.029</td>\n",
       "      <td>0.957</td>\n",
       "      <td>0.013</td>\n",
       "      <td>0.961</td>\n",
       "    </tr>\n",
       "    <tr>\n",
       "      <th>0.06</th>\n",
       "      <td>0.030</td>\n",
       "      <td>0.957</td>\n",
       "      <td>0.013</td>\n",
       "      <td>0.954</td>\n",
       "    </tr>\n",
       "    <tr>\n",
       "      <th>0.07</th>\n",
       "      <td>0.030</td>\n",
       "      <td>0.957</td>\n",
       "      <td>0.013</td>\n",
       "      <td>0.948</td>\n",
       "    </tr>\n",
       "    <tr>\n",
       "      <th>0.08</th>\n",
       "      <td>0.030</td>\n",
       "      <td>0.957</td>\n",
       "      <td>0.013</td>\n",
       "      <td>0.941</td>\n",
       "    </tr>\n",
       "    <tr>\n",
       "      <th>0.09</th>\n",
       "      <td>0.030</td>\n",
       "      <td>0.956</td>\n",
       "      <td>0.014</td>\n",
       "      <td>0.935</td>\n",
       "    </tr>\n",
       "    <tr>\n",
       "      <th>0.10</th>\n",
       "      <td>0.030</td>\n",
       "      <td>0.956</td>\n",
       "      <td>0.014</td>\n",
       "      <td>0.928</td>\n",
       "    </tr>\n",
       "    <tr>\n",
       "      <th>0.11</th>\n",
       "      <td>0.030</td>\n",
       "      <td>0.956</td>\n",
       "      <td>0.014</td>\n",
       "      <td>0.921</td>\n",
       "    </tr>\n",
       "    <tr>\n",
       "      <th>0.12</th>\n",
       "      <td>0.031</td>\n",
       "      <td>0.956</td>\n",
       "      <td>0.014</td>\n",
       "      <td>0.914</td>\n",
       "    </tr>\n",
       "    <tr>\n",
       "      <th>0.13</th>\n",
       "      <td>0.031</td>\n",
       "      <td>0.955</td>\n",
       "      <td>0.014</td>\n",
       "      <td>0.906</td>\n",
       "    </tr>\n",
       "    <tr>\n",
       "      <th>0.14</th>\n",
       "      <td>0.031</td>\n",
       "      <td>0.955</td>\n",
       "      <td>0.014</td>\n",
       "      <td>0.899</td>\n",
       "    </tr>\n",
       "    <tr>\n",
       "      <th>0.15</th>\n",
       "      <td>0.031</td>\n",
       "      <td>0.955</td>\n",
       "      <td>0.014</td>\n",
       "      <td>0.891</td>\n",
       "    </tr>\n",
       "    <tr>\n",
       "      <th>0.16</th>\n",
       "      <td>0.031</td>\n",
       "      <td>0.955</td>\n",
       "      <td>0.014</td>\n",
       "      <td>0.883</td>\n",
       "    </tr>\n",
       "    <tr>\n",
       "      <th>0.17</th>\n",
       "      <td>0.032</td>\n",
       "      <td>0.954</td>\n",
       "      <td>0.014</td>\n",
       "      <td>0.874</td>\n",
       "    </tr>\n",
       "    <tr>\n",
       "      <th>0.18</th>\n",
       "      <td>0.032</td>\n",
       "      <td>0.954</td>\n",
       "      <td>0.014</td>\n",
       "      <td>0.866</td>\n",
       "    </tr>\n",
       "    <tr>\n",
       "      <th>0.19</th>\n",
       "      <td>0.032</td>\n",
       "      <td>0.954</td>\n",
       "      <td>0.014</td>\n",
       "      <td>0.857</td>\n",
       "    </tr>\n",
       "    <tr>\n",
       "      <th>0.20</th>\n",
       "      <td>0.032</td>\n",
       "      <td>0.953</td>\n",
       "      <td>0.014</td>\n",
       "      <td>0.848</td>\n",
       "    </tr>\n",
       "    <tr>\n",
       "      <th>0.21</th>\n",
       "      <td>0.033</td>\n",
       "      <td>0.953</td>\n",
       "      <td>0.015</td>\n",
       "      <td>0.838</td>\n",
       "    </tr>\n",
       "    <tr>\n",
       "      <th>0.22</th>\n",
       "      <td>0.033</td>\n",
       "      <td>0.953</td>\n",
       "      <td>0.015</td>\n",
       "      <td>0.828</td>\n",
       "    </tr>\n",
       "    <tr>\n",
       "      <th>0.23</th>\n",
       "      <td>0.033</td>\n",
       "      <td>0.952</td>\n",
       "      <td>0.015</td>\n",
       "      <td>0.818</td>\n",
       "    </tr>\n",
       "    <tr>\n",
       "      <th>0.24</th>\n",
       "      <td>0.033</td>\n",
       "      <td>0.952</td>\n",
       "      <td>0.015</td>\n",
       "      <td>0.807</td>\n",
       "    </tr>\n",
       "    <tr>\n",
       "      <th>0.25</th>\n",
       "      <td>0.034</td>\n",
       "      <td>0.951</td>\n",
       "      <td>0.015</td>\n",
       "      <td>0.796</td>\n",
       "    </tr>\n",
       "    <tr>\n",
       "      <th>0.26</th>\n",
       "      <td>0.034</td>\n",
       "      <td>0.951</td>\n",
       "      <td>0.015</td>\n",
       "      <td>0.785</td>\n",
       "    </tr>\n",
       "    <tr>\n",
       "      <th>0.27</th>\n",
       "      <td>0.034</td>\n",
       "      <td>0.951</td>\n",
       "      <td>0.015</td>\n",
       "      <td>0.773</td>\n",
       "    </tr>\n",
       "    <tr>\n",
       "      <th>0.28</th>\n",
       "      <td>0.035</td>\n",
       "      <td>0.950</td>\n",
       "      <td>0.015</td>\n",
       "      <td>0.761</td>\n",
       "    </tr>\n",
       "    <tr>\n",
       "      <th>0.29</th>\n",
       "      <td>0.035</td>\n",
       "      <td>0.950</td>\n",
       "      <td>0.015</td>\n",
       "      <td>0.749</td>\n",
       "    </tr>\n",
       "  </tbody>\n",
       "</table>\n",
       "</div>"
      ],
      "text/plain": [
       "      rate_sat  rate_unclick  rate_dsat  rate_trigger\n",
       "0.00     0.028         0.959      0.013         1.000\n",
       "0.01     0.029         0.958      0.013         0.988\n",
       "0.02     0.029         0.958      0.013         0.980\n",
       "0.03     0.029         0.958      0.013         0.973\n",
       "0.04     0.029         0.958      0.013         0.967\n",
       "0.05     0.029         0.957      0.013         0.961\n",
       "0.06     0.030         0.957      0.013         0.954\n",
       "0.07     0.030         0.957      0.013         0.948\n",
       "0.08     0.030         0.957      0.013         0.941\n",
       "0.09     0.030         0.956      0.014         0.935\n",
       "0.10     0.030         0.956      0.014         0.928\n",
       "0.11     0.030         0.956      0.014         0.921\n",
       "0.12     0.031         0.956      0.014         0.914\n",
       "0.13     0.031         0.955      0.014         0.906\n",
       "0.14     0.031         0.955      0.014         0.899\n",
       "0.15     0.031         0.955      0.014         0.891\n",
       "0.16     0.031         0.955      0.014         0.883\n",
       "0.17     0.032         0.954      0.014         0.874\n",
       "0.18     0.032         0.954      0.014         0.866\n",
       "0.19     0.032         0.954      0.014         0.857\n",
       "0.20     0.032         0.953      0.014         0.848\n",
       "0.21     0.033         0.953      0.015         0.838\n",
       "0.22     0.033         0.953      0.015         0.828\n",
       "0.23     0.033         0.952      0.015         0.818\n",
       "0.24     0.033         0.952      0.015         0.807\n",
       "0.25     0.034         0.951      0.015         0.796\n",
       "0.26     0.034         0.951      0.015         0.785\n",
       "0.27     0.034         0.951      0.015         0.773\n",
       "0.28     0.035         0.950      0.015         0.761\n",
       "0.29     0.035         0.950      0.015         0.749"
      ]
     },
     "execution_count": 67,
     "metadata": {},
     "output_type": "execute_result"
    }
   ],
   "source": [
    "df.iloc[0:30]"
   ]
  },
  {
   "cell_type": "code",
   "execution_count": null,
   "metadata": {},
   "outputs": [],
   "source": []
  }
 ],
 "metadata": {
  "kernelspec": {
   "display_name": "Python 3.8.10 ('base')",
   "language": "python",
   "name": "python3"
  },
  "language_info": {
   "codemirror_mode": {
    "name": "ipython",
    "version": 3
   },
   "file_extension": ".py",
   "mimetype": "text/x-python",
   "name": "python",
   "nbconvert_exporter": "python",
   "pygments_lexer": "ipython3",
   "version": "3.8.10"
  },
  "vscode": {
   "interpreter": {
    "hash": "2f394aca7ca06fed1e6064aef884364492d7cdda3614a461e02e6407fc40ba69"
   }
  }
 },
 "nbformat": 4,
 "nbformat_minor": 2
}
