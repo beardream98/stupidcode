{
 "cells": [
  {
   "cell_type": "code",
   "execution_count": 1,
   "metadata": {},
   "outputs": [],
   "source": [
    "import numpy as np\n",
    "import pandas as pd \n",
    "import os\n",
    "import random\n",
    "import time"
   ]
  },
  {
   "cell_type": "code",
   "execution_count": 2,
   "metadata": {},
   "outputs": [],
   "source": [
    "DEBUG_MODEL=False\n",
    "INPUT_DIR=\"/vc_data/users/v-mxiong/qc/QvLabeldata1.txt\"\n",
    "SCHEMA_DIR=\"/vc_data/users/v-mxiong/qc/QvSchema1.txt\"\n",
    "SEED=42\n",
    "def read_data_txt(input_file,schema_file,is_debug=DEBUG_MODEL):\n",
    "    with open(schema_file,\"r\") as input_object:\n",
    "        schema_line=input_object.readlines()\n",
    "    head=schema_line[0].strip().split(\"\\t\")\n",
    "    with open(input_file,\"r\") as input_object:\n",
    "        input_lines=input_object.readlines()\n",
    "    if DEBUG_MODEL==True:\n",
    "        input_lines=input_lines[:50000]\n",
    "    input_lines=[ line.strip().split(\"\\t\") for line in input_lines]\n",
    "    input_lines=[ line for line in input_lines if len(line)==len(head)]\n",
    "    data_rows=input_lines\n",
    "    input_df=pd.DataFrame(data_rows,columns=head)\n",
    "    return input_df\n",
    "def sample_negative(df,negative_rate=1):\n",
    "    negative_df=df[df.label==0]\n",
    "    positive_df=df[df.label==1]\n",
    "    sample_num=len(positive_df)*negative_rate\n",
    "    \n",
    "    sample_df=negative_df.sample(n=sample_num,random_state=SEED)\n",
    "    \n",
    "    # .sample(frac=1) 用于打乱顺序\n",
    "    return_df=pd.concat([positive_df,sample_df]).sample(frac=1)\n",
    "    return_df=return_df.reset_index(drop=True)\n",
    "    return return_df"
   ]
  },
  {
   "cell_type": "code",
   "execution_count": 3,
   "metadata": {},
   "outputs": [],
   "source": [
    "input_df=read_data_txt(INPUT_DIR,SCHEMA_DIR)\n",
    "input_df[\"label\"]=input_df[\"label\"].replace([\"0\",\"1\"],[0,1])"
   ]
  },
  {
   "cell_type": "code",
   "execution_count": 4,
   "metadata": {},
   "outputs": [
    {
     "data": {
      "text/html": [
       "<div>\n",
       "<style scoped>\n",
       "    .dataframe tbody tr th:only-of-type {\n",
       "        vertical-align: middle;\n",
       "    }\n",
       "\n",
       "    .dataframe tbody tr th {\n",
       "        vertical-align: top;\n",
       "    }\n",
       "\n",
       "    .dataframe thead th {\n",
       "        text-align: right;\n",
       "    }\n",
       "</style>\n",
       "<table border=\"1\" class=\"dataframe\">\n",
       "  <thead>\n",
       "    <tr style=\"text-align: right;\">\n",
       "      <th></th>\n",
       "      <th>query_num</th>\n",
       "      <th>click_rate</th>\n",
       "      <th>noclick_rate</th>\n",
       "      <th>sat_rate</th>\n",
       "      <th>dsat_rate</th>\n",
       "    </tr>\n",
       "  </thead>\n",
       "  <tbody>\n",
       "    <tr>\n",
       "      <th>0</th>\n",
       "      <td>975585</td>\n",
       "      <td>0.03581</td>\n",
       "      <td>0.96419</td>\n",
       "      <td>0.025329</td>\n",
       "      <td>0.010481</td>\n",
       "    </tr>\n",
       "  </tbody>\n",
       "</table>\n",
       "</div>"
      ],
      "text/plain": [
       "   query_num  click_rate  noclick_rate  sat_rate  dsat_rate\n",
       "0     975585     0.03581       0.96419  0.025329   0.010481"
      ]
     },
     "execution_count": 4,
     "metadata": {},
     "output_type": "execute_result"
    }
   ],
   "source": [
    "input_df[\"label\"].value_counts()\n",
    "sat_rate=input_df[\"label\"].mean()\n",
    "input_df[\"ClickCount\"]=input_df[\"ClickCount\"].astype(int)\n",
    "click_rate=(input_df[\"ClickCount\"]>0).mean()\n",
    "noclick_rate=1-click_rate\n",
    "show_df=pd.DataFrame({\"query_num\":[len(input_df)],\"click_rate\":[click_rate],\\\n",
    "\"noclick_rate\":[noclick_rate],\"sat_rate\":[sat_rate],\"dsat_rate\":[click_rate-sat_rate]})\n",
    "show_df\n",
    "\n",
    "# sum_click=sum(input_df[\"ClickCount\"])\n",
    "# sum_count=sum(input_df[\"Count\"].astype(int))\n",
    "# sum_click/sum_count"
   ]
  },
  {
   "cell_type": "code",
   "execution_count": 5,
   "metadata": {},
   "outputs": [
    {
     "data": {
      "text/plain": [
       "Index(['Query', 'No_ClickCount', 'ClickCount', 'SatCount', 'DsatCount',\n",
       "       'Count', 'Market', 'QueryVector', 'label'],\n",
       "      dtype='object')"
      ]
     },
     "execution_count": 5,
     "metadata": {},
     "output_type": "execute_result"
    }
   ],
   "source": [
    "input_df.columns"
   ]
  },
  {
   "cell_type": "code",
   "execution_count": 6,
   "metadata": {},
   "outputs": [],
   "source": [
    "input_df=sample_negative(input_df)"
   ]
  },
  {
   "cell_type": "code",
   "execution_count": 7,
   "metadata": {},
   "outputs": [
    {
     "data": {
      "text/plain": [
       "1    24711\n",
       "0    24711\n",
       "Name: label, dtype: int64"
      ]
     },
     "execution_count": 7,
     "metadata": {},
     "output_type": "execute_result"
    }
   ],
   "source": [
    "input_df[\"label\"].value_counts()"
   ]
  },
  {
   "cell_type": "code",
   "execution_count": 8,
   "metadata": {},
   "outputs": [],
   "source": [
    "import tqdm\n",
    "data,label=[],[]\n",
    "df=input_df\n",
    "label=input_df[\"label\"].values.tolist()\n",
    "data=input_df[\"QueryVector\"].values.tolist()\n",
    "data=[ vector.split(\"|\") for vector in data]\n",
    "data=[ [int(v) for v in vector] for vector in data ]    \n"
   ]
  },
  {
   "cell_type": "code",
   "execution_count": 9,
   "metadata": {},
   "outputs": [],
   "source": [
    "from sklearn import datasets\n",
    "from sklearn.model_selection import train_test_split\n",
    "\n",
    "X_train,X_test,Y_train,Y_test=train_test_split(data,label,test_size=0.2,random_state=42)\n"
   ]
  },
  {
   "cell_type": "code",
   "execution_count": 15,
   "metadata": {},
   "outputs": [
    {
     "name": "stdout",
     "output_type": "stream",
     "text": [
      "训练集准确率： 0.5715405822394213\n",
      "准确率： 0.5689428426909459\n",
      "召回率：               precision    recall  f1-score   support\n",
      "\n",
      "         不满意       0.56      0.58      0.57      4905\n",
      "          满意       0.57      0.56      0.57      4980\n",
      "\n",
      "    accuracy                           0.57      9885\n",
      "   macro avg       0.57      0.57      0.57      9885\n",
      "weighted avg       0.57      0.57      0.57      9885\n",
      "\n"
     ]
    }
   ],
   "source": [
    "from sklearn.neighbors import KNeighborsClassifier #\n",
    "from sklearn import linear_model\n",
    "\n",
    "from sklearn.metrics import classification_report\n",
    "lg =linear_model.LogisticRegression(C=0.01)  # 默认使用L2正则化避免过拟合，C=1.0表示正则力度\n",
    "lg.fit(X_train, Y_train)\n",
    "       \n",
    "y_predict = lg.predict(X_test)\n",
    "print(\"训练集准确率：\", lg.score(X_train, Y_train))\n",
    "print(\"准确率：\", lg.score(X_test, Y_test))\n",
    "print(\"召回率：\", classification_report(Y_test, y_predict, labels=[0, 1], target_names=[\"不满意\", \"满意\"]))"
   ]
  },
  {
   "cell_type": "code",
   "execution_count": 19,
   "metadata": {},
   "outputs": [
    {
     "name": "stdout",
     "output_type": "stream",
     "text": [
      "训练集准确率： 0.706882161013734\n"
     ]
    }
   ],
   "source": [
    "print(\"训练集准确率：\", knn.score(X_train, Y_train))"
   ]
  },
  {
   "cell_type": "code",
   "execution_count": 16,
   "metadata": {},
   "outputs": [
    {
     "name": "stdout",
     "output_type": "stream",
     "text": [
      "训练集准确率： 0.5715405822394213\n",
      "0.5503287809812848\n",
      "召回率：               precision    recall  f1-score   support\n",
      "\n",
      "         不满意       0.55      0.49      0.52      4905\n",
      "          满意       0.55      0.61      0.58      4980\n",
      "\n",
      "    accuracy                           0.55      9885\n",
      "   macro avg       0.55      0.55      0.55      9885\n",
      "weighted avg       0.55      0.55      0.55      9885\n",
      "\n"
     ]
    }
   ],
   "source": [
    "from sklearn import datasets\n",
    "from sklearn.neighbors import KNeighborsClassifier #\n",
    "knn=KNeighborsClassifier(n_neighbors=5) #选择knn邻近模型，返回一个模型对象\n",
    "knn.fit(X_train,Y_train) #训练\n",
    "y_predict=knn.predict(X_test) #预测\n",
    "acc=knn.score(X_test,Y_test) #计算准确率\n",
    "print(\"训练集准确率：\", knn.score(X_train, Y_train))\n",
    "print(acc)\n",
    "print(\"召回率：\", classification_report(Y_test, y_predict, labels=[0, 1], target_names=[\"不满意\", \"满意\"]))"
   ]
  },
  {
   "cell_type": "code",
   "execution_count": 18,
   "metadata": {},
   "outputs": [
    {
     "name": "stdout",
     "output_type": "stream",
     "text": [
      "最优分类器: {'criterion': 'gini', 'max_depth': 30, 'min_impurity_decrease': 0.1, 'min_samples_leaf': 2} 最优分数: 0.5009484815244795\n"
     ]
    }
   ],
   "source": [
    "from sklearn.tree import DecisionTreeClassifier\n",
    "import matplotlib.pyplot as plt\n",
    "from sklearn.model_selection import GridSearchCV\n",
    "from sklearn import metrics\n",
    "\n",
    "param = {'criterion':['gini'],'max_depth':[30,50,60,100],'min_samples_leaf':[2,3,5,10],'min_impurity_decrease':[0.1,0.2,0.5]}\n",
    "grid = GridSearchCV(DecisionTreeClassifier(criterion=\"entropy\"),param_grid=param,cv=6)\n",
    "grid.fit(X_train,Y_train)\n",
    "print('最优分类器:',grid.best_params_,'最优分数:', grid.best_score_)  # 得到最优的参数和分值"
   ]
  },
  {
   "cell_type": "code",
   "execution_count": null,
   "metadata": {},
   "outputs": [],
   "source": []
  }
 ],
 "metadata": {
  "kernelspec": {
   "display_name": "Python 3.6.10 ('base')",
   "language": "python",
   "name": "python3"
  },
  "language_info": {
   "codemirror_mode": {
    "name": "ipython",
    "version": 3
   },
   "file_extension": ".py",
   "mimetype": "text/x-python",
   "name": "python",
   "nbconvert_exporter": "python",
   "pygments_lexer": "ipython3",
   "version": "3.6.10"
  },
  "vscode": {
   "interpreter": {
    "hash": "d4d1e4263499bec80672ea0156c357c1ee493ec2b1c70f0acce89fc37c4a6abe"
   }
  }
 },
 "nbformat": 4,
 "nbformat_minor": 4
}
