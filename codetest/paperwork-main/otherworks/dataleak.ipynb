{
 "cells": [
  {
   "cell_type": "code",
   "execution_count": 2,
   "metadata": {},
   "outputs": [],
   "source": [
    "# -*- coding: utf-8 -*-\n",
    "import yaml\n",
    "import data\n",
    "from data.read_data_temp import select_data,TrainData,file_split,DataByFile,sample_negative\n",
    "from data.data_split import kfsplit\n",
    "from data.datasets import prepare_loaders\n",
    "from utils.wandb_init import get_run,wandb_utils\n",
    "from utils.train import get_score,train_set,get_score_list\n",
    "from utils.trivial import get_logger\n",
    "from model.head import OriginModel\n",
    "from model.trainer import train,predict\n",
    "import torch\n",
    "from transformers import logging\n",
    "\n",
    "import wandb\n",
    "\n",
    "import numpy as np\n",
    "import pandas as pd \n",
    "import os\n",
    "import torch\n",
    "\n",
    "from sklearn.metrics import precision_score,recall_score,f1_score\n",
    "import gc \n",
    "gc.enable()\n",
    "from utils.trivial import set_seed\n",
    "\n",
    "import warnings\n",
    "from pandas.core.common import SettingWithCopyWarning\n",
    "warnings.simplefilter(action=\"ignore\", category=SettingWithCopyWarning)\n"
   ]
  },
  {
   "cell_type": "code",
   "execution_count": 8,
   "metadata": {},
   "outputs": [
    {
     "name": "stderr",
     "output_type": "stream",
     "text": [
      "\u001b[34m\u001b[1mwandb\u001b[0m: \u001b[33mWARNING\u001b[0m If you're specifying your api key in code, ensure this code is not shared publicly.\n",
      "\u001b[34m\u001b[1mwandb\u001b[0m: \u001b[33mWARNING\u001b[0m Consider setting the WANDB_API_KEY environment variable, or running `wandb login` from the command line.\n",
      "\u001b[34m\u001b[1mwandb\u001b[0m: Appending key for api.wandb.ai to your netrc file: /home/v-mxiong/.netrc\n"
     ]
    }
   ],
   "source": [
    "yaml_path=\"./config/train.yaml\"\n",
    "CONFIG,Logger,DEVICE=train_set(yaml_path,experimentName=None,upload=False,filename=\"./test/logs\",is_notebook=True)\n",
    "\n",
    "CONFIG[\"num_hidden_layers\"]=12\n",
    "CONFIG[\"DATA_NUM\"]=5000\n",
    "CONFIG[\"EPOCHS\"]=1\n",
    "CONFIG[\"DEBUG_MODEL\"]=False\n",
    "CONFIG[\"run_db\"]=False\n"
   ]
  },
  {
   "cell_type": "code",
   "execution_count": 9,
   "metadata": {},
   "outputs": [
    {
     "name": "stderr",
     "output_type": "stream",
     "text": [
      "column_name :['Query', 'label', 'dsat']\n",
      "column_name :['Query', 'label', 'dsat']\n"
     ]
    }
   ],
   "source": [
    "    \n",
    "\n",
    "CONFIG[\"INPUT_DIR\"]=\"/vc_data/users/v-mxiong/qc/QueryTitle\"\n",
    "with open(os.path.join(CONFIG[\"INPUT_DIR\"],\"Schema\"),\"r\") as f:\n",
    "    line=f.readlines()[0].strip()\n",
    "    column_name=line.split(\"\\t\")\n",
    "    CONFIG[\"Logger\"].info(f\"column_name :{column_name}\")\n",
    "\n",
    "# trainDataObj=DataByFile(CONFIG,\"train\")\n",
    "# trainData=trainDataObj.get_data()\n",
    "# CONFIG[\"Logger\"].info(\"-\"*10+\"trainData label's value_counts\"+\"-\"*10)\n",
    "# CONFIG[\"Logger\"].info(trainData[\"label\"].value_counts())\n",
    "# CONFIG[\"Logger\"].info(\"-\"*10+\"trainData fold's value_counts\"+\"-\"*10)\n",
    "# CONFIG[\"Logger\"].info(trainData[\"fold\"].value_counts())\n"
   ]
  },
  {
   "cell_type": "code",
   "execution_count": 55,
   "metadata": {},
   "outputs": [],
   "source": [
    "\n",
    "def read_data_file(input_file,is_debug,data_num,head=[\"Query\",\"label\"]):\n",
    "    with open(input_file,\"r\",encoding=\"UTF-8\") as input_object:\n",
    "        if is_debug==True:\n",
    "            input_lines=[]\n",
    "            for _ in range(data_num):\n",
    "                input_lines.append(input_object.readline())\n",
    "        else:\n",
    "            input_lines=input_object.readlines()\n",
    "    input_lines=[ line.strip().split(\"\\t\") for line in input_lines]\n",
    "    # may return wrong number \n",
    "    # input_lines=[ line for line in input_lines if len(line)==len(head)]\n",
    "    input_lines=[ [line[0].split(\"$$\")[0],line[1],line[2]] for line in input_lines if len(line)==len(head)]\n",
    "    \n",
    "    # url+title\n",
    "    # input_lines=[ [\" \".join(line[0].split(\"$$\")[1:3]),line[1]] for line in input_lines if len(line)==len(head)]\n",
    "    input_df=pd.DataFrame(input_lines,columns=head)\n",
    "    \n",
    "    return input_df\n",
    "\n",
    "\n",
    "class DataByFile(object):\n",
    "    def __init__(self,CONFIG,data_type,column_name=[\"Query\",\"label\"],iter_now=-1):\n",
    "        self.CONFIG=CONFIG\n",
    "        self.positivepath=os.path.join(CONFIG[\"INPUT_DIR\"],\"positivefold\")\n",
    "        self.negativepath=os.path.join(CONFIG[\"INPUT_DIR\"],\"negativefold\")\n",
    "        self.data_type=data_type\n",
    "        self.column_name=column_name\n",
    "        # deperate the last uncomplete negative file\n",
    "        self.iter_num=self.get_negative_fold()-1\n",
    "\n",
    "        positive_file=os.path.join(self.positivepath,data_type)\n",
    "        self.positive_df=self.get_fold(read_data_file(positive_file,\\\n",
    "            CONFIG[\"DEBUG_MODEL\"],data_num=CONFIG[\"DATA_NUM\"],head=self.column_name),skip_info=False)\n",
    "        self.iter_now=iter_now\n",
    "    def get_data(self,select_num=None):\n",
    "        return self.iter(select_num)\n",
    "    def check_data_multigpu(self,df):\n",
    "        world_size=self.CONFIG[\"world_size\"]\n",
    "        if self.data_type==\"train\":\n",
    "            batch_size=self.CONFIG[\"TRAIN_BATCH_SIZE\"]*world_size\n",
    "        else:\n",
    "            batch_size=self.CONFIG[\"DEV_BATCH_SIZE\"]*world_size\n",
    "            \n",
    "        if len(df)%batch_size<world_size and len(df)%world_size>0:\n",
    "            extra_n=world_size-(len(df)%batch_size)\n",
    "            extra_df=df.sample(n=extra_n,random_state=self.CONFIG[\"SEED\"])\n",
    "            df=pd.concat([df,extra_df],axis=0)\n",
    "        return df\n",
    "    def get_negative_fold(self):\n",
    "        info_file=os.path.join(self.negativepath,\"info\")\n",
    "        with open(info_file,\"r\",encoding=\"UTF-8\") as file_obj:\n",
    "            message=file_obj.readline().strip()\n",
    "            message=message.split(\"\\t\")\n",
    "\n",
    "        if self.data_type==\"train\":\n",
    "            return int(message[0])\n",
    "        else:\n",
    "            return int(message[1])\n",
    "\n",
    "    def get_fold(self,data_df,skip_info=True):\n",
    "\n",
    "        data_df[\"label\"]=data_df[\"label\"].replace([\"0\",\"1\"],[0,1])\n",
    "        data_df=data_df.query(\"label==1 or label==0\")\n",
    "        data_df[\"label\"]=data_df[\"label\"].astype(int)\n",
    "        data_df.reset_index(inplace=True,drop=True)\n",
    "        data_df=kfsplit(data_df,self.CONFIG,skip_info=skip_info)\n",
    "        return data_df\n",
    "    def iter(self,select_num):\n",
    "        if select_num!=None:\n",
    "            i=select_num%self.iter_num\n",
    "        else:\n",
    "            self.iter_now+=1\n",
    "            i=(self.iter_now)%self.iter_num\n",
    "        negative_file=os.path.join(self.negativepath,self.data_type)\n",
    "        print(negative_file)\n",
    "        print(negative_file+str(i))\n",
    "        negative_df=read_data_file(negative_file+str(i),\\\n",
    "            self.CONFIG[\"DEBUG_MODEL\"],data_num=self.CONFIG[\"DATA_NUM\"],head=self.column_name)\n",
    "        negative_df=self.get_fold(negative_df)\n",
    "        \n",
    "        i=(i+1)%self.iter_num\n",
    "        train_df=pd.concat([self.positive_df,negative_df],axis=0)\n",
    "        if self.CONFIG[\"DIST_MODEL\"]:\n",
    "            train_df=self.check_data_multigpu(train_df)\n",
    "            \n",
    "        train_df=train_df.sample(frac=1).reset_index(drop=True)\n",
    "\n",
    "        return train_df"
   ]
  },
  {
   "cell_type": "code",
   "execution_count": 23,
   "metadata": {},
   "outputs": [],
   "source": [
    "class DataByFileHard(DataByFile):\n",
    "    def __init__(self,CONFIG,data_type,column_name=[\"Query\",\"label\"],iter_now=-1,filter_rate=1,hard_rate=0.5):\n",
    "\n",
    "        super(DataByFileHard,self).__init__(CONFIG,data_type,column_name,iter_now)\n",
    "        \n",
    "        self.hardNegativeFile=os.path.join(CONFIG[\"INPUT_DIR\"],\"hardnegfold\",f\"hardnegative_{filter_rate}\")\n",
    "        self.filter_rate=filter_rate\n",
    "        self.hard_rate=hard_rate\n",
    "        self.hardNegativeOffset=0\n",
    "\n",
    "        # 当前fold\n",
    "        self.fold=0\n",
    "        self.hard_num=int(len(self.positive_df)*self.hard_rate*(CONFIG[\"NUM_FOLDS\"]-1)/CONFIG[\"NUM_FOLDS\"])\n",
    "        \n",
    "    def get_data(self,select_num=None):\n",
    "        return self.iter(select_num)\n",
    "        \n",
    "    def readHardNegative(self,num):\n",
    "\n",
    "        with open(self.hardNegativeFile,\"r\") as f:\n",
    "\n",
    "            size = os.fstat(f.fileno()).st_size  # 指针操作，所以无视文件大小\n",
    "            f.seek(self.hardNegativeOffset)\n",
    "            lines = []\n",
    "            for _ in range(num):\n",
    "                if f.tell()> size:\n",
    "                    #从头往里加\n",
    "                    self.hardNegativeOffset=0\n",
    "                    f.seek(0)\n",
    "                line=f.readline()\n",
    "                #只需要query部分即可\n",
    "                line=line.strip().split(\"\\t\")[0]\n",
    "\n",
    "                #事实上，在第一次训练过程中已经判断过了，其实可以跳过\n",
    "                # if len(line)==len(self.column_name):\n",
    "                lines.append(line)\n",
    "\n",
    "            self.hardNegativeOffset=f.tell()\n",
    "    \n",
    "        return lines\n",
    "\n",
    "    def iter(self,select_num):\n",
    "\n",
    "        if select_num!=None:\n",
    "            i=select_num%self.iter_num\n",
    "        else:\n",
    "            self.iter_now+=1\n",
    "            i=(self.iter_now)%self.iter_num\n",
    "        negative_file=os.path.join(self.negativepath,self.data_type)\n",
    "        negative_df=read_data_file(negative_file+str(i),\\\n",
    "            self.CONFIG[\"DEBUG_MODEL\"],data_num=self.CONFIG[\"DATA_NUM\"],head=self.column_name)\n",
    "        negative_df=self.get_fold(negative_df)\n",
    "\n",
    "        hard_query=self.readHardNegative(self.hard_num)\n",
    "        replace_index=negative_df[negative_df[\"fold\"]!=self.fold].sample(\\\n",
    "            n=self.hard_num,random_state=CONFIG[\"SEED\"]).index\n",
    "        negative_df.loc[replace_index,\"Query\"]=hard_query\n",
    "        \n",
    "        \n",
    "        i=(i+1)%self.iter_num\n",
    "        train_df=pd.concat([self.positive_df,negative_df],axis=0)\n",
    "        if self.CONFIG[\"DIST_MODEL\"]:\n",
    "            train_df=self.check_data_multigpu(train_df)\n",
    "            \n",
    "        train_df=train_df.sample(frac=1).reset_index(drop=True)\n",
    "\n",
    "        return train_df\n",
    "    \n",
    "        \n",
    "\n"
   ]
  },
  {
   "cell_type": "code",
   "execution_count": 56,
   "metadata": {},
   "outputs": [
    {
     "name": "stderr",
     "output_type": "stream",
     "text": [
      "----------data_df fold value_counts----------\n",
      "----------data_df fold value_counts----------\n",
      "1.0    1321268\n",
      "0.0    1321268\n",
      "4.0    1321267\n",
      "3.0    1321267\n",
      "2.0    1321267\n",
      "Name: fold, dtype: int64\n",
      "1.0    1321268\n",
      "0.0    1321268\n",
      "4.0    1321267\n",
      "3.0    1321267\n",
      "2.0    1321267\n",
      "Name: fold, dtype: int64\n"
     ]
    }
   ],
   "source": [
    "trainDataObj1=DataByFile(CONFIG,\"train\",column_name=column_name)"
   ]
  },
  {
   "cell_type": "code",
   "execution_count": 25,
   "metadata": {},
   "outputs": [
    {
     "name": "stderr",
     "output_type": "stream",
     "text": [
      "----------data_df fold value_counts----------\n",
      "----------data_df fold value_counts----------\n",
      "1.0    327213\n",
      "4.0    327213\n",
      "3.0    327213\n",
      "2.0    327213\n",
      "0.0    327213\n",
      "Name: fold, dtype: int64\n",
      "1.0    327213\n",
      "4.0    327213\n",
      "3.0    327213\n",
      "2.0    327213\n",
      "0.0    327213\n",
      "Name: fold, dtype: int64\n"
     ]
    }
   ],
   "source": [
    "# trainDataObj2=DataByFile(CONFIG,\"train\",column_name=column_name,filter_rate=0.8,hard_rate=0.5)\n",
    "trainDataObj2=DataByFile(CONFIG,\"test\",column_name=column_name)\n",
    "\n"
   ]
  },
  {
   "cell_type": "code",
   "execution_count": 27,
   "metadata": {},
   "outputs": [],
   "source": [
    "positiveTrain=trainDataObj1.positive_df\n",
    "positiveTest=trainDataObj2.positive_df"
   ]
  },
  {
   "cell_type": "code",
   "execution_count": 31,
   "metadata": {},
   "outputs": [],
   "source": [
    "hard_file=os.path.join(CONFIG[\"INPUT_DIR\"],\"hardnegfold\",f\"hardnegative_1\")\n",
    "hard_df=read_data_file(hard_file,False,0,head=column_name)"
   ]
  },
  {
   "cell_type": "code",
   "execution_count": 57,
   "metadata": {},
   "outputs": [
    {
     "name": "stdout",
     "output_type": "stream",
     "text": [
      "/vc_data/users/v-mxiong/qc/QueryTitle/negativefold/train\n",
      "/vc_data/users/v-mxiong/qc/QueryTitle/negativefold/train0\n"
     ]
    }
   ],
   "source": [
    "train_df=trainDataObj1.get_data()\n"
   ]
  },
  {
   "cell_type": "code",
   "execution_count": 58,
   "metadata": {},
   "outputs": [],
   "source": [
    "negative_df=train_df.query(\"label==0\")"
   ]
  },
  {
   "cell_type": "code",
   "execution_count": 59,
   "metadata": {},
   "outputs": [
    {
     "name": "stdout",
     "output_type": "stream",
     "text": [
      "/vc_data/users/v-mxiong/qc/QueryTitle/negativefold/train\n",
      "/vc_data/users/v-mxiong/qc/QueryTitle/negativefold/train1\n"
     ]
    }
   ],
   "source": [
    "train_df1=trainDataObj1.get_data()\n",
    "negative_df1=train_df1.query(\"label==0\")\n"
   ]
  },
  {
   "cell_type": "code",
   "execution_count": 62,
   "metadata": {},
   "outputs": [
    {
     "data": {
      "text/plain": [
       "(6602994,)"
      ]
     },
     "execution_count": 62,
     "metadata": {},
     "output_type": "execute_result"
    }
   ],
   "source": [
    "negative_df[\"Query\"].unique().shape"
   ]
  },
  {
   "cell_type": "code",
   "execution_count": 63,
   "metadata": {},
   "outputs": [
    {
     "data": {
      "text/plain": [
       "(6603008, 4)"
      ]
     },
     "execution_count": 63,
     "metadata": {},
     "output_type": "execute_result"
    }
   ],
   "source": [
    "negative_df.shape\n"
   ]
  },
  {
   "cell_type": "code",
   "execution_count": 64,
   "metadata": {},
   "outputs": [
    {
     "name": "stdout",
     "output_type": "stream",
     "text": [
      "(6603498,)\n",
      "(6603505, 4)\n"
     ]
    }
   ],
   "source": [
    "print(negative_df1[\"Query\"].unique().shape)\n",
    "print(negative_df1.shape)\n"
   ]
  },
  {
   "cell_type": "code",
   "execution_count": 60,
   "metadata": {},
   "outputs": [
    {
     "data": {
      "text/html": [
       "<div>\n",
       "<style scoped>\n",
       "    .dataframe tbody tr th:only-of-type {\n",
       "        vertical-align: middle;\n",
       "    }\n",
       "\n",
       "    .dataframe tbody tr th {\n",
       "        vertical-align: top;\n",
       "    }\n",
       "\n",
       "    .dataframe thead th {\n",
       "        text-align: right;\n",
       "    }\n",
       "</style>\n",
       "<table border=\"1\" class=\"dataframe\">\n",
       "  <thead>\n",
       "    <tr style=\"text-align: right;\">\n",
       "      <th></th>\n",
       "      <th>Query</th>\n",
       "    </tr>\n",
       "  </thead>\n",
       "  <tbody>\n",
       "    <tr>\n",
       "      <th>0</th>\n",
       "      <td>estrella morente</td>\n",
       "    </tr>\n",
       "    <tr>\n",
       "      <th>1</th>\n",
       "      <td>*</td>\n",
       "    </tr>\n",
       "    <tr>\n",
       "      <th>2</th>\n",
       "      <td>7</td>\n",
       "    </tr>\n",
       "    <tr>\n",
       "      <th>3</th>\n",
       "      <td>7</td>\n",
       "    </tr>\n",
       "    <tr>\n",
       "      <th>4</th>\n",
       "      <td>1</td>\n",
       "    </tr>\n",
       "    <tr>\n",
       "      <th>5</th>\n",
       "      <td>1</td>\n",
       "    </tr>\n",
       "    <tr>\n",
       "      <th>6</th>\n",
       "      <td>1</td>\n",
       "    </tr>\n",
       "    <tr>\n",
       "      <th>7</th>\n",
       "      <td>1</td>\n",
       "    </tr>\n",
       "    <tr>\n",
       "      <th>8</th>\n",
       "      <td>1</td>\n",
       "    </tr>\n",
       "    <tr>\n",
       "      <th>9</th>\n",
       "      <td>1</td>\n",
       "    </tr>\n",
       "    <tr>\n",
       "      <th>10</th>\n",
       "      <td>1</td>\n",
       "    </tr>\n",
       "    <tr>\n",
       "      <th>11</th>\n",
       "      <td>1</td>\n",
       "    </tr>\n",
       "    <tr>\n",
       "      <th>12</th>\n",
       "      <td>1</td>\n",
       "    </tr>\n",
       "    <tr>\n",
       "      <th>13</th>\n",
       "      <td>1</td>\n",
       "    </tr>\n",
       "    <tr>\n",
       "      <th>14</th>\n",
       "      <td></td>\n",
       "    </tr>\n",
       "    <tr>\n",
       "      <th>15</th>\n",
       "      <td></td>\n",
       "    </tr>\n",
       "    <tr>\n",
       "      <th>16</th>\n",
       "      <td></td>\n",
       "    </tr>\n",
       "    <tr>\n",
       "      <th>17</th>\n",
       "      <td></td>\n",
       "    </tr>\n",
       "    <tr>\n",
       "      <th>18</th>\n",
       "      <td></td>\n",
       "    </tr>\n",
       "    <tr>\n",
       "      <th>19</th>\n",
       "      <td></td>\n",
       "    </tr>\n",
       "    <tr>\n",
       "      <th>20</th>\n",
       "      <td></td>\n",
       "    </tr>\n",
       "    <tr>\n",
       "      <th>21</th>\n",
       "      <td></td>\n",
       "    </tr>\n",
       "    <tr>\n",
       "      <th>22</th>\n",
       "      <td>7.5/10</td>\n",
       "    </tr>\n",
       "    <tr>\n",
       "      <th>23</th>\n",
       "      <td>8:00 pm</td>\n",
       "    </tr>\n",
       "    <tr>\n",
       "      <th>24</th>\n",
       "      <td>￼</td>\n",
       "    </tr>\n",
       "    <tr>\n",
       "      <th>25</th>\n",
       "      <td>おっと</td>\n",
       "    </tr>\n",
       "    <tr>\n",
       "      <th>26</th>\n",
       "      <td>80%</td>\n",
       "    </tr>\n",
       "    <tr>\n",
       "      <th>27</th>\n",
       "      <td>quiz sur les grands moments du sport</td>\n",
       "    </tr>\n",
       "    <tr>\n",
       "      <th>28</th>\n",
       "      <td>quiz sur les grands moments du sport</td>\n",
       "    </tr>\n",
       "  </tbody>\n",
       "</table>\n",
       "</div>"
      ],
      "text/plain": [
       "                                   Query\n",
       "0                      estrella morente \n",
       "1                                     * \n",
       "2                                     7 \n",
       "3                                     7 \n",
       "4                                     1 \n",
       "5                                     1 \n",
       "6                                     1 \n",
       "7                                     1 \n",
       "8                                     1 \n",
       "9                                     1 \n",
       "10                                    1 \n",
       "11                                    1 \n",
       "12                                    1 \n",
       "13                                    1 \n",
       "14                                      \n",
       "15                                      \n",
       "16                                      \n",
       "17                                      \n",
       "18                                      \n",
       "19                                      \n",
       "20                                      \n",
       "21                                      \n",
       "22                               7.5/10 \n",
       "23                              8:00 pm \n",
       "24                                    ￼ \n",
       "25                                  おっと \n",
       "26                                  80% \n",
       "27  quiz sur les grands moments du sport\n",
       "28  quiz sur les grands moments du sport"
      ]
     },
     "execution_count": 60,
     "metadata": {},
     "output_type": "execute_result"
    }
   ],
   "source": [
    "pd.merge(left=negative_df[\"Query\"],right=negative_df1[\"Query\"],on=\"Query\",how=\"inner\")"
   ]
  },
  {
   "cell_type": "code",
   "execution_count": 38,
   "metadata": {},
   "outputs": [],
   "source": [
    "val_df=train_df.query(\"label==0 & fold==0\")"
   ]
  },
  {
   "cell_type": "code",
   "execution_count": 39,
   "metadata": {},
   "outputs": [],
   "source": [
    "result=pd.merge(left=val_df[\"Query\"],right=hard_df[\"Query\"],on=\"Query\",how=\"inner\")"
   ]
  },
  {
   "cell_type": "code",
   "execution_count": 40,
   "metadata": {},
   "outputs": [
    {
     "data": {
      "text/plain": [
       "(19, 1)"
      ]
     },
     "execution_count": 40,
     "metadata": {},
     "output_type": "execute_result"
    }
   ],
   "source": [
    "result.shape"
   ]
  },
  {
   "cell_type": "code",
   "execution_count": 41,
   "metadata": {},
   "outputs": [
    {
     "data": {
      "text/html": [
       "<div>\n",
       "<style scoped>\n",
       "    .dataframe tbody tr th:only-of-type {\n",
       "        vertical-align: middle;\n",
       "    }\n",
       "\n",
       "    .dataframe tbody tr th {\n",
       "        vertical-align: top;\n",
       "    }\n",
       "\n",
       "    .dataframe thead th {\n",
       "        text-align: right;\n",
       "    }\n",
       "</style>\n",
       "<table border=\"1\" class=\"dataframe\">\n",
       "  <thead>\n",
       "    <tr style=\"text-align: right;\">\n",
       "      <th></th>\n",
       "      <th>Query</th>\n",
       "    </tr>\n",
       "  </thead>\n",
       "  <tbody>\n",
       "    <tr>\n",
       "      <th>0</th>\n",
       "      <td>66</td>\n",
       "    </tr>\n",
       "    <tr>\n",
       "      <th>1</th>\n",
       "      <td>66</td>\n",
       "    </tr>\n",
       "    <tr>\n",
       "      <th>2</th>\n",
       "      <td>federalism</td>\n",
       "    </tr>\n",
       "    <tr>\n",
       "      <th>3</th>\n",
       "      <td>federalism</td>\n",
       "    </tr>\n",
       "    <tr>\n",
       "      <th>4</th>\n",
       "      <td>quiz sur les grands moments du sport</td>\n",
       "    </tr>\n",
       "    <tr>\n",
       "      <th>5</th>\n",
       "      <td>quiz sur les grands moments du sport</td>\n",
       "    </tr>\n",
       "    <tr>\n",
       "      <th>6</th>\n",
       "      <td>quiz sur les grands moments du sport</td>\n",
       "    </tr>\n",
       "    <tr>\n",
       "      <th>7</th>\n",
       "      <td>quiz sur les grands moments du sport</td>\n",
       "    </tr>\n",
       "    <tr>\n",
       "      <th>8</th>\n",
       "      <td>quiz sur les grands moments du sport</td>\n",
       "    </tr>\n",
       "    <tr>\n",
       "      <th>9</th>\n",
       "      <td>quiz sur les grands moments du sport</td>\n",
       "    </tr>\n",
       "    <tr>\n",
       "      <th>10</th>\n",
       "      <td>quiz sur les grands moments du sport</td>\n",
       "    </tr>\n",
       "    <tr>\n",
       "      <th>11</th>\n",
       "      <td>quiz sur les grands moments du sport</td>\n",
       "    </tr>\n",
       "    <tr>\n",
       "      <th>12</th>\n",
       "      <td>quiz sur les grands moments du sport</td>\n",
       "    </tr>\n",
       "    <tr>\n",
       "      <th>13</th>\n",
       "      <td>d</td>\n",
       "    </tr>\n",
       "    <tr>\n",
       "      <th>14</th>\n",
       "      <td>d</td>\n",
       "    </tr>\n",
       "    <tr>\n",
       "      <th>15</th>\n",
       "      <td>d</td>\n",
       "    </tr>\n",
       "    <tr>\n",
       "      <th>16</th>\n",
       "      <td>estrella morente</td>\n",
       "    </tr>\n",
       "    <tr>\n",
       "      <th>17</th>\n",
       "      <td>estrella morente</td>\n",
       "    </tr>\n",
       "    <tr>\n",
       "      <th>18</th>\n",
       "      <td>ダイヤモンド</td>\n",
       "    </tr>\n",
       "  </tbody>\n",
       "</table>\n",
       "</div>"
      ],
      "text/plain": [
       "                                   Query\n",
       "0                                    66 \n",
       "1                                    66 \n",
       "2                            federalism \n",
       "3                            federalism \n",
       "4   quiz sur les grands moments du sport\n",
       "5   quiz sur les grands moments du sport\n",
       "6   quiz sur les grands moments du sport\n",
       "7   quiz sur les grands moments du sport\n",
       "8   quiz sur les grands moments du sport\n",
       "9   quiz sur les grands moments du sport\n",
       "10  quiz sur les grands moments du sport\n",
       "11  quiz sur les grands moments du sport\n",
       "12  quiz sur les grands moments du sport\n",
       "13                                    d \n",
       "14                                    d \n",
       "15                                    d \n",
       "16                     estrella morente \n",
       "17                     estrella morente \n",
       "18                               ダイヤモンド "
      ]
     },
     "execution_count": 41,
     "metadata": {},
     "output_type": "execute_result"
    }
   ],
   "source": [
    "result"
   ]
  },
  {
   "cell_type": "code",
   "execution_count": 44,
   "metadata": {},
   "outputs": [
    {
     "data": {
      "text/plain": [
       "(1320701,)"
      ]
     },
     "execution_count": 44,
     "metadata": {},
     "output_type": "execute_result"
    }
   ],
   "source": [
    "val_df[\"Query\"].unique().shape"
   ]
  },
  {
   "cell_type": "code",
   "execution_count": 45,
   "metadata": {},
   "outputs": [
    {
     "data": {
      "text/plain": [
       "(1320701, 4)"
      ]
     },
     "execution_count": 45,
     "metadata": {},
     "output_type": "execute_result"
    }
   ],
   "source": [
    "val_df.shape"
   ]
  },
  {
   "cell_type": "code",
   "execution_count": 46,
   "metadata": {},
   "outputs": [
    {
     "data": {
      "text/plain": [
       "(75760235,)"
      ]
     },
     "execution_count": 46,
     "metadata": {},
     "output_type": "execute_result"
    }
   ],
   "source": [
    "hard_df[\"Query\"].unique().shape"
   ]
  },
  {
   "cell_type": "code",
   "execution_count": 47,
   "metadata": {},
   "outputs": [
    {
     "data": {
      "text/plain": [
       "(80215242,)"
      ]
     },
     "execution_count": 47,
     "metadata": {},
     "output_type": "execute_result"
    }
   ],
   "source": [
    "hard_df[\"Query\"].shape"
   ]
  },
  {
   "cell_type": "code",
   "execution_count": null,
   "metadata": {},
   "outputs": [],
   "source": []
  }
 ],
 "metadata": {
  "kernelspec": {
   "display_name": "Python 3.6.10 ('base')",
   "language": "python",
   "name": "python3"
  },
  "language_info": {
   "codemirror_mode": {
    "name": "ipython",
    "version": 3
   },
   "file_extension": ".py",
   "mimetype": "text/x-python",
   "name": "python",
   "nbconvert_exporter": "python",
   "pygments_lexer": "ipython3",
   "version": "3.6.10"
  },
  "orig_nbformat": 4,
  "vscode": {
   "interpreter": {
    "hash": "d4d1e4263499bec80672ea0156c357c1ee493ec2b1c70f0acce89fc37c4a6abe"
   }
  }
 },
 "nbformat": 4,
 "nbformat_minor": 2
}
