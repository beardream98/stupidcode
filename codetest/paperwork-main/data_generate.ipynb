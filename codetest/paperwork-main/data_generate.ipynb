{
 "cells": [
  {
   "cell_type": "code",
   "execution_count": 1,
   "metadata": {},
   "outputs": [
    {
     "ename": "ModuleNotFoundError",
     "evalue": "No module named 'tqdm'",
     "output_type": "error",
     "traceback": [
      "\u001b[1;31m---------------------------------------------------------------------------\u001b[0m",
      "\u001b[1;31mModuleNotFoundError\u001b[0m                       Traceback (most recent call last)",
      "\u001b[1;32m~\\AppData\\Local\\Temp\\ipykernel_149572\\835596087.py\u001b[0m in \u001b[0;36m<module>\u001b[1;34m\u001b[0m\n\u001b[0;32m      2\u001b[0m \u001b[1;32mfrom\u001b[0m \u001b[0mcollections\u001b[0m \u001b[1;32mimport\u001b[0m \u001b[0mdefaultdict\u001b[0m\u001b[1;33m\u001b[0m\u001b[1;33m\u001b[0m\u001b[0m\n\u001b[0;32m      3\u001b[0m \u001b[1;33m\u001b[0m\u001b[0m\n\u001b[1;32m----> 4\u001b[1;33m \u001b[1;32mfrom\u001b[0m \u001b[0mtqdm\u001b[0m \u001b[1;32mimport\u001b[0m \u001b[0mtqdm\u001b[0m\u001b[1;33m\u001b[0m\u001b[1;33m\u001b[0m\u001b[0m\n\u001b[0m\u001b[0;32m      5\u001b[0m \u001b[1;32mfrom\u001b[0m \u001b[0msklearn\u001b[0m\u001b[1;33m.\u001b[0m\u001b[0mmodel_selection\u001b[0m \u001b[1;32mimport\u001b[0m \u001b[0mtrain_test_split\u001b[0m\u001b[1;33m\u001b[0m\u001b[1;33m\u001b[0m\u001b[0m\n\u001b[0;32m      6\u001b[0m \u001b[1;33m\u001b[0m\u001b[0m\n",
      "\u001b[1;31mModuleNotFoundError\u001b[0m: No module named 'tqdm'"
     ]
    }
   ],
   "source": [
    "import os \n",
    "from collections import defaultdict\n",
    "\n",
    "from tqdm import tqdm\n",
    "from sklearn.model_selection import train_test_split\n",
    "\n",
    "from utils.train import train_set\n",
    "from data.read_data import read_data_file\n"
   ]
  },
  {
   "cell_type": "code",
   "execution_count": 2,
   "metadata": {},
   "outputs": [
    {
     "name": "stderr",
     "output_type": "stream",
     "text": [
      "Failed to detect the name of this notebook, you can set it manually with the WANDB_NOTEBOOK_NAME environment variable to enable code saving.\n",
      "\u001b[34m\u001b[1mwandb\u001b[0m: Currently logged in as: \u001b[33madreambear\u001b[0m. Use \u001b[1m`wandb login --relogin`\u001b[0m to force relogin\n",
      "\u001b[34m\u001b[1mwandb\u001b[0m: \u001b[33mWARNING\u001b[0m If you're specifying your api key in code, ensure this code is not shared publicly.\n",
      "\u001b[34m\u001b[1mwandb\u001b[0m: \u001b[33mWARNING\u001b[0m Consider setting the WANDB_API_KEY environment variable, or running `wandb login` from the command line.\n",
      "\u001b[34m\u001b[1mwandb\u001b[0m: Appending key for api.wandb.ai to your netrc file: /root/.netrc\n"
     ]
    }
   ],
   "source": [
    "yaml_path = \"./config/train.yaml\"\n",
    "CONFIG,Logger,DEVICE = train_set(yaml_path,experimentName = None,upload = False,filename = \"./test/logs\",is_notebook = True)\n",
    "\n",
    "CONFIG[\"run_db\"] = False\n",
    "CONFIG[\"num_hidden_layers\"] = 12\n",
    "CONFIG[\"DATA_NUM_RATE\"] = 0.2\n",
    "CONFIG[\"EPOCHS\"] = 35\n",
    "CONFIG[\"DEBUG_MODEL\"] = False"
   ]
  },
  {
   "cell_type": "code",
   "execution_count": 3,
   "metadata": {},
   "outputs": [],
   "source": [
    "binary_word_list = []\n",
    "with open(\"/root/autodl-tmp/epsave/data/binary/classifyword.txt\",\"r\") as fin:\n",
    "    for line in fin:\n",
    "        binary_word_list.append(line.strip())"
   ]
  },
  {
   "cell_type": "code",
   "execution_count": 5,
   "metadata": {},
   "outputs": [],
   "source": [
    "input_dir = CONFIG[\"INPUT_DIR\"]\n",
    "positive_file = os.path.join(input_dir,\"PositiveData\")\n",
    "head = [\"Query\",\"keyword\",\"query_len\",\"emotion_value\",\"label\"]\n",
    "positive_df = read_data_file(positive_file,False,5000,head = head)"
   ]
  },
  {
   "cell_type": "code",
   "execution_count": 6,
   "metadata": {},
   "outputs": [
    {
     "data": {
      "text/plain": [
       "(10569, 5)"
      ]
     },
     "execution_count": 6,
     "metadata": {},
     "output_type": "execute_result"
    }
   ],
   "source": [
    "positive_df.shape"
   ]
  },
  {
   "cell_type": "code",
   "execution_count": 7,
   "metadata": {},
   "outputs": [],
   "source": [
    "input_dir = CONFIG[\"INPUT_DIR\"]\n",
    "negative_file = os.path.join(input_dir,\"NegativeData\")\n",
    "head = [\"Query\",\"keyword\",\"query_len\",\"emotion_value\",\"label\"]\n",
    "# negative_df = read_data_file(negative_file,False,5000,head = head)\n"
   ]
  },
  {
   "cell_type": "code",
   "execution_count": 8,
   "metadata": {},
   "outputs": [],
   "source": [
    "# negative_df.shape\n"
   ]
  },
  {
   "cell_type": "code",
   "execution_count": 10,
   "metadata": {},
   "outputs": [
    {
     "name": "stderr",
     "output_type": "stream",
     "text": [
      "column_name :['Query', 'keyword', 'query_len', 'emotion_value', 'label']\n"
     ]
    }
   ],
   "source": [
    "with open(os.path.join(CONFIG[\"INPUT_DIR\"],\"Schema\"),\"r\") as f:\n",
    "       line=f.readlines()[0].strip()\n",
    "       column_name=line.split(\"\\t\")\n",
    "       CONFIG[\"Logger\"].info(f\"column_name :{column_name}\")\n",
    "       CONFIG[\"COLUMN_NAME\"]=column_name"
   ]
  },
  {
   "cell_type": "code",
   "execution_count": 11,
   "metadata": {},
   "outputs": [],
   "source": [
    "# write_file = os.path.join(CONFIG[\"INPUT_DIR\"],\"PositiveDataTemp\")\n",
    "# with open(write_file,'w') as write_object:\n",
    "#     for id, rows in positive_df.iterrows():\n",
    "#         write_object.write('\\t'.join(rows) + \"\\n\")\n",
    "# write_file = os.path.join(CONFIG[\"INPUT_DIR\"],\"NegativeDataTemp\")\n",
    "# with open(write_file,'w') as write_object:\n",
    "#     for id, rows in negative_df.iterrows():\n",
    "#         write_object.write('\\t'.join(rows) + \"\\n\")"
   ]
  },
  {
   "cell_type": "code",
   "execution_count": 12,
   "metadata": {},
   "outputs": [],
   "source": [
    "keyword_file = \"/root/autodl-tmp/epsave/data/raw_data/euphemism_answer_drug.txt\"\n",
    "euphemism_answer = defaultdict(list)\n",
    "with open(keyword_file, 'r') as fin:\n",
    "    for line in fin:\n",
    "        ans = line.split(':')[0].strip().lower()\n",
    "        for i in line.split(':')[1].split(';'):\n",
    "            euphemism_answer[i.strip().lower()].append(ans)"
   ]
  },
  {
   "cell_type": "code",
   "execution_count": 13,
   "metadata": {},
   "outputs": [
    {
     "data": {
      "text/plain": [
       "['candy',\n",
       " 'beans',\n",
       " 'go',\n",
       " 'superman',\n",
       " 'coffee',\n",
       " 'phoenix',\n",
       " 'tabs',\n",
       " 'live',\n",
       " 'bars',\n",
       " 'diesel',\n",
       " 'truck drivers',\n",
       " 'food',\n",
       " 'fire',\n",
       " 'girl',\n",
       " 'white',\n",
       " 'wet',\n",
       " 'zip',\n",
       " 'junk',\n",
       " 'leaf',\n",
       " 'shoes',\n",
       " 'flour',\n",
       " 'snowflake',\n",
       " 'green',\n",
       " 'space',\n",
       " 'trees',\n",
       " 'paint',\n",
       " 'lemonade',\n",
       " 'work',\n",
       " 'k',\n",
       " 'purple',\n",
       " 'poison',\n",
       " 'black',\n",
       " 'blue',\n",
       " 'salt',\n",
       " 'jet',\n",
       " 'ace',\n",
       " 'buttons',\n",
       " 'whites',\n",
       " 'him',\n",
       " 'bananas',\n",
       " 'blues',\n",
       " 'rope',\n",
       " 'mother',\n",
       " 'scratch',\n",
       " 'mph',\n",
       " 'water',\n",
       " 'speed']"
      ]
     },
     "execution_count": 13,
     "metadata": {},
     "output_type": "execute_result"
    }
   ],
   "source": [
    "binary_word_list"
   ]
  },
  {
   "cell_type": "code",
   "execution_count": 14,
   "metadata": {},
   "outputs": [],
   "source": [
    "head = CONFIG['COLUMN_NAME']\n"
   ]
  },
  {
   "cell_type": "code",
   "execution_count": 15,
   "metadata": {},
   "outputs": [],
   "source": [
    "keyword_index = head.index('keyword')\n",
    "query_index = head.index('Query')\n",
    "query_len_index = head.index('query_len')"
   ]
  },
  {
   "cell_type": "code",
   "execution_count": 16,
   "metadata": {},
   "outputs": [
    {
     "name": "stderr",
     "output_type": "stream",
     "text": [
      "  2%|▏         | 1/47 [00:00<00:44,  1.03it/s]"
     ]
    },
    {
     "name": "stdout",
     "output_type": "stream",
     "text": [
      "keyword: candy , train_num: 531 test_num: 214         rate:  0.4030131826741996\n"
     ]
    },
    {
     "name": "stderr",
     "output_type": "stream",
     "text": [
      "  4%|▍         | 2/47 [00:01<00:37,  1.20it/s]"
     ]
    },
    {
     "name": "stdout",
     "output_type": "stream",
     "text": [
      "keyword: beans , train_num: 253 test_num: 110         rate:  0.43478260869565216\n"
     ]
    },
    {
     "name": "stderr",
     "output_type": "stream",
     "text": [
      "  6%|▋         | 3/47 [00:02<00:31,  1.38it/s]"
     ]
    },
    {
     "name": "stdout",
     "output_type": "stream",
     "text": [
      "keyword: go , train_num: 118 test_num: 57         rate:  0.4830508474576271\n"
     ]
    },
    {
     "name": "stderr",
     "output_type": "stream",
     "text": [
      "  9%|▊         | 4/47 [00:02<00:30,  1.43it/s]"
     ]
    },
    {
     "name": "stdout",
     "output_type": "stream",
     "text": [
      "keyword: superman , train_num: 557 test_num: 220         rate:  0.39497307001795334\n"
     ]
    },
    {
     "name": "stderr",
     "output_type": "stream",
     "text": [
      " 11%|█         | 5/47 [00:03<00:31,  1.35it/s]"
     ]
    },
    {
     "name": "stdout",
     "output_type": "stream",
     "text": [
      "keyword: coffee , train_num: 1189 test_num: 471         rate:  0.3961312026913373\n"
     ]
    },
    {
     "name": "stderr",
     "output_type": "stream",
     "text": [
      " 13%|█▎        | 6/47 [00:05<00:39,  1.05it/s]"
     ]
    },
    {
     "name": "stdout",
     "output_type": "stream",
     "text": [
      "keyword: phoenix , train_num: 3332 test_num: 1164         rate:  0.34933973589435774\n"
     ]
    },
    {
     "name": "stderr",
     "output_type": "stream",
     "text": [
      " 15%|█▍        | 7/47 [00:05<00:34,  1.16it/s]"
     ]
    },
    {
     "name": "stdout",
     "output_type": "stream",
     "text": [
      "keyword: tabs , train_num: 206 test_num: 85         rate:  0.41262135922330095\n"
     ]
    },
    {
     "name": "stderr",
     "output_type": "stream",
     "text": [
      " 17%|█▋        | 8/47 [00:06<00:30,  1.30it/s]"
     ]
    },
    {
     "name": "stdout",
     "output_type": "stream",
     "text": [
      "keyword: live , train_num: 173 test_num: 76         rate:  0.4393063583815029\n"
     ]
    },
    {
     "name": "stderr",
     "output_type": "stream",
     "text": [
      " 19%|█▉        | 9/47 [00:06<00:26,  1.43it/s]"
     ]
    },
    {
     "name": "stdout",
     "output_type": "stream",
     "text": [
      "keyword: bars , train_num: 34 test_num: 10         rate:  0.29411764705882354\n"
     ]
    },
    {
     "name": "stderr",
     "output_type": "stream",
     "text": [
      " 21%|██▏       | 10/47 [00:08<00:34,  1.08it/s]"
     ]
    },
    {
     "name": "stdout",
     "output_type": "stream",
     "text": [
      "keyword: diesel , train_num: 4557 test_num: 1624         rate:  0.3563748079877112\n"
     ]
    },
    {
     "name": "stderr",
     "output_type": "stream",
     "text": [
      " 23%|██▎       | 11/47 [00:09<00:30,  1.17it/s]"
     ]
    },
    {
     "name": "stdout",
     "output_type": "stream",
     "text": [
      "keyword: truck drivers , train_num: 38 test_num: 5         rate:  0.13157894736842105\n"
     ]
    },
    {
     "name": "stderr",
     "output_type": "stream",
     "text": [
      " 26%|██▌       | 12/47 [00:09<00:29,  1.20it/s]"
     ]
    },
    {
     "name": "stdout",
     "output_type": "stream",
     "text": [
      "keyword: food , train_num: 1824 test_num: 697         rate:  0.3821271929824561\n"
     ]
    },
    {
     "name": "stderr",
     "output_type": "stream",
     "text": [
      " 28%|██▊       | 13/47 [00:10<00:31,  1.09it/s]"
     ]
    },
    {
     "name": "stdout",
     "output_type": "stream",
     "text": [
      "keyword: fire , train_num: 3967 test_num: 1390         rate:  0.3503907234686161\n"
     ]
    },
    {
     "name": "stderr",
     "output_type": "stream",
     "text": [
      " 30%|██▉       | 14/47 [00:11<00:27,  1.19it/s]"
     ]
    },
    {
     "name": "stdout",
     "output_type": "stream",
     "text": [
      "keyword: girl , train_num: 1739 test_num: 674         rate:  0.38757906843013223\n"
     ]
    },
    {
     "name": "stderr",
     "output_type": "stream",
     "text": [
      " 32%|███▏      | 15/47 [00:12<00:24,  1.29it/s]"
     ]
    },
    {
     "name": "stdout",
     "output_type": "stream",
     "text": [
      "keyword: white , train_num: 1485 test_num: 562         rate:  0.3784511784511784\n"
     ]
    },
    {
     "name": "stderr",
     "output_type": "stream",
     "text": [
      " 34%|███▍      | 16/47 [00:13<00:26,  1.17it/s]"
     ]
    },
    {
     "name": "stdout",
     "output_type": "stream",
     "text": [
      "keyword: wet , train_num: 3573 test_num: 1244         rate:  0.34816680660509375\n"
     ]
    },
    {
     "name": "stderr",
     "output_type": "stream",
     "text": [
      " 36%|███▌      | 17/47 [00:14<00:25,  1.17it/s]"
     ]
    },
    {
     "name": "stdout",
     "output_type": "stream",
     "text": [
      "keyword: zip , train_num: 3626 test_num: 1252         rate:  0.34528405956977387\n"
     ]
    },
    {
     "name": "stderr",
     "output_type": "stream",
     "text": [
      " 38%|███▊      | 18/47 [00:15<00:25,  1.13it/s]"
     ]
    },
    {
     "name": "stdout",
     "output_type": "stream",
     "text": [
      "keyword: junk , train_num: 1400 test_num: 539         rate:  0.385\n"
     ]
    },
    {
     "name": "stderr",
     "output_type": "stream",
     "text": [
      " 40%|████      | 19/47 [00:16<00:26,  1.06it/s]"
     ]
    },
    {
     "name": "stdout",
     "output_type": "stream",
     "text": [
      "keyword: leaf , train_num: 3541 test_num: 1229         rate:  0.3470770968652923\n"
     ]
    },
    {
     "name": "stderr",
     "output_type": "stream",
     "text": [
      " 43%|████▎     | 20/47 [00:17<00:28,  1.04s/it]"
     ]
    },
    {
     "name": "stdout",
     "output_type": "stream",
     "text": [
      "keyword: shoes , train_num: 4512 test_num: 1615         rate:  0.3579343971631206\n"
     ]
    },
    {
     "name": "stderr",
     "output_type": "stream",
     "text": [
      " 45%|████▍     | 21/47 [00:17<00:22,  1.14it/s]"
     ]
    },
    {
     "name": "stdout",
     "output_type": "stream",
     "text": [
      "keyword: flour , train_num: 398 test_num: 146         rate:  0.36683417085427134\n"
     ]
    },
    {
     "name": "stderr",
     "output_type": "stream",
     "text": [
      " 47%|████▋     | 22/47 [00:18<00:19,  1.30it/s]"
     ]
    },
    {
     "name": "stdout",
     "output_type": "stream",
     "text": [
      "keyword: snowflake , train_num: 723 test_num: 279         rate:  0.38589211618257263\n"
     ]
    },
    {
     "name": "stderr",
     "output_type": "stream",
     "text": [
      " 49%|████▉     | 23/47 [00:19<00:20,  1.20it/s]"
     ]
    },
    {
     "name": "stdout",
     "output_type": "stream",
     "text": [
      "keyword: green , train_num: 3166 test_num: 1090         rate:  0.34428300694883135\n"
     ]
    },
    {
     "name": "stderr",
     "output_type": "stream",
     "text": [
      " 51%|█████     | 24/47 [00:19<00:16,  1.36it/s]"
     ]
    },
    {
     "name": "stdout",
     "output_type": "stream",
     "text": [
      "keyword: space , train_num: 416 test_num: 159         rate:  0.38221153846153844\n"
     ]
    },
    {
     "name": "stderr",
     "output_type": "stream",
     "text": [
      " 53%|█████▎    | 25/47 [00:21<00:18,  1.17it/s]"
     ]
    },
    {
     "name": "stdout",
     "output_type": "stream",
     "text": [
      "keyword: trees , train_num: 4173 test_num: 1480         rate:  0.35466091540857897\n"
     ]
    },
    {
     "name": "stderr",
     "output_type": "stream",
     "text": [
      " 55%|█████▌    | 26/47 [00:21<00:15,  1.36it/s]"
     ]
    },
    {
     "name": "stdout",
     "output_type": "stream",
     "text": [
      "keyword: paint , train_num: 469 test_num: 167         rate:  0.35607675906183367\n"
     ]
    },
    {
     "name": "stderr",
     "output_type": "stream",
     "text": [
      " 57%|█████▋    | 27/47 [00:22<00:13,  1.43it/s]"
     ]
    },
    {
     "name": "stdout",
     "output_type": "stream",
     "text": [
      "keyword: lemonade , train_num: 1049 test_num: 404         rate:  0.3851286939942803\n"
     ]
    },
    {
     "name": "stderr",
     "output_type": "stream",
     "text": [
      " 60%|█████▉    | 28/47 [00:22<00:11,  1.62it/s]"
     ]
    },
    {
     "name": "stdout",
     "output_type": "stream",
     "text": [
      "keyword: work , train_num: 384 test_num: 144         rate:  0.375\n"
     ]
    },
    {
     "name": "stderr",
     "output_type": "stream",
     "text": [
      " 62%|██████▏   | 29/47 [00:23<00:10,  1.68it/s]"
     ]
    },
    {
     "name": "stdout",
     "output_type": "stream",
     "text": [
      "keyword: k , train_num: 12 test_num: 6         rate:  0.5\n"
     ]
    },
    {
     "name": "stderr",
     "output_type": "stream",
     "text": [
      " 64%|██████▍   | 30/47 [00:23<00:10,  1.65it/s]"
     ]
    },
    {
     "name": "stdout",
     "output_type": "stream",
     "text": [
      "keyword: purple , train_num: 94 test_num: 28         rate:  0.2978723404255319\n"
     ]
    },
    {
     "name": "stderr",
     "output_type": "stream",
     "text": [
      " 66%|██████▌   | 31/47 [00:24<00:10,  1.53it/s]"
     ]
    },
    {
     "name": "stdout",
     "output_type": "stream",
     "text": [
      "keyword: poison , train_num: 1355 test_num: 530         rate:  0.39114391143911437\n"
     ]
    },
    {
     "name": "stderr",
     "output_type": "stream",
     "text": [
      " 68%|██████▊   | 32/47 [00:25<00:11,  1.35it/s]"
     ]
    },
    {
     "name": "stdout",
     "output_type": "stream",
     "text": [
      "keyword: black , train_num: 1185 test_num: 441         rate:  0.3721518987341772\n"
     ]
    },
    {
     "name": "stderr",
     "output_type": "stream",
     "text": [
      " 70%|███████   | 33/47 [00:26<00:09,  1.43it/s]"
     ]
    },
    {
     "name": "stdout",
     "output_type": "stream",
     "text": [
      "keyword: blue , train_num: 1136 test_num: 439         rate:  0.386443661971831\n"
     ]
    },
    {
     "name": "stderr",
     "output_type": "stream",
     "text": [
      " 72%|███████▏  | 34/47 [00:26<00:08,  1.54it/s]"
     ]
    },
    {
     "name": "stdout",
     "output_type": "stream",
     "text": [
      "keyword: salt , train_num: 1101 test_num: 418         rate:  0.3796548592188919\n"
     ]
    },
    {
     "name": "stderr",
     "output_type": "stream",
     "text": [
      " 74%|███████▍  | 35/47 [00:26<00:06,  1.76it/s]"
     ]
    },
    {
     "name": "stdout",
     "output_type": "stream",
     "text": [
      "keyword: jet , train_num: 9 test_num: 5         rate:  0.5555555555555556\n"
     ]
    },
    {
     "name": "stderr",
     "output_type": "stream",
     "text": [
      " 77%|███████▋  | 36/47 [00:27<00:07,  1.52it/s]"
     ]
    },
    {
     "name": "stdout",
     "output_type": "stream",
     "text": [
      "keyword: ace , train_num: 3189 test_num: 1100         rate:  0.3449357165255566\n"
     ]
    },
    {
     "name": "stderr",
     "output_type": "stream",
     "text": [
      " 79%|███████▊  | 37/47 [00:28<00:06,  1.62it/s]"
     ]
    },
    {
     "name": "stdout",
     "output_type": "stream",
     "text": [
      "keyword: buttons , train_num: 145 test_num: 65         rate:  0.4482758620689655\n"
     ]
    },
    {
     "name": "stderr",
     "output_type": "stream",
     "text": [
      " 81%|████████  | 38/47 [00:28<00:05,  1.76it/s]"
     ]
    },
    {
     "name": "stdout",
     "output_type": "stream",
     "text": [
      "keyword: whites , train_num: 135 test_num: 53         rate:  0.3925925925925926\n"
     ]
    },
    {
     "name": "stderr",
     "output_type": "stream",
     "text": [
      " 83%|████████▎ | 39/47 [00:29<00:04,  1.85it/s]"
     ]
    },
    {
     "name": "stdout",
     "output_type": "stream",
     "text": [
      "keyword: him , train_num: 1016 test_num: 395         rate:  0.3887795275590551\n"
     ]
    },
    {
     "name": "stderr",
     "output_type": "stream",
     "text": [
      " 85%|████████▌ | 40/47 [00:29<00:03,  1.80it/s]"
     ]
    },
    {
     "name": "stdout",
     "output_type": "stream",
     "text": [
      "keyword: bananas , train_num: 39 test_num: 17         rate:  0.4358974358974359\n"
     ]
    },
    {
     "name": "stderr",
     "output_type": "stream",
     "text": [
      " 87%|████████▋ | 41/47 [00:30<00:03,  1.67it/s]"
     ]
    },
    {
     "name": "stdout",
     "output_type": "stream",
     "text": [
      "keyword: blues , train_num: 460 test_num: 186         rate:  0.4043478260869565\n"
     ]
    },
    {
     "name": "stderr",
     "output_type": "stream",
     "text": [
      " 89%|████████▉ | 42/47 [00:31<00:03,  1.36it/s]"
     ]
    },
    {
     "name": "stdout",
     "output_type": "stream",
     "text": [
      "keyword: rope , train_num: 3159 test_num: 1086         rate:  0.34377967711301044\n"
     ]
    },
    {
     "name": "stderr",
     "output_type": "stream",
     "text": [
      " 91%|█████████▏| 43/47 [00:32<00:03,  1.16it/s]"
     ]
    },
    {
     "name": "stdout",
     "output_type": "stream",
     "text": [
      "keyword: mother , train_num: 3157 test_num: 1085         rate:  0.3436807095343681\n"
     ]
    },
    {
     "name": "stderr",
     "output_type": "stream",
     "text": [
      " 94%|█████████▎| 44/47 [00:33<00:02,  1.34it/s]"
     ]
    },
    {
     "name": "stdout",
     "output_type": "stream",
     "text": [
      "keyword: scratch , train_num: 33 test_num: 9         rate:  0.2727272727272727\n"
     ]
    },
    {
     "name": "stderr",
     "output_type": "stream",
     "text": [
      " 96%|█████████▌| 45/47 [00:33<00:01,  1.45it/s]"
     ]
    },
    {
     "name": "stdout",
     "output_type": "stream",
     "text": [
      "keyword: mph , train_num: 20 test_num: 1         rate:  0.05\n"
     ]
    },
    {
     "name": "stderr",
     "output_type": "stream",
     "text": [
      " 98%|█████████▊| 46/47 [00:34<00:00,  1.48it/s]"
     ]
    },
    {
     "name": "stdout",
     "output_type": "stream",
     "text": [
      "keyword: water , train_num: 121 test_num: 40         rate:  0.3305785123966942\n"
     ]
    },
    {
     "name": "stderr",
     "output_type": "stream",
     "text": [
      "100%|██████████| 47/47 [00:35<00:00,  1.34it/s]"
     ]
    },
    {
     "name": "stdout",
     "output_type": "stream",
     "text": [
      "keyword: speed , train_num: 99 test_num: 25         rate:  0.25252525252525254\n"
     ]
    },
    {
     "name": "stderr",
     "output_type": "stream",
     "text": [
      "\n"
     ]
    }
   ],
   "source": [
    "# 处理正样本\n",
    "\n",
    "for binary_word in tqdm(binary_word_list):\n",
    "    keyword_list = euphemism_answer[binary_word]\n",
    "    train_output_list = []\n",
    "    test_output_list = []\n",
    "    val_output_list = []\n",
    "\n",
    "    for id, rows in positive_df.iterrows():\n",
    "        if any( keyword == rows[keyword_index] for keyword in keyword_list):\n",
    "            output_rows = rows.copy()\n",
    "            output_rows[keyword_index] = binary_word\n",
    "            output_rows[query_index] = output_rows[query_index].replace('[MASK]',binary_word)\n",
    "            if int(output_rows[query_len_index]) %5 == 0:\n",
    "                test_output_list.append(output_rows)\n",
    "            elif int(output_rows[query_len_index]) %4 == 0:\n",
    "                val_output_list.append(output_rows)\n",
    "            else:\n",
    "                train_output_list.append(output_rows)\n",
    "\n",
    "    write_path = os.path.join(CONFIG[\"INPUT_DIR\"],binary_word)\n",
    "    if not os.path.exists(write_path):\n",
    "        os.mkdir(write_path)\n",
    "    \n",
    "    with open(os.path.join(write_path,\"PositiveTrain\"),'w') as write_object:\n",
    "        for write_rows in train_output_list:\n",
    "            write_object.write('\\t'.join(write_rows) + \"\\n\")\n",
    "\n",
    "    with open(os.path.join(write_path,\"PositiveTest\"),'w') as write_object:\n",
    "        for write_rows in test_output_list:\n",
    "            write_object.write('\\t'.join(write_rows) + \"\\n\")\n",
    "\n",
    "    with open(os.path.join(write_path,\"PositiveVal\"),'w') as write_object:\n",
    "        for write_rows in val_output_list:\n",
    "            write_object.write('\\t'.join(write_rows) + \"\\n\")\n",
    "\n",
    "    print(f'keyword: {binary_word} , train_num: {len(train_output_list)} test_num: {len(test_output_list)} \\\n",
    "        rate:  {len(test_output_list)/len(train_output_list)}' ) "
   ]
  },
  {
   "cell_type": "code",
   "execution_count": 15,
   "metadata": {},
   "outputs": [
    {
     "ename": "KeyboardInterrupt",
     "evalue": "",
     "output_type": "error",
     "traceback": [
      "\u001b[0;31m---------------------------------------------------------------------------\u001b[0m",
      "\u001b[0;31mKeyError\u001b[0m                                  Traceback (most recent call last)",
      "\u001b[0;32m~/miniconda3/lib/python3.8/site-packages/pandas/_config/config.py\u001b[0m in \u001b[0;36m_get_deprecated_option\u001b[0;34m(key)\u001b[0m\n\u001b[1;32m    611\u001b[0m     \u001b[0;32mtry\u001b[0m\u001b[0;34m:\u001b[0m\u001b[0;34m\u001b[0m\u001b[0;34m\u001b[0m\u001b[0m\n\u001b[0;32m--> 612\u001b[0;31m         \u001b[0md\u001b[0m \u001b[0;34m=\u001b[0m \u001b[0m_deprecated_options\u001b[0m\u001b[0;34m[\u001b[0m\u001b[0mkey\u001b[0m\u001b[0;34m]\u001b[0m\u001b[0;34m\u001b[0m\u001b[0;34m\u001b[0m\u001b[0m\n\u001b[0m\u001b[1;32m    613\u001b[0m     \u001b[0;32mexcept\u001b[0m \u001b[0mKeyError\u001b[0m\u001b[0;34m:\u001b[0m\u001b[0;34m\u001b[0m\u001b[0;34m\u001b[0m\u001b[0m\n",
      "\u001b[0;31mKeyError\u001b[0m: 'mode.data_manager'",
      "\nDuring handling of the above exception, another exception occurred:\n",
      "\u001b[0;31mKeyboardInterrupt\u001b[0m                         Traceback (most recent call last)",
      "\u001b[0;32m/tmp/ipykernel_40883/3636482451.py\u001b[0m in \u001b[0;36m<module>\u001b[0;34m\u001b[0m\n\u001b[1;32m      1\u001b[0m \u001b[0mnegative_output_dict\u001b[0m \u001b[0;34m=\u001b[0m \u001b[0mdefaultdict\u001b[0m\u001b[0;34m(\u001b[0m\u001b[0mlist\u001b[0m\u001b[0;34m)\u001b[0m\u001b[0;34m\u001b[0m\u001b[0;34m\u001b[0m\u001b[0m\n\u001b[1;32m      2\u001b[0m \u001b[0;34m\u001b[0m\u001b[0m\n\u001b[0;32m----> 3\u001b[0;31m \u001b[0;32mfor\u001b[0m \u001b[0mindex\u001b[0m\u001b[0;34m,\u001b[0m \u001b[0mrows\u001b[0m \u001b[0;32min\u001b[0m \u001b[0mnegative_df\u001b[0m\u001b[0;34m.\u001b[0m\u001b[0miterrows\u001b[0m\u001b[0;34m(\u001b[0m\u001b[0;34m)\u001b[0m\u001b[0;34m:\u001b[0m\u001b[0;34m\u001b[0m\u001b[0;34m\u001b[0m\u001b[0m\n\u001b[0m\u001b[1;32m      4\u001b[0m     \u001b[0;32mif\u001b[0m \u001b[0mrows\u001b[0m\u001b[0;34m[\u001b[0m\u001b[0mkeyword_index\u001b[0m\u001b[0;34m]\u001b[0m \u001b[0;32min\u001b[0m \u001b[0mbinary_word_list\u001b[0m\u001b[0;34m:\u001b[0m\u001b[0;34m\u001b[0m\u001b[0;34m\u001b[0m\u001b[0m\n\u001b[1;32m      5\u001b[0m         \u001b[0mbinary_word\u001b[0m \u001b[0;34m=\u001b[0m \u001b[0mrows\u001b[0m\u001b[0;34m[\u001b[0m\u001b[0mkeyword_index\u001b[0m\u001b[0;34m]\u001b[0m\u001b[0;34m\u001b[0m\u001b[0;34m\u001b[0m\u001b[0m\n",
      "\u001b[0;32m~/miniconda3/lib/python3.8/site-packages/pandas/core/frame.py\u001b[0m in \u001b[0;36miterrows\u001b[0;34m(self)\u001b[0m\n\u001b[1;32m   1322\u001b[0m         \u001b[0mklass\u001b[0m \u001b[0;34m=\u001b[0m \u001b[0mself\u001b[0m\u001b[0;34m.\u001b[0m\u001b[0m_constructor_sliced\u001b[0m\u001b[0;34m\u001b[0m\u001b[0;34m\u001b[0m\u001b[0m\n\u001b[1;32m   1323\u001b[0m         \u001b[0;32mfor\u001b[0m \u001b[0mk\u001b[0m\u001b[0;34m,\u001b[0m \u001b[0mv\u001b[0m \u001b[0;32min\u001b[0m \u001b[0mzip\u001b[0m\u001b[0;34m(\u001b[0m\u001b[0mself\u001b[0m\u001b[0;34m.\u001b[0m\u001b[0mindex\u001b[0m\u001b[0;34m,\u001b[0m \u001b[0mself\u001b[0m\u001b[0;34m.\u001b[0m\u001b[0mvalues\u001b[0m\u001b[0;34m)\u001b[0m\u001b[0;34m:\u001b[0m\u001b[0;34m\u001b[0m\u001b[0;34m\u001b[0m\u001b[0m\n\u001b[0;32m-> 1324\u001b[0;31m             \u001b[0ms\u001b[0m \u001b[0;34m=\u001b[0m \u001b[0mklass\u001b[0m\u001b[0;34m(\u001b[0m\u001b[0mv\u001b[0m\u001b[0;34m,\u001b[0m \u001b[0mindex\u001b[0m\u001b[0;34m=\u001b[0m\u001b[0mcolumns\u001b[0m\u001b[0;34m,\u001b[0m \u001b[0mname\u001b[0m\u001b[0;34m=\u001b[0m\u001b[0mk\u001b[0m\u001b[0;34m)\u001b[0m\u001b[0;34m\u001b[0m\u001b[0;34m\u001b[0m\u001b[0m\n\u001b[0m\u001b[1;32m   1325\u001b[0m             \u001b[0;32myield\u001b[0m \u001b[0mk\u001b[0m\u001b[0;34m,\u001b[0m \u001b[0ms\u001b[0m\u001b[0;34m\u001b[0m\u001b[0;34m\u001b[0m\u001b[0m\n\u001b[1;32m   1326\u001b[0m \u001b[0;34m\u001b[0m\u001b[0m\n",
      "\u001b[0;32m~/miniconda3/lib/python3.8/site-packages/pandas/core/series.py\u001b[0m in \u001b[0;36m__init__\u001b[0;34m(self, data, index, dtype, name, copy, fastpath)\u001b[0m\n\u001b[1;32m    451\u001b[0m                 \u001b[0mdata\u001b[0m \u001b[0;34m=\u001b[0m \u001b[0msanitize_array\u001b[0m\u001b[0;34m(\u001b[0m\u001b[0mdata\u001b[0m\u001b[0;34m,\u001b[0m \u001b[0mindex\u001b[0m\u001b[0;34m,\u001b[0m \u001b[0mdtype\u001b[0m\u001b[0;34m,\u001b[0m \u001b[0mcopy\u001b[0m\u001b[0;34m)\u001b[0m\u001b[0;34m\u001b[0m\u001b[0;34m\u001b[0m\u001b[0m\n\u001b[1;32m    452\u001b[0m \u001b[0;34m\u001b[0m\u001b[0m\n\u001b[0;32m--> 453\u001b[0;31m                 \u001b[0mmanager\u001b[0m \u001b[0;34m=\u001b[0m \u001b[0mget_option\u001b[0m\u001b[0;34m(\u001b[0m\u001b[0;34m\"mode.data_manager\"\u001b[0m\u001b[0;34m)\u001b[0m\u001b[0;34m\u001b[0m\u001b[0;34m\u001b[0m\u001b[0m\n\u001b[0m\u001b[1;32m    454\u001b[0m                 \u001b[0;32mif\u001b[0m \u001b[0mmanager\u001b[0m \u001b[0;34m==\u001b[0m \u001b[0;34m\"block\"\u001b[0m\u001b[0;34m:\u001b[0m\u001b[0;34m\u001b[0m\u001b[0;34m\u001b[0m\u001b[0m\n\u001b[1;32m    455\u001b[0m                     \u001b[0mdata\u001b[0m \u001b[0;34m=\u001b[0m \u001b[0mSingleBlockManager\u001b[0m\u001b[0;34m.\u001b[0m\u001b[0mfrom_array\u001b[0m\u001b[0;34m(\u001b[0m\u001b[0mdata\u001b[0m\u001b[0;34m,\u001b[0m \u001b[0mindex\u001b[0m\u001b[0;34m)\u001b[0m\u001b[0;34m\u001b[0m\u001b[0;34m\u001b[0m\u001b[0m\n",
      "\u001b[0;32m~/miniconda3/lib/python3.8/site-packages/pandas/_config/config.py\u001b[0m in \u001b[0;36m__call__\u001b[0;34m(self, *args, **kwds)\u001b[0m\n\u001b[1;32m    254\u001b[0m \u001b[0;34m\u001b[0m\u001b[0m\n\u001b[1;32m    255\u001b[0m     \u001b[0;32mdef\u001b[0m \u001b[0m__call__\u001b[0m\u001b[0;34m(\u001b[0m\u001b[0mself\u001b[0m\u001b[0;34m,\u001b[0m \u001b[0;34m*\u001b[0m\u001b[0margs\u001b[0m\u001b[0;34m,\u001b[0m \u001b[0;34m**\u001b[0m\u001b[0mkwds\u001b[0m\u001b[0;34m)\u001b[0m\u001b[0;34m:\u001b[0m\u001b[0;34m\u001b[0m\u001b[0;34m\u001b[0m\u001b[0m\n\u001b[0;32m--> 256\u001b[0;31m         \u001b[0;32mreturn\u001b[0m \u001b[0mself\u001b[0m\u001b[0;34m.\u001b[0m\u001b[0m__func__\u001b[0m\u001b[0;34m(\u001b[0m\u001b[0;34m*\u001b[0m\u001b[0margs\u001b[0m\u001b[0;34m,\u001b[0m \u001b[0;34m**\u001b[0m\u001b[0mkwds\u001b[0m\u001b[0;34m)\u001b[0m\u001b[0;34m\u001b[0m\u001b[0;34m\u001b[0m\u001b[0m\n\u001b[0m\u001b[1;32m    257\u001b[0m \u001b[0;34m\u001b[0m\u001b[0m\n\u001b[1;32m    258\u001b[0m     \u001b[0;34m@\u001b[0m\u001b[0mproperty\u001b[0m\u001b[0;34m\u001b[0m\u001b[0;34m\u001b[0m\u001b[0m\n",
      "\u001b[0;32m~/miniconda3/lib/python3.8/site-packages/pandas/_config/config.py\u001b[0m in \u001b[0;36m_get_option\u001b[0;34m(pat, silent)\u001b[0m\n\u001b[1;32m    126\u001b[0m \u001b[0;34m\u001b[0m\u001b[0m\n\u001b[1;32m    127\u001b[0m \u001b[0;32mdef\u001b[0m \u001b[0m_get_option\u001b[0m\u001b[0;34m(\u001b[0m\u001b[0mpat\u001b[0m\u001b[0;34m:\u001b[0m \u001b[0mstr\u001b[0m\u001b[0;34m,\u001b[0m \u001b[0msilent\u001b[0m\u001b[0;34m:\u001b[0m \u001b[0mbool\u001b[0m \u001b[0;34m=\u001b[0m \u001b[0;32mFalse\u001b[0m\u001b[0;34m)\u001b[0m\u001b[0;34m:\u001b[0m\u001b[0;34m\u001b[0m\u001b[0;34m\u001b[0m\u001b[0m\n\u001b[0;32m--> 128\u001b[0;31m     \u001b[0mkey\u001b[0m \u001b[0;34m=\u001b[0m \u001b[0m_get_single_key\u001b[0m\u001b[0;34m(\u001b[0m\u001b[0mpat\u001b[0m\u001b[0;34m,\u001b[0m \u001b[0msilent\u001b[0m\u001b[0;34m)\u001b[0m\u001b[0;34m\u001b[0m\u001b[0;34m\u001b[0m\u001b[0m\n\u001b[0m\u001b[1;32m    129\u001b[0m \u001b[0;34m\u001b[0m\u001b[0m\n\u001b[1;32m    130\u001b[0m     \u001b[0;31m# walk the nested dict\u001b[0m\u001b[0;34m\u001b[0m\u001b[0;34m\u001b[0m\u001b[0;34m\u001b[0m\u001b[0m\n",
      "\u001b[0;32m~/miniconda3/lib/python3.8/site-packages/pandas/_config/config.py\u001b[0m in \u001b[0;36m_get_single_key\u001b[0;34m(pat, silent)\u001b[0m\n\u001b[1;32m    118\u001b[0m \u001b[0;34m\u001b[0m\u001b[0m\n\u001b[1;32m    119\u001b[0m     \u001b[0;32mif\u001b[0m \u001b[0;32mnot\u001b[0m \u001b[0msilent\u001b[0m\u001b[0;34m:\u001b[0m\u001b[0;34m\u001b[0m\u001b[0;34m\u001b[0m\u001b[0m\n\u001b[0;32m--> 120\u001b[0;31m         \u001b[0m_warn_if_deprecated\u001b[0m\u001b[0;34m(\u001b[0m\u001b[0mkey\u001b[0m\u001b[0;34m)\u001b[0m\u001b[0;34m\u001b[0m\u001b[0;34m\u001b[0m\u001b[0m\n\u001b[0m\u001b[1;32m    121\u001b[0m \u001b[0;34m\u001b[0m\u001b[0m\n\u001b[1;32m    122\u001b[0m     \u001b[0mkey\u001b[0m \u001b[0;34m=\u001b[0m \u001b[0m_translate_key\u001b[0m\u001b[0;34m(\u001b[0m\u001b[0mkey\u001b[0m\u001b[0;34m)\u001b[0m\u001b[0;34m\u001b[0m\u001b[0;34m\u001b[0m\u001b[0m\n",
      "\u001b[0;32m~/miniconda3/lib/python3.8/site-packages/pandas/_config/config.py\u001b[0m in \u001b[0;36m_warn_if_deprecated\u001b[0;34m(key)\u001b[0m\n\u001b[1;32m    648\u001b[0m     \u001b[0mbool\u001b[0m \u001b[0;34m-\u001b[0m \u001b[0;32mTrue\u001b[0m \u001b[0;32mif\u001b[0m\u001b[0;31m \u001b[0m\u001b[0;31m`\u001b[0m\u001b[0mkey\u001b[0m\u001b[0;31m`\u001b[0m \u001b[0;32mis\u001b[0m \u001b[0mdeprecated\u001b[0m\u001b[0;34m,\u001b[0m \u001b[0;32mFalse\u001b[0m \u001b[0motherwise\u001b[0m\u001b[0;34m.\u001b[0m\u001b[0;34m\u001b[0m\u001b[0;34m\u001b[0m\u001b[0m\n\u001b[1;32m    649\u001b[0m     \"\"\"\n\u001b[0;32m--> 650\u001b[0;31m     \u001b[0md\u001b[0m \u001b[0;34m=\u001b[0m \u001b[0m_get_deprecated_option\u001b[0m\u001b[0;34m(\u001b[0m\u001b[0mkey\u001b[0m\u001b[0;34m)\u001b[0m\u001b[0;34m\u001b[0m\u001b[0;34m\u001b[0m\u001b[0m\n\u001b[0m\u001b[1;32m    651\u001b[0m     \u001b[0;32mif\u001b[0m \u001b[0md\u001b[0m\u001b[0;34m:\u001b[0m\u001b[0;34m\u001b[0m\u001b[0;34m\u001b[0m\u001b[0m\n\u001b[1;32m    652\u001b[0m         \u001b[0;32mif\u001b[0m \u001b[0md\u001b[0m\u001b[0;34m.\u001b[0m\u001b[0mmsg\u001b[0m\u001b[0;34m:\u001b[0m\u001b[0;34m\u001b[0m\u001b[0;34m\u001b[0m\u001b[0m\n",
      "\u001b[0;32m~/miniconda3/lib/python3.8/site-packages/pandas/_config/config.py\u001b[0m in \u001b[0;36m_get_deprecated_option\u001b[0;34m(key)\u001b[0m\n\u001b[1;32m    610\u001b[0m     \"\"\"\n\u001b[1;32m    611\u001b[0m     \u001b[0;32mtry\u001b[0m\u001b[0;34m:\u001b[0m\u001b[0;34m\u001b[0m\u001b[0;34m\u001b[0m\u001b[0m\n\u001b[0;32m--> 612\u001b[0;31m         \u001b[0md\u001b[0m \u001b[0;34m=\u001b[0m \u001b[0m_deprecated_options\u001b[0m\u001b[0;34m[\u001b[0m\u001b[0mkey\u001b[0m\u001b[0;34m]\u001b[0m\u001b[0;34m\u001b[0m\u001b[0;34m\u001b[0m\u001b[0m\n\u001b[0m\u001b[1;32m    613\u001b[0m     \u001b[0;32mexcept\u001b[0m \u001b[0mKeyError\u001b[0m\u001b[0;34m:\u001b[0m\u001b[0;34m\u001b[0m\u001b[0;34m\u001b[0m\u001b[0m\n\u001b[1;32m    614\u001b[0m         \u001b[0;32mreturn\u001b[0m \u001b[0;32mNone\u001b[0m\u001b[0;34m\u001b[0m\u001b[0;34m\u001b[0m\u001b[0m\n",
      "\u001b[0;31mKeyboardInterrupt\u001b[0m: "
     ]
    }
   ],
   "source": [
    "negative_output_dict = defaultdict(list)\n",
    "\n",
    "for index, rows in negative_df.iterrows():\n",
    "    if rows[keyword_index] in binary_word_list:\n",
    "        binary_word = rows[keyword_index]\n",
    "        output_rows = rows.copy()\n",
    "        output_rows[query_index] = output_rows[query_index].replace('[MASK]',binary_word)\n",
    "        \n",
    "        if index %2 == 0:\n",
    "            key_name = 'unlabel'+binary_word\n",
    "        else:\n",
    "            if int(output_rows[query_len_index]) %5 == 0:\n",
    "                key_name = 'test'+binary_word\n",
    "            elif int(output_rows[query_len_index]) %4 == 0:\n",
    "                key_name = 'val'+binary_word\n",
    "            else:\n",
    "                key_name = 'train'+binary_word\n",
    "        negative_output_dict[key_name].append(output_rows)"
   ]
  },
  {
   "cell_type": "code",
   "execution_count": null,
   "metadata": {},
   "outputs": [
    {
     "name": "stderr",
     "output_type": "stream",
     "text": [
      "  0%|          | 0/47 [00:00<?, ?it/s]"
     ]
    },
    {
     "name": "stdout",
     "output_type": "stream",
     "text": [
      "keyword: candy , train_num: 125 test_num: 39 unlabel_num: 205         test rate:  0.312 unlabel rate:  1.25\n",
      "keyword: beans , train_num: 64 test_num: 25 unlabel_num: 115         test rate:  0.390625 unlabel rate:  1.2921348314606742\n"
     ]
    },
    {
     "name": "stderr",
     "output_type": "stream",
     "text": [
      " 28%|██▊       | 13/47 [00:00<00:00, 36.69it/s]"
     ]
    },
    {
     "name": "stdout",
     "output_type": "stream",
     "text": [
      "keyword: go , train_num: 18507 test_num: 5687 unlabel_num: 30281         test rate:  0.3072891338412493 unlabel rate:  1.251591303628999\n",
      "keyword: superman , train_num: 14 test_num: 8 unlabel_num: 26         test rate:  0.5714285714285714 unlabel rate:  1.1818181818181819\n",
      "keyword: coffee , train_num: 1202 test_num: 468 unlabel_num: 2076         test rate:  0.389351081530782 unlabel rate:  1.2431137724550898\n",
      "keyword: phoenix , train_num: 19 test_num: 7 unlabel_num: 30         test rate:  0.3684210526315789 unlabel rate:  1.1538461538461537\n",
      "keyword: tabs , train_num: 24 test_num: 8 unlabel_num: 40         test rate:  0.3333333333333333 unlabel rate:  1.25\n",
      "keyword: live , train_num: 2316 test_num: 758 unlabel_num: 3920         test rate:  0.32728842832469773 unlabel rate:  1.2752114508783343\n",
      "keyword: bars , train_num: 68 test_num: 18 unlabel_num: 114         test rate:  0.2647058823529412 unlabel rate:  1.3255813953488371\n",
      "keyword: diesel , train_num: 5 test_num: 4 unlabel_num: 12         test rate:  0.8 unlabel rate:  1.3333333333333333\n",
      "keyword: truck drivers , train_num: 1 test_num: 0 unlabel_num: 1         test rate:  0.0 unlabel rate:  1.0\n",
      "keyword: food , train_num: 1446 test_num: 422 unlabel_num: 2420         test rate:  0.2918395573997234 unlabel rate:  1.2955032119914347\n",
      "keyword: fire , train_num: 262 test_num: 91 unlabel_num: 449         test rate:  0.3473282442748092 unlabel rate:  1.271954674220963\n",
      "keyword: girl , train_num: 1761 test_num: 552 unlabel_num: 2945         test rate:  0.313458262350937 unlabel rate:  1.2732382187635105\n",
      "keyword: white , train_num: 497 test_num: 187 unlabel_num: 833         test rate:  0.3762575452716298 unlabel rate:  1.2178362573099415\n",
      "keyword: wet , train_num: 335 test_num: 103 unlabel_num: 551         test rate:  0.3074626865671642 unlabel rate:  1.2579908675799087\n",
      "keyword: zip , train_num: 29 test_num: 7 unlabel_num: 44         test rate:  0.2413793103448276 unlabel rate:  1.2222222222222223\n",
      "keyword: junk , train_num: 85 test_num: 28 unlabel_num: 148         test rate:  0.32941176470588235 unlabel rate:  1.3097345132743363\n",
      "keyword: leaf , train_num: 16 test_num: 9 unlabel_num: 32         test rate:  0.5625 unlabel rate:  1.28\n",
      "keyword: shoes , train_num: 437 test_num: 141 unlabel_num: 711         test rate:  0.32265446224256294 unlabel rate:  1.2301038062283738\n",
      "keyword: flour , train_num: 15 test_num: 2 unlabel_num: 20         test rate:  0.13333333333333333 unlabel rate:  1.1764705882352942\n",
      "keyword: snowflake , train_num: 2 test_num: 1 unlabel_num: 3         test rate:  0.5 unlabel rate:  1.0\n",
      "keyword: green , train_num: 490 test_num: 128 unlabel_num: 774         test rate:  0.2612244897959184 unlabel rate:  1.2524271844660195\n",
      "keyword: space , train_num: 221 test_num: 70 unlabel_num: 369         test rate:  0.3167420814479638 unlabel rate:  1.268041237113402\n",
      "keyword: trees , train_num: 89 test_num: 17 unlabel_num: 123         test rate:  0.19101123595505617 unlabel rate:  1.1603773584905661\n",
      "keyword: paint , train_num: 176 test_num: 47 unlabel_num: 289         test rate:  0.26704545454545453 unlabel rate:  1.295964125560538\n",
      "keyword: lemonade , train_num: 40 test_num: 13 unlabel_num: 70         test rate:  0.325 unlabel rate:  1.320754716981132\n"
     ]
    },
    {
     "name": "stderr",
     "output_type": "stream",
     "text": [
      "100%|██████████| 47/47 [00:00<00:00, 50.86it/s]"
     ]
    },
    {
     "name": "stdout",
     "output_type": "stream",
     "text": [
      "keyword: work , train_num: 12934 test_num: 4212 unlabel_num: 21858         test rate:  0.3256533168393382 unlabel rate:  1.274816283681325\n",
      "keyword: k , train_num: 148 test_num: 43 unlabel_num: 224         test rate:  0.2905405405405405 unlabel rate:  1.1727748691099475\n",
      "keyword: purple , train_num: 148 test_num: 49 unlabel_num: 245         test rate:  0.3310810810810811 unlabel rate:  1.2436548223350254\n",
      "keyword: poison , train_num: 49 test_num: 8 unlabel_num: 64         test rate:  0.16326530612244897 unlabel rate:  1.1228070175438596\n",
      "keyword: black , train_num: 595 test_num: 188 unlabel_num: 955         test rate:  0.31596638655462184 unlabel rate:  1.2196679438058748\n",
      "keyword: blue , train_num: 371 test_num: 155 unlabel_num: 663         test rate:  0.41778975741239893 unlabel rate:  1.2604562737642586\n",
      "keyword: salt , train_num: 66 test_num: 15 unlabel_num: 104         test rate:  0.22727272727272727 unlabel rate:  1.2839506172839505\n",
      "keyword: jet , train_num: 89 test_num: 32 unlabel_num: 146         test rate:  0.3595505617977528 unlabel rate:  1.2066115702479339\n",
      "keyword: ace , train_num: 65 test_num: 18 unlabel_num: 106         test rate:  0.27692307692307694 unlabel rate:  1.2771084337349397\n",
      "keyword: buttons , train_num: 53 test_num: 15 unlabel_num: 80         test rate:  0.2830188679245283 unlabel rate:  1.1764705882352942\n",
      "keyword: whites , train_num: 15 test_num: 4 unlabel_num: 20         test rate:  0.26666666666666666 unlabel rate:  1.0526315789473684\n",
      "keyword: him , train_num: 4009 test_num: 1258 unlabel_num: 6550         test rate:  0.3137939635819406 unlabel rate:  1.2435921777102714\n",
      "keyword: bananas , train_num: 32 test_num: 4 unlabel_num: 42         test rate:  0.125 unlabel rate:  1.1666666666666667\n",
      "keyword: blues , train_num: 80 test_num: 27 unlabel_num: 134         test rate:  0.3375 unlabel rate:  1.2523364485981308\n",
      "keyword: rope , train_num: 17 test_num: 5 unlabel_num: 30         test rate:  0.29411764705882354 unlabel rate:  1.3636363636363635\n",
      "keyword: mother , train_num: 370 test_num: 122 unlabel_num: 610         test rate:  0.32972972972972975 unlabel rate:  1.2398373983739837\n",
      "keyword: scratch , train_num: 96 test_num: 29 unlabel_num: 154         test rate:  0.3020833333333333 unlabel rate:  1.232\n",
      "keyword: mph , train_num: 13 test_num: 5 unlabel_num: 26         test rate:  0.38461538461538464 unlabel rate:  1.4444444444444444\n",
      "keyword: water , train_num: 740 test_num: 225 unlabel_num: 1189         test rate:  0.30405405405405406 unlabel rate:  1.232124352331606\n",
      "keyword: speed , train_num: 135 test_num: 29 unlabel_num: 218         test rate:  0.21481481481481482 unlabel rate:  1.329268292682927\n"
     ]
    },
    {
     "name": "stderr",
     "output_type": "stream",
     "text": [
      "\n"
     ]
    }
   ],
   "source": [
    "train_num_sum = 0\n",
    "for binary_word in tqdm(binary_word_list):\n",
    "    write_path = os.path.join(CONFIG[\"INPUT_DIR\"],binary_word)\n",
    "    if not os.path.exists(write_path):\n",
    "        os.mkdir(write_path)\n",
    "    \n",
    "    with open(os.path.join(write_path,\"NegativeTrain\"),'w') as write_object:\n",
    "        key_name = 'train'+binary_word\n",
    "        train_num = len(negative_output_dict[key_name])\n",
    "        for write_rows in negative_output_dict[key_name]:\n",
    "            write_object.write('\\t'.join(write_rows) + \"\\n\")\n",
    "\n",
    "    with open(os.path.join(write_path,\"NegativeTest\"),'w') as write_object:\n",
    "        key_name = 'test'+binary_word\n",
    "        test_num = len(negative_output_dict[key_name])\n",
    "\n",
    "        for write_rows in negative_output_dict[key_name]:\n",
    "            write_object.write('\\t'.join(write_rows) + \"\\n\")\n",
    "    with open(os.path.join(write_path,\"NegativeVal\"),'w') as write_object:\n",
    "        key_name = 'val'+binary_word\n",
    "        test_num = len(negative_output_dict[key_name])\n",
    "\n",
    "        for write_rows in negative_output_dict[key_name]:\n",
    "            write_object.write('\\t'.join(write_rows) + \"\\n\")\n",
    "    \n",
    "    with open(os.path.join(write_path,\"UnlabelData\"),'w') as write_object:\n",
    "        key_name = 'unlabel'+binary_word\n",
    "        unlabel_num = len(negative_output_dict[key_name])\n",
    "\n",
    "        for write_rows in negative_output_dict[key_name]:\n",
    "            write_object.write('\\t'.join(write_rows) + \"\\n\")\n",
    "    train_num_sum += train_num\n",
    "    \n",
    "    print(f'keyword: {binary_word} , train_num: {train_num} test_num: {test_num} unlabel_num: {unlabel_num} \\\n",
    "        test rate:  {test_num/train_num} unlabel rate:  {unlabel_num/(train_num+test_num)}' ) "
   ]
  },
  {
   "cell_type": "code",
   "execution_count": null,
   "metadata": {},
   "outputs": [],
   "source": [
    "# 产生swap id\n",
    "# from data.read_data import select_data,select_data,TrainData,file_split,DataByWord\n",
    "# positive_nums = []\n",
    "# negative_nums = []\n",
    "# all_nums = []\n",
    "# trainDataObj=DataByWord(CONFIG,\"train\",column_name=column_name)\n",
    "# for i in range(trainDataObj.iter_num):\n",
    "#     df = trainDataObj.get_data()\n",
    "#     positive_num = df.query(\"label == 1\").shape[0]\n",
    "#     negative_num = df.query(\"label == 0\").shape[0]\n",
    "#     positive_nums.append(positive_num)\n",
    "#     negative_nums.append(negative_num)\n",
    "#     all_nums.append(positive_num + negative_num)\n",
    "# swap_id = trainDataObj.iter_num *[0]\n",
    "# diff_num = [positive_nums[i]-negative_nums[i] for i in range(trainDataObj.iter_num)]\n",
    "# save_swap_id = trainDataObj.iter_num *[0]\n",
    "# sorted_diff_num = sorted(diff_num)\n",
    "\n",
    "# list1 = []\n",
    "# sum1 = 0\n",
    "# list2 = []\n",
    "# sum2 = 0\n",
    "# n = len(diff_num)\n",
    "# for i in range(n):\n",
    "#     if sum1 >= sum2 and diff_num[i] > 0:\n",
    "        \n",
    "#         list2.append(diff_num[i])\n",
    "#         sum2 += diff_num[i]\n",
    "#     elif sum1 >= sum2 and diff_num[i] <= 0:\n",
    "#         list1.append(diff_num[i])\n",
    "#         sum1 += diff_num[i]\n",
    "#     elif sum1 <= sum2 and diff_num[i] > 0:\n",
    "#         list1.append(diff_num[i])\n",
    "#         sum1 += diff_num[i]\n",
    "#     else:\n",
    "#         list2.append(diff_num[i])\n",
    "#         sum2 += diff_num[i]\n",
    "# swap_id = [ 1 if diff_num[i] in list1 else 0 for i in range(n)]\n",
    "# with open(os.path.join(os.path.dirname(CONFIG[\"INPUT_DIR\"]),\"swap_id\"),\"w\") as write_object:\n",
    "#     for id in swap_id:\n",
    "#         write_object.write(str(id)+\"\\n\")\n"
   ]
  },
  {
   "cell_type": "code",
   "execution_count": 17,
   "metadata": {},
   "outputs": [],
   "source": [
    "# 正样本变换\n",
    "import nlpaug.augmenter.char as nac\n",
    "import nlpaug.augmenter.word as naw\n",
    "import nlpaug.augmenter.sentence as nas\n",
    "import nlpaug.flow as nafc\n",
    "\n",
    "from nlpaug.util import Action"
   ]
  },
  {
   "cell_type": "code",
   "execution_count": 18,
   "metadata": {},
   "outputs": [],
   "source": [
    "word_num = len(binary_word_list)\n",
    "aug = naw.SynonymAug(aug_src='wordnet')\n",
    "special_token = \"$\""
   ]
  },
  {
   "cell_type": "code",
   "execution_count": 19,
   "metadata": {},
   "outputs": [
    {
     "name": "stderr",
     "output_type": "stream",
     "text": [
      " 30%|██▉       | 14/47 [39:07<2:24:21, 262.46s/it]"
     ]
    }
   ],
   "source": [
    "for i,word_name in enumerate(tqdm(binary_word_list)):\n",
    "    for write_type in [\"train\",\"val\",\"test\"]:\n",
    "        positive_word_file = os.path.join(CONFIG[\"INPUT_DIR\"],word_name,\"Positive\"+write_type.capitalize())\n",
    "        positive_word_df = read_data_file(positive_word_file,False,5000,head = head) \n",
    "        query = positive_word_df.apply(lambda row :row[query_index].replace(row[keyword_index],special_token),axis = 1).values.tolist()\n",
    "\n",
    "        aug_query = []\n",
    "        for text in query:\n",
    "            aug_query.append(aug.augment(text,n = word_num)[i])\n",
    "\n",
    "        aug_query = [ text.replace(special_token,word_name) for text in aug_query]\n",
    "        positive_word_df[\"Query\"] = aug_query\n",
    "        output_list = positive_word_df.values.tolist()\n",
    "\n",
    "        write_word_file = os.path.join(CONFIG[\"INPUT_DIR\"],word_name,\"Positive\"+write_type.capitalize()+\"Aug\")\n",
    "        with open(write_word_file,'w') as write_object:\n",
    "            for write_rows in output_list:\n",
    "                write_object.write('\\t'.join(write_rows) + \"\\n\")\n"
   ]
  },
  {
   "cell_type": "code",
   "execution_count": 50,
   "metadata": {},
   "outputs": [],
   "source": [
    "\n"
   ]
  },
  {
   "cell_type": "code",
   "execution_count": 51,
   "metadata": {},
   "outputs": [],
   "source": []
  },
  {
   "cell_type": "code",
   "execution_count": 52,
   "metadata": {},
   "outputs": [
    {
     "name": "stderr",
     "output_type": "stream",
     "text": [
      "100%|██████████| 1070/1070 [01:17<00:00, 13.78it/s]\n"
     ]
    }
   ],
   "source": []
  },
  {
   "cell_type": "code",
   "execution_count": 54,
   "metadata": {},
   "outputs": [],
   "source": []
  },
  {
   "cell_type": "code",
   "execution_count": 59,
   "metadata": {},
   "outputs": [],
   "source": []
  },
  {
   "cell_type": "code",
   "execution_count": 61,
   "metadata": {},
   "outputs": [],
   "source": []
  },
  {
   "cell_type": "code",
   "execution_count": null,
   "metadata": {},
   "outputs": [],
   "source": []
  }
 ],
 "metadata": {
  "kernelspec": {
   "display_name": "Python 3.6.12 ('pytorch36')",
   "language": "python",
   "name": "python3"
  },
  "language_info": {
   "codemirror_mode": {
    "name": "ipython",
    "version": 3
   },
   "file_extension": ".py",
   "mimetype": "text/x-python",
   "name": "python",
   "nbconvert_exporter": "python",
   "pygments_lexer": "ipython3",
   "version": "3.6.12"
  },
  "orig_nbformat": 4,
  "vscode": {
   "interpreter": {
    "hash": "db1cf98c9dbf4c801c65186adb7f5275ff03cc044257d8d53f3b74cb4b3d1d4a"
   }
  }
 },
 "nbformat": 4,
 "nbformat_minor": 2
}
