{
 "cells": [
  {
   "cell_type": "code",
   "execution_count": 198,
   "id": "ef0170ec",
   "metadata": {},
   "outputs": [],
   "source": [
    "import numpy as np # linear algebra\n",
    "import pandas as pd # data processing, CSV file I/O (e.g. pd.read_csv)\n",
    "\n",
    "# Input data files are available in the read-only \"../input/\" directory\n",
    "# For example, running this (by clicking run or pressing Shift+Enter) will list all files under the input directory\n",
    "\n",
    "import os\n",
    "\n",
    "import time\n",
    "import string\n",
    "from collections import defaultdict, deque\n",
    "from sklearn.model_selection import StratifiedKFold\n"
   ]
  },
  {
   "cell_type": "code",
   "execution_count": 199,
   "id": "25b66ced",
   "metadata": {},
   "outputs": [
    {
     "data": {
      "text/plain": [
       "'C:\\\\Users\\\\Lenovo\\\\Desktop\\\\stupidcode\\\\kaggle\\\\jigsaw'"
      ]
     },
     "execution_count": 199,
     "metadata": {},
     "output_type": "execute_result"
    }
   ],
   "source": [
    "os.getcwd() "
   ]
  },
  {
   "cell_type": "code",
   "execution_count": 200,
   "id": "d32301ac",
   "metadata": {},
   "outputs": [],
   "source": [
    "input_dir=r\"C:\\Users\\Lenovo\\Desktop\\stupidcode\\data\\kaggle\\jigsaw\""
   ]
  },
  {
   "cell_type": "code",
   "execution_count": 201,
   "id": "c8ba197c",
   "metadata": {},
   "outputs": [],
   "source": [
    "data_df=pd.read_csv(os.path.join(input_dir,\"validation_data.csv\"))"
   ]
  },
  {
   "cell_type": "code",
   "execution_count": 202,
   "id": "4c658f44",
   "metadata": {},
   "outputs": [
    {
     "data": {
      "text/html": [
       "<div>\n",
       "<style scoped>\n",
       "    .dataframe tbody tr th:only-of-type {\n",
       "        vertical-align: middle;\n",
       "    }\n",
       "\n",
       "    .dataframe tbody tr th {\n",
       "        vertical-align: top;\n",
       "    }\n",
       "\n",
       "    .dataframe thead th {\n",
       "        text-align: right;\n",
       "    }\n",
       "</style>\n",
       "<table border=\"1\" class=\"dataframe\">\n",
       "  <thead>\n",
       "    <tr style=\"text-align: right;\">\n",
       "      <th></th>\n",
       "      <th>worker</th>\n",
       "      <th>less_toxic</th>\n",
       "      <th>more_toxic</th>\n",
       "    </tr>\n",
       "  </thead>\n",
       "  <tbody>\n",
       "    <tr>\n",
       "      <th>0</th>\n",
       "      <td>313</td>\n",
       "      <td>This article sucks \\n\\nwoo woo wooooooo</td>\n",
       "      <td>WHAT!!!!!!!!?!?!!?!?!!?!?!?!?!!!!!!!!!!!!!!!!!...</td>\n",
       "    </tr>\n",
       "    <tr>\n",
       "      <th>1</th>\n",
       "      <td>188</td>\n",
       "      <td>\"And yes, people should recognize that but the...</td>\n",
       "      <td>Daphne Guinness \\n\\nTop of the mornin' my fav...</td>\n",
       "    </tr>\n",
       "    <tr>\n",
       "      <th>2</th>\n",
       "      <td>82</td>\n",
       "      <td>Western Media?\\n\\nYup, because every crime in...</td>\n",
       "      <td>\"Atom you don't believe actual photos of mastu...</td>\n",
       "    </tr>\n",
       "    <tr>\n",
       "      <th>3</th>\n",
       "      <td>347</td>\n",
       "      <td>And you removed it! You numbskull! I don't car...</td>\n",
       "      <td>You seem to have sand in your vagina.\\n\\nMight...</td>\n",
       "    </tr>\n",
       "    <tr>\n",
       "      <th>4</th>\n",
       "      <td>539</td>\n",
       "      <td>smelly vagina \\n\\nBluerasberry why don't you ...</td>\n",
       "      <td>hey \\n\\nway to support nazis, you racist</td>\n",
       "    </tr>\n",
       "  </tbody>\n",
       "</table>\n",
       "</div>"
      ],
      "text/plain": [
       "   worker                                         less_toxic  \\\n",
       "0     313            This article sucks \\n\\nwoo woo wooooooo   \n",
       "1     188  \"And yes, people should recognize that but the...   \n",
       "2      82   Western Media?\\n\\nYup, because every crime in...   \n",
       "3     347  And you removed it! You numbskull! I don't car...   \n",
       "4     539   smelly vagina \\n\\nBluerasberry why don't you ...   \n",
       "\n",
       "                                          more_toxic  \n",
       "0  WHAT!!!!!!!!?!?!!?!?!!?!?!?!?!!!!!!!!!!!!!!!!!...  \n",
       "1   Daphne Guinness \\n\\nTop of the mornin' my fav...  \n",
       "2  \"Atom you don't believe actual photos of mastu...  \n",
       "3  You seem to have sand in your vagina.\\n\\nMight...  \n",
       "4           hey \\n\\nway to support nazis, you racist  "
      ]
     },
     "execution_count": 202,
     "metadata": {},
     "output_type": "execute_result"
    }
   ],
   "source": [
    "data_df.head()"
   ]
  },
  {
   "cell_type": "code",
   "execution_count": 203,
   "id": "6dbe579d",
   "metadata": {},
   "outputs": [],
   "source": [
    "from sklearn.preprocessing import LabelEncoder\n",
    "def generate_comments(data):\n",
    "    more_toxic_text=data[\"more_toxic\"].values\n",
    "    less_toxic_text=data[\"less_toxic\"].values    \n",
    "    comments=np.concatenate((more_toxic_text,less_toxic_text))\n",
    "    comments=np.unique(comments)\n",
    "    comments=pd.DataFrame({\"text\":comments})\n",
    "    text_encoder=LabelEncoder()\n",
    "    text_encoder.fit(comments)\n",
    "    comments[\"encode_text\"]=text_encoder.transform(comments[\"text\"])\n",
    "    data[\"encode_less\"]=text_encoder.transform(data[\"less_toxic\"])\n",
    "    data[\"encode_more\"]=text_encoder.transform(data[\"more_toxic\"])\n",
    "    \n",
    "    return data,comments"
   ]
  },
  {
   "cell_type": "code",
   "execution_count": 204,
   "id": "4ef970a9",
   "metadata": {},
   "outputs": [
    {
     "name": "stderr",
     "output_type": "stream",
     "text": [
      "D:\\anaconda\\envs\\python36\\lib\\site-packages\\sklearn\\utils\\validation.py:63: DataConversionWarning: A column-vector y was passed when a 1d array was expected. Please change the shape of y to (n_samples, ), for example using ravel().\n",
      "  return f(*args, **kwargs)\n"
     ]
    }
   ],
   "source": [
    "data_df,comments=generate_comments(data_df)"
   ]
  },
  {
   "cell_type": "code",
   "execution_count": 205,
   "id": "1642ee31",
   "metadata": {},
   "outputs": [
    {
     "data": {
      "text/html": [
       "<div>\n",
       "<style scoped>\n",
       "    .dataframe tbody tr th:only-of-type {\n",
       "        vertical-align: middle;\n",
       "    }\n",
       "\n",
       "    .dataframe tbody tr th {\n",
       "        vertical-align: top;\n",
       "    }\n",
       "\n",
       "    .dataframe thead th {\n",
       "        text-align: right;\n",
       "    }\n",
       "</style>\n",
       "<table border=\"1\" class=\"dataframe\">\n",
       "  <thead>\n",
       "    <tr style=\"text-align: right;\">\n",
       "      <th></th>\n",
       "      <th>worker</th>\n",
       "      <th>less_toxic</th>\n",
       "      <th>more_toxic</th>\n",
       "      <th>encode_less</th>\n",
       "      <th>encode_more</th>\n",
       "    </tr>\n",
       "  </thead>\n",
       "  <tbody>\n",
       "    <tr>\n",
       "      <th>0</th>\n",
       "      <td>313</td>\n",
       "      <td>This article sucks \\n\\nwoo woo wooooooo</td>\n",
       "      <td>WHAT!!!!!!!!?!?!!?!?!!?!?!?!?!!!!!!!!!!!!!!!!!...</td>\n",
       "      <td>2405</td>\n",
       "      <td>12151</td>\n",
       "    </tr>\n",
       "    <tr>\n",
       "      <th>1</th>\n",
       "      <td>188</td>\n",
       "      <td>\"And yes, people should recognize that but the...</td>\n",
       "      <td>Daphne Guinness \\n\\nTop of the mornin' my fav...</td>\n",
       "      <td>7215</td>\n",
       "      <td>653</td>\n",
       "    </tr>\n",
       "    <tr>\n",
       "      <th>2</th>\n",
       "      <td>82</td>\n",
       "      <td>Western Media?\\n\\nYup, because every crime in...</td>\n",
       "      <td>\"Atom you don't believe actual photos of mastu...</td>\n",
       "      <td>2632</td>\n",
       "      <td>7222</td>\n",
       "    </tr>\n",
       "    <tr>\n",
       "      <th>3</th>\n",
       "      <td>347</td>\n",
       "      <td>And you removed it! You numbskull! I don't car...</td>\n",
       "      <td>You seem to have sand in your vagina.\\n\\nMight...</td>\n",
       "      <td>7973</td>\n",
       "      <td>12968</td>\n",
       "    </tr>\n",
       "    <tr>\n",
       "      <th>4</th>\n",
       "      <td>539</td>\n",
       "      <td>smelly vagina \\n\\nBluerasberry why don't you ...</td>\n",
       "      <td>hey \\n\\nway to support nazis, you racist</td>\n",
       "      <td>3524</td>\n",
       "      <td>3266</td>\n",
       "    </tr>\n",
       "  </tbody>\n",
       "</table>\n",
       "</div>"
      ],
      "text/plain": [
       "   worker                                         less_toxic  \\\n",
       "0     313            This article sucks \\n\\nwoo woo wooooooo   \n",
       "1     188  \"And yes, people should recognize that but the...   \n",
       "2      82   Western Media?\\n\\nYup, because every crime in...   \n",
       "3     347  And you removed it! You numbskull! I don't car...   \n",
       "4     539   smelly vagina \\n\\nBluerasberry why don't you ...   \n",
       "\n",
       "                                          more_toxic  encode_less  encode_more  \n",
       "0  WHAT!!!!!!!!?!?!!?!?!!?!?!?!?!!!!!!!!!!!!!!!!!...         2405        12151  \n",
       "1   Daphne Guinness \\n\\nTop of the mornin' my fav...         7215          653  \n",
       "2  \"Atom you don't believe actual photos of mastu...         2632         7222  \n",
       "3  You seem to have sand in your vagina.\\n\\nMight...         7973        12968  \n",
       "4           hey \\n\\nway to support nazis, you racist         3524         3266  "
      ]
     },
     "execution_count": 205,
     "metadata": {},
     "output_type": "execute_result"
    }
   ],
   "source": [
    "data_df.head()"
   ]
  },
  {
   "cell_type": "code",
   "execution_count": 206,
   "id": "726fad92",
   "metadata": {},
   "outputs": [],
   "source": [
    "data_df.duplicated(subset=[\"encode_less\",\"encode_more\"],keep=\"first\")\n",
    "data_drop=data_df.drop_duplicates([\"encode_less\",\"encode_more\"],keep=\"first\",inplace=False)"
   ]
  },
  {
   "cell_type": "code",
   "execution_count": 207,
   "id": "4431ff0e",
   "metadata": {},
   "outputs": [],
   "source": [
    "data_df[\"label_min\"]=data_df.apply(lambda row:row[\"encode_less\"] \n",
    "                                   if row[\"encode_less\"]<row[\"encode_more\"] else row[\"encode_more\"],axis=1)\n",
    "data_df[\"label_max\"]=data_df.apply(lambda row:row[\"encode_more\"] \n",
    "                                   if row[\"encode_less\"]<row[\"encode_more\"] else row[\"encode_less\"],axis=1)\n",
    "\n",
    "data_df[\"win_min\"]=data_df.apply(lambda row:1 if row[\"encode_more\"]<row[\"encode_less\"] else 0 ,axis=1)\n",
    "data_df[\"win_max\"]=data_df.apply(lambda row:0 if row[\"encode_more\"]<row[\"encode_less\"] else 1 ,axis=1)\n",
    "\n",
    "data_df_agg=data_df.groupby([\"label_min\",\"label_max\"]).agg({\"win_min\":\"sum\",\"win_max\":\"sum\"}).reset_index()\n",
    "data_df_agg[\"encode_less\"]=data_df_agg.apply(lambda row:row[\"label_min\"] \n",
    "                                             if row[\"win_min\"]<row[\"win_max\"] else row[\"label_max\"],axis=1)\n",
    "data_df_agg[\"encode_more\"]=data_df_agg.apply(lambda row:row[\"label_min\"] \n",
    "                                             if row[\"win_min\"]>row[\"win_max\"] else row[\"label_max\"],axis=1)"
   ]
  },
  {
   "cell_type": "code",
   "execution_count": 210,
   "id": "88d4b03d",
   "metadata": {},
   "outputs": [
    {
     "data": {
      "text/html": [
       "<div>\n",
       "<style scoped>\n",
       "    .dataframe tbody tr th:only-of-type {\n",
       "        vertical-align: middle;\n",
       "    }\n",
       "\n",
       "    .dataframe tbody tr th {\n",
       "        vertical-align: top;\n",
       "    }\n",
       "\n",
       "    .dataframe thead th {\n",
       "        text-align: right;\n",
       "    }\n",
       "</style>\n",
       "<table border=\"1\" class=\"dataframe\">\n",
       "  <thead>\n",
       "    <tr style=\"text-align: right;\">\n",
       "      <th></th>\n",
       "      <th>label_min</th>\n",
       "      <th>label_max</th>\n",
       "      <th>win_min</th>\n",
       "      <th>win_max</th>\n",
       "      <th>encode_less</th>\n",
       "      <th>encode_more</th>\n",
       "    </tr>\n",
       "  </thead>\n",
       "  <tbody>\n",
       "    <tr>\n",
       "      <th>0</th>\n",
       "      <td>0</td>\n",
       "      <td>7085</td>\n",
       "      <td>2</td>\n",
       "      <td>1</td>\n",
       "      <td>7085</td>\n",
       "      <td>0</td>\n",
       "    </tr>\n",
       "    <tr>\n",
       "      <th>1</th>\n",
       "      <td>1</td>\n",
       "      <td>1293</td>\n",
       "      <td>3</td>\n",
       "      <td>0</td>\n",
       "      <td>1293</td>\n",
       "      <td>1</td>\n",
       "    </tr>\n",
       "    <tr>\n",
       "      <th>2</th>\n",
       "      <td>1</td>\n",
       "      <td>5156</td>\n",
       "      <td>3</td>\n",
       "      <td>0</td>\n",
       "      <td>5156</td>\n",
       "      <td>1</td>\n",
       "    </tr>\n",
       "    <tr>\n",
       "      <th>3</th>\n",
       "      <td>1</td>\n",
       "      <td>12696</td>\n",
       "      <td>2</td>\n",
       "      <td>1</td>\n",
       "      <td>12696</td>\n",
       "      <td>1</td>\n",
       "    </tr>\n",
       "    <tr>\n",
       "      <th>4</th>\n",
       "      <td>2</td>\n",
       "      <td>13776</td>\n",
       "      <td>2</td>\n",
       "      <td>1</td>\n",
       "      <td>13776</td>\n",
       "      <td>2</td>\n",
       "    </tr>\n",
       "  </tbody>\n",
       "</table>\n",
       "</div>"
      ],
      "text/plain": [
       "   label_min  label_max  win_min  win_max  encode_less  encode_more\n",
       "0          0       7085        2        1         7085            0\n",
       "1          1       1293        3        0         1293            1\n",
       "2          1       5156        3        0         5156            1\n",
       "3          1      12696        2        1        12696            1\n",
       "4          2      13776        2        1        13776            2"
      ]
     },
     "execution_count": 210,
     "metadata": {},
     "output_type": "execute_result"
    }
   ],
   "source": [
    "data_df_agg.head()"
   ]
  },
  {
   "cell_type": "code",
   "execution_count": 21,
   "id": "6a79af25",
   "metadata": {},
   "outputs": [
    {
     "data": {
      "text/plain": [
       "0        None\n",
       "1        None\n",
       "2        None\n",
       "3        None\n",
       "4        None\n",
       "         ... \n",
       "10103    None\n",
       "10104    None\n",
       "10105    None\n",
       "10106    None\n",
       "10107    None\n",
       "Length: 10108, dtype: object"
      ]
     },
     "execution_count": 21,
     "metadata": {},
     "output_type": "execute_result"
    }
   ],
   "source": [
    "more2less_dict= defaultdict(list)\n",
    "data_df_agg.apply(lambda row:more2less_dict[row[\"encode_more\"]].append(row[\"encode_less\"]),axis=1)"
   ]
  },
  {
   "cell_type": "code",
   "execution_count": 30,
   "id": "058c9ed6",
   "metadata": {},
   "outputs": [],
   "source": [
    "def bsearch(start,more2less_dict):\n",
    "    queue = deque([start])\n",
    "    visit_list=[]\n",
    "    while len(queue)!=0:\n",
    "        visit_id=queue.popleft()\n",
    "        if visit_id in visit_list:\n",
    "            continue\n",
    "        visit_list.append(visit_id)\n",
    "        queue+=deque(more2less_dict[visit_id])\n",
    "    visit_list.remove(start)\n",
    "    return [ x for x in visit_list if x not in more2less_dict[start] ]\n",
    "\n",
    "def search_lessText(more2less_dict=more2less_dict):\n",
    "    aug_dict= defaultdict(list)\n",
    "    for start in list(more2less_dict.keys()):\n",
    "        \n",
    "        aug_list=bsearch(start,more2less_dict)\n",
    "        aug_dict[start]=aug_list\n",
    "    return aug_dict\n",
    "        "
   ]
  },
  {
   "cell_type": "code",
   "execution_count": 124,
   "id": "7501c746",
   "metadata": {},
   "outputs": [],
   "source": [
    "aug_dict=search_lessText(more2less_dict)\n",
    "aug_dict={key:value for key,value in aug_dict.items() if len(value)!=0}\n",
    "aug_df=pd.DataFrame(columns=(tuple(data_df.columns)))\n",
    "id2text_dict=comments.to_dict()[\"text\"]"
   ]
  },
  {
   "cell_type": "code",
   "execution_count": 172,
   "id": "ba4839f3",
   "metadata": {},
   "outputs": [],
   "source": [
    "for key,value in aug_dict.items():\n",
    "    encode_more=key\n",
    "    encode_less_list=value\n",
    "\n",
    "    more_toxic=id2text_dict[encode_more]\n",
    "    for encode_less in encode_less_list:\n",
    "        less_toxic=id2text_dict[encode_less]\n",
    "        row=pd.DataFrame({\"worker\":[999],\"less_toxic\":[less_toxic],\"more_toxic\":[more_toxic],\"encode_less\":[encode_less],\n",
    "                                   \"encode_more\":[encode_more]})\n",
    "        aug_df=aug_df.append(row,ignore_index=True)\n",
    "\n",
    "work_list=np.array([999]*len(aug_df),dtype=np.int64)\n",
    "aug_df[\"worker\"]=work_list\n",
    "data_df_aug=pd.concat([data_df,aug_df],axis=0)\n",
    "data_df_aug=data_df_aug.reset_index(drop=True)"
   ]
  },
  {
   "cell_type": "code",
   "execution_count": 197,
   "id": "b2c9a2fd",
   "metadata": {},
   "outputs": [
    {
     "name": "stderr",
     "output_type": "stream",
     "text": [
      "D:\\anaconda\\envs\\python36\\lib\\site-packages\\sklearn\\model_selection\\_split.py:668: UserWarning: The least populated class in y has only 1 members, which is less than n_splits=5.\n",
      "  % (min_groups, self.n_splits)), UserWarning)\n"
     ]
    },
    {
     "data": {
      "text/html": [
       "<div>\n",
       "<style scoped>\n",
       "    .dataframe tbody tr th:only-of-type {\n",
       "        vertical-align: middle;\n",
       "    }\n",
       "\n",
       "    .dataframe tbody tr th {\n",
       "        vertical-align: top;\n",
       "    }\n",
       "\n",
       "    .dataframe thead th {\n",
       "        text-align: right;\n",
       "    }\n",
       "</style>\n",
       "<table border=\"1\" class=\"dataframe\">\n",
       "  <thead>\n",
       "    <tr style=\"text-align: right;\">\n",
       "      <th></th>\n",
       "      <th>worker</th>\n",
       "      <th>less_toxic</th>\n",
       "      <th>more_toxic</th>\n",
       "      <th>encode_less</th>\n",
       "      <th>encode_more</th>\n",
       "      <th>label_min</th>\n",
       "      <th>label_max</th>\n",
       "      <th>win_min</th>\n",
       "      <th>win_max</th>\n",
       "      <th>kfold</th>\n",
       "    </tr>\n",
       "  </thead>\n",
       "  <tbody>\n",
       "    <tr>\n",
       "      <th>0</th>\n",
       "      <td>313</td>\n",
       "      <td>This article sucks \\n\\nwoo woo wooooooo</td>\n",
       "      <td>WHAT!!!!!!!!?!?!!?!?!!?!?!?!?!!!!!!!!!!!!!!!!!...</td>\n",
       "      <td>2405</td>\n",
       "      <td>12151</td>\n",
       "      <td>2405</td>\n",
       "      <td>12151</td>\n",
       "      <td>0</td>\n",
       "      <td>1</td>\n",
       "      <td>4</td>\n",
       "    </tr>\n",
       "    <tr>\n",
       "      <th>1</th>\n",
       "      <td>188</td>\n",
       "      <td>\"And yes, people should recognize that but the...</td>\n",
       "      <td>Daphne Guinness \\n\\nTop of the mornin' my fav...</td>\n",
       "      <td>7215</td>\n",
       "      <td>653</td>\n",
       "      <td>653</td>\n",
       "      <td>7215</td>\n",
       "      <td>1</td>\n",
       "      <td>0</td>\n",
       "      <td>0</td>\n",
       "    </tr>\n",
       "    <tr>\n",
       "      <th>2</th>\n",
       "      <td>82</td>\n",
       "      <td>Western Media?\\n\\nYup, because every crime in...</td>\n",
       "      <td>\"Atom you don't believe actual photos of mastu...</td>\n",
       "      <td>2632</td>\n",
       "      <td>7222</td>\n",
       "      <td>2632</td>\n",
       "      <td>7222</td>\n",
       "      <td>0</td>\n",
       "      <td>1</td>\n",
       "      <td>0</td>\n",
       "    </tr>\n",
       "    <tr>\n",
       "      <th>3</th>\n",
       "      <td>347</td>\n",
       "      <td>And you removed it! You numbskull! I don't car...</td>\n",
       "      <td>You seem to have sand in your vagina.\\n\\nMight...</td>\n",
       "      <td>7973</td>\n",
       "      <td>12968</td>\n",
       "      <td>7973</td>\n",
       "      <td>12968</td>\n",
       "      <td>0</td>\n",
       "      <td>1</td>\n",
       "      <td>2</td>\n",
       "    </tr>\n",
       "    <tr>\n",
       "      <th>4</th>\n",
       "      <td>539</td>\n",
       "      <td>smelly vagina \\n\\nBluerasberry why don't you ...</td>\n",
       "      <td>hey \\n\\nway to support nazis, you racist</td>\n",
       "      <td>3524</td>\n",
       "      <td>3266</td>\n",
       "      <td>3266</td>\n",
       "      <td>3524</td>\n",
       "      <td>1</td>\n",
       "      <td>0</td>\n",
       "      <td>0</td>\n",
       "    </tr>\n",
       "  </tbody>\n",
       "</table>\n",
       "</div>"
      ],
      "text/plain": [
       "   worker                                         less_toxic  \\\n",
       "0     313            This article sucks \\n\\nwoo woo wooooooo   \n",
       "1     188  \"And yes, people should recognize that but the...   \n",
       "2      82   Western Media?\\n\\nYup, because every crime in...   \n",
       "3     347  And you removed it! You numbskull! I don't car...   \n",
       "4     539   smelly vagina \\n\\nBluerasberry why don't you ...   \n",
       "\n",
       "                                          more_toxic encode_less encode_more  \\\n",
       "0  WHAT!!!!!!!!?!?!!?!?!!?!?!?!?!!!!!!!!!!!!!!!!!...        2405       12151   \n",
       "1   Daphne Guinness \\n\\nTop of the mornin' my fav...        7215         653   \n",
       "2  \"Atom you don't believe actual photos of mastu...        2632        7222   \n",
       "3  You seem to have sand in your vagina.\\n\\nMight...        7973       12968   \n",
       "4           hey \\n\\nway to support nazis, you racist        3524        3266   \n",
       "\n",
       "  label_min label_max win_min win_max  kfold  \n",
       "0      2405     12151       0       1      4  \n",
       "1       653      7215       1       0      0  \n",
       "2      2632      7222       0       1      0  \n",
       "3      7973     12968       0       1      2  \n",
       "4      3266      3524       1       0      0  "
      ]
     },
     "execution_count": 197,
     "metadata": {},
     "output_type": "execute_result"
    }
   ],
   "source": [
    "skf=StratifiedKFold(n_splits=5,shuffle=True,random_state=2021)\n",
    "for fold,(_,val_) in enumerate(skf.split(X=data_df_aug,y=data_df_aug.worker)):\n",
    "    data_df_aug.loc[val_,\"kfold\"]=int(fold)\n",
    "    \n",
    "data_df_aug[\"kfold\"]=data_df_aug[\"kfold\"].astype(int)\n",
    "data_df_aug.head()"
   ]
  },
  {
   "cell_type": "code",
   "execution_count": null,
   "id": "2836c7b6",
   "metadata": {},
   "outputs": [],
   "source": []
  }
 ],
 "metadata": {
  "kernelspec": {
   "display_name": "Python [conda env:python36] *",
   "language": "python",
   "name": "conda-env-python36-py"
  },
  "language_info": {
   "codemirror_mode": {
    "name": "ipython",
    "version": 3
   },
   "file_extension": ".py",
   "mimetype": "text/x-python",
   "name": "python",
   "nbconvert_exporter": "python",
   "pygments_lexer": "ipython3",
   "version": "3.6.12"
  }
 },
 "nbformat": 4,
 "nbformat_minor": 5
}
