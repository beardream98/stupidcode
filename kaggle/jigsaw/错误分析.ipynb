{
 "cells": [
  {
   "cell_type": "code",
   "execution_count": 128,
   "id": "8657a256",
   "metadata": {},
   "outputs": [],
   "source": [
    "import numpy as np # linear algebra\n",
    "import pandas as pd # data processing, CSV file I/O (e.g. pd.read_csv)\n",
    "\n",
    "# Input data files are available in the read-only \"../input/\" directory\n",
    "# For example, running this (by clicking run or pressing Shift+Enter) will list all files under the input directory\n",
    "\n",
    "import os\n",
    "\n",
    "import time\n",
    "import string\n",
    "from collections import defaultdict, deque\n",
    "from sklearn.model_selection import StratifiedKFold\n",
    "import seaborn as sns\n",
    "import matplotlib.pyplot as plt"
   ]
  },
  {
   "cell_type": "code",
   "execution_count": 129,
   "id": "46e99c90",
   "metadata": {},
   "outputs": [],
   "source": [
    "input_dir=r\"C:\\Users\\Lenovo\\Desktop\\stupidcode\\kaggle\\jigsaw\\error_analyze\"\n",
    "aug1_paths=os.path.join(input_dir,f\"aug_1\\\\data_df_aug1\")\n"
   ]
  },
  {
   "cell_type": "code",
   "execution_count": 130,
   "id": "2bb99b9a",
   "metadata": {},
   "outputs": [],
   "source": [
    "\n",
    "data_df=pd.read_csv(aug1_paths)\n",
    "data_df[\"label_min\"]=data_df.apply(lambda row:row[\"encode_less\"] if row[\"encode_less\"]<row[\"encode_more\"] else row[\"encode_more\"],axis=1)\n",
    "data_df[\"label_max\"]=data_df.apply(lambda row:row[\"encode_less\"] if row[\"encode_less\"]>row[\"encode_more\"] else row[\"encode_more\"],axis=1)\n",
    "data_df[\"label_min_text\"]=data_df.apply(lambda row:row[\"less_toxic\"] if row[\"encode_less\"]<row[\"encode_more\"] else row[\"more_toxic\"],axis=1)\n",
    "data_df[\"label_max_text\"]=data_df.apply(lambda row:row[\"less_toxic\"] if row[\"encode_less\"]>row[\"encode_more\"] else row[\"more_toxic\"],axis=1)\n",
    "data_df[\"label_min_value\"]=data_df.apply(lambda row:row[\"less_value\"] if row[\"encode_less\"]<row[\"encode_more\"] else row[\"more_value\"],axis=1)\n",
    "data_df[\"label_max_value\"]=data_df.apply(lambda row:row[\"less_value\"] if row[\"encode_less\"]>row[\"encode_more\"] else row[\"more_value\"],axis=1)\n",
    "\n",
    "\n",
    "# data_df[\"pair_True\"].replace({True:1,False:-1},inplace=True)"
   ]
  },
  {
   "cell_type": "code",
   "execution_count": 131,
   "id": "f4eddaf1",
   "metadata": {},
   "outputs": [
    {
     "data": {
      "text/html": [
       "<div>\n",
       "<style scoped>\n",
       "    .dataframe tbody tr th:only-of-type {\n",
       "        vertical-align: middle;\n",
       "    }\n",
       "\n",
       "    .dataframe tbody tr th {\n",
       "        vertical-align: top;\n",
       "    }\n",
       "\n",
       "    .dataframe thead th {\n",
       "        text-align: right;\n",
       "    }\n",
       "</style>\n",
       "<table border=\"1\" class=\"dataframe\">\n",
       "  <thead>\n",
       "    <tr style=\"text-align: right;\">\n",
       "      <th></th>\n",
       "      <th>Unnamed: 0</th>\n",
       "      <th>worker</th>\n",
       "      <th>less_toxic</th>\n",
       "      <th>more_toxic</th>\n",
       "      <th>encode_less</th>\n",
       "      <th>encode_more</th>\n",
       "      <th>label_min</th>\n",
       "      <th>label_max</th>\n",
       "      <th>win_min</th>\n",
       "      <th>win_max</th>\n",
       "      <th>kfold</th>\n",
       "      <th>less_value</th>\n",
       "      <th>more_value</th>\n",
       "      <th>pair_True</th>\n",
       "      <th>label_min_text</th>\n",
       "      <th>label_max_text</th>\n",
       "      <th>label_min_value</th>\n",
       "      <th>label_max_value</th>\n",
       "    </tr>\n",
       "  </thead>\n",
       "  <tbody>\n",
       "    <tr>\n",
       "      <th>0</th>\n",
       "      <td>0</td>\n",
       "      <td>313</td>\n",
       "      <td>This article sucks \\n\\nwoo woo wooooooo</td>\n",
       "      <td>WHAT!!!!!!!!?!?!!?!?!!?!?!?!?!!!!!!!!!!!!!!!!!...</td>\n",
       "      <td>2405</td>\n",
       "      <td>12151</td>\n",
       "      <td>2405</td>\n",
       "      <td>12151</td>\n",
       "      <td>0.0</td>\n",
       "      <td>1.0</td>\n",
       "      <td>4</td>\n",
       "      <td>0.203842</td>\n",
       "      <td>0.676673</td>\n",
       "      <td>True</td>\n",
       "      <td>This article sucks \\n\\nwoo woo wooooooo</td>\n",
       "      <td>WHAT!!!!!!!!?!?!!?!?!!?!?!?!?!!!!!!!!!!!!!!!!!...</td>\n",
       "      <td>0.203842</td>\n",
       "      <td>0.676673</td>\n",
       "    </tr>\n",
       "    <tr>\n",
       "      <th>1</th>\n",
       "      <td>1</td>\n",
       "      <td>188</td>\n",
       "      <td>\"And yes, people should recognize that but the...</td>\n",
       "      <td>Daphne Guinness \\n\\nTop of the mornin' my fav...</td>\n",
       "      <td>7215</td>\n",
       "      <td>653</td>\n",
       "      <td>653</td>\n",
       "      <td>7215</td>\n",
       "      <td>1.0</td>\n",
       "      <td>0.0</td>\n",
       "      <td>0</td>\n",
       "      <td>-0.132469</td>\n",
       "      <td>0.321412</td>\n",
       "      <td>True</td>\n",
       "      <td>Daphne Guinness \\n\\nTop of the mornin' my fav...</td>\n",
       "      <td>\"And yes, people should recognize that but the...</td>\n",
       "      <td>0.321412</td>\n",
       "      <td>-0.132469</td>\n",
       "    </tr>\n",
       "    <tr>\n",
       "      <th>2</th>\n",
       "      <td>2</td>\n",
       "      <td>82</td>\n",
       "      <td>Western Media?\\n\\nYup, because every crime in...</td>\n",
       "      <td>\"Atom you don't believe actual photos of mastu...</td>\n",
       "      <td>2632</td>\n",
       "      <td>7222</td>\n",
       "      <td>2632</td>\n",
       "      <td>7222</td>\n",
       "      <td>0.0</td>\n",
       "      <td>1.0</td>\n",
       "      <td>0</td>\n",
       "      <td>0.194184</td>\n",
       "      <td>0.021682</td>\n",
       "      <td>False</td>\n",
       "      <td>Western Media?\\n\\nYup, because every crime in...</td>\n",
       "      <td>\"Atom you don't believe actual photos of mastu...</td>\n",
       "      <td>0.194184</td>\n",
       "      <td>0.021682</td>\n",
       "    </tr>\n",
       "  </tbody>\n",
       "</table>\n",
       "</div>"
      ],
      "text/plain": [
       "   Unnamed: 0  worker                                         less_toxic  \\\n",
       "0           0     313            This article sucks \\n\\nwoo woo wooooooo   \n",
       "1           1     188  \"And yes, people should recognize that but the...   \n",
       "2           2      82   Western Media?\\n\\nYup, because every crime in...   \n",
       "\n",
       "                                          more_toxic  encode_less  \\\n",
       "0  WHAT!!!!!!!!?!?!!?!?!!?!?!?!?!!!!!!!!!!!!!!!!!...         2405   \n",
       "1   Daphne Guinness \\n\\nTop of the mornin' my fav...         7215   \n",
       "2  \"Atom you don't believe actual photos of mastu...         2632   \n",
       "\n",
       "   encode_more  label_min  label_max  win_min  win_max  kfold  less_value  \\\n",
       "0        12151       2405      12151      0.0      1.0      4    0.203842   \n",
       "1          653        653       7215      1.0      0.0      0   -0.132469   \n",
       "2         7222       2632       7222      0.0      1.0      0    0.194184   \n",
       "\n",
       "   more_value  pair_True                                     label_min_text  \\\n",
       "0    0.676673       True            This article sucks \\n\\nwoo woo wooooooo   \n",
       "1    0.321412       True   Daphne Guinness \\n\\nTop of the mornin' my fav...   \n",
       "2    0.021682      False   Western Media?\\n\\nYup, because every crime in...   \n",
       "\n",
       "                                      label_max_text  label_min_value  \\\n",
       "0  WHAT!!!!!!!!?!?!!?!?!!?!?!?!?!!!!!!!!!!!!!!!!!...         0.203842   \n",
       "1  \"And yes, people should recognize that but the...         0.321412   \n",
       "2  \"Atom you don't believe actual photos of mastu...         0.194184   \n",
       "\n",
       "   label_max_value  \n",
       "0         0.676673  \n",
       "1        -0.132469  \n",
       "2         0.021682  "
      ]
     },
     "execution_count": 131,
     "metadata": {},
     "output_type": "execute_result"
    }
   ],
   "source": [
    "data_df.head(3)"
   ]
  },
  {
   "cell_type": "code",
   "execution_count": 132,
   "id": "15eeb9c7",
   "metadata": {},
   "outputs": [
    {
     "name": "stdout",
     "output_type": "stream",
     "text": [
      "origin_cv: 0.757373455559984\n",
      "aug_data_cv: 0.9073312363900314\n"
     ]
    }
   ],
   "source": [
    "origin_data_df=data_df[data_df[\"worker\"]!=999]\n",
    "aug_data_df=data_df[data_df[\"worker\"]==999]\n",
    "\n",
    "print(\"origin_cv:\",origin_data_df[\"pair_True\"].mean())\n",
    "print(\"aug_data_cv:\",aug_data_df[\"pair_True\"].mean())\n",
    "\n"
   ]
  },
  {
   "cell_type": "code",
   "execution_count": 71,
   "id": "652694ea",
   "metadata": {},
   "outputs": [],
   "source": [
    "# origin_error_df=origin_data_df[origin_data_df[\"pair_True\"]==False]\n",
    "# aug_error_df=aug_data_df[aug_data_df[\"pair_True\"]==False]\n",
    "# #找到所有的false 组合的情况（包括被判断正确的组合）\n",
    "# origin_error_df=origin_data_df[origin_data_df[\"pair_True\"]==False]\n",
    "# false_pair=[[ row[\"label_min\"],row[\"label_max\"] ] for index,row in origin_error_df.iterrows() ]\n",
    "# origin_data_df[\"is_lost\"]=origin_data_df.apply(lambda row:True if [row[\"label_min\"],row[\"label_max\"]] in false_pair \n",
    "#                                                and row[\"pair_True\"]==True else False ,axis=1)\n",
    "# origin_error_df=pd.concat([origin_data_df[origin_data_df[\"is_lost\"]],origin_error_df],axis=0)\n",
    "# origin_error_df_agg=origin_error_df.groupby([\"label_min\",\"label_max\"]).agg({\"win_min\":\"sum\",\"win_max\":\"sum\"}).reset_index()\n",
    "# origin_error_df_agg[\"encode_less\"]=origin_error_df_agg.apply(lambda row:row[\"label_min\"] \n",
    "#                                              if row[\"win_min\"]<row[\"win_max\"] else row[\"label_max\"],axis=1)\n",
    "# origin_error_df_agg[\"encode_more\"]=origin_error_df_agg.apply(lambda row:row[\"label_min\"] \n",
    "#                                              if row[\"win_min\"]>row[\"win_max\"] else row[\"label_max\"],axis=1)\n",
    "\n",
    "# # 92%的错误都来自 毒性相似句子 所有句子对中 52%是毒性相似句子\n",
    "# confuse_error_df=origin_error_df_agg[(origin_error_df_agg[\"win_min\"]!=0) & (origin_error_df_agg[\"win_max\"]!=0)]\n",
    "# len(confuse_error_df)/len(origin_error_df_agg)"
   ]
  },
  {
   "cell_type": "code",
   "execution_count": 147,
   "id": "e0cc4f27",
   "metadata": {},
   "outputs": [],
   "source": [
    "origin_data_df_agg=origin_data_df.groupby([\"label_min\",\"label_max\",\"label_min_text\",\"label_max_text\"\n",
    "                                        ]).agg({\"win_min\":\"sum\",\"win_max\":\"sum\",\"label_min_value\":\"mean\",\"label_max_value\":\"mean\",\"pair_True\":\"mean\"}).reset_index()\n",
    "origin_data_df_agg[\"value_gap\"]=origin_data_df_agg.apply(lambda row:row[\"label_max_value\"]-row[\"label_min_value\"] \n",
    "                                                         if row[\"win_max\"]>row[\"win_min\"] else row[\"label_min_value\"]-row[\"label_max_value\"],axis=1)\n",
    "origin_data_df_agg[\"win_gap\"]=origin_data_df_agg.apply(lambda row:(row[\"win_max\"]-row[\"win_min\"])/(row[\"win_max\"]+row[\"win_min\"])\n",
    "                                                         if row[\"win_max\"]>row[\"win_min\"] else (row[\"win_min\"]-row[\"win_max\"])/(row[\"win_max\"]+row[\"win_min\"]),axis=1)"
   ]
  },
  {
   "cell_type": "code",
   "execution_count": 148,
   "id": "5d071a2a",
   "metadata": {},
   "outputs": [
    {
     "data": {
      "text/html": [
       "<div>\n",
       "<style scoped>\n",
       "    .dataframe tbody tr th:only-of-type {\n",
       "        vertical-align: middle;\n",
       "    }\n",
       "\n",
       "    .dataframe tbody tr th {\n",
       "        vertical-align: top;\n",
       "    }\n",
       "\n",
       "    .dataframe thead th {\n",
       "        text-align: right;\n",
       "    }\n",
       "</style>\n",
       "<table border=\"1\" class=\"dataframe\">\n",
       "  <thead>\n",
       "    <tr style=\"text-align: right;\">\n",
       "      <th></th>\n",
       "      <th>label_min</th>\n",
       "      <th>label_max</th>\n",
       "      <th>label_min_text</th>\n",
       "      <th>label_max_text</th>\n",
       "      <th>win_min</th>\n",
       "      <th>win_max</th>\n",
       "      <th>label_min_value</th>\n",
       "      <th>label_max_value</th>\n",
       "      <th>pair_True</th>\n",
       "      <th>value_gap</th>\n",
       "      <th>win_gap</th>\n",
       "    </tr>\n",
       "  </thead>\n",
       "  <tbody>\n",
       "    <tr>\n",
       "      <th>0</th>\n",
       "      <td>0</td>\n",
       "      <td>7085</td>\n",
       "      <td>\\n\\nThe comment directly above this one are fr...</td>\n",
       "      <td>\"::you wouldn't know Makoto from Street Fighte...</td>\n",
       "      <td>2.0</td>\n",
       "      <td>1.0</td>\n",
       "      <td>-0.075334</td>\n",
       "      <td>-0.183623</td>\n",
       "      <td>0.666667</td>\n",
       "      <td>0.108288</td>\n",
       "      <td>0.333333</td>\n",
       "    </tr>\n",
       "    <tr>\n",
       "      <th>1</th>\n",
       "      <td>1</td>\n",
       "      <td>1293</td>\n",
       "      <td>\\n\\nwhy should people have to read crap posted...</td>\n",
       "      <td>I just read what you wrote; neither of the tw...</td>\n",
       "      <td>3.0</td>\n",
       "      <td>0.0</td>\n",
       "      <td>0.487768</td>\n",
       "      <td>-0.248887</td>\n",
       "      <td>1.000000</td>\n",
       "      <td>0.736656</td>\n",
       "      <td>1.000000</td>\n",
       "    </tr>\n",
       "    <tr>\n",
       "      <th>2</th>\n",
       "      <td>1</td>\n",
       "      <td>5156</td>\n",
       "      <td>\\n\\nwhy should people have to read crap posted...</td>\n",
       "      <td>\"\\n\\nI don't know which \"\"personal attacks\"\" y...</td>\n",
       "      <td>3.0</td>\n",
       "      <td>0.0</td>\n",
       "      <td>0.487768</td>\n",
       "      <td>-0.509758</td>\n",
       "      <td>1.000000</td>\n",
       "      <td>0.997527</td>\n",
       "      <td>1.000000</td>\n",
       "    </tr>\n",
       "    <tr>\n",
       "      <th>3</th>\n",
       "      <td>1</td>\n",
       "      <td>12696</td>\n",
       "      <td>\\n\\nwhy should people have to read crap posted...</td>\n",
       "      <td>Yes it is. This is NOT an encyclopedia, it is ...</td>\n",
       "      <td>2.0</td>\n",
       "      <td>1.0</td>\n",
       "      <td>0.487768</td>\n",
       "      <td>0.208761</td>\n",
       "      <td>0.666667</td>\n",
       "      <td>0.279007</td>\n",
       "      <td>0.333333</td>\n",
       "    </tr>\n",
       "    <tr>\n",
       "      <th>4</th>\n",
       "      <td>2</td>\n",
       "      <td>13776</td>\n",
       "      <td>\\nGo F yourself you cottonheadednittymuggins.</td>\n",
       "      <td>people like you are the reason wikipedia is us...</td>\n",
       "      <td>2.0</td>\n",
       "      <td>1.0</td>\n",
       "      <td>0.813417</td>\n",
       "      <td>-0.380262</td>\n",
       "      <td>0.666667</td>\n",
       "      <td>1.193679</td>\n",
       "      <td>0.333333</td>\n",
       "    </tr>\n",
       "  </tbody>\n",
       "</table>\n",
       "</div>"
      ],
      "text/plain": [
       "   label_min  label_max                                     label_min_text  \\\n",
       "0          0       7085  \\n\\nThe comment directly above this one are fr...   \n",
       "1          1       1293  \\n\\nwhy should people have to read crap posted...   \n",
       "2          1       5156  \\n\\nwhy should people have to read crap posted...   \n",
       "3          1      12696  \\n\\nwhy should people have to read crap posted...   \n",
       "4          2      13776      \\nGo F yourself you cottonheadednittymuggins.   \n",
       "\n",
       "                                      label_max_text  win_min  win_max  \\\n",
       "0  \"::you wouldn't know Makoto from Street Fighte...      2.0      1.0   \n",
       "1   I just read what you wrote; neither of the tw...      3.0      0.0   \n",
       "2  \"\\n\\nI don't know which \"\"personal attacks\"\" y...      3.0      0.0   \n",
       "3  Yes it is. This is NOT an encyclopedia, it is ...      2.0      1.0   \n",
       "4  people like you are the reason wikipedia is us...      2.0      1.0   \n",
       "\n",
       "   label_min_value  label_max_value  pair_True  value_gap   win_gap  \n",
       "0        -0.075334        -0.183623   0.666667   0.108288  0.333333  \n",
       "1         0.487768        -0.248887   1.000000   0.736656  1.000000  \n",
       "2         0.487768        -0.509758   1.000000   0.997527  1.000000  \n",
       "3         0.487768         0.208761   0.666667   0.279007  0.333333  \n",
       "4         0.813417        -0.380262   0.666667   1.193679  0.333333  "
      ]
     },
     "execution_count": 148,
     "metadata": {},
     "output_type": "execute_result"
    }
   ],
   "source": [
    "origin_data_df_agg.head()"
   ]
  },
  {
   "cell_type": "code",
   "execution_count": 149,
   "id": "f43a588c",
   "metadata": {},
   "outputs": [
    {
     "data": {
      "text/plain": [
       "0.8396319746735259"
      ]
     },
     "execution_count": 149,
     "metadata": {},
     "output_type": "execute_result"
    }
   ],
   "source": [
    "#2291 条数据错误 7817条正确\n",
    "origin_data_error=origin_data_df_agg[origin_data_df_agg[\"pair_True\"]<0.5]\n",
    "origin_data_true=origin_data_df_agg[origin_data_df_agg[\"pair_True\"]>0.5]\n",
    "len(origin_data_true)/len(origin_data_df_agg)"
   ]
  },
  {
   "cell_type": "code",
   "execution_count": 150,
   "id": "f45157af",
   "metadata": {},
   "outputs": [],
   "source": [
    "# origin_data_error.to_csv(os.path.join(input_dir,f\"aug_1\\\\origin_data_error.csv\"))\n",
    "# origin_data_true.to_csv(os.path.join(input_dir,f\"aug_1\\\\origin_data_true.csv\"))"
   ]
  },
  {
   "cell_type": "code",
   "execution_count": 206,
   "id": "0202aa41",
   "metadata": {},
   "outputs": [
    {
     "data": {
      "text/plain": [
       "3905"
      ]
     },
     "execution_count": 206,
     "metadata": {},
     "output_type": "execute_result"
    }
   ],
   "source": [
    "dict(origin_data_true[\"win_gap\"].value_counts())[1/3]"
   ]
  },
  {
   "cell_type": "code",
   "execution_count": 275,
   "id": "40f88824",
   "metadata": {},
   "outputs": [
    {
     "name": "stderr",
     "output_type": "stream",
     "text": [
      "D:\\anaconda\\envs\\python36\\lib\\site-packages\\ipykernel_launcher.py:6: SettingWithCopyWarning: \n",
      "A value is trying to be set on a copy of a slice from a DataFrame.\n",
      "Try using .loc[row_indexer,col_indexer] = value instead\n",
      "\n",
      "See the caveats in the documentation: https://pandas.pydata.org/pandas-docs/stable/user_guide/indexing.html#returning-a-view-versus-a-copy\n",
      "  \n"
     ]
    }
   ],
   "source": [
    "#对正确的部分 划分为正1 正2 根据赢多少的比例来\n",
    "win_gap_num=dict(origin_data_true[\"win_gap\"].value_counts())\n",
    "true_point=win_gap_num[1/3]/(win_gap_num[1/3]+win_gap_num[1])\n",
    "true_val_gap=list(origin_data_true[\"value_gap\"].sort_values())\n",
    "true_point_value=true_val_gap[int(true_point*len(true_val_gap))]\n",
    "origin_data_true[\"degree\"]=origin_data_true.apply(lambda row:2 if row[\"value_gap\"]>true_point_value else 1,axis=1)\n",
    "\n",
    "origin_true_degree2=origin_data_true[origin_data_true[\"degree\"]==2]\n",
    "origin_true_degree1=origin_data_true[origin_data_true[\"degree\"]==1]"
   ]
  },
  {
   "cell_type": "code",
   "execution_count": 271,
   "id": "1a0bac11",
   "metadata": {},
   "outputs": [
    {
     "name": "stderr",
     "output_type": "stream",
     "text": [
      "D:\\anaconda\\envs\\python36\\lib\\site-packages\\ipykernel_launcher.py:6: SettingWithCopyWarning: \n",
      "A value is trying to be set on a copy of a slice from a DataFrame.\n",
      "Try using .loc[row_indexer,col_indexer] = value instead\n",
      "\n",
      "See the caveats in the documentation: https://pandas.pydata.org/pandas-docs/stable/user_guide/indexing.html#returning-a-view-versus-a-copy\n",
      "  \n"
     ]
    }
   ],
   "source": [
    "#对错误的部分 也划分为 负1 和负2\n",
    "false_gap_num=dict(origin_data_error[\"win_gap\"].value_counts())\n",
    "false_point=false_gap_num[1/3]/(false_gap_num[1/3]+false_gap_num[1])\n",
    "false_val_gap=list(origin_data_error[\"value_gap\"].sort_values())\n",
    "false_point_value=false_val_gap[int(false_point*len(false_val_gap))]\n",
    "origin_data_error[\"degree\"]=origin_data_error.apply(lambda row:1 if row[\"value_gap\"]>false_point_value else 2,axis=1)\n",
    "\n",
    "origin_false_degree2=origin_data_error[origin_data_error[\"degree\"]==2]\n",
    "origin_false_degree1=origin_data_error[origin_data_error[\"degree\"]==1]"
   ]
  },
  {
   "cell_type": "code",
   "execution_count": null,
   "id": "fc5db005",
   "metadata": {},
   "outputs": [],
   "source": []
  },
  {
   "cell_type": "markdown",
   "id": "92683243",
   "metadata": {},
   "source": [
    "# 绘图"
   ]
  },
  {
   "cell_type": "code",
   "execution_count": null,
   "id": "c199e153",
   "metadata": {},
   "outputs": [],
   "source": []
  }
 ],
 "metadata": {
  "kernelspec": {
   "display_name": "Python [conda env:python36] *",
   "language": "python",
   "name": "conda-env-python36-py"
  },
  "language_info": {
   "codemirror_mode": {
    "name": "ipython",
    "version": 3
   },
   "file_extension": ".py",
   "mimetype": "text/x-python",
   "name": "python",
   "nbconvert_exporter": "python",
   "pygments_lexer": "ipython3",
   "version": "3.6.12"
  }
 },
 "nbformat": 4,
 "nbformat_minor": 5
}
