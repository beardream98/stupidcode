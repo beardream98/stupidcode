{
 "cells": [
  {
   "cell_type": "markdown",
   "id": "2fa99366",
   "metadata": {
    "papermill": {
     "duration": 0.037998,
     "end_time": "2022-01-11T12:48:34.961991",
     "exception": false,
     "start_time": "2022-01-11T12:48:34.923993",
     "status": "completed"
    },
    "tags": []
   },
   "source": [
    "# libraries"
   ]
  },
  {
   "cell_type": "code",
   "execution_count": 1,
   "id": "4412f8d6",
   "metadata": {
    "execution": {
     "iopub.execute_input": "2022-01-11T12:48:35.030566Z",
     "iopub.status.busy": "2022-01-11T12:48:35.028702Z",
     "iopub.status.idle": "2022-01-11T12:48:37.594176Z",
     "shell.execute_reply": "2022-01-11T12:48:37.593012Z",
     "shell.execute_reply.started": "2022-01-11T01:58:08.466228Z"
    },
    "papermill": {
     "duration": 2.601172,
     "end_time": "2022-01-11T12:48:37.594350",
     "exception": false,
     "start_time": "2022-01-11T12:48:34.993178",
     "status": "completed"
    },
    "tags": []
   },
   "outputs": [
    {
     "data": {
      "text/html": [
       "<style type='text/css'>\n",
       ".datatable table.frame { margin-bottom: 0; }\n",
       ".datatable table.frame thead { border-bottom: none; }\n",
       ".datatable table.frame tr.coltypes td {  color: #FFFFFF;  line-height: 6px;  padding: 0 0.5em;}\n",
       ".datatable .bool    { background: #DDDD99; }\n",
       ".datatable .object  { background: #565656; }\n",
       ".datatable .int     { background: #5D9E5D; }\n",
       ".datatable .float   { background: #4040CC; }\n",
       ".datatable .str     { background: #CC4040; }\n",
       ".datatable .time    { background: #40CC40; }\n",
       ".datatable .row_index {  background: var(--jp-border-color3);  border-right: 1px solid var(--jp-border-color0);  color: var(--jp-ui-font-color3);  font-size: 9px;}\n",
       ".datatable .frame tbody td { text-align: left; }\n",
       ".datatable .frame tr.coltypes .row_index {  background: var(--jp-border-color0);}\n",
       ".datatable th:nth-child(2) { padding-left: 12px; }\n",
       ".datatable .hellipsis {  color: var(--jp-cell-editor-border-color);}\n",
       ".datatable .vellipsis {  background: var(--jp-layout-color0);  color: var(--jp-cell-editor-border-color);}\n",
       ".datatable .na {  color: var(--jp-cell-editor-border-color);  font-size: 80%;}\n",
       ".datatable .sp {  opacity: 0.25;}\n",
       ".datatable .footer { font-size: 9px; }\n",
       ".datatable .frame_dimensions {  background: var(--jp-border-color3);  border-top: 1px solid var(--jp-border-color0);  color: var(--jp-ui-font-color3);  display: inline-block;  opacity: 0.6;  padding: 1px 10px 1px 5px;}\n",
       "</style>\n"
      ],
      "text/plain": [
       "<IPython.core.display.HTML object>"
      ]
     },
     "metadata": {},
     "output_type": "display_data"
    }
   ],
   "source": [
    "import pandas as pd\n",
    "import numpy as np\n",
    "import os\n",
    "import matplotlib.pyplot as plt\n",
    "import seaborn as sns\n",
    "from collections import defaultdict\n",
    "import time\n",
    "import scipy.optimize as optimize\n",
    "import lightgbm as lgb\n",
    "from bs4 import BeautifulSoup\n",
    "\n",
    "\n",
    "from sklearn.model_selection import train_test_split\n",
    "from sklearn.linear_model import Ridge, LinearRegression\n",
    "from sklearn.feature_extraction.text import TfidfVectorizer\n",
    "from sklearn.model_selection import StratifiedKFold\n",
    "from sklearn.metrics import mean_squared_error\n",
    "from scipy.stats import rankdata\n",
    "\n",
    "from collections import defaultdict\n",
    "from sklearn.pipeline import Pipeline, FeatureUnion\n",
    "from sklearn.base import TransformerMixin, BaseEstimator\n",
    "from tqdm import tqdm\n",
    "\n",
    "import time\n",
    "import re \n",
    "import scipy\n",
    "from scipy import sparse\n",
    "import gc \n",
    "from IPython.display import display, HTML\n",
    "from pprint import pprint\n",
    "import warnings\n",
    "warnings.filterwarnings(\"ignore\")"
   ]
  },
  {
   "cell_type": "code",
   "execution_count": 2,
   "id": "603130c2",
   "metadata": {
    "execution": {
     "iopub.execute_input": "2022-01-11T12:48:37.660436Z",
     "iopub.status.busy": "2022-01-11T12:48:37.659772Z",
     "iopub.status.idle": "2022-01-11T12:48:37.663862Z",
     "shell.execute_reply": "2022-01-11T12:48:37.664447Z",
     "shell.execute_reply.started": "2022-01-11T01:58:10.825529Z"
    },
    "papermill": {
     "duration": 0.038379,
     "end_time": "2022-01-11T12:48:37.664631",
     "exception": false,
     "start_time": "2022-01-11T12:48:37.626252",
     "status": "completed"
    },
    "tags": []
   },
   "outputs": [],
   "source": [
    "\"\"\"\n",
    "fold type =1 用kfold方式分隔数据集 \n",
    "fold type=2  用正负采样方式采样数据集\n",
    "实验证明 2比1好 比例在1:1 到1.5 之间 cv有提高 lb没有变化\n",
    "后面代码中带k 的为kfold 带s的为sample 采样\n",
    "fold type2 慎用，很久没用可能兼容bug多\n",
    "\"\"\"\n",
    "Fold_type=2\n",
    "is_test=False\n",
    "translate_aug=False\n",
    "fast_vec=True\n",
    "#记得改kdict 里面的tranlate的值\n"
   ]
  },
  {
   "cell_type": "code",
   "execution_count": 3,
   "id": "295bd55d",
   "metadata": {
    "execution": {
     "iopub.execute_input": "2022-01-11T12:48:37.732127Z",
     "iopub.status.busy": "2022-01-11T12:48:37.729757Z",
     "iopub.status.idle": "2022-01-11T12:48:37.734726Z",
     "shell.execute_reply": "2022-01-11T12:48:37.734183Z",
     "shell.execute_reply.started": "2022-01-11T01:58:10.832728Z"
    },
    "papermill": {
     "duration": 0.038979,
     "end_time": "2022-01-11T12:48:37.734873",
     "exception": false,
     "start_time": "2022-01-11T12:48:37.695894",
     "status": "completed"
    },
    "tags": []
   },
   "outputs": [],
   "source": [
    "fold_num_k=5\n",
    "fold_num_s=1\n",
    "\n",
    "fast_factor=1"
   ]
  },
  {
   "cell_type": "code",
   "execution_count": 4,
   "id": "542f8abb",
   "metadata": {
    "execution": {
     "iopub.execute_input": "2022-01-11T12:48:37.803073Z",
     "iopub.status.busy": "2022-01-11T12:48:37.802171Z",
     "iopub.status.idle": "2022-01-11T12:48:37.805414Z",
     "shell.execute_reply": "2022-01-11T12:48:37.805938Z",
     "shell.execute_reply.started": "2022-01-11T01:58:10.852967Z"
    },
    "papermill": {
     "duration": 0.039806,
     "end_time": "2022-01-11T12:48:37.806108",
     "exception": false,
     "start_time": "2022-01-11T12:48:37.766302",
     "status": "completed"
    },
    "tags": []
   },
   "outputs": [
    {
     "data": {
      "text/plain": [
       "'\\n如果需要增加数据集 检查 data_names, 是否clean 检查clean data，create fold 处，name2dict处\\n'"
      ]
     },
     "execution_count": 4,
     "metadata": {},
     "output_type": "execute_result"
    }
   ],
   "source": [
    "\"\"\"\n",
    "如果需要增加数据集 检查 data_names, 是否clean 检查clean data，create fold 处，name2dict处\n",
    "\"\"\""
   ]
  },
  {
   "cell_type": "code",
   "execution_count": 5,
   "id": "76a40a3c",
   "metadata": {
    "execution": {
     "iopub.execute_input": "2022-01-11T12:48:37.877836Z",
     "iopub.status.busy": "2022-01-11T12:48:37.877052Z",
     "iopub.status.idle": "2022-01-11T12:48:37.880151Z",
     "shell.execute_reply": "2022-01-11T12:48:37.879488Z",
     "shell.execute_reply.started": "2022-01-11T01:58:10.867858Z"
    },
    "papermill": {
     "duration": 0.041517,
     "end_time": "2022-01-11T12:48:37.880287",
     "exception": false,
     "start_time": "2022-01-11T12:48:37.838770",
     "status": "completed"
    },
    "tags": []
   },
   "outputs": [],
   "source": [
    "# data_names=[\"jc_\",\"juc_\",\"rud_\",\"jcc_\"]\n",
    "# model_choice=[\"ridge\",\"gbm\"]\n",
    "# factor=[0.5,0.5]\n",
    "\n",
    "\"\"\"\n",
    "data_names 使用的数据集 可用的包括 (数据名称后面的_不能少):\n",
    "jc_ :代表 第一届数据 \n",
    "rud_ rud 数据\n",
    "jcc1_ 对jc使用第一种clean方式\n",
    "jcc2_ 对jc使用第二种clean方式\n",
    "\n",
    "juc_ 第二届比赛数据\n",
    "\n",
    "jc_fr_ 将第一届比赛数据进行反译 先由en-》french-》en \n",
    "jc_de_ \n",
    "jc_es_\n",
    "\n",
    "最好的结果是由jc_ rud juc1 产生 0.870 （0.873 是由于失误出现的，不可靠） \n",
    "数据加权结果是由 各个数据集归一化后简单求和，后期可以再调整。 \n",
    "\"\"\"\n",
    "\n",
    "# data_names=[\"jc_\",\"rud_\",\"jcc1_\",\"jcc2_\",\"jc_fr_\",\"jc_de_\",\"jc_es_\"]\n",
    "# data_names=[\"jc_\",\"rud_\"]\n",
    "data_names=[\"jc_\",\"rud_\",\"jcc1_\",\"jcc2_\"]\n",
    "\n",
    "jc_num,jc_rate,rud_rate=3,4,1\n",
    "factor_data=[jc_rate/jc_num,rud_rate,jc_rate/jc_num,jc_rate/jc_num,jc_rate/jc_num,jc_rate/jc_num,jc_rate/jc_num]\n",
    "\n",
    "#这里是用于翻译增强 可以不用管\n",
    "translate_data=[\"jc_s_\"]\n",
    "translate_language=[\"fr_text\",\"de_text\",\"es_text\"]\n",
    "clean_data={\"jcc1_s_\":1,\"jcc2_s_\":2}\n",
    "\n",
    "#这里是选择模型 可选参数 包括 ridge 和gbm factor用于指定相应权值 ，gbm重复试验的结果看效果不好，选择放弃\n",
    "model_choice=[\"ridge\"]\n",
    "factor=[1]"
   ]
  },
  {
   "cell_type": "code",
   "execution_count": 6,
   "id": "2b15ccd5",
   "metadata": {
    "execution": {
     "iopub.execute_input": "2022-01-11T12:48:37.947397Z",
     "iopub.status.busy": "2022-01-11T12:48:37.946779Z",
     "iopub.status.idle": "2022-01-11T12:48:37.950945Z",
     "shell.execute_reply": "2022-01-11T12:48:37.951483Z",
     "shell.execute_reply.started": "2022-01-11T01:58:10.880572Z"
    },
    "papermill": {
     "duration": 0.039632,
     "end_time": "2022-01-11T12:48:37.951670",
     "exception": false,
     "start_time": "2022-01-11T12:48:37.912038",
     "status": "completed"
    },
    "tags": []
   },
   "outputs": [],
   "source": [
    "system_path=r\"../input\"\n",
    "model_all=[\"ridge\",\"gbm\"]\n",
    "for model_name in model_all:\n",
    "    if model_name not in os.listdir():\n",
    "        os.makedirs(f\"{model_name}\")\n",
    "out_path=r\"./\""
   ]
  },
  {
   "cell_type": "markdown",
   "id": "e1a0b78a",
   "metadata": {
    "papermill": {
     "duration": 0.031248,
     "end_time": "2022-01-11T12:48:38.014431",
     "exception": false,
     "start_time": "2022-01-11T12:48:37.983183",
     "status": "completed"
    },
    "tags": []
   },
   "source": [
    "# Data"
   ]
  },
  {
   "cell_type": "code",
   "execution_count": 7,
   "id": "58b1940e",
   "metadata": {
    "execution": {
     "iopub.execute_input": "2022-01-11T12:48:38.081641Z",
     "iopub.status.busy": "2022-01-11T12:48:38.080952Z",
     "iopub.status.idle": "2022-01-11T12:48:38.086325Z",
     "shell.execute_reply": "2022-01-11T12:48:38.086865Z",
     "shell.execute_reply.started": "2022-01-11T01:58:10.90034Z"
    },
    "papermill": {
     "duration": 0.041054,
     "end_time": "2022-01-11T12:48:38.087030",
     "exception": false,
     "start_time": "2022-01-11T12:48:38.045976",
     "status": "completed"
    },
    "tags": []
   },
   "outputs": [],
   "source": [
    "\n",
    "\n",
    "#第一届 jigsaw比赛 数据（challenge） Toxic Comment Classification Challenge\n",
    "\n",
    "jc_path=os.path.join(system_path,\"jigsaw-toxic-comment-classification-challenge\")\n",
    "jc_trans_path=os.path.join(system_path,\"jc-trans\")\n",
    "#ruddit 数据\\\n",
    "run_path=os.path.join(system_path,\"ruddit-jigsaw-dataset/Dataset\")\n",
    "#第二届 jigsaw比赛 对少数人群不歧视\n",
    "juc_path=os.path.join(system_path,\"jigsaw-unintended-bias-in-toxicity-classification\")\n",
    "\n",
    "#本次比赛数据 作为val\n",
    "jts_path=os.path.join(system_path,\"jigsaw-toxic-severity-rating\")\n",
    "\n",
    "# #数据抽样存储路径\n",
    "gbm_save_path=os.path.join(out_path,\"gbm\")\n",
    "ridge_save_path=os.path.join(out_path,\"ridge\")"
   ]
  },
  {
   "cell_type": "code",
   "execution_count": 8,
   "id": "4d6a98b6",
   "metadata": {
    "execution": {
     "iopub.execute_input": "2022-01-11T12:48:38.153515Z",
     "iopub.status.busy": "2022-01-11T12:48:38.152790Z",
     "iopub.status.idle": "2022-01-11T12:48:38.825989Z",
     "shell.execute_reply": "2022-01-11T12:48:38.825185Z",
     "shell.execute_reply.started": "2022-01-11T01:58:10.913456Z"
    },
    "papermill": {
     "duration": 0.707529,
     "end_time": "2022-01-11T12:48:38.826139",
     "exception": false,
     "start_time": "2022-01-11T12:48:38.118610",
     "status": "completed"
    },
    "tags": []
   },
   "outputs": [],
   "source": [
    "#验证集和测试集\n",
    "df_val = pd.read_csv(os.path.join(jts_path,\"validation_data.csv\"))\n",
    "\n",
    "df_test = pd.read_csv(os.path.join(jts_path,\"comments_to_score.csv\"))"
   ]
  },
  {
   "cell_type": "markdown",
   "id": "62242ea4",
   "metadata": {
    "papermill": {
     "duration": 0.032335,
     "end_time": "2022-01-11T12:48:38.890796",
     "exception": false,
     "start_time": "2022-01-11T12:48:38.858461",
     "status": "completed"
    },
    "tags": []
   },
   "source": [
    "导入数据"
   ]
  },
  {
   "cell_type": "code",
   "execution_count": 9,
   "id": "2dc5d7bb",
   "metadata": {
    "execution": {
     "iopub.execute_input": "2022-01-11T12:48:38.962825Z",
     "iopub.status.busy": "2022-01-11T12:48:38.962141Z",
     "iopub.status.idle": "2022-01-11T12:48:42.868428Z",
     "shell.execute_reply": "2022-01-11T12:48:42.867711Z",
     "shell.execute_reply.started": "2022-01-11T01:58:11.613112Z"
    },
    "papermill": {
     "duration": 3.945802,
     "end_time": "2022-01-11T12:48:42.868642",
     "exception": false,
     "start_time": "2022-01-11T12:48:38.922840",
     "status": "completed"
    },
    "tags": []
   },
   "outputs": [
    {
     "name": "stdout",
     "output_type": "stream",
     "text": [
      "comments with toxic behaviour:22468\n"
     ]
    }
   ],
   "source": [
    "#第一届比赛数据 以0/1为分值 \n",
    "features = [\"toxic\",\"severe_toxic\",\"obscene\",\"threat\",\"insult\",\"identity_hate\"]\n",
    "\n",
    "jc_train_df = pd.read_csv(os.path.join(jc_path,\"train.csv\"))\n",
    "jc_test_df = pd.read_csv(os.path.join(jc_path,\"test.csv\"))\n",
    "temp_df = pd.read_csv(os.path.join(jc_path,\"test_labels.csv\"))\n",
    "\n",
    "jc_test_df = jc_test_df.merge ( temp_df, on =\"id\")\n",
    "#drop test data not used for scoring\n",
    "jc_test_df = jc_test_df.query (\"toxic != -1\")\n",
    "jc_test_df=jc_test_df[jc_test_df[features].sum(axis=1)>0]\n",
    "\n",
    "jc_df = jc_train_df.append ( jc_test_df ) \n",
    "\n",
    "# jc_df=jc_train_df\n",
    "\n",
    "# 将代表有毒行为的筛选出来\n",
    "jc_df[\"toxic_subtype_sum\"]=jc_df[features].sum(axis=1)\n",
    "jc_df[\"toxic_behaviour\"]=jc_df[\"toxic_subtype_sum\"].map(lambda x: x > 0)\n",
    "\n",
    "tot_toxic_behaviour = jc_df[\"toxic_behaviour\"].sum()\n",
    "print(f'comments with toxic behaviour:{tot_toxic_behaviour}')\n",
    "jc_df=jc_df.reset_index(drop=True)"
   ]
  },
  {
   "cell_type": "code",
   "execution_count": 10,
   "id": "5d622848",
   "metadata": {
    "execution": {
     "iopub.execute_input": "2022-01-11T12:48:42.943181Z",
     "iopub.status.busy": "2022-01-11T12:48:42.941785Z",
     "iopub.status.idle": "2022-01-11T12:48:43.009069Z",
     "shell.execute_reply": "2022-01-11T12:48:43.009603Z",
     "shell.execute_reply.started": "2022-01-11T01:58:15.686915Z"
    },
    "papermill": {
     "duration": 0.10862,
     "end_time": "2022-01-11T12:48:43.009794",
     "exception": false,
     "start_time": "2022-01-11T12:48:42.901174",
     "status": "completed"
    },
    "tags": []
   },
   "outputs": [
    {
     "data": {
      "text/plain": [
       "(165814, 9)"
      ]
     },
     "execution_count": 10,
     "metadata": {},
     "output_type": "execute_result"
    }
   ],
   "source": [
    "#第一届比赛 数据预处理\n",
    "# toxic = 1.0\n",
    "# severe_toxic = 2.0\n",
    "# obscene = 1.0\n",
    "# threat = 1.0\n",
    "# insult = 1.0\n",
    "# identity_hate = 2.0\n",
    "cat_mtpl = {'obscene': 0.16, 'toxic': 0.32, 'threat': 1.5, \n",
    "            'insult': 0.64, 'severe_toxic': 1.5, 'identity_hate': 1.5}\n",
    "PSEUDO_LABEL_WEIGHT = 0.033\n",
    "toxic_labels=[k for k in cat_mtpl.keys()]\n",
    "def create_train (df):\n",
    "    \n",
    "    for category in cat_mtpl:\n",
    "        df[category] = df[category] * cat_mtpl[category]\n",
    "    df['y'] = df.loc[:, toxic_labels].sum(axis=1)\n",
    "    \n",
    "    \n",
    "    df = df[[\"id\",'comment_text', 'y', 'toxic', 'severe_toxic', 'obscene', 'threat', 'insult', 'identity_hate']].rename(columns={'comment_text': 'text'})\n",
    "    return df\n",
    "        \n",
    "jc_df = create_train (jc_df)\n",
    "jc_df.shape"
   ]
  },
  {
   "cell_type": "code",
   "execution_count": 11,
   "id": "b85f0762",
   "metadata": {
    "execution": {
     "iopub.execute_input": "2022-01-11T12:48:43.086384Z",
     "iopub.status.busy": "2022-01-11T12:48:43.085487Z",
     "iopub.status.idle": "2022-01-11T12:48:43.088827Z",
     "shell.execute_reply": "2022-01-11T12:48:43.088185Z",
     "shell.execute_reply.started": "2022-01-11T01:58:15.761145Z"
    },
    "papermill": {
     "duration": 0.045506,
     "end_time": "2022-01-11T12:48:43.088977",
     "exception": false,
     "start_time": "2022-01-11T12:48:43.043471",
     "status": "completed"
    },
    "tags": []
   },
   "outputs": [],
   "source": [
    "# pseudo = pd.read_csv('../input/toxic-public-dataframes/old_pseudo_label.csv')\n",
    "# comment_to_pseudo_label = pseudo.set_index('comment_text').to_dict()['score']\n",
    "# jc_df['soft_pseudo_label_score'] = jc_df.text.map(comment_to_pseudo_label)\n",
    "\n",
    "# jc_df.y = jc_df.y + PSEUDO_LABEL_WEIGHT*jc_df.soft_pseudo_label_score\n"
   ]
  },
  {
   "cell_type": "code",
   "execution_count": 12,
   "id": "f61e7754",
   "metadata": {
    "execution": {
     "iopub.execute_input": "2022-01-11T12:48:43.167009Z",
     "iopub.status.busy": "2022-01-11T12:48:43.166198Z",
     "iopub.status.idle": "2022-01-11T12:48:54.184256Z",
     "shell.execute_reply": "2022-01-11T12:48:54.183323Z",
     "shell.execute_reply.started": "2022-01-11T01:58:15.767732Z"
    },
    "papermill": {
     "duration": 11.058603,
     "end_time": "2022-01-11T12:48:54.184422",
     "exception": false,
     "start_time": "2022-01-11T12:48:43.125819",
     "status": "completed"
    },
    "tags": []
   },
   "outputs": [],
   "source": [
    "#jc 翻译数据处理\n",
    "jc_trans=pd.read_csv(os.path.join(jc_trans_path,\"jc_trans.csv\"))\n",
    "jc_trans.set_index([\"Unnamed: 0\"], inplace=True)\n",
    "def translation_df(jc_trans,language_text):\n",
    "    df=pd.merge(jc_df,jc_trans[[\"id\",language_text]],on=\"id\",how=\"left\")\n",
    "    df[\"text\"]=df.apply(lambda row:row[\"text\"] if pd.isna(row[language_text]) else row[language_text],axis=1)\n",
    "    df.drop([language_text],axis=1,inplace=True)\n",
    "    return df\n",
    "jc_fr_df=translation_df(jc_trans,\"fr_text\")\n",
    "jc_es_df=translation_df(jc_trans,\"es_text\")\n",
    "jc_de_df=translation_df(jc_trans,\"de_text\")"
   ]
  },
  {
   "cell_type": "code",
   "execution_count": 13,
   "id": "a86c82dd",
   "metadata": {
    "code_folding": [],
    "execution": {
     "iopub.execute_input": "2022-01-11T12:48:54.253543Z",
     "iopub.status.busy": "2022-01-11T12:48:54.252844Z",
     "iopub.status.idle": "2022-01-11T12:49:37.627362Z",
     "shell.execute_reply": "2022-01-11T12:49:37.626585Z",
     "shell.execute_reply.started": "2022-01-11T01:58:27.085821Z"
    },
    "papermill": {
     "duration": 43.410089,
     "end_time": "2022-01-11T12:49:37.627561",
     "exception": false,
     "start_time": "2022-01-11T12:48:54.217472",
     "status": "completed"
    },
    "tags": []
   },
   "outputs": [
    {
     "name": "stdout",
     "output_type": "stream",
     "text": [
      "juc_df:(601044, 46)\n"
     ]
    }
   ],
   "source": [
    "# 第二届比赛 以打分形式0~1\n",
    "features = [\"toxicity\",\"severe_toxicity\",\"obscene\",\"insult\",\"identity_attack\", \"sexual_explicit\"]\n",
    "cols = ['id', 'comment_text', 'toxicity', 'severe_toxicity', 'obscene', 'threat','insult', 'identity_attack', 'sexual_explicit', 'toxicity_annotator_count']\n",
    "\n",
    "juc_df = pd.read_csv(os.path.join(juc_path,\"all_data.csv\"))\n",
    "\n",
    "juc_df = juc_df.query (\"toxicity_annotator_count > 5\")\n",
    "print(f\"juc_df:{juc_df.shape}\")\n",
    "juc_df['y'] = juc_df[[ 'severe_toxicity', 'obscene', 'sexual_explicit','identity_attack', 'insult', 'threat']].sum(axis=1)\n",
    "\n",
    "#毒性<0.5 按标注 否则算所有有毒行为的标注和\n",
    "juc_df['y'] = juc_df.apply(lambda row: row[\"toxicity\"] if row[\"toxicity\"] <= 1 else row[\"y\"] , axis=1)\n",
    "juc_df = juc_df[['comment_text', 'y']].rename(columns={'comment_text': 'text'})\n",
    "# min_len = (juc_df['y'] > 0.5).sum()\n"
   ]
  },
  {
   "cell_type": "code",
   "execution_count": 14,
   "id": "e61a31d6",
   "metadata": {
    "code_folding": [],
    "execution": {
     "iopub.execute_input": "2022-01-11T12:49:37.701807Z",
     "iopub.status.busy": "2022-01-11T12:49:37.700811Z",
     "iopub.status.idle": "2022-01-11T12:49:37.811145Z",
     "shell.execute_reply": "2022-01-11T12:49:37.810347Z",
     "shell.execute_reply.started": "2022-01-11T01:59:10.223148Z"
    },
    "papermill": {
     "duration": 0.150553,
     "end_time": "2022-01-11T12:49:37.811335",
     "exception": false,
     "start_time": "2022-01-11T12:49:37.660782",
     "status": "completed"
    },
    "tags": []
   },
   "outputs": [
    {
     "name": "stdout",
     "output_type": "stream",
     "text": [
      "rud_df:(5838, 5)\n"
     ]
    }
   ],
   "source": [
    "#ruddit 数据\n",
    "rud_df = pd.read_csv(os.path.join(run_path,\"ruddit_with_text.csv\"))\n",
    "\n",
    "print(f\"rud_df:{rud_df.shape}\")\n",
    "rud_df['y'] = rud_df['offensiveness_score'].map(lambda x: 0.0 if x <=0 else x)\n",
    "# rud_df['y'] = rud_df['offensiveness_score']\n",
    "\n",
    "rud_df = rud_df[['txt', 'y']].rename(columns={'txt': 'text'})\n",
    "dele_flag=\"[deleted]\"\n",
    "rud_df=rud_df.query(\"text!=@dele_flag\")"
   ]
  },
  {
   "cell_type": "code",
   "execution_count": 15,
   "id": "3f6ee370",
   "metadata": {
    "code_folding": [],
    "execution": {
     "iopub.execute_input": "2022-01-11T12:49:37.883473Z",
     "iopub.status.busy": "2022-01-11T12:49:37.882636Z",
     "iopub.status.idle": "2022-01-11T12:49:37.900519Z",
     "shell.execute_reply": "2022-01-11T12:49:37.899694Z",
     "shell.execute_reply.started": "2022-01-11T01:59:10.334884Z"
    },
    "papermill": {
     "duration": 0.054768,
     "end_time": "2022-01-11T12:49:37.900673",
     "exception": false,
     "start_time": "2022-01-11T12:49:37.845905",
     "status": "completed"
    },
    "tags": []
   },
   "outputs": [],
   "source": [
    "#clean data\n",
    "def clean1(text):\n",
    "\n",
    "    # Clean some punctutations\n",
    "    text=re.sub(r'\\n', r' \\n ',text)\n",
    "    text=re.sub(r'([a-zA-Z]+)([/!?.])([a-zA-Z]+)',r'\\1 \\2 \\3',text)\n",
    "    \n",
    "    # Replace repeating characters more than 3 times to length of 3\n",
    "    text=re.sub(r'([*!?\\'])\\1\\1{2,}',r'\\1\\1\\1',text)\n",
    "    \n",
    "    # Add space around repeating characters\n",
    "    text=re.sub(r'([*!?\\']+)',r' \\1 ',text)\n",
    "    \n",
    "    # patterns with repeating characters \n",
    "    text=re.sub(r'([a-zA-Z])\\1{2,}\\b',r'\\1\\1',text)\n",
    "    text=re.sub(r'([a-zA-Z])\\1\\1{2,}\\B',r'\\1\\1\\1',text)\n",
    "    text=re.sub(r'[ ]{2,}',' ',text)\n",
    "    text = text.strip()\n",
    "    \n",
    "    return text\n",
    "\n",
    "\n",
    "def clean2(text):\n",
    "    '''\n",
    "    Cleans text into a basic form for NLP. Operations include the following:-\n",
    "    1. Remove special charecters like &, #, etc\n",
    "    2. Removes extra spaces\n",
    "    3. Removes embedded URL links\n",
    "    4. Removes HTML tags\n",
    "    5. Removes emojis\n",
    "    \n",
    "    text - Text piece to be cleaned.\n",
    "    '''\n",
    "    template = re.compile(r'https?://\\S+|www\\.\\S+') #Removes website links\n",
    "    text = template.sub(r'', text)\n",
    "    \n",
    "    soup = BeautifulSoup(text, 'lxml') #Removes HTML tags\n",
    "    only_text = soup.get_text()\n",
    "    text = only_text\n",
    "    \n",
    "    emoji_pattern = re.compile(\"[\"\n",
    "                               u\"\\U0001F600-\\U0001F64F\"  # emoticons\n",
    "                               u\"\\U0001F300-\\U0001F5FF\"  # symbols & pictographs\n",
    "                               u\"\\U0001F680-\\U0001F6FF\"  # transport & map symbols\n",
    "                               u\"\\U0001F1E0-\\U0001F1FF\"  # flags (iOS)\n",
    "                               u\"\\U00002702-\\U000027B0\"\n",
    "                               u\"\\U000024C2-\\U0001F251\"\n",
    "                               \"]+\", flags=re.UNICODE)\n",
    "    text = emoji_pattern.sub(r'', text)\n",
    "    \n",
    "    text = re.sub(r\"[^a-zA-Z\\d]\", \" \", text) #Remove special Charecters\n",
    "    text = re.sub(' +', ' ', text) #Remove Extra Spaces\n",
    "    text = text.strip() # remove spaces at the beginning and at the end of string\n",
    "\n",
    "    return text\n",
    "def clean3(text):\n",
    "    '''\n",
    "    1+2\n",
    "    '''\n",
    "    text=re.sub(r'\\n', r' \\n ',text)\n",
    "    text=re.sub(r'([a-zA-Z]+)([/!?.])([a-zA-Z]+)',r'\\1 \\2 \\3',text)\n",
    "    \n",
    "    # Replace repeating characters more than 3 times to length of 3\n",
    "    text=re.sub(r'([*!?\\'])\\1\\1{2,}',r'\\1\\1\\1',text)\n",
    "    \n",
    "    # Add space around repeating characters\n",
    "    text=re.sub(r'([*!?\\']+)',r' \\1 ',text)\n",
    "    \n",
    "    # patterns with repeating characters \n",
    "    text=re.sub(r'([a-zA-Z])\\1{2,}\\b',r'\\1\\1',text)\n",
    "    text=re.sub(r'([a-zA-Z])\\1\\1{2,}\\B',r'\\1\\1\\1',text)\n",
    "    text=re.sub(r'[ ]{2,}',' ',text)\n",
    "    text = text.strip()\n",
    "    \n",
    "    template = re.compile(r'https?://\\S+|www\\.\\S+') #Removes website links\n",
    "    text = template.sub(r'', text)\n",
    "    \n",
    "    soup = BeautifulSoup(text, 'lxml') #Removes HTML tags\n",
    "    only_text = soup.get_text()\n",
    "    text = only_text\n",
    "    \n",
    "    emoji_pattern = re.compile(\"[\"\n",
    "                               u\"\\U0001F600-\\U0001F64F\"  # emoticons\n",
    "                               u\"\\U0001F300-\\U0001F5FF\"  # symbols & pictographs\n",
    "                               u\"\\U0001F680-\\U0001F6FF\"  # transport & map symbols\n",
    "                               u\"\\U0001F1E0-\\U0001F1FF\"  # flags (iOS)\n",
    "                               u\"\\U00002702-\\U000027B0\"\n",
    "                               u\"\\U000024C2-\\U0001F251\"\n",
    "                               \"]+\", flags=re.UNICODE)\n",
    "    text = emoji_pattern.sub(r'', text)\n",
    "    \n",
    "    text = re.sub(r\"[^a-zA-Z\\d]\", \" \", text) #Remove special Charecters\n",
    "    text = re.sub(' +', ' ', text) #Remove Extra Spaces\n",
    "    text = text.strip() # remove spaces at the beginning and at the end of string\n",
    "\n",
    "    return text\n"
   ]
  },
  {
   "cell_type": "code",
   "execution_count": 16,
   "id": "2d13ef69",
   "metadata": {
    "code_folding": [
     0
    ],
    "execution": {
     "iopub.execute_input": "2022-01-11T12:49:37.974736Z",
     "iopub.status.busy": "2022-01-11T12:49:37.973644Z",
     "iopub.status.idle": "2022-01-11T12:49:37.978182Z",
     "shell.execute_reply": "2022-01-11T12:49:37.978810Z",
     "shell.execute_reply.started": "2022-01-11T01:59:10.355724Z"
    },
    "papermill": {
     "duration": 0.042555,
     "end_time": "2022-01-11T12:49:37.979015",
     "exception": false,
     "start_time": "2022-01-11T12:49:37.936460",
     "status": "completed"
    },
    "tags": []
   },
   "outputs": [],
   "source": [
    "# test_clean_df = pd.DataFrame({\"text\":\n",
    "#                               [\"heyy\\n\\nkkdsfj\",\n",
    "#                                \"hi   how/are/you ???\",\n",
    "#                                \"hey?????\",\n",
    "#                                \"hey????? 18.98.333.20 18.98.\",\n",
    "#                                \"noooo!!!!!!!!!   comeone !! \",\n",
    "#                               \"cooooooooool     brooooooooooo  coool brooo\",\n",
    "#                               \"naaaahhhhhhh\"]})\n",
    "# display(test_clean_df)"
   ]
  },
  {
   "cell_type": "code",
   "execution_count": 17,
   "id": "5e61aab1",
   "metadata": {
    "execution": {
     "iopub.execute_input": "2022-01-11T12:49:38.049912Z",
     "iopub.status.busy": "2022-01-11T12:49:38.048866Z",
     "iopub.status.idle": "2022-01-11T12:51:35.754577Z",
     "shell.execute_reply": "2022-01-11T12:51:35.753710Z",
     "shell.execute_reply.started": "2022-01-11T01:59:10.37313Z"
    },
    "papermill": {
     "duration": 117.742647,
     "end_time": "2022-01-11T12:51:35.754772",
     "exception": false,
     "start_time": "2022-01-11T12:49:38.012125",
     "status": "completed"
    },
    "tags": []
   },
   "outputs": [
    {
     "name": "stderr",
     "output_type": "stream",
     "text": [
      "100%|██████████| 165814/165814 [00:55<00:00, 2965.16it/s]\n",
      "100%|██████████| 165814/165814 [01:01<00:00, 2686.41it/s]\n"
     ]
    }
   ],
   "source": [
    "tqdm.pandas()\n",
    "# clean 数据\n",
    "def clean_df(df,clean_type):\n",
    "    clean_df=df.copy()\n",
    "    \n",
    "    if clean_type==1:\n",
    "        \n",
    "        clean_df['text']=clean_df['text'].progress_apply(clean1)\n",
    "    elif clean_type==2:\n",
    "        \n",
    "        clean_df['text']=clean_df['text'].progress_apply(clean2)\n",
    "    elif clean_type==3:\n",
    "        clean_df['text']=clean_df['text'].progress_apply(clean3)\n",
    "    return clean_df\n",
    "jcc1_df=clean_df(jc_df,1)\n",
    "jcc2_df=clean_df(jc_df,2)\n",
    "# jcc3_df=clean_df(jc_df,3)"
   ]
  },
  {
   "cell_type": "markdown",
   "id": "facc89cc",
   "metadata": {
    "papermill": {
     "duration": 0.35057,
     "end_time": "2022-01-11T12:51:36.460040",
     "exception": false,
     "start_time": "2022-01-11T12:51:36.109470",
     "status": "completed"
    },
    "tags": []
   },
   "source": [
    "# 消重"
   ]
  },
  {
   "cell_type": "code",
   "execution_count": 18,
   "id": "ff82489d",
   "metadata": {
    "code_folding": [],
    "execution": {
     "iopub.execute_input": "2022-01-11T12:51:37.170029Z",
     "iopub.status.busy": "2022-01-11T12:51:37.169282Z",
     "iopub.status.idle": "2022-01-11T12:51:37.683855Z",
     "shell.execute_reply": "2022-01-11T12:51:37.684390Z",
     "shell.execute_reply.started": "2022-01-11T02:01:08.159306Z"
    },
    "papermill": {
     "duration": 0.87023,
     "end_time": "2022-01-11T12:51:37.684578",
     "exception": false,
     "start_time": "2022-01-11T12:51:36.814348",
     "status": "completed"
    },
    "tags": []
   },
   "outputs": [
    {
     "name": "stdout",
     "output_type": "stream",
     "text": [
      "(30108, 3)\n"
     ]
    },
    {
     "data": {
      "text/plain": [
       "(6489, 3)"
      ]
     },
     "execution_count": 18,
     "metadata": {},
     "output_type": "execute_result"
    }
   ],
   "source": [
    "# 消除jc中重叠数据\n",
    "df_jc_val = pd.read_csv(os.path.join(jts_path,\"validation_data.csv\"))\n",
    "print(df_jc_val.shape)\n",
    "\n",
    "\n",
    "# Find cases already present in toxic data\n",
    "\n",
    "df_jc_val = pd.merge(df_jc_val, jc_df.loc[:,['text']], \n",
    "                  left_on = 'less_toxic', \n",
    "                  right_on = 'text', how='left')\n",
    "\n",
    "df_jc_val = pd.merge(df_jc_val, jc_df.loc[:,['text']], \n",
    "                  left_on = 'more_toxic', \n",
    "                  right_on = 'text', how='left')\n",
    "\n",
    "# Removing those cases\n",
    "# df_jc_val = df_jc_val[(~df_jc_val.text_x.isna()) | (~df_jc_val.text_y.isna())][['worker', 'less_toxic', 'more_toxic']]\n",
    "df_jc_val = df_jc_val[(df_jc_val.text_x.isna()) & (df_jc_val.text_y.isna())][['worker', 'less_toxic', 'more_toxic']]\n",
    "\n",
    "df_jc_val.shape"
   ]
  },
  {
   "cell_type": "markdown",
   "id": "432366f1",
   "metadata": {
    "papermill": {
     "duration": 0.354679,
     "end_time": "2022-01-11T12:51:38.396696",
     "exception": false,
     "start_time": "2022-01-11T12:51:38.042017",
     "status": "completed"
    },
    "tags": []
   },
   "source": [
    "### aug_trans"
   ]
  },
  {
   "cell_type": "code",
   "execution_count": 19,
   "id": "e20bd967",
   "metadata": {
    "code_folding": [],
    "execution": {
     "iopub.execute_input": "2022-01-11T12:51:39.107925Z",
     "iopub.status.busy": "2022-01-11T12:51:39.106966Z",
     "iopub.status.idle": "2022-01-11T12:51:39.113187Z",
     "shell.execute_reply": "2022-01-11T12:51:39.113710Z",
     "shell.execute_reply.started": "2022-01-11T02:01:09.023536Z"
    },
    "papermill": {
     "duration": 0.363409,
     "end_time": "2022-01-11T12:51:39.113883",
     "exception": false,
     "start_time": "2022-01-11T12:51:38.750474",
     "status": "completed"
    },
    "tags": []
   },
   "outputs": [],
   "source": [
    "if translate_aug==True:\n",
    "    jc_trans=pd.read_csv(os.path.join(jc_trans_path,\"jc_trans.csv\"))\n",
    "    jc_trans.set_index([\"Unnamed: 0\"], inplace=True)\n",
    "\n",
    "    jc_df=pd.merge(jc_df,jc_trans[[\"id\",\"fr_text\"]],on=\"id\",how=\"left\")\n",
    "    jc_df=pd.merge(jc_df,jc_trans[[\"id\",\"es_text\"]],on=\"id\",how=\"left\")\n",
    "    jc_df=pd.merge(jc_df,jc_trans[[\"id\",\"de_text\"]],on=\"id\",how=\"left\")"
   ]
  },
  {
   "cell_type": "markdown",
   "id": "a73685e1",
   "metadata": {
    "papermill": {
     "duration": 0.354001,
     "end_time": "2022-01-11T12:51:39.819895",
     "exception": false,
     "start_time": "2022-01-11T12:51:39.465894",
     "status": "completed"
    },
    "tags": []
   },
   "source": [
    "## 分值显示"
   ]
  },
  {
   "cell_type": "code",
   "execution_count": 20,
   "id": "2908c2bc",
   "metadata": {
    "code_folding": [
     0
    ],
    "execution": {
     "iopub.execute_input": "2022-01-11T12:51:40.529911Z",
     "iopub.status.busy": "2022-01-11T12:51:40.528945Z",
     "iopub.status.idle": "2022-01-11T12:51:40.535426Z",
     "shell.execute_reply": "2022-01-11T12:51:40.534882Z",
     "shell.execute_reply.started": "2022-01-11T02:01:09.031474Z"
    },
    "papermill": {
     "duration": 0.360869,
     "end_time": "2022-01-11T12:51:40.535607",
     "exception": false,
     "start_time": "2022-01-11T12:51:40.174738",
     "status": "completed"
    },
    "tags": []
   },
   "outputs": [],
   "source": [
    "def show_data(train_df):\n",
    "    printed = []\n",
    "    for i in sorted(train_df.y.unique()):\n",
    "        n = np.round(i, 2) \n",
    "        if n in printed:\n",
    "            continue\n",
    "        printed.append(n)\n",
    "        print(f\"{len(printed):<3}: {i:.5f}\\t{repr(np.random.choice(train_df[train_df.y==i]['text']))[:300]}\")"
   ]
  },
  {
   "cell_type": "markdown",
   "id": "5cbe2c87",
   "metadata": {
    "papermill": {
     "duration": 0.370477,
     "end_time": "2022-01-11T12:51:41.287643",
     "exception": false,
     "start_time": "2022-01-11T12:51:40.917166",
     "status": "completed"
    },
    "tags": []
   },
   "source": [
    "# create fold"
   ]
  },
  {
   "cell_type": "code",
   "execution_count": 21,
   "id": "e2351610",
   "metadata": {
    "code_folding": [
     0
    ],
    "execution": {
     "iopub.execute_input": "2022-01-11T12:51:42.013585Z",
     "iopub.status.busy": "2022-01-11T12:51:42.008092Z",
     "iopub.status.idle": "2022-01-11T12:51:42.016820Z",
     "shell.execute_reply": "2022-01-11T12:51:42.016255Z",
     "shell.execute_reply.started": "2022-01-11T02:01:09.044499Z"
    },
    "papermill": {
     "duration": 0.372015,
     "end_time": "2022-01-11T12:51:42.016973",
     "exception": false,
     "start_time": "2022-01-11T12:51:41.644958",
     "status": "completed"
    },
    "tags": []
   },
   "outputs": [],
   "source": [
    "def create_fold_kfold(df,FOLDS=5,select_num=0.5,frac_1=1.5,balance=False):\n",
    "    #select num challenge:1 unbias:0.5  \n",
    "\n",
    "    min_len = (df['y'] >= select_num).sum()\n",
    "    if balance==False:\n",
    "        #采样负样本\n",
    "        df_y0_undersample = df[df['y'] <select_num].sample(n=int(min_len*frac_1),random_state=201)\n",
    "        df = pd.concat([df[-(df['y'] <select_num)], df_y0_undersample])\n",
    "        df=df.reset_index(drop=True)\n",
    "    y=df[\"y\"].values\n",
    "    x=df[\"text\"]\n",
    "    stratified = np.around (y)\n",
    "    \n",
    "    kf = StratifiedKFold(n_splits=FOLDS,shuffle=True,random_state=123)\n",
    "    df_dict={}\n",
    "    for fold,(train_index,val_index) in enumerate(kf.split(x,stratified)):\n",
    "        df_train=df.iloc[train_index]\n",
    "        df_dict[fold]=df_train\n",
    "    \n",
    "    return df_dict\n",
    "\n",
    "def create_fold_sample(df,n_folds=3,frac_1=0.8,frac_1_factor=1.5,select_num=0,balance=False,translate=False):\n",
    "    df_dict={}\n",
    "    #正样本 大于等于select_num\n",
    "    select_list=-(df['y'] <select_num)\n",
    "    min_len=select_list.sum()\n",
    "    if translate==True:\n",
    "        min_len=4*min_len\n",
    "    for fld in range(n_folds):\n",
    "        if balance==False:\n",
    "#             df_y0_undersample=df[df.y<select_num].sample(n=int(min_len*frac_1*frac_1_factor), random_state = 10*(fld+1))\n",
    "            df_y0_undersample=df[df.y<select_num].sample(n=int(min_len*frac_1*frac_1_factor), random_state = 201)\n",
    "\n",
    "            tmp_df = pd.concat([df[select_list].sample(frac=frac_1, random_state = 10*(fld+1)),df_y0_undersample ])\n",
    "        else:\n",
    "            tmp_df = df.sample(frac=frac_1, random_state = 10*(fld+1))\n",
    "            \n",
    "        df_dict[fld]=tmp_df\n",
    "\n",
    "    return df_dict\n"
   ]
  },
  {
   "cell_type": "code",
   "execution_count": 22,
   "id": "d5125fc2",
   "metadata": {
    "code_folding": [
     0
    ],
    "execution": {
     "iopub.execute_input": "2022-01-11T12:51:42.749928Z",
     "iopub.status.busy": "2022-01-11T12:51:42.749270Z",
     "iopub.status.idle": "2022-01-11T12:51:42.753055Z",
     "shell.execute_reply": "2022-01-11T12:51:42.753588Z",
     "shell.execute_reply.started": "2022-01-11T02:01:09.061306Z"
    },
    "papermill": {
     "duration": 0.359622,
     "end_time": "2022-01-11T12:51:42.753758",
     "exception": false,
     "start_time": "2022-01-11T12:51:42.394136",
     "status": "completed"
    },
    "tags": []
   },
   "outputs": [],
   "source": [
    "if is_test==True:\n",
    "    jc_df=jc_df[0:400]\n",
    "    juc_df=juc_df[0:400]\n",
    "    rud_df=rud_df[0:400]\n",
    "    jcc_df=jcc_df[0:400]"
   ]
  },
  {
   "cell_type": "code",
   "execution_count": 23,
   "id": "25064dd3",
   "metadata": {
    "code_folding": [],
    "execution": {
     "iopub.execute_input": "2022-01-11T12:51:43.481265Z",
     "iopub.status.busy": "2022-01-11T12:51:43.480551Z",
     "iopub.status.idle": "2022-01-11T12:51:43.842520Z",
     "shell.execute_reply": "2022-01-11T12:51:43.841897Z",
     "shell.execute_reply.started": "2022-01-11T02:01:09.07722Z"
    },
    "papermill": {
     "duration": 0.726049,
     "end_time": "2022-01-11T12:51:43.842682",
     "exception": false,
     "start_time": "2022-01-11T12:51:43.116633",
     "status": "completed"
    },
    "tags": []
   },
   "outputs": [],
   "source": [
    "if is_test==True:\n",
    "#     jc_df_kdict=create_fold_kfold(jc_df,FOLDS=fold_num_k,select_num=1,frac_1=1.5,balance=True)\n",
    "#     juc_df_kdict=create_fold_kfold(juc_df,FOLDS=fold_num_k,select_num=0.5,frac_1=1.5,balance=True)\n",
    "#     rud_df_kdict=create_fold_kfold(rud_df,FOLDS=fold_num_k,select_num=0.5,frac_1=1.5,balance=True)\n",
    "#     jcc_df_kdict=create_fold_kfold(jcc_df,FOLDS=fold_num_k,select_num=1,frac_1=1.5,balance=True)\n",
    "\n",
    "    jc_df_sdict=create_fold_sample(jc_df,n_folds=fold_num_s,frac_1=0.8,frac_1_factor=1.5,select_num=0.001,balance=True,translate=translate_aug)\n",
    "    juc_df_sdict=create_fold_sample(juc_df,n_folds=fold_num_s,frac_1=0.8,frac_1_factor=1.5,select_num=0.5,balance=True)\n",
    "    rud_df_sdict=create_fold_sample(rud_df,n_folds=fold_num_s,frac_1=0.8,frac_1_factor=1.5,select_num=0.5,balance=True)\n",
    "    jcc1_df_sdict=create_fold_sample(jcc1_df,n_folds=fold_num_s,frac_1=0.8,frac_1_factor=1.5,select_num=0.001,balance=True)\n",
    "    jcc2_df_sdict=create_fold_sample(jcc2_df,n_folds=fold_num_s,frac_1=0.8,frac_1_factor=1.5,select_num=0.001,balance=True)\n",
    "    \n",
    "if is_test==False:\n",
    "#     jc_df_kdict=create_fold_kfold(jc_df,FOLDS=fold_num_k,select_num=1,frac_1=1.5,balance=False)\n",
    "#     juc_df_kdict=create_fold_kfold(juc_df,FOLDS=fold_num_k,select_num=0.5,frac_1=1.5,balance=False)\n",
    "#     rud_df_kdict=create_fold_kfold(rud_df,FOLDS=fold_num_k,select_num=0.5,frac_1=1.5,balance=True)\n",
    "#     jcc_df_kdict=create_fold_kfold(jcc_df,FOLDS=fold_num_k,select_num=1,frac_1=1.5,balance=False)\n",
    "\n",
    "    jc_df_sdict=create_fold_sample(jc_df,n_folds=fold_num_s,frac_1=1,frac_1_factor=1.5,select_num=0.001,balance=False,translate=translate_aug)\n",
    "    juc_df_sdict=create_fold_sample(juc_df,n_folds=fold_num_s,frac_1=0.8,frac_1_factor=1,select_num=0.5,balance=False)\n",
    "    rud_df_sdict=create_fold_sample(rud_df,n_folds=fold_num_s,frac_1=1,frac_1_factor=1,select_num=0.5,balance=True)\n",
    "    jcc1_df_sdict=create_fold_sample(jcc1_df,n_folds=fold_num_s,frac_1=1,frac_1_factor=1.5,select_num=0.001,balance=False)\n",
    "    jcc2_df_sdict=create_fold_sample(jcc2_df,n_folds=fold_num_s,frac_1=1,frac_1_factor=1.5,select_num=0.001,balance=False)\n",
    "    jc_fr_df_sdict=create_fold_sample(jc_fr_df,n_folds=fold_num_s,frac_1=1,frac_1_factor=1.5,select_num=0.001,balance=False)\n",
    "    jc_de_df_sdict=create_fold_sample(jc_de_df,n_folds=fold_num_s,frac_1=1,frac_1_factor=1.5,select_num=0.001,balance=False)\n",
    "    jc_es_df_sdict=create_fold_sample(jc_es_df,n_folds=fold_num_s,frac_1=1,frac_1_factor=1.5,select_num=0.001,balance=False)\n",
    "    \n",
    "    \n",
    "#     jc_df_kdict[0].shape\n",
    "#     juc_df_kdict[0].shape\n",
    "#     rud_df_kdict[0].shape\n",
    "#     jcc_df_sdict[0].shape"
   ]
  },
  {
   "cell_type": "code",
   "execution_count": 24,
   "id": "78a0304a",
   "metadata": {
    "execution": {
     "iopub.execute_input": "2022-01-11T12:51:44.551747Z",
     "iopub.status.busy": "2022-01-11T12:51:44.551049Z",
     "iopub.status.idle": "2022-01-11T12:52:14.991878Z",
     "shell.execute_reply": "2022-01-11T12:52:14.990994Z",
     "shell.execute_reply.started": "2022-01-11T02:17:05.161195Z"
    },
    "papermill": {
     "duration": 30.796849,
     "end_time": "2022-01-11T12:52:14.992031",
     "exception": false,
     "start_time": "2022-01-11T12:51:44.195182",
     "status": "completed"
    },
    "tags": []
   },
   "outputs": [],
   "source": [
    "from scipy.sparse import hstack\n",
    "from scipy import sparse\n",
    "from gensim.models import KeyedVectors, FastText\n",
    "\n",
    "fmodel = FastText.load('../input/jigsaw-regression-based-data/FastText-jigsaw-256D/Jigsaw-Fasttext-Word-Embeddings-256D.bin')\n",
    "def splitter(text):\n",
    "    tokens = []\n",
    "    \n",
    "    for word in text.split(' '):\n",
    "        tokens.append(word)\n",
    "    \n",
    "    return tokens\n",
    "\n",
    "def vectorizer(text):\n",
    "    tokens = splitter(text)\n",
    "    \n",
    "    x = np.mean(fmodel.wv[tokens], axis = 0).reshape(1, -1)\n",
    "    \n",
    "    return np.squeeze(x,axis=0)   \n",
    "def text2fasttextarray(text):\n",
    "    X_fast=[]\n",
    "    for t in text:\n",
    "        X_fast.append(vectorizer(t))\n",
    "    X_fast=np.matrix(X_fast)\n",
    "    \n",
    "    return X_fast\n"
   ]
  },
  {
   "cell_type": "code",
   "execution_count": null,
   "id": "5d814862",
   "metadata": {
    "papermill": {
     "duration": 0.352298,
     "end_time": "2022-01-11T12:52:15.720633",
     "exception": false,
     "start_time": "2022-01-11T12:52:15.368335",
     "status": "completed"
    },
    "tags": []
   },
   "outputs": [],
   "source": []
  },
  {
   "cell_type": "markdown",
   "id": "15de8cfd",
   "metadata": {
    "papermill": {
     "duration": 0.352603,
     "end_time": "2022-01-11T12:52:16.428049",
     "exception": false,
     "start_time": "2022-01-11T12:52:16.075446",
     "status": "completed"
    },
    "tags": []
   },
   "source": [
    "# ridge"
   ]
  },
  {
   "cell_type": "code",
   "execution_count": 25,
   "id": "e07b82c9",
   "metadata": {
    "execution": {
     "iopub.execute_input": "2022-01-11T12:52:17.144113Z",
     "iopub.status.busy": "2022-01-11T12:52:17.142982Z",
     "iopub.status.idle": "2022-01-11T12:52:17.173868Z",
     "shell.execute_reply": "2022-01-11T12:52:17.174409Z",
     "shell.execute_reply.started": "2022-01-11T02:21:48.581649Z"
    },
    "papermill": {
     "duration": 0.391866,
     "end_time": "2022-01-11T12:52:17.174612",
     "exception": false,
     "start_time": "2022-01-11T12:52:16.782746",
     "status": "completed"
    },
    "tags": []
   },
   "outputs": [],
   "source": [
    "import joblib\n",
    "def ridge_cv(df_dic,n_folds,model_pre=\"jc_k_ridge_\",df_val=df_val,clean_prm=0,translate=False):\n",
    "    val_preds_arr1 = np.zeros((df_val.shape[0], n_folds))\n",
    "    val_preds_arr2 = np.zeros((df_val.shape[0], n_folds))\n",
    "    test_preds_arr = np.zeros((df_test.shape[0], n_folds))\n",
    "    for fld in tqdm(range(n_folds)):\n",
    "        df = df_dic[fld]\n",
    "        vec = TfidfVectorizer(analyzer='char_wb', max_df=0.5, min_df=3, ngram_range=(3, 5) )\n",
    "        vec_pre=model_pre+\"vec_\"\n",
    "        if translate!=True:\n",
    "            text=df[\"text\"]\n",
    "            y=df[\"y\"]\n",
    "        else:\n",
    "            trans_df=df.dropna(axis=0,subset = [\"fr_text\"])\n",
    "            text=pd.concat([df[\"text\"],trans_df[\"fr_text\"],trans_df[\"es_text\"],trans_df[\"de_text\"]])\n",
    "            y=pd.concat([df[\"y\"],trans_df[\"y\"],trans_df[\"y\"],trans_df[\"y\"]])\n",
    "        X=vec.fit_transform(text)\n",
    "        joblib.dump(vec,os.path.join(ridge_save_path,f'{vec_pre}{fld}.pkl')) #保存模型 文件后缀为.pkl\n",
    "        model=Ridge(alpha=0.5)\n",
    "        model.fit(X,y)\n",
    "        if fast_vec==True:\n",
    "            X_f=text2fasttextarray(text)\n",
    "            model_f=Ridge(alpha=0.5)\n",
    "            model_f.fit(X_f,y)\n",
    "        if clean_prm==1:\n",
    "            X_less_toxic = df_val.apply(lambda row :clean1(row[\"less_toxic\"]),axis=1)\n",
    "            X_more_toxic = df_val.apply(lambda row :clean1(row[\"more_toxic\"]),axis=1)\n",
    "            X_test = df_test.apply(lambda row :clean1(row[\"text\"]),axis=1)\n",
    "    \n",
    "        elif clean_prm==2:\n",
    "            X_less_toxic = df_val.apply(lambda row :clean2(row[\"less_toxic\"]),axis=1)\n",
    "            X_more_toxic = df_val.apply(lambda row :clean2(row[\"more_toxic\"]),axis=1)\n",
    "            X_test = df_test.apply(lambda row :clean2(row[\"text\"]),axis=1)\n",
    "        elif clean_prm==3:\n",
    "            X_less_toxic = df_val.apply(lambda row :clean3(row[\"less_toxic\"]),axis=1)\n",
    "            X_more_toxic = df_val.apply(lambda row :clean3(row[\"more_toxic\"]),axis=1)\n",
    "            X_test = df_test.apply(lambda row :clean3(row[\"text\"]),axis=1)\n",
    "\n",
    "        else:\n",
    "            X_less_toxic = df_val['less_toxic']\n",
    "            X_more_toxic = df_val['more_toxic']\n",
    "            X_test = df_test['text']\n",
    "        if fast_vec==True:\n",
    "            X_less_toxic_f=text2fasttextarray(X_less_toxic)\n",
    "            X_more_toxic_f=text2fasttextarray(X_more_toxic)\n",
    "            X_test_f=text2fasttextarray(X_test)\n",
    "            \n",
    "            val_preds_arr1[:,fld]=model_f.predict(X_less_toxic_f)*fast_factor\n",
    "            val_preds_arr2[:,fld]=model_f.predict(X_more_toxic_f)*fast_factor\n",
    "            test_preds_arr[:,fld]=model_f.predict(X_test_f)*fast_factor\n",
    "            joblib.dump(model,os.path.join(ridge_save_path,f'{model_pre}_f_{fld}.pkl')) #保存模型 文件后缀为.pkl\n",
    "            \n",
    "        X_less_toxic = vec.transform(X_less_toxic)\n",
    "        X_more_toxic = vec.transform(X_more_toxic)\n",
    "        X_test = vec.transform(X_test)\n",
    "        \n",
    "            \n",
    "        val_preds_arr1[:,fld] += model.predict(X_less_toxic)\n",
    "        val_preds_arr2[:,fld] += model.predict(X_more_toxic)\n",
    "\n",
    "        test_preds_arr[:,fld] += model.predict(X_test)\n",
    "            \n",
    "        joblib.dump(model,os.path.join(ridge_save_path,f'{model_pre}{fld}.pkl')) #保存模型 文件后缀为.pkl\n",
    "        del model,vec\n",
    "    p1=val_preds_arr1.mean(axis=1)\n",
    "    p2=val_preds_arr2.mean(axis=1)\n",
    "    pv=test_preds_arr.mean(axis=1)\n",
    "    print(f'Validation Accuracy is { np.round((p1 < p2).mean() * 100,2)}')        \n",
    "    return p1,p2,pv"
   ]
  },
  {
   "cell_type": "markdown",
   "id": "d2faa963",
   "metadata": {
    "papermill": {
     "duration": 0.354538,
     "end_time": "2022-01-11T12:52:17.939804",
     "exception": false,
     "start_time": "2022-01-11T12:52:17.585266",
     "status": "completed"
    },
    "tags": []
   },
   "source": [
    "# lightgbm"
   ]
  },
  {
   "cell_type": "code",
   "execution_count": 26,
   "id": "90df3a5e",
   "metadata": {
    "code_folding": [
     0
    ],
    "execution": {
     "iopub.execute_input": "2022-01-11T12:52:18.658085Z",
     "iopub.status.busy": "2022-01-11T12:52:18.656929Z",
     "iopub.status.idle": "2022-01-11T12:52:18.676193Z",
     "shell.execute_reply": "2022-01-11T12:52:18.676755Z",
     "shell.execute_reply.started": "2022-01-11T02:21:50.667249Z"
    },
    "papermill": {
     "duration": 0.382455,
     "end_time": "2022-01-11T12:52:18.676935",
     "exception": false,
     "start_time": "2022-01-11T12:52:18.294480",
     "status": "completed"
    },
    "tags": []
   },
   "outputs": [],
   "source": [
    "#verbose =-1 忽略警告\n",
    "depth=1000\n",
    "params = {'task':'train',\n",
    "    \"device\" : \"cpu\",\n",
    "    'boosting_type':'gbdt',\n",
    "    \"max_depth\":7,\n",
    "    \"num_leaves\":80,\n",
    "    \"bagging_fraction\":0.8,\n",
    "          \"bagging_freq\":5,\n",
    "    'objective':'regression',\n",
    "    \"learning_rate\":0.05,\n",
    "    \"max_bin\":63,\n",
    "    \"random_state\":2021,\n",
    "    'verbose':-1, \n",
    "    \"train_metric\":False,\n",
    "    \"force_col_wise\":False}\n",
    "\n",
    "\n",
    "def lightgbm_cv(df_dic,n_folds,model_pre=\"jc_k_gbm_\",df_val=df_val,clean_prm=False,translate=False):\n",
    "    ####lightgbm_cv 在aug情况下有bug\n",
    "    val_preds_arr1 = np.zeros((df_val.shape[0], n_folds))\n",
    "    val_preds_arr2 = np.zeros((df_val.shape[0], n_folds))\n",
    "    test_preds_arr = np.zeros((df_test.shape[0], n_folds))\n",
    "\n",
    "    for fld in tqdm(range(n_folds)):\n",
    "        df = df_dic[fld]\n",
    "        vec = TfidfVectorizer(analyzer='char_wb', max_df=0.5, min_df=3, ngram_range=(3, 5) )\n",
    "        if translate!=True:\n",
    "            text=df[\"text\"]\n",
    "            y=df[\"y\"]\n",
    "        else:\n",
    "            trans_df=df.dropna(axis=0,subset = [\"fr_text\"])\n",
    "            text=pd.concat([df[\"text\"],trans_df[\"fr_text\"],trans_df[\"es_text\"],trans_df[\"de_text\"]])\n",
    "            y=pd.concat([df[\"y\"],trans_df[\"y\"],trans_df[\"y\"],trans_df[\"y\"]])\n",
    "\n",
    "        X=vec.fit_transform(text)\n",
    "        vec_pre=model_pre+\"vec_\"\n",
    "        joblib.dump(vec,os.path.join(gbm_save_path,f'{vec_pre}{fld}.pkl')) #保存模型 文件后缀为.pkl\n",
    "        X_train, X_val, y_train, y_val = train_test_split(X,y,test_size = 0.1,random_state = 0)\n",
    "        lgb_train = lgb.Dataset(X_train,y_train)\n",
    "        lgb_eval = lgb.Dataset(X_val,y_val,reference=lgb_train)\n",
    "        \n",
    "        gbm = lgb.train(params,lgb_train,\n",
    "            num_boost_round=300,\n",
    "            valid_sets=lgb_eval,\n",
    "            early_stopping_rounds=50\n",
    "            ) \n",
    "        \n",
    "        if clean_prm==True:\n",
    "            X_less_toxic = vec.transform(clean(df_val,'less_toxic')['less_toxic'])\n",
    "            X_more_toxic = vec.transform(clean(df_val,'more_toxic')['more_toxic'])\n",
    "            X_test = vec.transform(clean(df_test,'text')['text'])\n",
    "        else:\n",
    "            X_less_toxic = vec.transform(df_val['less_toxic'])\n",
    "            X_more_toxic = vec.transform(df_val['more_toxic'])\n",
    "            X_test = vec.transform(df_test['text'])\n",
    "    \n",
    "        val_preds_arr1[:,fld] = gbm.predict(X_less_toxic,num_iteration=gbm.best_iteration)\n",
    "        val_preds_arr2[:,fld] = gbm.predict(X_more_toxic,num_iteration=gbm.best_iteration)\n",
    "\n",
    "        test_preds_arr[:,fld] =gbm.predict(X_test,num_iteration=gbm.best_iteration)\n",
    "        \n",
    "        gbm.save_model(os.path.join(gbm_save_path,f'{model_pre}{fld}.txt'))\n",
    "        # 模型加载\n",
    "#         gbm = lgb.Booster(model_file='model.txt')\n",
    "        # 模型预测\n",
    "#         y_pred = gbm.predict(X_test, num_iteration=gbm.best_iteration)\n",
    "        del gbm,vec\n",
    "    p1=val_preds_arr1.mean(axis=1)\n",
    "    p2=val_preds_arr2.mean(axis=1)\n",
    "    pv=test_preds_arr.mean(axis=1)\n",
    "    print(f'Validation Accuracy is { np.round((p1 < p2).mean() * 100,2)}')        \n",
    "    return p1,p2,pv"
   ]
  },
  {
   "cell_type": "code",
   "execution_count": 27,
   "id": "4d4dd06d",
   "metadata": {
    "execution": {
     "iopub.execute_input": "2022-01-11T12:52:19.392188Z",
     "iopub.status.busy": "2022-01-11T12:52:19.391139Z",
     "iopub.status.idle": "2022-01-11T13:08:12.332753Z",
     "shell.execute_reply": "2022-01-11T13:08:12.329103Z"
    },
    "papermill": {
     "duration": 953.299383,
     "end_time": "2022-01-11T13:08:12.333166",
     "exception": false,
     "start_time": "2022-01-11T12:52:19.033783",
     "status": "completed"
    },
    "tags": []
   },
   "outputs": [
    {
     "name": "stderr",
     "output_type": "stream",
     "text": [
      "100%|██████████| 1/1 [04:58<00:00, 298.56s/it]\n"
     ]
    },
    {
     "name": "stdout",
     "output_type": "stream",
     "text": [
      "Validation Accuracy is 67.52\n"
     ]
    },
    {
     "name": "stderr",
     "output_type": "stream",
     "text": [
      "100%|██████████| 1/1 [02:42<00:00, 162.37s/it]\n"
     ]
    },
    {
     "name": "stdout",
     "output_type": "stream",
     "text": [
      "Validation Accuracy is 66.06\n"
     ]
    },
    {
     "name": "stderr",
     "output_type": "stream",
     "text": [
      "100%|██████████| 1/1 [04:48<00:00, 288.11s/it]\n"
     ]
    },
    {
     "name": "stdout",
     "output_type": "stream",
     "text": [
      "Validation Accuracy is 67.71\n"
     ]
    },
    {
     "name": "stderr",
     "output_type": "stream",
     "text": [
      "100%|██████████| 1/1 [03:23<00:00, 203.40s/it]"
     ]
    },
    {
     "name": "stdout",
     "output_type": "stream",
     "text": [
      "Validation Accuracy is 67.89\n",
      " Validation Accuracy is 68.0284\n"
     ]
    },
    {
     "name": "stderr",
     "output_type": "stream",
     "text": [
      "\n"
     ]
    }
   ],
   "source": [
    "p1=defaultdict()\n",
    "p2=defaultdict()\n",
    "pv=defaultdict()\n",
    "\n",
    "val_data=df_val\n",
    "\n",
    "func_dict={\"ridge\":ridge_cv,\"gbm\":lightgbm_cv}\n",
    "# func_dict.get(x)\n",
    "\n",
    "if Fold_type==1:\n",
    "#     pre_names=[\"jc_k_\",\"juc_k_\",\"rud_k_\",\"jcc_k_\"]\n",
    "    pre_names=[ data_name+\"k_\" for data_name in data_names]\n",
    "    name2dict={\"jc_k_\":jc_df_kdict,\"juc_k_\":juc_df_kdict,\"rud_k_\":rud_df_kdict,\n",
    "               \"jcc1_k_\":jcc1_df_kdict,\"jcc2_k_\":jcc2_df_kdict}\n",
    "    fold_num=fold_num_k\n",
    "elif Fold_type==2:\n",
    "    pre_names=[ data_name+\"s_\" for data_name in data_names]\n",
    "    name2dict={\"jc_s_\":jc_df_sdict,\"juc_s_\":juc_df_sdict,\"rud_s_\":rud_df_sdict,\n",
    "               \"jcc1_s_\":jcc1_df_sdict,\"jcc2_s_\":jcc2_df_sdict,\n",
    "               \"jc_fr_s_\":jc_fr_df_sdict,\"jc_de_s_\":jc_de_df_sdict,\"jc_es_s_\":jc_es_df_sdict}\n",
    "    fold_num=fold_num_s\n",
    "\n",
    "p1_ensenmble = np.zeros((val_data.shape[0]))\n",
    "p2_ensenmble = np.zeros((val_data.shape[0]))\n",
    "score=np.zeros((df_test.shape[0]))\n",
    "\n",
    "for d_index,pre_name in enumerate(pre_names):\n",
    "    ###model_pre_ridge:jc_s_ridge_ pre_name:jc_s_ model:jc_s_ridge_{fold} vec:jc_s_ridge_vec_{fold}\n",
    "    #pre_name jc_s_ model_name jc_s_ridge_\n",
    "    clean_prm=False\n",
    "    translate=False\n",
    "    \n",
    "    p1[pre_name],p2[pre_name]=np.zeros((val_data.shape[0])),np.zeros((val_data.shape[0]))\n",
    "    pv[pre_name]=np.zeros((df_test.shape[0]))\n",
    "    if pre_name in clean_data.keys():\n",
    "        clean_prm=clean_data[pre_name]\n",
    "    if any([ trans_name in pre_name for trans_name in translate_data]) and translate_aug==True:\n",
    "        translate=True\n",
    "\n",
    "    for index,model_name in enumerate(model_choice):\n",
    "        cv_func=func_dict.get(model_name)\n",
    "        model_pre=pre_name+model_name+\"_\"\n",
    "        p1[model_pre],p2[model_pre],pv[model_pre]=cv_func(name2dict[pre_name],n_folds=fold_num,df_val=val_data,\n",
    "                                                        model_pre=model_pre,clean_prm=clean_prm,translate=translate)\n",
    "\n",
    "        p1[pre_name]= p1[pre_name]+ p1[model_pre]*factor[index]\n",
    "        p2[pre_name]= p2[pre_name]+ p2[model_pre]*factor[index]\n",
    "        pv[pre_name]= pv[pre_name]+ pv[model_pre]*factor[index]\n",
    "\n",
    "    kmax=max(p1[pre_name].max(),p2[pre_name].max())\n",
    "    p1_ensenmble=p1_ensenmble+factor_data[d_index]*p1[pre_name]/kmax\n",
    "    p2_ensenmble=p2_ensenmble+factor_data[d_index]*p2[pre_name]/kmax\n",
    "    score=score+factor_data[d_index]*pv[pre_name]/kmax\n",
    "\n",
    "print(f' Validation Accuracy is { np.round((p1_ensenmble < p2_ensenmble).mean() * 100,4)}') \n",
    "\n",
    "    \n",
    "df_test['score'] = rankdata(score, method='ordinal')\n"
   ]
  },
  {
   "cell_type": "code",
   "execution_count": null,
   "id": "40558885",
   "metadata": {
    "papermill": {
     "duration": 0.36539,
     "end_time": "2022-01-11T13:08:13.067452",
     "exception": false,
     "start_time": "2022-01-11T13:08:12.702062",
     "status": "completed"
    },
    "tags": []
   },
   "outputs": [],
   "source": []
  },
  {
   "cell_type": "code",
   "execution_count": 28,
   "id": "13360409",
   "metadata": {
    "execution": {
     "iopub.execute_input": "2022-01-11T13:08:13.802757Z",
     "iopub.status.busy": "2022-01-11T13:08:13.797675Z",
     "iopub.status.idle": "2022-01-11T13:08:13.829019Z",
     "shell.execute_reply": "2022-01-11T13:08:13.829850Z",
     "shell.execute_reply.started": "2022-01-11T02:02:49.044554Z"
    },
    "papermill": {
     "duration": 0.397107,
     "end_time": "2022-01-11T13:08:13.830105",
     "exception": false,
     "start_time": "2022-01-11T13:08:13.432998",
     "status": "completed"
    },
    "tags": []
   },
   "outputs": [],
   "source": [
    "df_test[['comment_id', 'score']].to_csv(\"submission.csv\", index=False)"
   ]
  },
  {
   "cell_type": "code",
   "execution_count": null,
   "id": "94b62942",
   "metadata": {
    "papermill": {
     "duration": 0.36079,
     "end_time": "2022-01-11T13:08:14.550791",
     "exception": false,
     "start_time": "2022-01-11T13:08:14.190001",
     "status": "completed"
    },
    "tags": []
   },
   "outputs": [],
   "source": []
  }
 ],
 "metadata": {
  "kernelspec": {
   "display_name": "Python 3",
   "language": "python",
   "name": "python3"
  },
  "language_info": {
   "codemirror_mode": {
    "name": "ipython",
    "version": 3
   },
   "file_extension": ".py",
   "mimetype": "text/x-python",
   "name": "python",
   "nbconvert_exporter": "python",
   "pygments_lexer": "ipython3",
   "version": "3.7.10"
  },
  "papermill": {
   "default_parameters": {},
   "duration": 1191.909458,
   "end_time": "2022-01-11T13:08:16.732076",
   "environment_variables": {},
   "exception": null,
   "input_path": "__notebook__.ipynb",
   "output_path": "__notebook__.ipynb",
   "parameters": {},
   "start_time": "2022-01-11T12:48:24.822618",
   "version": "2.3.3"
  }
 },
 "nbformat": 4,
 "nbformat_minor": 5
}
