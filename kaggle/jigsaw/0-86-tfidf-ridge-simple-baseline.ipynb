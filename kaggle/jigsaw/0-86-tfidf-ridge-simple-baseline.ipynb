{
 "cells": [
  {
   "cell_type": "markdown",
   "metadata": {},
   "source": [
    "<h2>【0.860】TFIDF_Ridge_simple_baseline</h2>\n",
    "\n",
    "Data from [Toxic Comment Classification Challenge](https://www.kaggle.com/c/jigsaw-toxic-comment-classification-challenge)\n"
   ]
  },
  {
   "cell_type": "markdown",
   "metadata": {},
   "source": [
    "# Import Library"
   ]
  },
  {
   "cell_type": "code",
   "execution_count": 1,
   "metadata": {
    "execution": {
     "iopub.execute_input": "2021-12-19T01:48:53.625492Z",
     "iopub.status.busy": "2021-12-19T01:48:53.62485Z",
     "iopub.status.idle": "2021-12-19T01:48:55.483884Z",
     "shell.execute_reply": "2021-12-19T01:48:55.48306Z",
     "shell.execute_reply.started": "2021-12-19T01:48:53.625375Z"
    }
   },
   "outputs": [],
   "source": [
    "import pandas as pd\n",
    "import numpy as np\n",
    "from tqdm.auto import tqdm\n",
    "from bs4 import BeautifulSoup\n",
    "from collections import defaultdict\n",
    "from sklearn.feature_extraction.text import TfidfVectorizer, CountVectorizer\n",
    "import os\n",
    "import re \n",
    "import scipy\n",
    "from scipy import sparse\n",
    "\n",
    "from IPython.display import display\n",
    "from pprint import pprint\n",
    "from matplotlib import pyplot as plt \n",
    "\n",
    "import time\n",
    "import scipy.optimize as optimize\n",
    "import warnings\n",
    "warnings.filterwarnings(\"ignore\")\n",
    "pd.options.display.max_colwidth=300\n",
    "pd.options.display.max_columns = 100\n",
    "\n",
    "from sklearn.model_selection import train_test_split\n",
    "from nltk.tokenize import word_tokenize\n",
    "from sklearn.linear_model import Ridge"
   ]
  },
  {
   "cell_type": "markdown",
   "metadata": {},
   "source": [
    "# Prepare train data"
   ]
  },
  {
   "cell_type": "code",
   "execution_count": 2,
   "metadata": {
    "execution": {
     "iopub.execute_input": "2021-12-19T01:48:55.486004Z",
     "iopub.status.busy": "2021-12-19T01:48:55.485647Z",
     "iopub.status.idle": "2021-12-19T01:48:57.681503Z",
     "shell.execute_reply": "2021-12-19T01:48:57.680551Z",
     "shell.execute_reply.started": "2021-12-19T01:48:55.485961Z"
    }
   },
   "outputs": [],
   "source": [
    "system_path=r\"C:\\Users\\Lenovo\\Desktop\\stupidcode\\data\\jigsaw\"\n",
    "\n",
    "\n",
    "#第一届 jigsaw比赛 数据（challenge） Toxic Comment Classification Challenge\n",
    "\n",
    "jc_path=os.path.join(system_path,\"jigsaw-toxic-comment-classification-challenge\")\n",
    "jc_trans_path=os.path.join(system_path,\"jigsaw-toxic-comment-classification-challenge\")\n",
    "#ruddit 数据\n",
    "run_path=os.path.join(system_path,\"ruddit-jigsaw-dataset/Dataset\")\n",
    "#第二届 jigsaw比赛 对少数人群不歧视\n",
    "juc_path=os.path.join(system_path,\"jigsaw-unintended-bias-in-toxicity-classification\")\n",
    "\n",
    "#本次比赛数据 作为val\n",
    "jts_path=os.path.join(system_path,\"jigsaw-toxic-severity-rating\")\n",
    "\n",
    "\n",
    "\n",
    "\n",
    "df_train = pd.read_csv(os.path.join(jc_path,\"train.csv\"))\n",
    "# df_test = pd.read_csv(\"../input/jigsaw-toxic-comment-classification-challenge/test.csv\")\n",
    "# df_test_label = pd.read_csv(\"../input/jigsaw-toxic-comment-classification-challenge/test_labels.csv\").replace(-1,0)\n",
    "df_sub = pd.read_csv(os.path.join(jts_path,\"comments_to_score.csv\"))"
   ]
  },
  {
   "cell_type": "code",
   "execution_count": 3,
   "metadata": {
    "execution": {
     "iopub.execute_input": "2021-12-19T01:48:57.685245Z",
     "iopub.status.busy": "2021-12-19T01:48:57.684577Z",
     "iopub.status.idle": "2021-12-19T01:48:57.705377Z",
     "shell.execute_reply": "2021-12-19T01:48:57.70442Z",
     "shell.execute_reply.started": "2021-12-19T01:48:57.685201Z"
    }
   },
   "outputs": [
    {
     "data": {
      "text/html": [
       "<div>\n",
       "<style scoped>\n",
       "    .dataframe tbody tr th:only-of-type {\n",
       "        vertical-align: middle;\n",
       "    }\n",
       "\n",
       "    .dataframe tbody tr th {\n",
       "        vertical-align: top;\n",
       "    }\n",
       "\n",
       "    .dataframe thead th {\n",
       "        text-align: right;\n",
       "    }\n",
       "</style>\n",
       "<table border=\"1\" class=\"dataframe\">\n",
       "  <thead>\n",
       "    <tr style=\"text-align: right;\">\n",
       "      <th></th>\n",
       "      <th>id</th>\n",
       "      <th>comment_text</th>\n",
       "      <th>toxic</th>\n",
       "      <th>severe_toxic</th>\n",
       "      <th>obscene</th>\n",
       "      <th>threat</th>\n",
       "      <th>insult</th>\n",
       "      <th>identity_hate</th>\n",
       "    </tr>\n",
       "  </thead>\n",
       "  <tbody>\n",
       "    <tr>\n",
       "      <th>0</th>\n",
       "      <td>0000997932d777bf</td>\n",
       "      <td>Explanation\\nWhy the edits made under my username Hardcore Metallica Fan were reverted? They weren't vandalisms, just closure on some GAs after I voted at New York Dolls FAC. And please don't remove the template from the talk page since I'm retired now.89.205.38.27</td>\n",
       "      <td>0</td>\n",
       "      <td>0</td>\n",
       "      <td>0</td>\n",
       "      <td>0</td>\n",
       "      <td>0</td>\n",
       "      <td>0</td>\n",
       "    </tr>\n",
       "    <tr>\n",
       "      <th>1</th>\n",
       "      <td>000103f0d9cfb60f</td>\n",
       "      <td>D'aww! He matches this background colour I'm seemingly stuck with. Thanks.  (talk) 21:51, January 11, 2016 (UTC)</td>\n",
       "      <td>0</td>\n",
       "      <td>0</td>\n",
       "      <td>0</td>\n",
       "      <td>0</td>\n",
       "      <td>0</td>\n",
       "      <td>0</td>\n",
       "    </tr>\n",
       "  </tbody>\n",
       "</table>\n",
       "</div>"
      ],
      "text/plain": [
       "                 id  \\\n",
       "0  0000997932d777bf   \n",
       "1  000103f0d9cfb60f   \n",
       "\n",
       "                                                                                                                                                                                                                                                                comment_text  \\\n",
       "0  Explanation\\nWhy the edits made under my username Hardcore Metallica Fan were reverted? They weren't vandalisms, just closure on some GAs after I voted at New York Dolls FAC. And please don't remove the template from the talk page since I'm retired now.89.205.38.27   \n",
       "1                                                                                                                                                           D'aww! He matches this background colour I'm seemingly stuck with. Thanks.  (talk) 21:51, January 11, 2016 (UTC)   \n",
       "\n",
       "   toxic  severe_toxic  obscene  threat  insult  identity_hate  \n",
       "0      0             0        0       0       0              0  \n",
       "1      0             0        0       0       0              0  "
      ]
     },
     "execution_count": 3,
     "metadata": {},
     "output_type": "execute_result"
    }
   ],
   "source": [
    "df_train.head(2)"
   ]
  },
  {
   "cell_type": "code",
   "execution_count": 4,
   "metadata": {
    "execution": {
     "iopub.execute_input": "2021-12-19T01:48:57.707562Z",
     "iopub.status.busy": "2021-12-19T01:48:57.706832Z",
     "iopub.status.idle": "2021-12-19T01:48:57.811738Z",
     "shell.execute_reply": "2021-12-19T01:48:57.810889Z",
     "shell.execute_reply.started": "2021-12-19T01:48:57.707517Z"
    }
   },
   "outputs": [
    {
     "data": {
      "text/html": [
       "<div>\n",
       "<style scoped>\n",
       "    .dataframe tbody tr th:only-of-type {\n",
       "        vertical-align: middle;\n",
       "    }\n",
       "\n",
       "    .dataframe tbody tr th {\n",
       "        vertical-align: top;\n",
       "    }\n",
       "\n",
       "    .dataframe thead th {\n",
       "        text-align: right;\n",
       "    }\n",
       "</style>\n",
       "<table border=\"1\" class=\"dataframe\">\n",
       "  <thead>\n",
       "    <tr style=\"text-align: right;\">\n",
       "      <th></th>\n",
       "      <th>id</th>\n",
       "      <th>text</th>\n",
       "      <th>toxic</th>\n",
       "      <th>severe_toxic</th>\n",
       "      <th>obscene</th>\n",
       "      <th>threat</th>\n",
       "      <th>insult</th>\n",
       "      <th>identity_hate</th>\n",
       "      <th>y</th>\n",
       "    </tr>\n",
       "  </thead>\n",
       "  <tbody>\n",
       "    <tr>\n",
       "      <th>0</th>\n",
       "      <td>0000997932d777bf</td>\n",
       "      <td>Explanation\\nWhy the edits made under my username Hardcore Metallica Fan were reverted? They weren't vandalisms, just closure on some GAs after I voted at New York Dolls FAC. And please don't remove the template from the talk page since I'm retired now.89.205.38.27</td>\n",
       "      <td>0.0</td>\n",
       "      <td>0.0</td>\n",
       "      <td>0.0</td>\n",
       "      <td>0.0</td>\n",
       "      <td>0.0</td>\n",
       "      <td>0.0</td>\n",
       "      <td>0.0</td>\n",
       "    </tr>\n",
       "    <tr>\n",
       "      <th>1</th>\n",
       "      <td>000103f0d9cfb60f</td>\n",
       "      <td>D'aww! He matches this background colour I'm seemingly stuck with. Thanks.  (talk) 21:51, January 11, 2016 (UTC)</td>\n",
       "      <td>0.0</td>\n",
       "      <td>0.0</td>\n",
       "      <td>0.0</td>\n",
       "      <td>0.0</td>\n",
       "      <td>0.0</td>\n",
       "      <td>0.0</td>\n",
       "      <td>0.0</td>\n",
       "    </tr>\n",
       "  </tbody>\n",
       "</table>\n",
       "</div>"
      ],
      "text/plain": [
       "                 id  \\\n",
       "0  0000997932d777bf   \n",
       "1  000103f0d9cfb60f   \n",
       "\n",
       "                                                                                                                                                                                                                                                                        text  \\\n",
       "0  Explanation\\nWhy the edits made under my username Hardcore Metallica Fan were reverted? They weren't vandalisms, just closure on some GAs after I voted at New York Dolls FAC. And please don't remove the template from the talk page since I'm retired now.89.205.38.27   \n",
       "1                                                                                                                                                           D'aww! He matches this background colour I'm seemingly stuck with. Thanks.  (talk) 21:51, January 11, 2016 (UTC)   \n",
       "\n",
       "   toxic  severe_toxic  obscene  threat  insult  identity_hate    y  \n",
       "0    0.0           0.0      0.0     0.0     0.0            0.0  0.0  \n",
       "1    0.0           0.0      0.0     0.0     0.0            0.0  0.0  "
      ]
     },
     "execution_count": 4,
     "metadata": {},
     "output_type": "execute_result"
    }
   ],
   "source": [
    "# Create a score that measure how much toxic is a comment\n",
    "cat_mtpl = {'obscene': 0.16, 'toxic': 0.32, 'threat': 1.5, \n",
    "            'insult': 0.64, 'severe_toxic': 1.5, 'identity_hate': 1.5}\n",
    "\n",
    "for category in cat_mtpl:\n",
    "    df_train[category] = df_train[category] * cat_mtpl[category]\n",
    "\n",
    "df_train['y'] = df_train.loc[:, 'toxic':'identity_hate'].sum(axis=1)\n",
    "df_train = df_train.rename(columns={'comment_text':'text'})\n",
    "\n",
    "df_train.head(2)"
   ]
  },
  {
   "cell_type": "markdown",
   "metadata": {},
   "source": [
    "<h3>Text Cleaning</h3>"
   ]
  },
  {
   "cell_type": "code",
   "execution_count": 5,
   "metadata": {
    "execution": {
     "iopub.execute_input": "2021-12-19T01:48:57.829715Z",
     "iopub.status.busy": "2021-12-19T01:48:57.829475Z",
     "iopub.status.idle": "2021-12-19T01:48:57.836998Z",
     "shell.execute_reply": "2021-12-19T01:48:57.83595Z",
     "shell.execute_reply.started": "2021-12-19T01:48:57.829687Z"
    }
   },
   "outputs": [],
   "source": [
    "def text_cleaning(text):\n",
    "    '''\n",
    "    Cleans text into a basic form for NLP. Operations include the following:-\n",
    "    1. Remove special charecters like &, #, etc\n",
    "    2. Removes extra spaces\n",
    "    3. Removes embedded URL links\n",
    "    4. Removes HTML tags\n",
    "    5. Removes emojis\n",
    "    \n",
    "    text - Text piece to be cleaned.\n",
    "    '''\n",
    "    template = re.compile(r'https?://\\S+|www\\.\\S+') #Removes website links\n",
    "    text = template.sub(r'', text)\n",
    "    \n",
    "    soup = BeautifulSoup(text, 'lxml') #Removes HTML tags\n",
    "    only_text = soup.get_text()\n",
    "    text = only_text\n",
    "    \n",
    "    emoji_pattern = re.compile(\"[\"\n",
    "                               u\"\\U0001F600-\\U0001F64F\"  # emoticons\n",
    "                               u\"\\U0001F300-\\U0001F5FF\"  # symbols & pictographs\n",
    "                               u\"\\U0001F680-\\U0001F6FF\"  # transport & map symbols\n",
    "                               u\"\\U0001F1E0-\\U0001F1FF\"  # flags (iOS)\n",
    "                               u\"\\U00002702-\\U000027B0\"\n",
    "                               u\"\\U000024C2-\\U0001F251\"\n",
    "                               \"]+\", flags=re.UNICODE)\n",
    "    text = emoji_pattern.sub(r'', text)\n",
    "    \n",
    "    text = re.sub(r\"[^a-zA-Z\\d]\", \" \", text) #Remove special Charecters\n",
    "    text = re.sub(' +', ' ', text) #Remove Extra Spaces\n",
    "    text = text.strip() # remove spaces at the beginning and at the end of string\n",
    "\n",
    "    return text"
   ]
  },
  {
   "cell_type": "code",
   "execution_count": 6,
   "metadata": {
    "execution": {
     "iopub.execute_input": "2021-12-19T01:48:57.838761Z",
     "iopub.status.busy": "2021-12-19T01:48:57.838451Z",
     "iopub.status.idle": "2021-12-19T01:49:48.919732Z",
     "shell.execute_reply": "2021-12-19T01:49:48.918745Z",
     "shell.execute_reply.started": "2021-12-19T01:48:57.838719Z"
    }
   },
   "outputs": [
    {
     "data": {
      "application/vnd.jupyter.widget-view+json": {
       "model_id": "3c62afde54a8412c9135c1d8c5deec28",
       "version_major": 2,
       "version_minor": 0
      },
      "text/plain": [
       "  0%|          | 0/159571 [00:00<?, ?it/s]"
      ]
     },
     "metadata": {},
     "output_type": "display_data"
    }
   ],
   "source": [
    "tqdm.pandas()\n",
    "df_train['text'] = df_train['text'].progress_apply(text_cleaning)"
   ]
  },
  {
   "cell_type": "code",
   "execution_count": 7,
   "metadata": {
    "execution": {
     "iopub.execute_input": "2021-12-19T01:49:48.921173Z",
     "iopub.status.busy": "2021-12-19T01:49:48.920885Z",
     "iopub.status.idle": "2021-12-19T01:49:48.936073Z",
     "shell.execute_reply": "2021-12-19T01:49:48.935171Z",
     "shell.execute_reply.started": "2021-12-19T01:49:48.92114Z"
    }
   },
   "outputs": [],
   "source": [
    "df = df_train.copy()"
   ]
  },
  {
   "cell_type": "code",
   "execution_count": 8,
   "metadata": {},
   "outputs": [
    {
     "data": {
      "text/plain": [
       "0.00    143346\n",
       "0.32      5666\n",
       "1.12      3800\n",
       "0.48      1758\n",
       "2.62      1738\n",
       "0.96      1215\n",
       "4.12       385\n",
       "0.16       317\n",
       "0.64       301\n",
       "1.82       290\n",
       "1.98       204\n",
       "0.80       181\n",
       "2.46       164\n",
       "1.50        76\n",
       "5.62        31\n",
       "2.14        31\n",
       "3.32        21\n",
       "2.30        20\n",
       "3.48        10\n",
       "3.96        10\n",
       "1.66         5\n",
       "3.96         1\n",
       "4.82         1\n",
       "Name: y, dtype: int64"
      ]
     },
     "execution_count": 8,
     "metadata": {},
     "output_type": "execute_result"
    }
   ],
   "source": [
    "df_train[\"y\"].value_counts()"
   ]
  },
  {
   "cell_type": "markdown",
   "metadata": {},
   "source": [
    "# Undersampling"
   ]
  },
  {
   "cell_type": "code",
   "execution_count": 9,
   "metadata": {
    "execution": {
     "iopub.execute_input": "2021-12-19T01:49:48.967292Z",
     "iopub.status.busy": "2021-12-19T01:49:48.967057Z",
     "iopub.status.idle": "2021-12-19T01:49:49.022328Z",
     "shell.execute_reply": "2021-12-19T01:49:49.021787Z",
     "shell.execute_reply.started": "2021-12-19T01:49:48.967255Z"
    }
   },
   "outputs": [
    {
     "data": {
      "text/plain": [
       "0.00    16225\n",
       "0.32     5666\n",
       "1.12     3800\n",
       "0.48     1758\n",
       "2.62     1738\n",
       "0.96     1215\n",
       "4.12      385\n",
       "0.16      317\n",
       "0.64      301\n",
       "1.82      290\n",
       "1.98      204\n",
       "0.80      181\n",
       "2.46      164\n",
       "1.50       76\n",
       "5.62       31\n",
       "2.14       31\n",
       "3.32       21\n",
       "2.30       20\n",
       "3.96       10\n",
       "3.48       10\n",
       "1.66        5\n",
       "4.82        1\n",
       "3.96        1\n",
       "Name: y, dtype: int64"
      ]
     },
     "execution_count": 9,
     "metadata": {},
     "output_type": "execute_result"
    }
   ],
   "source": [
    "min_len = (df['y'] >= 0.1).sum()\n",
    "df_y0_undersample = df[df['y'] == 0].sample(n=min_len, random_state=201)\n",
    "df = pd.concat([df[df['y'] >= 0.1], df_y0_undersample])\n",
    "df['y'].value_counts()"
   ]
  },
  {
   "cell_type": "code",
   "execution_count": 10,
   "metadata": {},
   "outputs": [
    {
     "data": {
      "text/plain": [
       "(32450, 9)"
      ]
     },
     "execution_count": 10,
     "metadata": {},
     "output_type": "execute_result"
    }
   ],
   "source": [
    "df.shape"
   ]
  },
  {
   "cell_type": "markdown",
   "metadata": {},
   "source": [
    "# TF-IDF"
   ]
  },
  {
   "cell_type": "code",
   "execution_count": 11,
   "metadata": {
    "execution": {
     "iopub.execute_input": "2021-12-19T01:49:49.023603Z",
     "iopub.status.busy": "2021-12-19T01:49:49.023301Z",
     "iopub.status.idle": "2021-12-19T01:50:04.09058Z",
     "shell.execute_reply": "2021-12-19T01:50:04.089765Z",
     "shell.execute_reply.started": "2021-12-19T01:49:49.023576Z"
    }
   },
   "outputs": [
    {
     "data": {
      "text/plain": [
       "<32450x86036 sparse matrix of type '<class 'numpy.float64'>'\n",
       "\twith 11962043 stored elements in Compressed Sparse Row format>"
      ]
     },
     "execution_count": 11,
     "metadata": {},
     "output_type": "execute_result"
    }
   ],
   "source": [
    "vec = TfidfVectorizer(min_df= 3, max_df=0.5, analyzer = 'char_wb', ngram_range = (3,5))\n",
    "X = vec.fit_transform(df['text'])\n",
    "X"
   ]
  },
  {
   "cell_type": "markdown",
   "metadata": {},
   "source": [
    "<h1>Fit Ridge</h1>"
   ]
  },
  {
   "cell_type": "code",
   "execution_count": 12,
   "metadata": {
    "execution": {
     "iopub.execute_input": "2021-12-19T01:50:04.092239Z",
     "iopub.status.busy": "2021-12-19T01:50:04.091874Z",
     "iopub.status.idle": "2021-12-19T01:50:10.417791Z",
     "shell.execute_reply": "2021-12-19T01:50:10.416907Z",
     "shell.execute_reply.started": "2021-12-19T01:50:04.092197Z"
    }
   },
   "outputs": [
    {
     "data": {
      "text/plain": [
       "Ridge(alpha=0.5)"
      ]
     },
     "execution_count": 12,
     "metadata": {},
     "output_type": "execute_result"
    }
   ],
   "source": [
    "model = Ridge(alpha=0.5)\n",
    "model.fit(X, df['y'])"
   ]
  },
  {
   "cell_type": "markdown",
   "metadata": {},
   "source": [
    "# Prepare validation data"
   ]
  },
  {
   "cell_type": "code",
   "execution_count": 13,
   "metadata": {
    "execution": {
     "iopub.execute_input": "2021-12-19T01:50:10.422665Z",
     "iopub.status.busy": "2021-12-19T01:50:10.421975Z",
     "iopub.status.idle": "2021-12-19T01:50:10.990395Z",
     "shell.execute_reply": "2021-12-19T01:50:10.989612Z",
     "shell.execute_reply.started": "2021-12-19T01:50:10.422611Z"
    }
   },
   "outputs": [],
   "source": [
    "df_val = pd.read_csv(os.path.join(jts_path,\"validation_data.csv\"))"
   ]
  },
  {
   "cell_type": "markdown",
   "metadata": {},
   "source": [
    "<h2>Text cleaning</h2>"
   ]
  },
  {
   "cell_type": "code",
   "execution_count": 14,
   "metadata": {
    "execution": {
     "iopub.execute_input": "2021-12-19T01:50:11.003447Z",
     "iopub.status.busy": "2021-12-19T01:50:11.003238Z",
     "iopub.status.idle": "2021-12-19T01:50:30.528481Z",
     "shell.execute_reply": "2021-12-19T01:50:30.527856Z",
     "shell.execute_reply.started": "2021-12-19T01:50:11.003421Z"
    }
   },
   "outputs": [
    {
     "data": {
      "application/vnd.jupyter.widget-view+json": {
       "model_id": "03991d06531e4f4ea8cc67b96a4acb0c",
       "version_major": 2,
       "version_minor": 0
      },
      "text/plain": [
       "  0%|          | 0/30108 [00:00<?, ?it/s]"
      ]
     },
     "metadata": {},
     "output_type": "display_data"
    },
    {
     "data": {
      "application/vnd.jupyter.widget-view+json": {
       "model_id": "62c550894a5c4ad3a982e708d15babe3",
       "version_major": 2,
       "version_minor": 0
      },
      "text/plain": [
       "  0%|          | 0/30108 [00:00<?, ?it/s]"
      ]
     },
     "metadata": {},
     "output_type": "display_data"
    }
   ],
   "source": [
    "tqdm.pandas()\n",
    "df_val['less_toxic'] = df_val['less_toxic'].progress_apply(text_cleaning)\n",
    "df_val['more_toxic'] = df_val['more_toxic'].progress_apply(text_cleaning)"
   ]
  },
  {
   "cell_type": "code",
   "execution_count": 15,
   "metadata": {
    "execution": {
     "iopub.execute_input": "2021-12-19T01:50:30.530054Z",
     "iopub.status.busy": "2021-12-19T01:50:30.529855Z",
     "iopub.status.idle": "2021-12-19T01:51:03.067445Z",
     "shell.execute_reply": "2021-12-19T01:51:03.066619Z",
     "shell.execute_reply.started": "2021-12-19T01:50:30.53003Z"
    }
   },
   "outputs": [],
   "source": [
    "X_less_toxic = vec.transform(df_val['less_toxic'])\n",
    "X_more_toxic = vec.transform(df_val['more_toxic'])"
   ]
  },
  {
   "cell_type": "code",
   "execution_count": 16,
   "metadata": {
    "execution": {
     "iopub.execute_input": "2021-12-19T01:51:03.068776Z",
     "iopub.status.busy": "2021-12-19T01:51:03.068566Z",
     "iopub.status.idle": "2021-12-19T01:51:03.141313Z",
     "shell.execute_reply": "2021-12-19T01:51:03.140504Z",
     "shell.execute_reply.started": "2021-12-19T01:51:03.068749Z"
    }
   },
   "outputs": [],
   "source": [
    "p1 = model.predict(X_less_toxic)\n",
    "p2 = model.predict(X_more_toxic)"
   ]
  },
  {
   "cell_type": "code",
   "execution_count": 17,
   "metadata": {
    "execution": {
     "iopub.execute_input": "2021-12-19T01:51:03.142576Z",
     "iopub.status.busy": "2021-12-19T01:51:03.142355Z",
     "iopub.status.idle": "2021-12-19T01:51:03.147583Z",
     "shell.execute_reply": "2021-12-19T01:51:03.147052Z",
     "shell.execute_reply.started": "2021-12-19T01:51:03.142546Z"
    }
   },
   "outputs": [
    {
     "data": {
      "text/plain": [
       "0.6707187458482795"
      ]
     },
     "execution_count": 17,
     "metadata": {},
     "output_type": "execute_result"
    }
   ],
   "source": [
    "# Validation Accuracy\n",
    "(p1 < p2).mean()"
   ]
  },
  {
   "cell_type": "markdown",
   "metadata": {},
   "source": [
    "# Prepare submission data "
   ]
  },
  {
   "cell_type": "markdown",
   "metadata": {},
   "source": [
    "<h2>Text cleaning</h2>"
   ]
  },
  {
   "cell_type": "code",
   "execution_count": 18,
   "metadata": {
    "execution": {
     "iopub.execute_input": "2021-12-19T01:51:03.211716Z",
     "iopub.status.busy": "2021-12-19T01:51:03.211513Z",
     "iopub.status.idle": "2021-12-19T01:51:05.73041Z",
     "shell.execute_reply": "2021-12-19T01:51:05.729263Z",
     "shell.execute_reply.started": "2021-12-19T01:51:03.21169Z"
    }
   },
   "outputs": [
    {
     "data": {
      "application/vnd.jupyter.widget-view+json": {
       "model_id": "4c1b83a9fe3d42c5ae10f86a71ceb456",
       "version_major": 2,
       "version_minor": 0
      },
      "text/plain": [
       "  0%|          | 0/7537 [00:00<?, ?it/s]"
      ]
     },
     "metadata": {},
     "output_type": "display_data"
    }
   ],
   "source": [
    "tqdm.pandas()\n",
    "df_sub['text'] = df_sub['text'].progress_apply(text_cleaning)"
   ]
  },
  {
   "cell_type": "markdown",
   "metadata": {},
   "source": [
    "<h2>Prediction</h2>"
   ]
  },
  {
   "cell_type": "code",
   "execution_count": 19,
   "metadata": {
    "execution": {
     "iopub.execute_input": "2021-12-19T01:51:05.732122Z",
     "iopub.status.busy": "2021-12-19T01:51:05.731904Z",
     "iopub.status.idle": "2021-12-19T01:51:10.025988Z",
     "shell.execute_reply": "2021-12-19T01:51:10.025184Z",
     "shell.execute_reply.started": "2021-12-19T01:51:05.732096Z"
    }
   },
   "outputs": [],
   "source": [
    "X_test = vec.transform(df_sub['text'])\n",
    "p3 = model.predict(X_test)"
   ]
  },
  {
   "cell_type": "code",
   "execution_count": 20,
   "metadata": {
    "execution": {
     "iopub.execute_input": "2021-12-19T01:51:10.027786Z",
     "iopub.status.busy": "2021-12-19T01:51:10.027464Z",
     "iopub.status.idle": "2021-12-19T01:51:10.032569Z",
     "shell.execute_reply": "2021-12-19T01:51:10.032021Z",
     "shell.execute_reply.started": "2021-12-19T01:51:10.027744Z"
    }
   },
   "outputs": [
    {
     "ename": "NameError",
     "evalue": "name 'rankdata' is not defined",
     "output_type": "error",
     "traceback": [
      "\u001b[1;31m---------------------------------------------------------------------------\u001b[0m",
      "\u001b[1;31mNameError\u001b[0m                                 Traceback (most recent call last)",
      "\u001b[1;32m<ipython-input-20-c61d580a1452>\u001b[0m in \u001b[0;36m<module>\u001b[1;34m()\u001b[0m\n\u001b[1;32m----> 1\u001b[1;33m \u001b[0mdf_sub\u001b[0m\u001b[1;33m[\u001b[0m\u001b[1;34m'score'\u001b[0m\u001b[1;33m]\u001b[0m \u001b[1;33m=\u001b[0m \u001b[0mrankdata\u001b[0m\u001b[1;33m(\u001b[0m\u001b[0mp3\u001b[0m\u001b[1;33m,\u001b[0m \u001b[0mmethod\u001b[0m\u001b[1;33m=\u001b[0m\u001b[1;34m'ordinal'\u001b[0m\u001b[1;33m)\u001b[0m\u001b[1;33m\u001b[0m\u001b[1;33m\u001b[0m\u001b[0m\n\u001b[0m",
      "\u001b[1;31mNameError\u001b[0m: name 'rankdata' is not defined"
     ]
    }
   ],
   "source": [
    "df_sub['score'] = rankdata(p3, method='ordinal')"
   ]
  },
  {
   "cell_type": "code",
   "execution_count": null,
   "metadata": {
    "execution": {
     "iopub.execute_input": "2021-12-19T01:51:10.074544Z",
     "iopub.status.busy": "2021-12-19T01:51:10.074181Z",
     "iopub.status.idle": "2021-12-19T01:51:10.108109Z",
     "shell.execute_reply": "2021-12-19T01:51:10.107258Z",
     "shell.execute_reply.started": "2021-12-19T01:51:10.074501Z"
    }
   },
   "outputs": [],
   "source": [
    "df_sub[['comment_id', 'score']].to_csv(\"submission.csv\", index=False)"
   ]
  },
  {
   "cell_type": "code",
   "execution_count": null,
   "metadata": {},
   "outputs": [],
   "source": []
  }
 ],
 "metadata": {
  "kernelspec": {
   "display_name": "Python 3",
   "language": "python",
   "name": "python3"
  },
  "language_info": {
   "codemirror_mode": {
    "name": "ipython",
    "version": 3
   },
   "file_extension": ".py",
   "mimetype": "text/x-python",
   "name": "python",
   "nbconvert_exporter": "python",
   "pygments_lexer": "ipython3",
   "version": "3.6.12"
  }
 },
 "nbformat": 4,
 "nbformat_minor": 4
}
