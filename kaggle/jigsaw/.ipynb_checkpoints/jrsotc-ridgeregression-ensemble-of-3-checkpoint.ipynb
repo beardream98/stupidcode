{
 "cells": [
  {
   "cell_type": "markdown",
   "id": "1d5a9abe",
   "metadata": {
    "papermill": {
     "duration": 0.016615,
     "end_time": "2021-11-20T11:20:21.360039",
     "exception": false,
     "start_time": "2021-11-20T11:20:21.343424",
     "status": "completed"
    },
    "tags": []
   },
   "source": [
    "# How far can we push linear models in LB ? :)\n",
    "\n",
    "check out these forerunners too\n",
    "\n",
    "* https://www.kaggle.com/julian3833/jigsaw-incredibly-simple-naive-bayes-0-768 \n",
    "* https://www.kaggle.com/steubk/jrsotc-ridgeregression\n",
    "* https://www.kaggle.com/samarthagarwal23/the-benchmark-0-81-tfidf-ridge\n",
    "\n",
    "In this version I exploit test labels - realesed after Jigsaw competitions end - to augment trainset"
   ]
  },
  {
   "cell_type": "code",
   "execution_count": 40,
   "id": "f8863c63",
   "metadata": {
    "execution": {
     "iopub.execute_input": "2021-11-20T11:20:21.399632Z",
     "iopub.status.busy": "2021-11-20T11:20:21.397888Z",
     "iopub.status.idle": "2021-11-20T11:20:22.653186Z",
     "shell.execute_reply": "2021-11-20T11:20:22.652376Z",
     "shell.execute_reply.started": "2021-11-20T11:00:57.348550Z"
    },
    "papermill": {
     "duration": 1.276736,
     "end_time": "2021-11-20T11:20:22.653344",
     "exception": false,
     "start_time": "2021-11-20T11:20:21.376608",
     "status": "completed"
    },
    "tags": []
   },
   "outputs": [],
   "source": [
    "import pandas as pd\n",
    "import numpy as np\n",
    "import os\n",
    "import matplotlib.pyplot as plt\n",
    "import seaborn as sns\n",
    "\n",
    "from sklearn.linear_model import Ridge\n",
    "from sklearn.feature_extraction.text import TfidfVectorizer\n",
    "from sklearn.model_selection import StratifiedKFold\n",
    "from sklearn.metrics import mean_squared_error\n",
    "from scipy.stats import rankdata\n",
    "\n",
    "def ridge_cv (vec, X, y, X_test, folds, stratified ):\n",
    "    kf = StratifiedKFold(n_splits=FOLDS,shuffle=True,random_state=123)\n",
    "    val_scores = []\n",
    "    rmse_scores = []\n",
    "    X_less_toxics = []\n",
    "    X_more_toxics = []\n",
    "\n",
    "    preds = []\n",
    "    for fold, (train_index,val_index) in enumerate(kf.split(X,stratified)):\n",
    "        X_train, y_train = X[train_index], y[train_index]\n",
    "        X_val, y_val = X[val_index], y[val_index]\n",
    "        model = Ridge()\n",
    "        model.fit(X_train, y_train)\n",
    "\n",
    "        rmse_score = mean_squared_error ( model.predict (X_val), y_val, squared = False) \n",
    "        rmse_scores.append (rmse_score)\n",
    "\n",
    "        X_less_toxic = vec.transform(df_val['less_toxic'])\n",
    "        X_more_toxic = vec.transform(df_val['more_toxic'])\n",
    "\n",
    "        p1 = model.predict(X_less_toxic)\n",
    "        p2 = model.predict(X_more_toxic)\n",
    "\n",
    "        X_less_toxics.append ( p1 )\n",
    "        X_more_toxics.append ( p2 )\n",
    "\n",
    "        # Validation Accuracy\n",
    "        val_acc = (p1< p2).mean()\n",
    "        val_scores.append(val_acc)\n",
    "\n",
    "        pred = model.predict (X_test)\n",
    "        preds.append (pred)\n",
    "\n",
    "        print(f\"FOLD:{fold}, rmse_fold:{rmse_score:.5f}, val_acc:{val_acc:.5f}\")\n",
    "\n",
    "    mean_val_acc = np.mean (val_scores)\n",
    "    mean_rmse_score = np.mean (rmse_scores)\n",
    "\n",
    "    p1 = np.mean ( np.vstack(X_less_toxics), axis=0 )\n",
    "    p2 = np.mean ( np.vstack(X_more_toxics), axis=0 )\n",
    "\n",
    "    val_acc = (p1< p2).mean()\n",
    "\n",
    "    print(f\"OOF: val_acc:{val_acc:.5f}, mean val_acc:{mean_val_acc:.5f}, mean rmse_score:{mean_rmse_score:.5f}\")\n",
    "    \n",
    "    preds = np.mean ( np.vstack(preds), axis=0 )\n",
    "    \n",
    "    return p1, p2, preds\n"
   ]
  },
  {
   "cell_type": "code",
   "execution_count": 41,
   "id": "2cfa42ac",
   "metadata": {
    "execution": {
     "iopub.execute_input": "2021-11-20T11:20:22.687846Z",
     "iopub.status.busy": "2021-11-20T11:20:22.687235Z",
     "iopub.status.idle": "2021-11-20T11:20:23.347691Z",
     "shell.execute_reply": "2021-11-20T11:20:23.348278Z",
     "shell.execute_reply.started": "2021-11-20T11:00:58.717694Z"
    },
    "papermill": {
     "duration": 0.67935,
     "end_time": "2021-11-20T11:20:23.348460",
     "exception": false,
     "start_time": "2021-11-20T11:20:22.669110",
     "status": "completed"
    },
    "tags": []
   },
   "outputs": [],
   "source": [
    "jts_path=r\"C:\\Users\\Lenovo\\Desktop\\stupidcode\\data\\jigsaw\\jigsaw-toxic-severity-rating\"\n",
    "\n",
    "df_val = pd.read_csv(os.path.join(jts_path,\"validation_data.csv\"))\n",
    "\n",
    "df_test = pd.read_csv(os.path.join(jts_path,\"comments_to_score.csv\"))\n"
   ]
  },
  {
   "cell_type": "markdown",
   "id": "8fa9ed1b",
   "metadata": {
    "papermill": {
     "duration": 0.015118,
     "end_time": "2021-11-20T11:20:23.379049",
     "exception": false,
     "start_time": "2021-11-20T11:20:23.363931",
     "status": "completed"
    },
    "tags": []
   },
   "source": [
    "## Toxic Comment Classification Challenge"
   ]
  },
  {
   "cell_type": "code",
   "execution_count": 42,
   "id": "9fdac8db",
   "metadata": {
    "execution": {
     "iopub.execute_input": "2021-11-20T11:20:23.423200Z",
     "iopub.status.busy": "2021-11-20T11:20:23.422362Z",
     "iopub.status.idle": "2021-11-20T11:20:27.166794Z",
     "shell.execute_reply": "2021-11-20T11:20:27.166270Z",
     "shell.execute_reply.started": "2021-11-20T11:00:59.942629Z"
    },
    "papermill": {
     "duration": 3.772685,
     "end_time": "2021-11-20T11:20:27.166940",
     "exception": false,
     "start_time": "2021-11-20T11:20:23.394255",
     "status": "completed"
    },
    "tags": []
   },
   "outputs": [
    {
     "name": "stdout",
     "output_type": "stream",
     "text": [
      "Train: 159571\n",
      "Test: 63978\n",
      "Train+Test:223549\n"
     ]
    },
    {
     "data": {
      "text/html": [
       "<div>\n",
       "<style scoped>\n",
       "    .dataframe tbody tr th:only-of-type {\n",
       "        vertical-align: middle;\n",
       "    }\n",
       "\n",
       "    .dataframe tbody tr th {\n",
       "        vertical-align: top;\n",
       "    }\n",
       "\n",
       "    .dataframe thead th {\n",
       "        text-align: right;\n",
       "    }\n",
       "</style>\n",
       "<table border=\"1\" class=\"dataframe\">\n",
       "  <thead>\n",
       "    <tr style=\"text-align: right;\">\n",
       "      <th></th>\n",
       "      <th>id</th>\n",
       "      <th>comment_text</th>\n",
       "      <th>toxic</th>\n",
       "      <th>severe_toxic</th>\n",
       "      <th>obscene</th>\n",
       "      <th>threat</th>\n",
       "      <th>insult</th>\n",
       "      <th>identity_hate</th>\n",
       "    </tr>\n",
       "  </thead>\n",
       "  <tbody>\n",
       "    <tr>\n",
       "      <th>0</th>\n",
       "      <td>0000997932d777bf</td>\n",
       "      <td>Explanation\\nWhy the edits made under my usern...</td>\n",
       "      <td>0</td>\n",
       "      <td>0</td>\n",
       "      <td>0</td>\n",
       "      <td>0</td>\n",
       "      <td>0</td>\n",
       "      <td>0</td>\n",
       "    </tr>\n",
       "    <tr>\n",
       "      <th>1</th>\n",
       "      <td>000103f0d9cfb60f</td>\n",
       "      <td>D'aww! He matches this background colour I'm s...</td>\n",
       "      <td>0</td>\n",
       "      <td>0</td>\n",
       "      <td>0</td>\n",
       "      <td>0</td>\n",
       "      <td>0</td>\n",
       "      <td>0</td>\n",
       "    </tr>\n",
       "    <tr>\n",
       "      <th>2</th>\n",
       "      <td>000113f07ec002fd</td>\n",
       "      <td>Hey man, I'm really not trying to edit war. It...</td>\n",
       "      <td>0</td>\n",
       "      <td>0</td>\n",
       "      <td>0</td>\n",
       "      <td>0</td>\n",
       "      <td>0</td>\n",
       "      <td>0</td>\n",
       "    </tr>\n",
       "    <tr>\n",
       "      <th>3</th>\n",
       "      <td>0001b41b1c6bb37e</td>\n",
       "      <td>\"\\nMore\\nI can't make any real suggestions on ...</td>\n",
       "      <td>0</td>\n",
       "      <td>0</td>\n",
       "      <td>0</td>\n",
       "      <td>0</td>\n",
       "      <td>0</td>\n",
       "      <td>0</td>\n",
       "    </tr>\n",
       "    <tr>\n",
       "      <th>4</th>\n",
       "      <td>0001d958c54c6e35</td>\n",
       "      <td>You, sir, are my hero. Any chance you remember...</td>\n",
       "      <td>0</td>\n",
       "      <td>0</td>\n",
       "      <td>0</td>\n",
       "      <td>0</td>\n",
       "      <td>0</td>\n",
       "      <td>0</td>\n",
       "    </tr>\n",
       "  </tbody>\n",
       "</table>\n",
       "</div>"
      ],
      "text/plain": [
       "                 id                                       comment_text  toxic  \\\n",
       "0  0000997932d777bf  Explanation\\nWhy the edits made under my usern...      0   \n",
       "1  000103f0d9cfb60f  D'aww! He matches this background colour I'm s...      0   \n",
       "2  000113f07ec002fd  Hey man, I'm really not trying to edit war. It...      0   \n",
       "3  0001b41b1c6bb37e  \"\\nMore\\nI can't make any real suggestions on ...      0   \n",
       "4  0001d958c54c6e35  You, sir, are my hero. Any chance you remember...      0   \n",
       "\n",
       "   severe_toxic  obscene  threat  insult  identity_hate  \n",
       "0             0        0       0       0              0  \n",
       "1             0        0       0       0              0  \n",
       "2             0        0       0       0              0  \n",
       "3             0        0       0       0              0  \n",
       "4             0        0       0       0              0  "
      ]
     },
     "execution_count": 42,
     "metadata": {},
     "output_type": "execute_result"
    }
   ],
   "source": [
    "features = [\"toxic\",\"severe_toxic\",\"obscene\",\"threat\",\"insult\",\"identity_hate\"]\n",
    "jc_path=r\"C:\\Users\\Lenovo\\Desktop\\stupidcode\\data\\jigsaw\\Jigsaw Rate Severity of T\"\n",
    "\n",
    "jc_train_df = pd.read_csv(os.path.join(jc_path,\"train.csv\"))\n",
    "print(f\"Train: {jc_train_df.shape[0]}\")\n",
    "jc_test_df = pd.read_csv(os.path.join(jc_path,\"test.csv\"))\n",
    "\n",
    "temp_df = pd.read_csv(os.path.join(jc_path,\"test_labels.csv\"))\n",
    "\n",
    "jc_test_df = jc_test_df.merge ( temp_df, on =\"id\")\n",
    "#drop test data not used for scoring\n",
    "jc_test_df = jc_test_df.query (\"toxic != -1\")\n",
    "print(f\"Test: {jc_test_df.shape[0]}\")\n",
    "\n",
    "jc_df = jc_train_df.append ( jc_test_df ) \n",
    "print(f\"Train+Test:{jc_df.shape[0]}\")\n",
    "\n",
    "jc_df.head()"
   ]
  },
  {
   "cell_type": "code",
   "execution_count": 43,
   "id": "e36aa0f0",
   "metadata": {
    "execution": {
     "iopub.execute_input": "2021-11-20T11:20:27.277219Z",
     "iopub.status.busy": "2021-11-20T11:20:27.220796Z",
     "iopub.status.idle": "2021-11-20T11:20:27.613900Z",
     "shell.execute_reply": "2021-11-20T11:20:27.614618Z",
     "shell.execute_reply.started": "2021-11-20T11:01:04.154737Z"
    },
    "papermill": {
     "duration": 0.431068,
     "end_time": "2021-11-20T11:20:27.614840",
     "exception": false,
     "start_time": "2021-11-20T11:20:27.183772",
     "status": "completed"
    },
    "tags": []
   },
   "outputs": [
    {
     "name": "stdout",
     "output_type": "stream",
     "text": [
      "duplicated by text:0\n",
      "comments with toxic behaviour:22468\n"
     ]
    }
   ],
   "source": [
    "print(f'duplicated by text:{jc_df.duplicated(\"comment_text\").sum()}')\n",
    "\n",
    "jc_df[\"toxic_subtype_sum\"]=jc_df[features].sum(axis=1)\n",
    "jc_df[\"toxic_behaviour\"]=jc_df[\"toxic_subtype_sum\"].map(lambda x: x > 0)\n",
    "\n",
    "tot_toxic_behaviour = jc_df[\"toxic_behaviour\"].sum()\n",
    "print(f'comments with toxic behaviour:{tot_toxic_behaviour}')\n"
   ]
  },
  {
   "cell_type": "markdown",
   "id": "1b190660",
   "metadata": {
    "papermill": {
     "duration": 0.018337,
     "end_time": "2021-11-20T11:20:28.235758",
     "exception": false,
     "start_time": "2021-11-20T11:20:28.217421",
     "status": "completed"
    },
    "tags": []
   },
   "source": [
    "Dataset consist of 223_549 (Train: 159_571, Test: 63_978) not duplicated comments.\n",
    "\n",
    "10.1% (22_468) comments are labelled with toxic behaviors\n",
    "\n",
    "32.8% of comments with toxic behaviors are labelled as (\"toxic\"), while 25.5% as (\"toxic\",\"obscene\",\"insult\") and 11.6% as (\"toxic\",\"obscene\") \n",
    "\n",
    "8.7% of \"toxic\" comments are also labelled as \"severe_toxic\" and \"severe_toxic\" are always \"toxic\" comments  "
   ]
  },
  {
   "cell_type": "code",
   "execution_count": 44,
   "id": "e6386d44",
   "metadata": {
    "execution": {
     "iopub.execute_input": "2021-11-20T11:20:28.284703Z",
     "iopub.status.busy": "2021-11-20T11:20:28.280465Z",
     "iopub.status.idle": "2021-11-20T11:20:28.586635Z",
     "shell.execute_reply": "2021-11-20T11:20:28.586041Z",
     "shell.execute_reply.started": "2021-11-20T11:01:05.096423Z"
    },
    "papermill": {
     "duration": 0.332361,
     "end_time": "2021-11-20T11:20:28.586767",
     "exception": false,
     "start_time": "2021-11-20T11:20:28.254406",
     "status": "completed"
    },
    "tags": []
   },
   "outputs": [],
   "source": [
    "toxic = 1.0\n",
    "severe_toxic = 2.0\n",
    "obscene = 1.0\n",
    "threat = 1.0\n",
    "insult = 1.0\n",
    "identity_hate = 2.0\n",
    "\n",
    "def create_train (df):\n",
    "    df['y'] = df[[\"toxic\",\"severe_toxic\",\"obscene\",\"threat\",\"insult\",\"identity_hate\"]].max(axis=1)\n",
    "    df['y'] = df[\"y\"]+df['severe_toxic']*severe_toxic\n",
    "    df['y'] = df[\"y\"]+df['obscene']*obscene\n",
    "    df['y'] = df[\"y\"]+df['threat']*threat\n",
    "    df['y'] = df[\"y\"]+df['insult']*insult\n",
    "    df['y'] = df[\"y\"]+df['identity_hate']*identity_hate\n",
    "    \n",
    "    \n",
    "    \n",
    "    df = df[['comment_text', 'y', 'toxic', 'severe_toxic', 'obscene', 'threat', 'insult', 'identity_hate']].rename(columns={'comment_text': 'text'})\n",
    "\n",
    "    #undersample non toxic comments  on Toxic Comment Classification Challenge\n",
    "\n",
    "    min_len = (df['y'] >= 1).sum()\n",
    "    #采样 1.5倍的负样本\n",
    "    df_y0_undersample = df[df['y'] == 0].sample(n=int(min_len*1.5),random_state=201)\n",
    "    df = pd.concat([df[df['y'] >= 1], df_y0_undersample])\n",
    "                                                \n",
    "    return df\n",
    " \n",
    "jc_train_df = create_train (jc_train_df)\n",
    "jc_test_df = create_train (jc_test_df)\n",
    "                     \n",
    "jc_df = jc_train_df.append(jc_test_df)                           \n"
   ]
  },
  {
   "cell_type": "code",
   "execution_count": 45,
   "id": "7ba54340",
   "metadata": {
    "execution": {
     "iopub.execute_input": "2021-11-20T11:20:28.634840Z",
     "iopub.status.busy": "2021-11-20T11:20:28.634130Z",
     "iopub.status.idle": "2021-11-20T11:24:05.473000Z",
     "shell.execute_reply": "2021-11-20T11:24:05.473774Z",
     "shell.execute_reply.started": "2021-11-20T11:01:05.429512Z"
    },
    "papermill": {
     "duration": 216.867558,
     "end_time": "2021-11-20T11:24:05.474032",
     "exception": false,
     "start_time": "2021-11-20T11:20:28.606474",
     "status": "completed"
    },
    "tags": []
   },
   "outputs": [
    {
     "name": "stdout",
     "output_type": "stream",
     "text": [
      "FOLD:0, rmse_fold:0.85612, val_acc:0.68062\n",
      "FOLD:1, rmse_fold:0.86878, val_acc:0.68347\n",
      "FOLD:2, rmse_fold:0.86220, val_acc:0.68430\n",
      "FOLD:3, rmse_fold:0.87085, val_acc:0.68284\n",
      "FOLD:4, rmse_fold:0.86896, val_acc:0.68248\n",
      "OOF: val_acc:0.68387, mean val_acc:0.68274, mean rmse_score:0.86538\n"
     ]
    }
   ],
   "source": [
    "FOLDS = 5\n",
    "\n",
    "vec = TfidfVectorizer(analyzer='char_wb', max_df=0.5, min_df=3, ngram_range=(4, 6) )\n",
    "X = vec.fit_transform(jc_df['text'])\n",
    "y = jc_df[\"y\"].values\n",
    "X_test = vec.transform(df_test['text'])\n",
    "\n",
    "stratified = np.around ( y )\n",
    "jc_p1, jc_p2, jc_preds =  ridge_cv (vec, X, y, X_test, FOLDS, stratified )"
   ]
  },
  {
   "cell_type": "markdown",
   "id": "feb091a6",
   "metadata": {
    "papermill": {
     "duration": 0.022773,
     "end_time": "2021-11-20T11:24:05.520166",
     "exception": false,
     "start_time": "2021-11-20T11:24:05.497393",
     "status": "completed"
    },
    "tags": []
   },
   "source": [
    "## Unintended Bias in Toxicity Classification\n",
    "\n",
    "\n",
    "\n",
    "### Labelling Schema\n",
    "\n",
    "To obtain the toxicity labels, each comment was shown to up to 10 annotators. Annotators were asked to: \"Rate the toxicity of this comment\"\n",
    "\n",
    "* Very Toxic (a very hateful, aggressive, or disrespectful comment that is very likely to make you leave a discussion or give up on sharing your perspective)\n",
    "* Toxic (a rude, disrespectful, or unreasonable comment that is somewhat likely to make you leave a discussion or give up on sharing your perspective)\n",
    "* Hard to Say\n",
    "* Not Toxic\n",
    "\n",
    "\n",
    "\n",
    "* Male\n",
    "* Female\n",
    "* Transgender\n",
    "* Other gender\n",
    "* No gender mentioned\n",
    "\n"
   ]
  },
  {
   "cell_type": "code",
   "execution_count": 46,
   "id": "a0e23548",
   "metadata": {
    "execution": {
     "iopub.execute_input": "2021-11-20T11:24:05.569561Z",
     "iopub.status.busy": "2021-11-20T11:24:05.566332Z",
     "iopub.status.idle": "2021-11-20T11:24:35.127578Z",
     "shell.execute_reply": "2021-11-20T11:24:35.128060Z",
     "shell.execute_reply.started": "2021-11-20T11:04:55.559873Z"
    },
    "papermill": {
     "duration": 29.585953,
     "end_time": "2021-11-20T11:24:35.128249",
     "exception": false,
     "start_time": "2021-11-20T11:24:05.542296",
     "status": "completed"
    },
    "tags": []
   },
   "outputs": [
    {
     "name": "stdout",
     "output_type": "stream",
     "text": [
      "jigsaw-toxic-comment-classification-challenge shape:1999516\n",
      "duplicated by id:0, duplicated by text:27600\n"
     ]
    },
    {
     "data": {
      "text/html": [
       "<div>\n",
       "<style scoped>\n",
       "    .dataframe tbody tr th:only-of-type {\n",
       "        vertical-align: middle;\n",
       "    }\n",
       "\n",
       "    .dataframe tbody tr th {\n",
       "        vertical-align: top;\n",
       "    }\n",
       "\n",
       "    .dataframe thead th {\n",
       "        text-align: right;\n",
       "    }\n",
       "</style>\n",
       "<table border=\"1\" class=\"dataframe\">\n",
       "  <thead>\n",
       "    <tr style=\"text-align: right;\">\n",
       "      <th></th>\n",
       "      <th>id</th>\n",
       "      <th>comment_text</th>\n",
       "      <th>toxicity</th>\n",
       "      <th>severe_toxicity</th>\n",
       "      <th>obscene</th>\n",
       "      <th>insult</th>\n",
       "      <th>identity_attack</th>\n",
       "      <th>sexual_explicit</th>\n",
       "      <th>toxicity_annotator_count</th>\n",
       "    </tr>\n",
       "  </thead>\n",
       "  <tbody>\n",
       "    <tr>\n",
       "      <th>0</th>\n",
       "      <td>1083994</td>\n",
       "      <td>He got his money... now he lies in wait till a...</td>\n",
       "      <td>0.373134</td>\n",
       "      <td>0.044776</td>\n",
       "      <td>0.089552</td>\n",
       "      <td>0.343284</td>\n",
       "      <td>0.000000</td>\n",
       "      <td>0.014925</td>\n",
       "      <td>67</td>\n",
       "    </tr>\n",
       "    <tr>\n",
       "      <th>1</th>\n",
       "      <td>650904</td>\n",
       "      <td>Mad dog will surely put the liberals in mental...</td>\n",
       "      <td>0.605263</td>\n",
       "      <td>0.013158</td>\n",
       "      <td>0.065789</td>\n",
       "      <td>0.565789</td>\n",
       "      <td>0.092105</td>\n",
       "      <td>0.013158</td>\n",
       "      <td>76</td>\n",
       "    </tr>\n",
       "    <tr>\n",
       "      <th>2</th>\n",
       "      <td>5902188</td>\n",
       "      <td>And Trump continues his lifelong cowardice by ...</td>\n",
       "      <td>0.666667</td>\n",
       "      <td>0.015873</td>\n",
       "      <td>0.031746</td>\n",
       "      <td>0.666667</td>\n",
       "      <td>0.047619</td>\n",
       "      <td>0.000000</td>\n",
       "      <td>63</td>\n",
       "    </tr>\n",
       "    <tr>\n",
       "      <th>3</th>\n",
       "      <td>7084460</td>\n",
       "      <td>\"while arresting a man for resisting arrest\".\\...</td>\n",
       "      <td>0.815789</td>\n",
       "      <td>0.065789</td>\n",
       "      <td>0.552632</td>\n",
       "      <td>0.684211</td>\n",
       "      <td>0.000000</td>\n",
       "      <td>0.592105</td>\n",
       "      <td>76</td>\n",
       "    </tr>\n",
       "    <tr>\n",
       "      <th>4</th>\n",
       "      <td>5410943</td>\n",
       "      <td>Tucker and Paul are both total bad ass mofo's.</td>\n",
       "      <td>0.550000</td>\n",
       "      <td>0.037500</td>\n",
       "      <td>0.337500</td>\n",
       "      <td>0.487500</td>\n",
       "      <td>0.037500</td>\n",
       "      <td>0.275000</td>\n",
       "      <td>80</td>\n",
       "    </tr>\n",
       "  </tbody>\n",
       "</table>\n",
       "</div>"
      ],
      "text/plain": [
       "        id                                       comment_text  toxicity  \\\n",
       "0  1083994  He got his money... now he lies in wait till a...  0.373134   \n",
       "1   650904  Mad dog will surely put the liberals in mental...  0.605263   \n",
       "2  5902188  And Trump continues his lifelong cowardice by ...  0.666667   \n",
       "3  7084460  \"while arresting a man for resisting arrest\".\\...  0.815789   \n",
       "4  5410943     Tucker and Paul are both total bad ass mofo's.  0.550000   \n",
       "\n",
       "   severe_toxicity   obscene    insult  identity_attack  sexual_explicit  \\\n",
       "0         0.044776  0.089552  0.343284         0.000000         0.014925   \n",
       "1         0.013158  0.065789  0.565789         0.092105         0.013158   \n",
       "2         0.015873  0.031746  0.666667         0.047619         0.000000   \n",
       "3         0.065789  0.552632  0.684211         0.000000         0.592105   \n",
       "4         0.037500  0.337500  0.487500         0.037500         0.275000   \n",
       "\n",
       "   toxicity_annotator_count  \n",
       "0                        67  \n",
       "1                        76  \n",
       "2                        63  \n",
       "3                        76  \n",
       "4                        80  "
      ]
     },
     "execution_count": 46,
     "metadata": {},
     "output_type": "execute_result"
    }
   ],
   "source": [
    "features = [\"toxicity\",\"severe_toxicity\",\"obscene\",\"insult\",\"identity_attack\", \"sexual_explicit\"]\n",
    "cols = ['id', 'comment_text', 'toxicity', 'severe_toxicity', 'obscene', 'threat','insult', 'identity_attack', 'sexual_explicit', 'toxicity_annotator_count']\n",
    "juc_path=r\"C:\\Users\\Lenovo\\Desktop\\stupidcode\\data\\jigsaw\\jigsaw-unintended-bias-in-toxicity-classification\"\n",
    "\n",
    "juc_df = pd.read_csv(os.path.join(juc_path,\"all_data.csv\"))\n",
    "\n",
    "print(f\"jigsaw-toxic-comment-classification-challenge shape:{juc_df.shape[0]}\")\n",
    "print(f'duplicated by id:{juc_df.duplicated(\"id\").sum()}, duplicated by text:{juc_df.duplicated(\"comment_text\").sum()}')\n",
    "\n",
    "juc_df[[\"id\", \"comment_text\"] + features + ['toxicity_annotator_count']].head()"
   ]
  },
  {
   "cell_type": "markdown",
   "id": "c9a86197",
   "metadata": {
    "papermill": {
     "duration": 0.021408,
     "end_time": "2021-11-20T11:24:35.171771",
     "exception": false,
     "start_time": "2021-11-20T11:24:35.150363",
     "status": "completed"
    },
    "tags": []
   },
   "source": [
    "An importat attribute of this dataset is 'toxicity_annotator_count': it counts the raters of the comment.\n",
    "\n",
    "**TIP** yuo can use it to remove comments with few raters"
   ]
  },
  {
   "cell_type": "code",
   "execution_count": 47,
   "id": "6eed54d3",
   "metadata": {
    "execution": {
     "iopub.execute_input": "2021-11-20T11:24:35.612610Z",
     "iopub.status.busy": "2021-11-20T11:24:35.612012Z",
     "iopub.status.idle": "2021-11-20T11:24:45.201057Z",
     "shell.execute_reply": "2021-11-20T11:24:45.200253Z",
     "shell.execute_reply.started": "2021-11-20T11:05:24.151936Z"
    },
    "papermill": {
     "duration": 9.614109,
     "end_time": "2021-11-20T11:24:45.201212",
     "exception": false,
     "start_time": "2021-11-20T11:24:35.587103",
     "status": "completed"
    },
    "tags": []
   },
   "outputs": [
    {
     "name": "stdout",
     "output_type": "stream",
     "text": [
      "juc_df:(601044, 46)\n"
     ]
    },
    {
     "data": {
      "image/png": "[encoded data removed]",
      "text/plain": [
       "<Figure size 432x288 with 1 Axes>"
      ]
     },
     "metadata": {
      "needs_background": "light"
     },
     "output_type": "display_data"
    }
   ],
   "source": [
    "juc_df = juc_df.query (\"toxicity_annotator_count > 5\")\n",
    "print(f\"juc_df:{juc_df.shape}\")\n",
    "\n",
    "juc_df['y'] = juc_df[[ 'severe_toxicity', 'obscene', 'sexual_explicit','identity_attack', 'insult', 'threat']].sum(axis=1)\n",
    "\n",
    "#毒性<0.5 按标注 否则算所有有毒行为的标注和\n",
    "juc_df['y'] = juc_df.apply(lambda row: row[\"toxicity\"] if row[\"toxicity\"] <= 0.5 else row[\"y\"] , axis=1)\n",
    "juc_df = juc_df[['comment_text', 'y']].rename(columns={'comment_text': 'text'})\n",
    "min_len = (juc_df['y'] > 0.5).sum()\n",
    "df_y0_undersample = juc_df[juc_df['y'] <= 0.5].sample(n=int(min_len*1.5),random_state=201)\n",
    "juc_df = pd.concat([juc_df[juc_df['y'] > 0.5], df_y0_undersample])\n",
    "\n",
    "plt.hist (juc_df[\"y\"], bins=100)\n",
    "plt.title('Target distribution for train')\n",
    "plt.show()"
   ]
  },
  {
   "cell_type": "code",
   "execution_count": 48,
   "id": "2e04c08d",
   "metadata": {
    "execution": {
     "iopub.execute_input": "2021-11-20T11:24:45.404249Z",
     "iopub.status.busy": "2021-11-20T11:24:45.399077Z",
     "iopub.status.idle": "2021-11-20T11:33:30.476866Z",
     "shell.execute_reply": "2021-11-20T11:33:30.477368Z",
     "shell.execute_reply.started": "2021-11-20T11:05:33.831895Z"
    },
    "papermill": {
     "duration": 525.252733,
     "end_time": "2021-11-20T11:33:30.477588",
     "exception": false,
     "start_time": "2021-11-20T11:24:45.224855",
     "status": "completed"
    },
    "tags": []
   },
   "outputs": [
    {
     "name": "stderr",
     "output_type": "stream",
     "text": [
      "D:\\anaconda\\envs\\python36\\lib\\site-packages\\sklearn\\model_selection\\_split.py:668: UserWarning: The least populated class in y has only 1 members, which is less than n_splits=5.\n",
      "  % (min_groups, self.n_splits)), UserWarning)\n"
     ]
    },
    {
     "name": "stdout",
     "output_type": "stream",
     "text": [
      "FOLD:0, rmse_fold:0.30830, val_acc:0.68364\n",
      "FOLD:1, rmse_fold:0.30646, val_acc:0.68420\n",
      "FOLD:2, rmse_fold:0.30799, val_acc:0.68284\n",
      "FOLD:3, rmse_fold:0.30806, val_acc:0.68354\n",
      "FOLD:4, rmse_fold:0.30772, val_acc:0.68321\n",
      "OOF: val_acc:0.68563, mean val_acc:0.68349, mean rmse_score:0.30771\n"
     ]
    }
   ],
   "source": [
    "FOLDS = 5\n",
    "vec = TfidfVectorizer(analyzer='char_wb', max_df=0.5, min_df=3, ngram_range=(4, 6) )\n",
    "X = vec.fit_transform(juc_df['text'])\n",
    "y = juc_df[\"y\"].values\n",
    "X_test = vec.transform(df_test['text'])\n",
    "\n",
    "stratified = (np.around ( y, decimals = 1  )*10).astype(int)\n",
    "juc_p1, juc_p2, juc_preds =  ridge_cv (vec, X, y, X_test, FOLDS, stratified )"
   ]
  },
  {
   "cell_type": "markdown",
   "id": "a0e64ad4",
   "metadata": {
    "papermill": {
     "duration": 0.024184,
     "end_time": "2021-11-20T11:33:30.526532",
     "exception": false,
     "start_time": "2021-11-20T11:33:30.502348",
     "status": "completed"
    },
    "tags": []
   },
   "source": [
    "## Ruddit: Norms of Offensiveness for English Reddit Comments\n",
    "\n",
    "按最大最小标注方法标注，值在-1到1之间，-1代表最大支持\n"
   ]
  },
  {
   "cell_type": "code",
   "execution_count": 49,
   "id": "16bf7fe9",
   "metadata": {
    "execution": {
     "iopub.execute_input": "2021-11-20T11:33:30.578377Z",
     "iopub.status.busy": "2021-11-20T11:33:30.577807Z",
     "iopub.status.idle": "2021-11-20T11:33:30.650058Z",
     "shell.execute_reply": "2021-11-20T11:33:30.650466Z",
     "shell.execute_reply.started": "2021-11-20T11:15:16.713220Z"
    },
    "papermill": {
     "duration": 0.09981,
     "end_time": "2021-11-20T11:33:30.650631",
     "exception": false,
     "start_time": "2021-11-20T11:33:30.550821",
     "status": "completed"
    },
    "scrolled": true,
    "tags": []
   },
   "outputs": [
    {
     "data": {
      "text/html": [
       "<div>\n",
       "<style scoped>\n",
       "    .dataframe tbody tr th:only-of-type {\n",
       "        vertical-align: middle;\n",
       "    }\n",
       "\n",
       "    .dataframe tbody tr th {\n",
       "        vertical-align: top;\n",
       "    }\n",
       "\n",
       "    .dataframe thead th {\n",
       "        text-align: right;\n",
       "    }\n",
       "</style>\n",
       "<table border=\"1\" class=\"dataframe\">\n",
       "  <thead>\n",
       "    <tr style=\"text-align: right;\">\n",
       "      <th></th>\n",
       "      <th>post_id</th>\n",
       "      <th>comment_id</th>\n",
       "      <th>txt</th>\n",
       "      <th>url</th>\n",
       "      <th>offensiveness_score</th>\n",
       "    </tr>\n",
       "  </thead>\n",
       "  <tbody>\n",
       "    <tr>\n",
       "      <th>0</th>\n",
       "      <td>42g75o</td>\n",
       "      <td>cza1q49</td>\n",
       "      <td>&gt; The difference in average earnings between m...</td>\n",
       "      <td>https://www.reddit.com/r/changemyview/comments...</td>\n",
       "      <td>-0.083</td>\n",
       "    </tr>\n",
       "    <tr>\n",
       "      <th>1</th>\n",
       "      <td>42g75o</td>\n",
       "      <td>cza1wdh</td>\n",
       "      <td>The myth is that the \"gap\" is entirely based o...</td>\n",
       "      <td>https://www.reddit.com/r/changemyview/comments...</td>\n",
       "      <td>-0.022</td>\n",
       "    </tr>\n",
       "    <tr>\n",
       "      <th>2</th>\n",
       "      <td>42g75o</td>\n",
       "      <td>cza23qx</td>\n",
       "      <td>[deleted]</td>\n",
       "      <td>https://www.reddit.com/r/changemyview/comments...</td>\n",
       "      <td>0.167</td>\n",
       "    </tr>\n",
       "    <tr>\n",
       "      <th>3</th>\n",
       "      <td>42g75o</td>\n",
       "      <td>cza2bw8</td>\n",
       "      <td>The assertion is that women get paid less for ...</td>\n",
       "      <td>https://www.reddit.com/r/changemyview/comments...</td>\n",
       "      <td>-0.146</td>\n",
       "    </tr>\n",
       "    <tr>\n",
       "      <th>4</th>\n",
       "      <td>42g75o</td>\n",
       "      <td>cza2iji</td>\n",
       "      <td>You said in the OP that's not what they're mea...</td>\n",
       "      <td>https://www.reddit.com/r/changemyview/comments...</td>\n",
       "      <td>-0.083</td>\n",
       "    </tr>\n",
       "  </tbody>\n",
       "</table>\n",
       "</div>"
      ],
      "text/plain": [
       "  post_id comment_id                                                txt  \\\n",
       "0  42g75o    cza1q49  > The difference in average earnings between m...   \n",
       "1  42g75o    cza1wdh  The myth is that the \"gap\" is entirely based o...   \n",
       "2  42g75o    cza23qx                                          [deleted]   \n",
       "3  42g75o    cza2bw8  The assertion is that women get paid less for ...   \n",
       "4  42g75o    cza2iji  You said in the OP that's not what they're mea...   \n",
       "\n",
       "                                                 url  offensiveness_score  \n",
       "0  https://www.reddit.com/r/changemyview/comments...               -0.083  \n",
       "1  https://www.reddit.com/r/changemyview/comments...               -0.022  \n",
       "2  https://www.reddit.com/r/changemyview/comments...                0.167  \n",
       "3  https://www.reddit.com/r/changemyview/comments...               -0.146  \n",
       "4  https://www.reddit.com/r/changemyview/comments...               -0.083  "
      ]
     },
     "execution_count": 49,
     "metadata": {},
     "output_type": "execute_result"
    }
   ],
   "source": [
    "run_path=r\"C:\\Users\\Lenovo\\Desktop\\stupidcode\\data\\jigsaw\\ruddit jigsaw dataset\\Dataset\"\n",
    "rud_df = pd.read_csv(os.path.join(run_path,\"ruddit_with_text.csv\"))\n",
    "rud_df.head()"
   ]
  },
  {
   "cell_type": "code",
   "execution_count": 50,
   "id": "e8092820",
   "metadata": {
    "execution": {
     "iopub.execute_input": "2021-11-20T11:33:31.035548Z",
     "iopub.status.busy": "2021-11-20T11:33:31.034907Z",
     "iopub.status.idle": "2021-11-20T11:33:31.370965Z",
     "shell.execute_reply": "2021-11-20T11:33:31.371427Z",
     "shell.execute_reply.started": "2021-11-20T11:15:17.076987Z"
    },
    "papermill": {
     "duration": 0.372317,
     "end_time": "2021-11-20T11:33:31.371629",
     "exception": false,
     "start_time": "2021-11-20T11:33:30.999312",
     "status": "completed"
    },
    "tags": []
   },
   "outputs": [
    {
     "name": "stdout",
     "output_type": "stream",
     "text": [
      "rud_df:(5838, 5)\n"
     ]
    }
   ],
   "source": [
    "print(f\"rud_df:{rud_df.shape}\")\n",
    "rud_df['y'] = rud_df['offensiveness_score'].map(lambda x: 0.0 if x <=0 else x)\n",
    "rud_df = rud_df[['txt', 'y']].rename(columns={'txt': 'text'})"
   ]
  },
  {
   "cell_type": "code",
   "execution_count": 51,
   "id": "e709b351",
   "metadata": {
    "execution": {
     "iopub.execute_input": "2021-11-20T11:33:31.597510Z",
     "iopub.status.busy": "2021-11-20T11:33:31.592404Z",
     "iopub.status.idle": "2021-11-20T11:35:52.402879Z",
     "shell.execute_reply": "2021-11-20T11:35:52.403356Z",
     "shell.execute_reply.started": "2021-11-20T11:15:17.416759Z"
    },
    "papermill": {
     "duration": 141.005487,
     "end_time": "2021-11-20T11:35:52.403548",
     "exception": false,
     "start_time": "2021-11-20T11:33:31.398061",
     "status": "completed"
    },
    "tags": []
   },
   "outputs": [
    {
     "name": "stderr",
     "output_type": "stream",
     "text": [
      "D:\\anaconda\\envs\\python36\\lib\\site-packages\\sklearn\\model_selection\\_split.py:668: UserWarning: The least populated class in y has only 2 members, which is less than n_splits=5.\n",
      "  % (min_groups, self.n_splits)), UserWarning)\n"
     ]
    },
    {
     "name": "stdout",
     "output_type": "stream",
     "text": [
      "FOLD:0, rmse_fold:0.13647, val_acc:0.64621\n",
      "FOLD:1, rmse_fold:0.13659, val_acc:0.64657\n",
      "FOLD:2, rmse_fold:0.14109, val_acc:0.64578\n",
      "FOLD:3, rmse_fold:0.14256, val_acc:0.64773\n",
      "FOLD:4, rmse_fold:0.13726, val_acc:0.64478\n",
      "OOF: val_acc:0.64747, mean val_acc:0.64621, mean rmse_score:0.13880\n"
     ]
    }
   ],
   "source": [
    "FOLDS = 5\n",
    "vec = TfidfVectorizer(analyzer='char_wb', max_df=0.5, min_df=3, ngram_range=(4, 6) )\n",
    "X = vec.fit_transform(rud_df['text'])\n",
    "y = rud_df[\"y\"].values\n",
    "X_test = vec.transform(df_test['text'])\n",
    "\n",
    "stratified = (np.around ( y, decimals = 1  )*10).astype(int)\n",
    "rud_p1, rud_p2, rud_preds =  ridge_cv (vec, X, y, X_test, FOLDS, stratified )"
   ]
  },
  {
   "cell_type": "markdown",
   "id": "ce466b00",
   "metadata": {
    "papermill": {
     "duration": 0.027535,
     "end_time": "2021-11-20T11:35:52.458731",
     "exception": false,
     "start_time": "2021-11-20T11:35:52.431196",
     "status": "completed"
    },
    "tags": []
   },
   "source": [
    "## Ensemble"
   ]
  },
  {
   "cell_type": "code",
   "execution_count": 52,
   "id": "3c55a391",
   "metadata": {
    "execution": {
     "iopub.execute_input": "2021-11-20T11:35:52.517394Z",
     "iopub.status.busy": "2021-11-20T11:35:52.516503Z",
     "iopub.status.idle": "2021-11-20T11:35:52.523766Z",
     "shell.execute_reply": "2021-11-20T11:35:52.524195Z",
     "shell.execute_reply.started": "2021-11-20T11:17:48.462134Z"
    },
    "papermill": {
     "duration": 0.037969,
     "end_time": "2021-11-20T11:35:52.524352",
     "exception": false,
     "start_time": "2021-11-20T11:35:52.486383",
     "status": "completed"
    },
    "tags": []
   },
   "outputs": [
    {
     "name": "stdout",
     "output_type": "stream",
     "text": [
      "Ensemble: val_acc:0.69138\n"
     ]
    }
   ],
   "source": [
    "jc_max = max(jc_p1.max() , jc_p2.max())\n",
    "juc_max = max(juc_p1.max() , juc_p2.max())\n",
    "rud_max = max(rud_p1.max() , rud_p2.max())\n",
    "\n",
    "#归一化\n",
    "\n",
    "p1_ensenmble = jc_p1/jc_max + juc_p1/juc_max + rud_p1/rud_max\n",
    "p2_ensenmble = jc_p2/jc_max + juc_p2/juc_max + rud_p2/rud_max\n",
    "\n",
    "val_acc = (p1_ensenmble< p2_ensenmble).mean()\n",
    "print(f\"Ensemble: val_acc:{val_acc:.5f}\")"
   ]
  },
  {
   "cell_type": "code",
   "execution_count": 54,
   "id": "9487966e",
   "metadata": {},
   "outputs": [
    {
     "name": "stdout",
     "output_type": "stream",
     "text": [
      "Find right weight\n"
     ]
    },
    {
     "data": {
      "text/plain": [
       "[(0.31, 0.5, 0.18999999999999995, 69.35),\n",
       " (0.36, 0.51, 0.13, 69.35),\n",
       " (0.36, 0.53, 0.10999999999999999, 69.34),\n",
       " (0.31, 0.51, 0.17999999999999994, 69.33),\n",
       " (0.32, 0.49, 0.18999999999999995, 69.33)]"
      ]
     },
     "execution_count": 54,
     "metadata": {},
     "output_type": "execute_result"
    }
   ],
   "source": [
    "print(\"Find right weight\")\n",
    "p1,p3,p5=jc_p1/jc_max,juc_p1/juc_max,rud_p1/rud_max\n",
    "p2,p4,p6=jc_p2/jc_max,juc_p2/juc_max,rud_p2/rud_max\n",
    "wts_acc = []\n",
    "for i in range(30,70,1):\n",
    "    for j in range(0,20,1):\n",
    "        w1 = i/100\n",
    "        w2 = (100 - i - j)/100\n",
    "        w3 = (1 - w1 - w2 )\n",
    "        p1_wt = w1*p1 + w2*p3 + w3*p5\n",
    "        p2_wt = w1*p2 + w2*p4 + w3*p6\n",
    "        wts_acc.append( (w1,w2,w3, \n",
    "                         np.round((p1_wt < p2_wt).mean() * 100,2))\n",
    "                      )\n",
    "sorted(wts_acc, key=lambda x:x[3], reverse=True)[:5]"
   ]
  },
  {
   "cell_type": "code",
   "execution_count": 55,
   "id": "2393ff7d",
   "metadata": {},
   "outputs": [],
   "source": [
    "w1,w2,w3,_ = sorted(wts_acc, key=lambda x:x[3], reverse=True)[0]\n",
    "#print(best_wts)\n"
   ]
  },
  {
   "cell_type": "markdown",
   "id": "d033daf1",
   "metadata": {
    "papermill": {
     "duration": 0.028137,
     "end_time": "2021-11-20T11:35:52.580615",
     "exception": false,
     "start_time": "2021-11-20T11:35:52.552478",
     "status": "completed"
    },
    "tags": []
   },
   "source": [
    "# Submission"
   ]
  },
  {
   "cell_type": "code",
   "execution_count": 56,
   "id": "67a12764",
   "metadata": {
    "execution": {
     "iopub.execute_input": "2021-11-20T11:35:52.642003Z",
     "iopub.status.busy": "2021-11-20T11:35:52.641365Z",
     "iopub.status.idle": "2021-11-20T11:35:52.663761Z",
     "shell.execute_reply": "2021-11-20T11:35:52.664254Z",
     "shell.execute_reply.started": "2021-11-20T11:17:48.472833Z"
    },
    "papermill": {
     "duration": 0.055777,
     "end_time": "2021-11-20T11:35:52.664414",
     "exception": false,
     "start_time": "2021-11-20T11:35:52.608637",
     "status": "completed"
    },
    "tags": []
   },
   "outputs": [
    {
     "data": {
      "text/html": [
       "<div>\n",
       "<style scoped>\n",
       "    .dataframe tbody tr th:only-of-type {\n",
       "        vertical-align: middle;\n",
       "    }\n",
       "\n",
       "    .dataframe tbody tr th {\n",
       "        vertical-align: top;\n",
       "    }\n",
       "\n",
       "    .dataframe thead th {\n",
       "        text-align: right;\n",
       "    }\n",
       "</style>\n",
       "<table border=\"1\" class=\"dataframe\">\n",
       "  <thead>\n",
       "    <tr style=\"text-align: right;\">\n",
       "      <th></th>\n",
       "      <th>comment_id</th>\n",
       "      <th>text</th>\n",
       "      <th>score</th>\n",
       "    </tr>\n",
       "  </thead>\n",
       "  <tbody>\n",
       "    <tr>\n",
       "      <th>0</th>\n",
       "      <td>114890</td>\n",
       "      <td>\"\\n \\n\\nGjalexei, you asked about whether ther...</td>\n",
       "      <td>889</td>\n",
       "    </tr>\n",
       "    <tr>\n",
       "      <th>1</th>\n",
       "      <td>732895</td>\n",
       "      <td>Looks like be have an abuser , can you please ...</td>\n",
       "      <td>1396</td>\n",
       "    </tr>\n",
       "    <tr>\n",
       "      <th>2</th>\n",
       "      <td>1139051</td>\n",
       "      <td>I confess to having complete (and apparently b...</td>\n",
       "      <td>1224</td>\n",
       "    </tr>\n",
       "    <tr>\n",
       "      <th>3</th>\n",
       "      <td>1434512</td>\n",
       "      <td>\"\\n\\nFreud's ideas are certainly much discusse...</td>\n",
       "      <td>350</td>\n",
       "    </tr>\n",
       "    <tr>\n",
       "      <th>4</th>\n",
       "      <td>2084821</td>\n",
       "      <td>It is not just you. This is a laundry list of ...</td>\n",
       "      <td>3663</td>\n",
       "    </tr>\n",
       "  </tbody>\n",
       "</table>\n",
       "</div>"
      ],
      "text/plain": [
       "   comment_id                                               text  score\n",
       "0      114890  \"\\n \\n\\nGjalexei, you asked about whether ther...    889\n",
       "1      732895  Looks like be have an abuser , can you please ...   1396\n",
       "2     1139051  I confess to having complete (and apparently b...   1224\n",
       "3     1434512  \"\\n\\nFreud's ideas are certainly much discusse...    350\n",
       "4     2084821  It is not just you. This is a laundry list of ...   3663"
      ]
     },
     "execution_count": 56,
     "metadata": {},
     "output_type": "execute_result"
    }
   ],
   "source": [
    "score = w1*jc_preds/jc_max + w2*juc_preds/juc_max + w3*rud_preds/rud_max  \n",
    "## to enforce unique values on score\n",
    "df_test['score'] = rankdata(score, method='ordinal')\n",
    "\n",
    "df_test[['comment_id', 'score']].to_csv(\"submission.csv\", index=False)\n",
    "\n",
    "df_test.head()"
   ]
  },
  {
   "cell_type": "code",
   "execution_count": null,
   "id": "adf689a3",
   "metadata": {},
   "outputs": [],
   "source": []
  }
 ],
 "metadata": {
  "kernelspec": {
   "display_name": "Python 3",
   "language": "python",
   "name": "python3"
  },
  "language_info": {
   "codemirror_mode": {
    "name": "ipython",
    "version": 3
   },
   "file_extension": ".py",
   "mimetype": "text/x-python",
   "name": "python",
   "nbconvert_exporter": "python",
   "pygments_lexer": "ipython3",
   "version": "3.6.12"
  },
  "papermill": {
   "default_parameters": {},
   "duration": 940.597322,
   "end_time": "2021-11-20T11:35:53.906628",
   "environment_variables": {},
   "exception": null,
   "input_path": "__notebook__.ipynb",
   "output_path": "__notebook__.ipynb",
   "parameters": {},
   "start_time": "2021-11-20T11:20:13.309306",
   "version": "2.3.3"
  }
 },
 "nbformat": 4,
 "nbformat_minor": 5
}
