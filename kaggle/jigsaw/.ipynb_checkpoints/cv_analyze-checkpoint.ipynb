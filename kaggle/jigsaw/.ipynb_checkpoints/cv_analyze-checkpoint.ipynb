{
 "cells": [
  {
   "cell_type": "code",
   "execution_count": 1,
   "metadata": {},
   "outputs": [],
   "source": [
    "import pandas as pd\n",
    "import sys\n",
    "from scipy.stats import ks_2samp\n",
    "import seaborn as sns\n",
    "import matplotlib.pyplot as plt\n",
    "def corr(first_df, second_df):\n",
    "    # assuming first column is `class_name_id`\n",
    "    class_names = [\"toxic_value\"]\n",
    "\n",
    "    for class_name in class_names:\n",
    "        # all correlations\n",
    "        print('\\n Class: %s' % class_name)\n",
    "        print(' Pearson\\'s correlation score: %0.6f' %\n",
    "              first_df[class_name].corr(\n",
    "                  second_df[class_name], method='pearson'))\n",
    "        print(' Kendall\\'s correlation score: %0.6f' %\n",
    "              first_df[class_name].corr(\n",
    "                  second_df[class_name], method='kendall'))\n",
    "        print(' Spearman\\'s correlation score: %0.6f' %\n",
    "              first_df[class_name].corr(\n",
    "                  second_df[class_name], method='spearman'))\n",
    "        ks_stat, p_value = ks_2samp(first_df[class_name].values,\n",
    "                                    second_df[class_name].values)\n",
    "        print(' Kolmogorov-Smirnov test:    KS-stat = %.6f    p-value = %.3e\\n'\n",
    "              % (ks_stat, p_value))"
   ]
  },
  {
   "cell_type": "code",
   "execution_count": null,
   "metadata": {},
   "outputs": [],
   "source": [
    "##14612"
   ]
  },
  {
   "cell_type": "code",
   "execution_count": 74,
   "metadata": {},
   "outputs": [
    {
     "name": "stdout",
     "output_type": "stream",
     "text": [
      "2.25\n"
     ]
    }
   ],
   "source": [
    "cnt=0\n",
    "min1,max1,num=0,2,4\n",
    "\n",
    "for i in range(num-min1):\n",
    "    if i<=max1-min1:\n",
    "        cnt+=i+1\n",
    "    else:\n",
    "        cnt+=max1-min1+1\n",
    "print(cnt/num)"
   ]
  },
  {
   "cell_type": "code",
   "execution_count": 65,
   "metadata": {},
   "outputs": [
    {
     "name": "stdout",
     "output_type": "stream",
     "text": [
      "5.0\n"
     ]
    }
   ],
   "source": [
    "cnt=0\n",
    "min1,max1,num=0,8,9\n",
    "\n",
    "for i in range(num-min1):\n",
    "    if i<=max1-min1:\n",
    "        cnt+=i+1\n",
    "    else:\n",
    "        cnt+=max1-min1+1\n",
    "print(cnt/num)"
   ]
  },
  {
   "cell_type": "code",
   "execution_count": 3,
   "metadata": {},
   "outputs": [],
   "source": [
    "luke_val=pd.read_csv(\"./cv_analyze/oof_df.csv\")\n",
    "\n",
    "luke_val_persedo=pd.read_csv(\"./cv_analyze/luke_ruddit_0.860.csv\")"
   ]
  },
  {
   "cell_type": "code",
   "execution_count": 4,
   "metadata": {},
   "outputs": [],
   "source": [
    "#drop=0 0.808\n",
    "xlnet_val=pd.read_csv(\"./cv_analyze/xlnet_0.808.csv\")\n",
    "#drop=0 0.824\n",
    "roberta_val=pd.read_csv(\"./cv_analyze/roberta_0.824.csv\")\n",
    "albert_val=pd.read_csv(\"./cv_analyze/albert0.818.csv\")"
   ]
  },
  {
   "cell_type": "code",
   "execution_count": 5,
   "metadata": {},
   "outputs": [],
   "source": [
    "jc=pd.read_csv(\"./cv_analyze/jc_s_.csv\")\n",
    "jcc1=pd.read_csv(\"./cv_analyze/jcc1_s_.csv\")\n",
    "jcc2=pd.read_csv(\"./cv_analyze/jcc2_s_.csv\")\n",
    "rud=pd.read_csv(\"./cv_analyze/rud_s_.csv\")\n",
    "jc_f=jc.copy()\n",
    "jc_f.less_value=(jc.less_value+jcc1.less_value+jcc2.less_value)/3\n",
    "\n",
    "jc_f.more_value=(jc.more_value+jcc1.more_value+jcc2.more_value)/3"
   ]
  },
  {
   "cell_type": "code",
   "execution_count": 6,
   "metadata": {},
   "outputs": [],
   "source": [
    "def generate_comments(data):\n",
    "    more_toxic_text=data[[\"more_toxic\",\"encode_more\",\"more_value\"]]\n",
    "    less_toxic_text=data[[\"less_toxic\",\"encode_less\",\"less_value\"]]\n",
    "    more_toxic_text=more_toxic_text.rename(columns={\"more_toxic\":\"text\",\"encode_more\":\"encode_text\",\"more_value\":\"toxic_value\"})\n",
    "    less_toxic_text=less_toxic_text.rename(columns={\"less_toxic\":\"text\",\"encode_less\":\"encode_text\",\"less_value\":\"toxic_value\"})\n",
    "    \n",
    "    comments=pd.concat([more_toxic_text,less_toxic_text],axis=0)\n",
    "    comments=comments.drop_duplicates(subset=None,keep=\"first\",inplace=False) \n",
    "    return comments"
   ]
  },
  {
   "cell_type": "code",
   "execution_count": 7,
   "metadata": {},
   "outputs": [],
   "source": [
    "def encode_label(data_df):\n",
    "     # 不同训练结果下的偏差，进行一些处理 主要是luke的偏差\n",
    "    comments=generate_comments(roberta_val)\n",
    "    comments.index=comments[\"text\"]\n",
    "    index_encode_dict=comments.to_dict()[\"encode_text\"]\n",
    "    del comments\n",
    "    # 选择直接赋值 而不再根据文本匹配 因为经过翻译后的结果可能不匹配\n",
    "    encode_less_luke=data_df.apply(lambda row:index_encode_dict[row[\"less_toxic\"]],axis=1)\n",
    "    encode_more_luke=data_df.apply(lambda row:index_encode_dict[row[\"more_toxic\"]],axis=1)\n",
    "    data_df[\"encode_less\"]=encode_less_luke\n",
    "    data_df[\"encode_more\"]=encode_more_luke\n",
    "    return data_df\n",
    "def sort_by_roberta(data_df):\n",
    "    data_df[\"new_index\"]=data_df.merge(roberta_val[[\"encode_less\",\"encode_more\",\"worker\",\"Unnamed: 0\"]],\n",
    "         on=[\"encode_less\",\"encode_more\",\"worker\"],how=\"left\")[\"Unnamed: 0\"]\n",
    "    data_df.index=data_df[\"new_index\"]\n",
    "    data_df.sort_index(inplace=True)\n",
    "    return data_df\n",
    "def luke_process(data_df):\n",
    "    data_df=encode_label(data_df)\n",
    "    data_df=data_df.rename(columns={\"less_toxic_pred\":\"less_value\",\"more_toxic_pred\":\"more_value\"})\n",
    "    data_df[\"pair_True\"]=data_df[\"less_value\"]<data_df[\"more_value\"]\n",
    "\n",
    "    data_df=sort_by_roberta(data_df)\n",
    "    return data_df\n",
    "\n",
    "luke_val=luke_process(luke_val)\n",
    "luke_val_persedo=luke_process(luke_val_persedo)"
   ]
  },
  {
   "cell_type": "code",
   "execution_count": 8,
   "metadata": {},
   "outputs": [],
   "source": [
    "comments_luke_val=generate_comments(luke_val)\n",
    "comments_luke_val_persedo=generate_comments(luke_val_persedo)\n",
    "\n",
    "jc_f[\"encode_less\"]=roberta_val.encode_less\n",
    "jc_f[\"encode_more\"]=roberta_val.encode_more\n",
    "\n",
    "rud[\"encode_less\"]=roberta_val.encode_less\n",
    "rud[\"encode_more\"]=roberta_val.encode_more\n",
    "\n",
    "comments_jc_f=generate_comments(jc_f)\n",
    "comments_rud=generate_comments(rud)"
   ]
  },
  {
   "cell_type": "code",
   "execution_count": 9,
   "metadata": {},
   "outputs": [],
   "source": [
    "import torch.nn.functional as F\n",
    "import numpy as np\n",
    "import torch\n",
    "\n",
    "def loss_function(data_df):\n",
    "    less_value_array = np.array(data_df[\"less_value\"])\n",
    "    less_value_tensor = torch.tensor(less_value_array)\n",
    "    more_value_array = np.array(data_df[\"more_value\"])\n",
    "    more_value_tensor = torch.tensor(more_value_array)\n",
    "    loss=F.margin_ranking_loss(more_value_tensor,less_value_tensor,torch.tensor([1]),margin=0.5,reduction=\"none\").tolist()\n",
    "    return loss\n",
    "\n",
    "# luke_loss=loss_function(luke_val)\n",
    "# xlnet_loss=loss_function(xlnet_val)\n",
    "# roberta_loss=loss_function(roberta_val)\n",
    "# albert_loss=loss_function(albert_val)\n",
    "\n",
    "# loss_df=pd.DataFrame({\"luke_loss\":luke_loss,\"xlnet_loss\":xlnet_loss,\"roberta_loss\":roberta_loss,\"albert_loss\":albert_loss})\n",
    "# loss_columns=loss_df.columns\n",
    "# loss_df[\"target\"]=0\n"
   ]
  },
  {
   "cell_type": "code",
   "execution_count": 10,
   "metadata": {},
   "outputs": [],
   "source": [
    "from sklearn import preprocessing\n",
    "from sklearn.preprocessing import StandardScaler\n",
    "def standard_func(data,comments):\n",
    "    data_df=data.copy()\n",
    "    ss=StandardScaler()\n",
    "    toxic_value=ss.fit_transform(comments[\"toxic_value\"].values.reshape(-1,1))\n",
    "    less_value=ss.transform(data_df[\"less_value\"].values.reshape(-1,1))\n",
    "    more_value=ss.transform(data_df[\"more_value\"].values.reshape(-1,1))\n",
    "    data_df[\"less_value\"]=less_value\n",
    "    data_df[\"more_value\"]=more_value\n",
    "    return data_df\n",
    "\n",
    "# 消除量纲\n",
    "def normalize_process(data):\n",
    "    data_df=data.copy()\n",
    "    min_value=data_df[\"less_value\"].min()\n",
    "    max_value=data_df[\"more_value\"].max()\n",
    "    s=max_value-min_value\n",
    "    data_df[\"less_value\"]=(data_df[\"less_value\"]-min_value)/s\n",
    "    data_df[\"more_value\"]=(data_df[\"more_value\"]-min_value)/s\n",
    "    \n",
    "    return data_df"
   ]
  },
  {
   "cell_type": "code",
   "execution_count": 11,
   "metadata": {},
   "outputs": [],
   "source": [
    "max_r=max(rud.less_value.max(),rud.more_value.max())\n",
    "max_f=max(jc_f.less_value.max(),jc_f.more_value.max())\n",
    "\n",
    "rud[\"less_value\"]=rud[\"less_value\"]/max_r\n",
    "rud[\"more_value\"]=rud[\"more_value\"]/max_r\n",
    "\n",
    "jc_f[\"less_value\"]=jc_f[\"less_value\"]/max_f\n",
    "jc_f[\"more_value\"]=jc_f[\"more_value\"]/max_f"
   ]
  },
  {
   "cell_type": "code",
   "execution_count": 12,
   "metadata": {},
   "outputs": [],
   "source": [
    "\n",
    "rud1=standard_func(rud,comments_rud)\n",
    "rud2=normalize_process(rud)\n",
    "\n",
    "jc_f1=standard_func(jc_f,comments_jc_f)\n",
    "jc_f2=normalize_process(jc_f)\n",
    "\n",
    "luke_val_persedo1=standard_func(luke_val_persedo,comments_luke_val_persedo)\n",
    "luke_val_persedo2=normalize_process(luke_val_persedo)\n"
   ]
  },
  {
   "cell_type": "code",
   "execution_count": 13,
   "metadata": {},
   "outputs": [],
   "source": [
    "linear=jc_f.copy()\n",
    "linear[\"less_values\"]=rud.less_value.values*+jc_f.less_value.values*4\n",
    "linear[\"more_values\"]=rud.more_value.values*+jc_f.more_value.values*4\n",
    "comments_linear=generate_comments(linear)\n",
    "\n",
    "linear1=standard_func(linear,comments_linear)\n",
    "linear2=normalize_process(linear)\n"
   ]
  },
  {
   "cell_type": "code",
   "execution_count": 14,
   "metadata": {},
   "outputs": [
    {
     "data": {
      "text/plain": [
       " final_simplex: (array([[0.525     , 0.475     ],\n",
       "       [0.5249939 , 0.47496338],\n",
       "       [0.52505951, 0.47496643]]), array([-0.68064966, -0.68064966, -0.68064966]))\n",
       "           fun: -0.6806496612196095\n",
       "       message: 'Optimization terminated successfully.'\n",
       "          nfev: 42\n",
       "           nit: 14\n",
       "        status: 0\n",
       "       success: True\n",
       "             x: array([0.525, 0.475])"
      ]
     },
     "execution_count": 14,
     "metadata": {},
     "output_type": "execute_result"
    }
   ],
   "source": [
    "from scipy.optimize import minimize\n",
    "def f(x):\n",
    "    pred1=rud.less_value.values*x[0]+jc_f.less_value.values*x[1]\n",
    "    pred2=rud.more_value.values*x[0]+jc_f.more_value.values*x[1]\n",
    "    score = -1*(pred2>pred1).mean()\n",
    "    return score\n",
    "weight_init = [ 1 / 2 for _ in range(2)]\n",
    "\n",
    "result = minimize(f, weight_init , method=\"Nelder-Mead\")\n",
    "result"
   ]
  },
  {
   "cell_type": "code",
   "execution_count": 15,
   "metadata": {},
   "outputs": [
    {
     "data": {
      "text/plain": [
       " final_simplex: (array([[0.50007935, 0.52461548],\n",
       "       [0.50013351, 0.52459335],\n",
       "       [0.50008793, 0.52463398]]), array([-0.70280324, -0.70280324, -0.70280324]))\n",
       "           fun: -0.7028032416633453\n",
       "       message: 'Optimization terminated successfully.'\n",
       "          nfev: 48\n",
       "           nit: 19\n",
       "        status: 0\n",
       "       success: True\n",
       "             x: array([0.50007935, 0.52461548])"
      ]
     },
     "execution_count": 15,
     "metadata": {},
     "output_type": "execute_result"
    }
   ],
   "source": [
    "from scipy.optimize import minimize\n",
    "def f(x):\n",
    "    pred1=linear.less_value.values*x[0]+luke_val_persedo.less_value.values*x[1]\n",
    "    pred2=linear.more_value.values*x[0]+luke_val_persedo.more_value.values*x[1]\n",
    "    score = -1*(pred2>pred1).mean()\n",
    "    return score\n",
    "weight_init = [ 1 / 2 for _ in range(2)]\n",
    "\n",
    "result = minimize(f, weight_init , method=\"Nelder-Mead\")\n",
    "result"
   ]
  },
  {
   "cell_type": "code",
   "execution_count": 16,
   "metadata": {},
   "outputs": [
    {
     "data": {
      "text/plain": [
       " final_simplex: (array([[0.49904785, 0.52064209],\n",
       "       [0.4990406 , 0.52054882],\n",
       "       [0.49906759, 0.52056718]]), array([-0.70280324, -0.70280324, -0.70280324]))\n",
       "           fun: -0.7028032416633453\n",
       "       message: 'Optimization terminated successfully.'\n",
       "          nfev: 43\n",
       "           nit: 18\n",
       "        status: 0\n",
       "       success: True\n",
       "             x: array([0.49904785, 0.52064209])"
      ]
     },
     "execution_count": 16,
     "metadata": {},
     "output_type": "execute_result"
    }
   ],
   "source": [
    "from scipy.optimize import minimize\n",
    "def f(x):\n",
    "    pred1=linear1.less_value.values*x[0]+luke_val_persedo1.less_value.values*x[1]\n",
    "    pred2=linear1.more_value.values*x[0]+luke_val_persedo1.more_value.values*x[1]\n",
    "    score = -1*(pred2>pred1).mean()\n",
    "    return score\n",
    "weight_init = [ 1 / 2 for _ in range(2)]\n",
    "\n",
    "result = minimize(f, weight_init , method=\"Nelder-Mead\")\n",
    "result"
   ]
  },
  {
   "cell_type": "code",
   "execution_count": 17,
   "metadata": {},
   "outputs": [
    {
     "data": {
      "text/plain": [
       " final_simplex: (array([[0.67341309, 0.4009552 ],\n",
       "       [0.67340508, 0.40093598],\n",
       "       [0.67335749, 0.40097064]]), array([-0.70280324, -0.70280324, -0.70280324]))\n",
       "           fun: -0.7028032416633453\n",
       "       message: 'Optimization terminated successfully.'\n",
       "          nfev: 53\n",
       "           nit: 20\n",
       "        status: 0\n",
       "       success: True\n",
       "             x: array([0.67341309, 0.4009552 ])"
      ]
     },
     "execution_count": 17,
     "metadata": {},
     "output_type": "execute_result"
    }
   ],
   "source": [
    "from scipy.optimize import minimize\n",
    "def f(x):\n",
    "    pred1=linear2.less_value.values*x[0]+luke_val_persedo2.less_value.values*x[1]\n",
    "    pred2=linear2.more_value.values*x[0]+luke_val_persedo2.more_value.values*x[1]\n",
    "    score = -1*(pred2>pred1).mean()\n",
    "    return score\n",
    "weight_init = [ 1 / 2 for _ in range(2)]\n",
    "\n",
    "result = minimize(f, weight_init , method=\"Nelder-Mead\")\n",
    "result"
   ]
  },
  {
   "cell_type": "code",
   "execution_count": 79,
   "metadata": {},
   "outputs": [],
   "source": [
    "# from scipy.optimize import minimize \n",
    "# def f(x):\n",
    "#     pred1 = luke_val[\"less_value\"].values*x[0]+xlnet_val[\"less_value\"]*0+roberta_val[\"less_value\"]*x[1]+albert_val[\"less_value\"]*x[2]\n",
    "#     pred2=luke_val[\"more_value\"].values*x[0]+xlnet_val[\"more_value\"]*0+roberta_val[\"more_value\"]*x[1]+albert_val[\"more_value\"]*x[2]\n",
    "#     score = (pred2>pred1).mean()\n",
    "#     return score\n",
    "# weight_init = [ 1 / 3 for _ in range(3)]\n",
    "# # sum_lb=0.829+0.824+0.818\n",
    "# # weight_init = [0.829/sum_lb,0.824/sum_lb,0.818/sum_lb]\n",
    "\n",
    "# result = minimize(f, weight_init , method=\"Nelder-Mead\")\n",
    "# result"
   ]
  },
  {
   "cell_type": "code",
   "execution_count": 15,
   "metadata": {},
   "outputs": [],
   "source": [
    "comments_luke_val['rank'] = comments_luke_val['toxic_value'].rank(method='first')\n",
    "luke_val[\"less_rank\"]=luke_val.merge(comments_luke_val[[\"rank\",\"encode_text\"]],left_on=\"encode_less\",right_on=\"encode_text\",how=\"left\")[\"rank\"]\n",
    "luke_val[\"more_rank\"]=luke_val.merge(comments_luke_val[[\"rank\",\"encode_text\"]],left_on=\"encode_more\",right_on=\"encode_text\",how=\"left\")[\"rank\"]\n"
   ]
  },
  {
   "cell_type": "code",
   "execution_count": 17,
   "metadata": {},
   "outputs": [],
   "source": [
    "true_result=luke_val.query(\"pair_True==True & more_value-less_value>=0.5\")\n"
   ]
  },
  {
   "cell_type": "code",
   "execution_count": 28,
   "metadata": {},
   "outputs": [
    {
     "data": {
      "image/png": "[encoded data removed]",
      "text/plain": [
       "<Figure size 360x360 with 4 Axes>"
      ]
     },
     "metadata": {
      "needs_background": "light"
     },
     "output_type": "display_data"
    }
   ],
   "source": [
    "fig,axs=plt.subplots(2,2,figsize=(5,5))\n",
    "sns.kdeplot(data=luke_val[\"less_value\"],ax=axs[0][0])\n",
    "sns.kdeplot(data=luke_val[\"more_value\"],ax=axs[0][1])\n",
    "sns.kdeplot(data=luke_val[\"more_value\"]-luke_val[\"less_value\"],ax=axs[1][0])\n",
    "sns.kdeplot(data=luke_val.query(\"pair_True==True\")[\"more_value\"]-luke_val.query(\"pair_True==True\")[\"less_value\"],ax=axs[1][1])\n",
    "\n",
    "plt.show()"
   ]
  },
  {
   "cell_type": "code",
   "execution_count": 29,
   "metadata": {},
   "outputs": [
    {
     "data": {
      "image/png": "[encoded data removed]",
      "text/plain": [
       "<Figure size 720x720 with 4 Axes>"
      ]
     },
     "metadata": {
      "needs_background": "light"
     },
     "output_type": "display_data"
    }
   ],
   "source": [
    "fig,axs=plt.subplots(2,2,figsize=(10,10))\n",
    "sns.kdeplot(data=luke_val[\"less_rank\"],ax=axs[0][0])\n",
    "sns.kdeplot(data=luke_val[\"more_rank\"],ax=axs[0][1])\n",
    "sns.kdeplot(data=luke_val[\"more_rank\"]-luke_val[\"less_rank\"],ax=axs[1][0])\n",
    "sns.kdeplot(data=luke_val.query(\"pair_True==True\")[\"more_rank\"]-luke_val.query(\"pair_True==True\")[\"less_rank\"],ax=axs[1][1])\n",
    "plt.show()"
   ]
  },
  {
   "cell_type": "code",
   "execution_count": 30,
   "metadata": {},
   "outputs": [
    {
     "data": {
      "text/plain": [
       "<matplotlib.axes._subplots.AxesSubplot at 0x2de0f69da88>"
      ]
     },
     "execution_count": 30,
     "metadata": {},
     "output_type": "execute_result"
    },
    {
     "data": {
      "image/png": "[encoded data removed]",
      "text/plain": [
       "<Figure size 432x288 with 1 Axes>"
      ]
     },
     "metadata": {
      "needs_background": "light"
     },
     "output_type": "display_data"
    }
   ],
   "source": [
    "rank_diff=luke_val.query(\"pair_True==True\")[\"more_rank\"]-luke_val.query(\"pair_True==True\")[\"less_rank\"]\n",
    "sns.boxplot(x=rank_diff)"
   ]
  },
  {
   "cell_type": "code",
   "execution_count": 31,
   "metadata": {},
   "outputs": [
    {
     "data": {
      "text/plain": [
       "<matplotlib.axes._subplots.AxesSubplot at 0x2de0f5c17c8>"
      ]
     },
     "execution_count": 31,
     "metadata": {},
     "output_type": "execute_result"
    },
    {
     "data": {
      "image/png": "[encoded data removed]",
      "text/plain": [
       "<Figure size 432x288 with 1 Axes>"
      ]
     },
     "metadata": {
      "needs_background": "light"
     },
     "output_type": "display_data"
    }
   ],
   "source": [
    "value_diff=luke_val.query(\"pair_True==True\")[\"more_value\"]-luke_val.query(\"pair_True==True\")[\"less_value\"]\n",
    "sns.boxplot(x=value_diff)"
   ]
  },
  {
   "cell_type": "code",
   "execution_count": 33,
   "metadata": {},
   "outputs": [
    {
     "data": {
      "text/plain": [
       "1.2140648630671242"
      ]
     },
     "execution_count": 33,
     "metadata": {},
     "output_type": "execute_result"
    }
   ],
   "source": [
    "(luke_val.query(\"pair_True==True\")[\"more_value\"]-luke_val.query(\"pair_True==True\")[\"less_value\"]).mean()"
   ]
  },
  {
   "cell_type": "code",
   "execution_count": 37,
   "metadata": {},
   "outputs": [
    {
     "name": "stdout",
     "output_type": "stream",
     "text": [
      "0.27693984\n",
      "0.8121689999999999\n"
     ]
    }
   ],
   "source": [
    "print(comments_luke_val[\"toxic_value\"].min())\n",
    "print(comments_luke_val[\"toxic_value\"].max())"
   ]
  },
  {
   "cell_type": "code",
   "execution_count": 41,
   "metadata": {},
   "outputs": [],
   "source": [
    "comments_luke_val[\"rank\"]=comments_luke_val[\"toxic_value\"].rank(method=\"first\")"
   ]
  },
  {
   "cell_type": "code",
   "execution_count": null,
   "metadata": {},
   "outputs": [],
   "source": []
  }
 ],
 "metadata": {
  "kernelspec": {
   "display_name": "Python [conda env:root] *",
   "language": "python",
   "name": "conda-root-py"
  },
  "language_info": {
   "codemirror_mode": {
    "name": "ipython",
    "version": 3
   },
   "file_extension": ".py",
   "mimetype": "text/x-python",
   "name": "python",
   "nbconvert_exporter": "python",
   "pygments_lexer": "ipython3",
   "version": "3.7.6"
  }
 },
 "nbformat": 4,
 "nbformat_minor": 4
}
