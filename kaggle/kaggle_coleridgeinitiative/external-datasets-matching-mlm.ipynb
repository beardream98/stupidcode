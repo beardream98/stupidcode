{
 "cells": [
  {
   "cell_type": "markdown",
   "id": "animal-kitty",
   "metadata": {
    "papermill": {
     "duration": 0.02287,
     "end_time": "2021-05-21T11:25:49.703454",
     "exception": false,
     "start_time": "2021-05-21T11:25:49.680584",
     "status": "completed"
    },
    "tags": []
   },
   "source": [
    "# About\n",
    "\n",
    "This notebook added an splendid `External Dataset` shared by [@mlconsult](https://www.kaggle.com/mlconsult) to `MLM` shared by [@tungmphung](https://www.kaggle.com/tungmphung). Thanks to everyone willing to share their knowledge, let's make the DS community better ;)\n",
    "\n",
    "**Please check the original notebooks and discussion here:**\n",
    "- [Matching + Baseline + MLM w/ Evaluation Metric](https://www.kaggle.com/chienhsianghung/matching-baseline-mlm-w-evaluation-metric)\n",
    "- [Coleridge Initiative| Naive CV (Local Validation)](https://www.kaggle.com/chienhsianghung/coleridge-initiative-naive-cv-local-validation)\n",
    "- [Evaluation metric implementation](https://www.kaggle.com/c/coleridgeinitiative-show-us-the-data/discussion/230091)\n",
    "- [[Coleridge] Predict with Masked Dataset Modeling](https://www.kaggle.com/tungmphung/coleridge-predict-with-masked-dataset-modeling)\n",
    "- [score 57ish with additional govt datasets](https://www.kaggle.com/mlconsult/score-57ish-with-additional-govt-datasets)\n",
    "\n",
    "**Previous results from:**\n",
    "[Matching + Baseline + MLM w/ Evaluation Metric](https://www.kaggle.com/chienhsianghung/matching-baseline-mlm-w-evaluation-metric)\n",
    "\n",
    "|   | CV | LB |\n",
    "| --- | --- | --- |\n",
    "| og | 0.604 | 0.536 |\n",
    "| og s1.5 |   | 0.535 |\n",
    "| og s2.5 |   | 0.535 |\n",
    "| pred_mlm_labels | 0.108 |   |\n",
    "| lables_list | 0.548 |   |\n",
    "| all | 0.261 |   |\n",
    "| og2all | 0.454 |   |\n",
    "| 150 400 |   | 0.536 |\n",
    "| 200 300 |   | 0.536 |\n",
    "| 2021 |   | 0.536 |\n",
    "| 42 |   | 0.536 |\n",
    "| 42 s1.5 |   | 0.535 |\n",
    "| 42 .70 |   | 0.536 |\n",
    "| 42 .80 |   | 0.536 |\n",
    "| MATCH_ONLY |   | 0.533 |\n",
    "| BASELINE_HELPING |   | 0.536 |\n",
    "| 1 |   | 0.536 |"
   ]
  },
  {
   "cell_type": "markdown",
   "id": "facial-chamber",
   "metadata": {
    "papermill": {
     "duration": 0.021266,
     "end_time": "2021-05-21T11:25:49.746092",
     "exception": false,
     "start_time": "2021-05-21T11:25:49.724826",
     "status": "completed"
    },
    "tags": []
   },
   "source": [
    "# Setting"
   ]
  },
  {
   "cell_type": "code",
   "execution_count": 50,
   "id": "jewish-currency",
   "metadata": {
    "execution": {
     "iopub.execute_input": "2021-05-21T11:25:49.793916Z",
     "iopub.status.busy": "2021-05-21T11:25:49.792383Z",
     "iopub.status.idle": "2021-05-21T11:25:49.797075Z",
     "shell.execute_reply": "2021-05-21T11:25:49.796573Z",
     "shell.execute_reply.started": "2021-05-21T11:25:33.688889Z"
    },
    "papermill": {
     "duration": 0.02975,
     "end_time": "2021-05-21T11:25:49.797193",
     "exception": false,
     "start_time": "2021-05-21T11:25:49.767443",
     "status": "completed"
    },
    "tags": []
   },
   "outputs": [],
   "source": [
    "COMPUTE_CV =False #计算local cv\n",
    "ALL_BLENDED = False\n",
    "BASELINE_HELPING = False\n",
    "MATCH_ONLY = False\n",
    "KEN_MATCHING = True\n",
    "BS_CLEANING = False\n",
    "\n",
    "SEED = 42"
   ]
  },
  {
   "cell_type": "markdown",
   "id": "distinct-whole",
   "metadata": {
    "papermill": {
     "duration": 0.021116,
     "end_time": "2021-05-21T11:27:17.158457",
     "exception": false,
     "start_time": "2021-05-21T11:27:17.137341",
     "status": "completed"
    },
    "tags": []
   },
   "source": [
    "# Import"
   ]
  },
  {
   "cell_type": "code",
   "execution_count": 101,
   "id": "going-twist",
   "metadata": {
    "execution": {
     "iopub.execute_input": "2021-05-21T11:27:17.212178Z",
     "iopub.status.busy": "2021-05-21T11:27:17.211393Z",
     "iopub.status.idle": "2021-05-21T11:27:25.025239Z",
     "shell.execute_reply": "2021-05-21T11:27:25.025780Z"
    },
    "papermill": {
     "duration": 7.8448,
     "end_time": "2021-05-21T11:27:25.026040",
     "exception": false,
     "start_time": "2021-05-21T11:27:17.181240",
     "status": "completed"
    },
    "tags": []
   },
   "outputs": [
    {
     "name": "stdout",
     "output_type": "stream",
     "text": [
      "this submission notebook will only be used to submit result\n"
     ]
    }
   ],
   "source": [
    "import os\n",
    "import re\n",
    "import json\n",
    "import time\n",
    "import datetime\n",
    "import random\n",
    "import glob\n",
    "import importlib\n",
    "\n",
    "import numpy as np\n",
    "import pandas as pd\n",
    "\n",
    "from tqdm.autonotebook import tqdm\n",
    "import matplotlib.pyplot as plt\n",
    "import seaborn as sns\n",
    "\n",
    "import torch\n",
    "\n",
    "from transformers import AutoTokenizer, DataCollatorForLanguageModeling, \\\n",
    "AutoModelForMaskedLM, Trainer, TrainingArguments, pipeline\n",
    "\n",
    "from typing import List\n",
    "import string\n",
    "from functools import partial\n",
    "\n",
    "sns.set()\n",
    "random.seed(SEED)\n",
    "np.random.seed(SEED)\n",
    "torch.manual_seed(SEED)\n",
    "torch.backends.cudnn.deterministic = True\n",
    "torch.backends.cudnn.benchmark = False\n",
    "\n",
    "if COMPUTE_CV: \n",
    "    print('this submission notebook will compute CV score but commit notebook will not')\n",
    "else:\n",
    "    print('this submission notebook will only be used to submit result')"
   ]
  },
  {
   "cell_type": "markdown",
   "id": "decreased-transsexual",
   "metadata": {
    "papermill": {
     "duration": 0.022834,
     "end_time": "2021-05-21T11:27:25.074127",
     "exception": false,
     "start_time": "2021-05-21T11:27:25.051293",
     "status": "completed"
    },
    "tags": []
   },
   "source": [
    "# Load data"
   ]
  },
  {
   "cell_type": "code",
   "execution_count": 153,
   "id": "functioning-means",
   "metadata": {
    "execution": {
     "iopub.execute_input": "2021-05-21T11:27:25.125509Z",
     "iopub.status.busy": "2021-05-21T11:27:25.124993Z",
     "iopub.status.idle": "2021-05-21T11:27:25.223534Z",
     "shell.execute_reply": "2021-05-21T11:27:25.222679Z"
    },
    "papermill": {
     "duration": 0.126552,
     "end_time": "2021-05-21T11:27:25.223686",
     "exception": false,
     "start_time": "2021-05-21T11:27:25.097134",
     "status": "completed"
    },
    "tags": []
   },
   "outputs": [],
   "source": [
    "train_path = './input/train.csv'\n",
    "train_files_path = './input/train'\n",
    "train = pd.read_csv(train_path)\n",
    "from sklearn.model_selection import train_test_split\n",
    "\n",
    "#扔上去\n",
    "no_validation=False\n",
    "COMPUTE_CV=False\n",
    "if COMPUTE_CV:\n",
    "    size_validation=0.005\n",
    "    if no_validation:\n",
    "        sample_submission=train[0:int(size_validation*len(train))]\n",
    "    else:\n",
    "        train,sample_submission = train_test_split(train,test_size=size_validation)\n",
    "    print(\"len of train\",len(train),\"\\nlen of sample_submission\",len(sample_submission))    \n",
    "    paper_test_folder = './input/train'\n",
    "    test_files_path = paper_test_folder\n",
    "else:\n",
    "    sample_submission = pd.read_csv('./input/sample_submission.csv')\n",
    "    paper_test_folder = './input/test'\n",
    "    test_files_path = paper_test_folder\n",
    "    \n",
    "adnl_govt_labels_path = './input/data_set_800.csv'"
   ]
  },
  {
   "cell_type": "code",
   "execution_count": 154,
   "id": "systematic-hawaiian",
   "metadata": {
    "execution": {
     "iopub.execute_input": "2021-05-21T11:27:25.279748Z",
     "iopub.status.busy": "2021-05-21T11:27:25.278988Z",
     "iopub.status.idle": "2021-05-21T11:27:25.335793Z",
     "shell.execute_reply": "2021-05-21T11:27:25.335145Z"
    },
    "papermill": {
     "duration": 0.089073,
     "end_time": "2021-05-21T11:27:25.335998",
     "exception": false,
     "start_time": "2021-05-21T11:27:25.246925",
     "status": "completed"
    },
    "tags": []
   },
   "outputs": [
    {
     "data": {
      "application/vnd.jupyter.widget-view+json": {
       "model_id": "04fd293e75ef44af8f0b8f3b0e9882d6",
       "version_major": 2,
       "version_minor": 0
      },
      "text/plain": [
       "  0%|          | 0/4 [00:00<?, ?it/s]"
      ]
     },
     "metadata": {},
     "output_type": "display_data"
    }
   ],
   "source": [
    "papers = {}\n",
    "for paper_id in tqdm(sample_submission['Id']):\n",
    "    \n",
    "    with open(f'{paper_test_folder}/{paper_id}.json', 'r') as f:\n",
    "        paper = json.load(f)\n",
    "        papers[paper_id] = paper"
   ]
  },
  {
   "cell_type": "markdown",
   "id": "future-pizza",
   "metadata": {
    "papermill": {
     "duration": 0.025809,
     "end_time": "2021-05-21T11:27:25.388560",
     "exception": false,
     "start_time": "2021-05-21T11:27:25.362751",
     "status": "completed"
    },
    "tags": []
   },
   "source": [
    "# Literal Matching"
   ]
  },
  {
   "cell_type": "markdown",
   "id": "minute-snake",
   "metadata": {
    "papermill": {
     "duration": 0.025696,
     "end_time": "2021-05-21T11:27:25.440132",
     "exception": false,
     "start_time": "2021-05-21T11:27:25.414436",
     "status": "completed"
    },
    "tags": []
   },
   "source": [
    "### Create a Knowledge Bank"
   ]
  },
  {
   "cell_type": "code",
   "execution_count": 155,
   "id": "going-dairy",
   "metadata": {
    "execution": {
     "iopub.execute_input": "2021-05-21T11:27:25.528629Z",
     "iopub.status.busy": "2021-05-21T11:27:25.518404Z",
     "iopub.status.idle": "2021-05-21T11:27:25.551327Z",
     "shell.execute_reply": "2021-05-21T11:27:25.550765Z"
    },
    "papermill": {
     "duration": 0.085044,
     "end_time": "2021-05-21T11:27:25.551480",
     "exception": false,
     "start_time": "2021-05-21T11:27:25.466436",
     "status": "completed"
    },
    "tags": []
   },
   "outputs": [
    {
     "name": "stdout",
     "output_type": "stream",
     "text": [
      "No. different labels: 180\n"
     ]
    }
   ],
   "source": [
    "all_labels = set()\n",
    "\n",
    "for label_1, label_2, label_3 in train[['dataset_title', 'dataset_label', 'cleaned_label']].itertuples(index=False):\n",
    "    all_labels.add(str(label_1).lower())\n",
    "    all_labels.add(str(label_2).lower())\n",
    "    all_labels.add(str(label_3).lower())\n",
    "    \n",
    "print(f'No. different labels: {len(all_labels)}')"
   ]
  },
  {
   "cell_type": "markdown",
   "id": "activated-startup",
   "metadata": {
    "papermill": {
     "duration": 0.025049,
     "end_time": "2021-05-21T11:27:25.602470",
     "exception": false,
     "start_time": "2021-05-21T11:27:25.577421",
     "status": "completed"
    },
    "tags": []
   },
   "source": [
    "#### Additional Govt Datasets"
   ]
  },
  {
   "cell_type": "code",
   "execution_count": 156,
   "id": "eastern-class",
   "metadata": {
    "execution": {
     "iopub.execute_input": "2021-05-21T11:27:25.659552Z",
     "iopub.status.busy": "2021-05-21T11:27:25.659015Z",
     "iopub.status.idle": "2021-05-21T11:27:25.677068Z",
     "shell.execute_reply": "2021-05-21T11:27:25.676495Z"
    },
    "papermill": {
     "duration": 0.049377,
     "end_time": "2021-05-21T11:27:25.677207",
     "exception": false,
     "start_time": "2021-05-21T11:27:25.627830",
     "status": "completed"
    },
    "tags": []
   },
   "outputs": [
    {
     "name": "stdout",
     "output_type": "stream",
     "text": [
      "No. different labels: 2159\n"
     ]
    }
   ],
   "source": [
    "adnl_govt_labels = pd.read_csv(adnl_govt_labels_path)\n",
    "govt_labels=set()\n",
    "for l in adnl_govt_labels.title:\n",
    "    all_labels.add(l)\n",
    "    govt_labels.add(l)\n",
    "print(f'No. different labels: {len(all_labels)}')"
   ]
  },
  {
   "cell_type": "markdown",
   "id": "lesser-warrant",
   "metadata": {
    "papermill": {
     "duration": 0.04167,
     "end_time": "2021-05-21T11:27:25.743734",
     "exception": false,
     "start_time": "2021-05-21T11:27:25.702064",
     "status": "completed"
    },
    "tags": []
   },
   "source": [
    "### Matching on test data"
   ]
  },
  {
   "cell_type": "code",
   "execution_count": 157,
   "id": "african-george",
   "metadata": {
    "execution": {
     "iopub.execute_input": "2021-05-21T11:27:25.842492Z",
     "iopub.status.busy": "2021-05-21T11:27:25.841542Z",
     "iopub.status.idle": "2021-05-21T11:27:25.853394Z",
     "shell.execute_reply": "2021-05-21T11:27:25.854422Z"
    },
    "papermill": {
     "duration": 0.069654,
     "end_time": "2021-05-21T11:27:25.854652",
     "exception": false,
     "start_time": "2021-05-21T11:27:25.784998",
     "status": "completed"
    },
    "tags": []
   },
   "outputs": [],
   "source": [
    "def clean_text(txt):\n",
    "    return re.sub('[^A-Za-z0-9]+', ' ', str(txt).lower()).strip()\n",
    "\n",
    "\n",
    "def totally_clean_text(txt):\n",
    "    txt = clean_text(txt)\n",
    "    txt = re.sub(' +', ' ', txt)\n",
    "    return txt\n",
    "\n",
    "if not BS_CLEANING:\n",
    "    def text_cleaning(text):\n",
    "        '''\n",
    "        Converts all text to lower case, Removes special charecters, emojis and multiple spaces\n",
    "        text - Sentence that needs to be cleaned\n",
    "        '''\n",
    "        text = re.sub('[^A-Za-z0-9]+', ' ', str(text).lower()).strip()\n",
    "        text = re.sub(' +', ' ', text)\n",
    "        emoji_pattern = re.compile(\"[\"\n",
    "                                   u\"\\U0001F600-\\U0001F64F\"  # emoticons\n",
    "                                   u\"\\U0001F300-\\U0001F5FF\"  # symbols & pictographs\n",
    "                                   u\"\\U0001F680-\\U0001F6FF\"  # transport & map symbols\n",
    "                                   u\"\\U0001F1E0-\\U0001F1FF\"  # flags (iOS)\n",
    "                                   \"]+\", flags=re.UNICODE)\n",
    "        text = emoji_pattern.sub(r'', text)\n",
    "        return text\n",
    "else:\n",
    "    def text_cleaning(text):\n",
    "        '''\n",
    "        Converts all text to lower case, Removes special charecters, emojis and multiple spaces\n",
    "        text - Sentence that needs to be cleaned\n",
    "        '''\n",
    "        text = ''.join([k for k in text if k not in string.punctuation]) #去除标点符号\n",
    "        text = re.sub('[^A-Za-z0-9]+', ' ', str(text).lower()).strip()\n",
    "        # text = re.sub(\"/'+/g\", ' ', text)\n",
    "        return text\n",
    "\n",
    "\n",
    "def read_json_pub(filename, train_data_path=train_files_path, output='text'):\n",
    "    json_path = os.path.join(train_data_path, (filename+'.json'))\n",
    "    headings = []\n",
    "    contents = []\n",
    "    combined = []\n",
    "    with open(json_path, 'r') as f:\n",
    "        json_decode = json.load(f)\n",
    "        for data in json_decode:\n",
    "            headings.append(data.get('section_title'))\n",
    "            contents.append(data.get('text'))\n",
    "            combined.append(data.get('section_title'))\n",
    "            combined.append(data.get('text'))\n",
    "    \n",
    "    all_headings = ' '.join(headings)\n",
    "    all_contents = ' '.join(contents)\n",
    "    all_data = '. '.join(combined)\n",
    "    \n",
    "    if output == 'text':\n",
    "        return all_contents\n",
    "    elif output == 'head':\n",
    "        return all_headings\n",
    "    else:\n",
    "        return all_data"
   ]
  },
  {
   "cell_type": "code",
   "execution_count": 188,
   "id": "d10ad9f0",
   "metadata": {},
   "outputs": [
    {
     "data": {
      "text/plain": [
       "['alzheimer disease neuroimaging initiative', 'adni']"
      ]
     },
     "execution_count": 188,
     "metadata": {},
     "output_type": "execute_result"
    }
   ],
   "source": [
    "#将datasets+缩写格式进行拆分\n",
    "def unpackdatasets_abbre(s1):\n",
    "    \n",
    "    stop_list=[\"of\",\"and\",\"for\",\"in\",\"s\"]\n",
    "    sent=[]\n",
    "    for s in s1.split():\n",
    "        if s not in stop_list:\n",
    "            sent.append(s)\n",
    "    word=sent[-1]\n",
    "    if  len(sent)-1!=len(word):\n",
    "        return s1\n",
    "\n",
    "    for i in range(len(sent)-1):\n",
    "        if  sent[i][0]!=word[i]:\n",
    "            return s1\n",
    "    return [\" \".join(sent[:-1]),word]\n",
    " \n"
   ]
  },
  {
   "cell_type": "code",
   "execution_count": 194,
   "id": "precise-accessory",
   "metadata": {
    "execution": {
     "iopub.execute_input": "2021-05-21T11:27:25.949590Z",
     "iopub.status.busy": "2021-05-21T11:27:25.948827Z",
     "iopub.status.idle": "2021-05-21T11:27:25.952376Z",
     "shell.execute_reply": "2021-05-21T11:27:25.952834Z"
    },
    "papermill": {
     "duration": 0.056933,
     "end_time": "2021-05-21T11:27:25.952967",
     "exception": false,
     "start_time": "2021-05-21T11:27:25.896034",
     "status": "completed"
    },
    "tags": []
   },
   "outputs": [
    {
     "data": {
      "application/vnd.jupyter.widget-view+json": {
       "model_id": "29ddbf0e809242cb8c21bca345a3705d",
       "version_major": 2,
       "version_minor": 0
      },
      "text/plain": [
       "  0%|          | 0/4 [00:00<?, ?it/s]"
      ]
     },
     "metadata": {},
     "output_type": "display_data"
    }
   ],
   "source": [
    "if not KEN_MATCHING:\n",
    "    literal_preds = []\n",
    "    for paper_id in tqdm(sample_submission['Id']):\n",
    "        paper = papers[paper_id]\n",
    "        text_1 = '. '.join(section['text'] for section in paper).lower()\n",
    "        text_2 = totally_clean_text(text_1)\n",
    "        \n",
    "        labels = set()\n",
    "        for label in all_labels:\n",
    "            if label in text_1 or label in text_2:\n",
    "                label=clean_text(label)\n",
    "                label=unpackdatasets_abbre(label)\n",
    "                if type(label)==list:\n",
    "                    labels.add(clean_text(label[0]))\n",
    "                    labels.add(clean_text(label[1]))\n",
    "                else:\n",
    "                    labels.add(clean_text(label))\n",
    "        literal_preds.append('|'.join(labels))\n",
    "    literal_preds[:5]"
   ]
  },
  {
   "cell_type": "markdown",
   "id": "static-wheel",
   "metadata": {
    "papermill": {
     "duration": 0.037189,
     "end_time": "2021-05-21T11:27:26.027424",
     "exception": false,
     "start_time": "2021-05-21T11:27:25.990235",
     "status": "completed"
    },
    "tags": []
   },
   "source": [
    "#### Ken Matching"
   ]
  },
  {
   "cell_type": "code",
   "execution_count": 198,
   "id": "official-assignment",
   "metadata": {
    "execution": {
     "iopub.execute_input": "2021-05-21T11:27:26.107107Z",
     "iopub.status.busy": "2021-05-21T11:27:26.106381Z",
     "iopub.status.idle": "2021-05-21T11:27:27.413176Z",
     "shell.execute_reply": "2021-05-21T11:27:27.413759Z"
    },
    "papermill": {
     "duration": 1.349212,
     "end_time": "2021-05-21T11:27:27.413971",
     "exception": false,
     "start_time": "2021-05-21T11:27:26.064759",
     "status": "completed"
    },
    "tags": []
   },
   "outputs": [
    {
     "data": {
      "application/vnd.jupyter.widget-view+json": {
       "model_id": "25368eea362d42bd8fd51c6820c81078",
       "version_major": 2,
       "version_minor": 0
      },
      "text/plain": [
       "  0%|          | 0/4 [00:00<?, ?it/s]"
      ]
     },
     "metadata": {},
     "output_type": "display_data"
    }
   ],
   "source": [
    "if KEN_MATCHING: #仅匹配额外数据集\n",
    "    literal_preds = []\n",
    "    for paper_id in tqdm(sample_submission['Id']):\n",
    "        paper = papers[paper_id]\n",
    "        text_1 = '. '.join(section['text'] for section in paper).lower()\n",
    "        text_2 = totally_clean_text(text_1)\n",
    "        \n",
    "        labels = set()\n",
    "        for label in govt_labels:\n",
    "            if label in text_1 or label in text_2:\n",
    "                label=clean_text(label)\n",
    "                label=unpackdatasets_abbre(label)\n",
    "                if type(label)==list:\n",
    "                    labels.add(clean_text(label[0]))\n",
    "                    labels.add(clean_text(label[1]))\n",
    "                else:\n",
    "                    labels.add(clean_text(label))\n",
    "        literal_preds.append('|'.join(labels))\n",
    "    literal_preds[:5]"
   ]
  },
  {
   "cell_type": "markdown",
   "id": "arbitrary-factory",
   "metadata": {
    "papermill": {
     "duration": 0.024398,
     "end_time": "2021-05-21T11:27:27.463850",
     "exception": false,
     "start_time": "2021-05-21T11:27:27.439452",
     "status": "completed"
    },
    "tags": []
   },
   "source": [
    "# Masked Dataset Modeling"
   ]
  },
  {
   "cell_type": "markdown",
   "id": "dirty-chain",
   "metadata": {
    "papermill": {
     "duration": 0.024131,
     "end_time": "2021-05-21T11:27:27.513230",
     "exception": false,
     "start_time": "2021-05-21T11:27:27.489099",
     "status": "completed"
    },
    "tags": []
   },
   "source": [
    "### Paths and Hyperparameters"
   ]
  },
  {
   "cell_type": "code",
   "execution_count": 109,
   "id": "necessary-hazard",
   "metadata": {
    "execution": {
     "iopub.execute_input": "2021-05-21T11:27:27.566541Z",
     "iopub.status.busy": "2021-05-21T11:27:27.566031Z",
     "iopub.status.idle": "2021-05-21T11:27:27.569996Z",
     "shell.execute_reply": "2021-05-21T11:27:27.569532Z"
    },
    "papermill": {
     "duration": 0.032616,
     "end_time": "2021-05-21T11:27:27.570103",
     "exception": false,
     "start_time": "2021-05-21T11:27:27.537487",
     "status": "completed"
    },
    "tags": []
   },
   "outputs": [],
   "source": [
    "if not MATCH_ONLY:\n",
    "    PRETRAINED_PATH = './input/archive/output-mlm/checkpoint-60000'\n",
    "    TOKENIZER_PATH = './input/archive/model_tokenizer'\n",
    "\n",
    "    MAX_LENGTH = 64\n",
    "    OVERLAP = 20\n",
    "\n",
    "    PREDICT_BATCH = 32 # a higher value requires higher GPU memory usage\n",
    "\n",
    "    DATASET_SYMBOL = '$' # this symbol represents a dataset name\n",
    "    NONDATA_SYMBOL = '#' # this symbol represents a non-dataset name"
   ]
  },
  {
   "cell_type": "markdown",
   "id": "recent-potential",
   "metadata": {
    "papermill": {
     "duration": 0.024372,
     "end_time": "2021-05-21T11:27:27.619265",
     "exception": false,
     "start_time": "2021-05-21T11:27:27.594893",
     "status": "completed"
    },
    "tags": []
   },
   "source": [
    "# Transform data to MLM format"
   ]
  },
  {
   "cell_type": "markdown",
   "id": "tested-discount",
   "metadata": {
    "papermill": {
     "duration": 0.024291,
     "end_time": "2021-05-21T11:27:27.668022",
     "exception": false,
     "start_time": "2021-05-21T11:27:27.643731",
     "status": "completed"
    },
    "tags": []
   },
   "source": [
    "### Load model and tokenizer"
   ]
  },
  {
   "cell_type": "code",
   "execution_count": 110,
   "id": "enclosed-county",
   "metadata": {
    "execution": {
     "iopub.execute_input": "2021-05-21T11:27:27.721323Z",
     "iopub.status.busy": "2021-05-21T11:27:27.720824Z",
     "iopub.status.idle": "2021-05-21T11:27:42.115507Z",
     "shell.execute_reply": "2021-05-21T11:27:42.115999Z"
    },
    "papermill": {
     "duration": 14.423512,
     "end_time": "2021-05-21T11:27:42.116174",
     "exception": false,
     "start_time": "2021-05-21T11:27:27.692662",
     "status": "completed"
    },
    "tags": []
   },
   "outputs": [],
   "source": [
    "if not MATCH_ONLY:\n",
    "    tokenizer = AutoTokenizer.from_pretrained(TOKENIZER_PATH, use_fast=True)\n",
    "    model = AutoModelForMaskedLM.from_pretrained(PRETRAINED_PATH)\n",
    "\n",
    "    mlm = pipeline(\n",
    "        'fill-mask', \n",
    "        model=model,\n",
    "        tokenizer=tokenizer,\n",
    "        device=0 if torch.cuda.is_available() else -1\n",
    "    )"
   ]
  },
  {
   "cell_type": "markdown",
   "id": "institutional-korea",
   "metadata": {
    "papermill": {
     "duration": 0.024881,
     "end_time": "2021-05-21T11:27:42.167695",
     "exception": false,
     "start_time": "2021-05-21T11:27:42.142814",
     "status": "completed"
    },
    "tags": []
   },
   "source": [
    "### Auxiliary functions"
   ]
  },
  {
   "cell_type": "code",
   "execution_count": 111,
   "id": "suspended-dietary",
   "metadata": {
    "execution": {
     "iopub.execute_input": "2021-05-21T11:27:42.265153Z",
     "iopub.status.busy": "2021-05-21T11:27:42.264202Z",
     "iopub.status.idle": "2021-05-21T11:27:42.266730Z",
     "shell.execute_reply": "2021-05-21T11:27:42.267186Z"
    },
    "papermill": {
     "duration": 0.074532,
     "end_time": "2021-05-21T11:27:42.267325",
     "exception": false,
     "start_time": "2021-05-21T11:27:42.192793",
     "status": "completed"
    },
    "tags": []
   },
   "outputs": [],
   "source": [
    "def jaccard_similarity(s1, s2):\n",
    "    l1 = s1.split(\" \")\n",
    "    l2 = s2.split(\" \")    \n",
    "    intersection = len(list(set(l1).intersection(l2)))\n",
    "    union = (len(l1) + len(l2)) - intersection\n",
    "    return float(intersection) / union\n",
    "\n",
    "def clean_paper_sentence(s):\n",
    "    \"\"\"\n",
    "    This function is essentially clean_text without lowercasing.\n",
    "    \"\"\"\n",
    "    s = re.sub('[^A-Za-z0-9]+', ' ', str(s)).strip()\n",
    "    s = re.sub(' +', ' ', s)\n",
    "    return s\n",
    "\n",
    "def shorten_sentences(sentences):\n",
    "    \"\"\"\n",
    "    Sentences that have more than MAX_LENGTH words will be split\n",
    "    into multiple sentences with overlappings.\n",
    "    \"\"\"\n",
    "    short_sentences = []\n",
    "    for sentence in sentences:\n",
    "        words = sentence.split()\n",
    "        if len(words) > MAX_LENGTH:\n",
    "            for p in range(0, len(words), MAX_LENGTH - OVERLAP):\n",
    "                short_sentences.append(' '.join(words[p:p+MAX_LENGTH]))\n",
    "        else:\n",
    "            short_sentences.append(sentence)\n",
    "    return short_sentences\n",
    "\n",
    "connection_tokens = {'s', 'of', 'and', 'in', 'on', 'for', 'data', 'dataset'}\n",
    "def find_mask_candidates(sentence):\n",
    "    \"\"\" \n",
    "    Extract masking candidates for Masked Dataset Modeling from a given $sentence.\n",
    "    A candidate should be a continuous sequence of at least 2 words, \n",
    "    each of these words either has the first letter in uppercase or is one of\n",
    "    the connection words ($connection_tokens). Furthermore, the connection \n",
    "    tokens are not allowed to appear at the beginning and the end of the\n",
    "    sequence.\n",
    "    \"\"\"\n",
    "    #定义的数据集特征\n",
    "    def candidate_qualified(words): #\n",
    "        while len(words) and words[0].lower() in connection_tokens:\n",
    "            words = words[1:]\n",
    "        while len(words) and words[-1].lower() in connection_tokens:\n",
    "            words = words[:-1]\n",
    "        \n",
    "        return len(words) >= 2\n",
    "    \n",
    "    candidates = []\n",
    "    \n",
    "    phrase_start, phrase_end = -1, -1\n",
    "    for id in range(1, len(sentence)):\n",
    "        word = sentence[id]\n",
    "        if word[0].isupper() or word in connection_tokens:\n",
    "            if phrase_start == -1:\n",
    "                phrase_start = phrase_end = id\n",
    "            else:\n",
    "                phrase_end = id\n",
    "        else:\n",
    "            if phrase_start != -1:\n",
    "                if candidate_qualified(sentence[phrase_start:phrase_end+1]):\n",
    "                    candidates.append((phrase_start, phrase_end))\n",
    "                phrase_start = phrase_end = -1\n",
    "    \n",
    "    if phrase_start != -1:\n",
    "        if candidate_qualified(sentence[phrase_start:phrase_end+1]):\n",
    "            candidates.append((phrase_start, phrase_end))\n",
    "    \n",
    "    return candidates"
   ]
  },
  {
   "cell_type": "markdown",
   "id": "incorporated-installation",
   "metadata": {
    "papermill": {
     "duration": 0.024932,
     "end_time": "2021-05-21T11:27:42.318430",
     "exception": false,
     "start_time": "2021-05-21T11:27:42.293498",
     "status": "completed"
    },
    "tags": []
   },
   "source": [
    "### Transform 转换为MASK格式"
   ]
  },
  {
   "cell_type": "code",
   "execution_count": 112,
   "id": "third-praise",
   "metadata": {
    "execution": {
     "iopub.execute_input": "2021-05-21T11:27:42.393375Z",
     "iopub.status.busy": "2021-05-21T11:27:42.392476Z",
     "iopub.status.idle": "2021-05-21T11:27:42.463459Z",
     "shell.execute_reply": "2021-05-21T11:27:42.462895Z"
    },
    "papermill": {
     "duration": 0.120033,
     "end_time": "2021-05-21T11:27:42.463598",
     "exception": false,
     "start_time": "2021-05-21T11:27:42.343565",
     "status": "completed"
    },
    "tags": []
   },
   "outputs": [
    {
     "data": {
      "application/vnd.jupyter.widget-view+json": {
       "model_id": "0d1c88f66d144255b9010c5cd414af33",
       "version_major": 2,
       "version_minor": 0
      },
      "text/plain": [
       "  0%|          | 0/99 [00:00<?, ?it/s]"
      ]
     },
     "metadata": {},
     "output_type": "display_data"
    }
   ],
   "source": [
    "if not MATCH_ONLY: \n",
    "    mask = mlm.tokenizer.mask_token\n",
    "    all_test_data = []\n",
    "    \n",
    "    for paper_id in tqdm(sample_submission['Id']):\n",
    "        # load paper\n",
    "        paper = papers[paper_id]\n",
    "\n",
    "        # extract sentences\n",
    "        sentences = set([clean_paper_sentence(sentence) for section in paper \n",
    "                         for sentence in section['text'].split('.')\n",
    "                        ])\n",
    "        sentences = shorten_sentences(sentences) # make sentences short\n",
    "        sentences = [sentence for sentence in sentences if len(sentence) > 10] # only accept sentences with length > 10 chars\n",
    "        sentences = [sentence for sentence in sentences if any(word in sentence.lower() for word in ['data', 'study'])]\n",
    "        sentences = [sentence.split() for sentence in sentences] # sentence = list of words\n",
    "\n",
    "        # mask\n",
    "        test_data = []\n",
    "        for sentence in sentences:\n",
    "            for phrase_start, phrase_end in find_mask_candidates(sentence):\n",
    "                dt_point = sentence[:phrase_start] + [mask] + sentence[phrase_end+1:]\n",
    "                test_data.append((' '.join(dt_point), ' '.join(sentence[phrase_start:phrase_end+1]))) # (masked text, phrase)\n",
    "\n",
    "        all_test_data.append(test_data)"
   ]
  },
  {
   "cell_type": "markdown",
   "id": "elementary-plastic",
   "metadata": {
    "papermill": {
     "duration": 0.025558,
     "end_time": "2021-05-21T11:27:42.516430",
     "exception": false,
     "start_time": "2021-05-21T11:27:42.490872",
     "status": "completed"
    },
    "tags": []
   },
   "source": [
    "### Predict"
   ]
  },
  {
   "cell_type": "code",
   "execution_count": 200,
   "id": "substantial-dutch",
   "metadata": {
    "execution": {
     "iopub.execute_input": "2021-05-21T11:27:42.593461Z",
     "iopub.status.busy": "2021-05-21T11:27:42.592667Z",
     "iopub.status.idle": "2021-05-21T11:27:45.536944Z",
     "shell.execute_reply": "2021-05-21T11:27:45.537546Z"
    },
    "papermill": {
     "duration": 2.995575,
     "end_time": "2021-05-21T11:27:45.537762",
     "exception": false,
     "start_time": "2021-05-21T11:27:42.542187",
     "status": "completed"
    },
    "scrolled": true,
    "tags": []
   },
   "outputs": [
    {
     "data": {
      "application/vnd.jupyter.widget-view+json": {
       "model_id": "e969336153444ff182b8167b5184e642",
       "version_major": 2,
       "version_minor": 0
      },
      "text/plain": [
       "  0%|          | 0/99 [00:00<?, ?it/s]"
      ]
     },
     "metadata": {},
     "output_type": "display_data"
    }
   ],
   "source": [
    "if not MATCH_ONLY:\n",
    "    pred_mlm_labels = []\n",
    "\n",
    "    for test_data in tqdm(all_test_data):\n",
    "        pred_bag = set()\n",
    "\n",
    "        if len(test_data):\n",
    "            texts, phrases = list(zip(*test_data))\n",
    "            mlm_pred = []\n",
    "            for p_id in range(0, len(texts), PREDICT_BATCH):\n",
    "                batch_texts = texts[p_id:p_id+PREDICT_BATCH]\n",
    "                batch_pred = mlm(list(batch_texts), targets=[f' {DATASET_SYMBOL}', f' {NONDATA_SYMBOL}'])\n",
    "\n",
    "                if len(batch_texts) == 1:\n",
    "                    batch_pred = [batch_pred]\n",
    "\n",
    "                mlm_pred.extend(batch_pred)\n",
    "\n",
    "            for (result1, result2), phrase in zip(mlm_pred, phrases):\n",
    "                if (result1['score'] > result2['score']*2 and result1['token_str'] == DATASET_SYMBOL) or\\\n",
    "                   (result2['score'] > result1['score']*2 and result2['token_str'] == NONDATA_SYMBOL):\n",
    "                    pred_bag.add(clean_text(phrase))\n",
    "\n",
    "        # filter labels by jaccard score \n",
    "        filtered_labels = []\n",
    "\n",
    "        for label in sorted(pred_bag, key=len, reverse=True):\n",
    "            if len(filtered_labels) == 0 or all(jaccard_similarity(label, got_label) < 0.75 for got_label in filtered_labels):\n",
    "                label=clean_text(label)\n",
    "                label=unpackdatasets_abbre(label)\n",
    "                if type(label)==list:\n",
    "                    filtered_labels.append(clean_text(label[0]))\n",
    "                    filtered_labels.append(clean_text(label[1]))\n",
    "                else:\n",
    "                    filtered_labels.append(clean_text(label))\n",
    "                \n",
    "        pred_mlm_labels.append('|'.join(filtered_labels))\n",
    "    \n",
    "    pred_mlm_labels[:5]"
   ]
  },
  {
   "cell_type": "markdown",
   "id": "square-granny",
   "metadata": {
    "papermill": {
     "duration": 0.028386,
     "end_time": "2021-05-21T11:27:45.596597",
     "exception": false,
     "start_time": "2021-05-21T11:27:45.568211",
     "status": "completed"
    },
    "tags": []
   },
   "source": [
    "# Baseline Model"
   ]
  },
  {
   "cell_type": "code",
   "execution_count": 114,
   "id": "viral-clinton",
   "metadata": {
    "execution": {
     "iopub.execute_input": "2021-05-21T11:27:45.663107Z",
     "iopub.status.busy": "2021-05-21T11:27:45.662379Z",
     "iopub.status.idle": "2021-05-21T11:27:45.666463Z",
     "shell.execute_reply": "2021-05-21T11:27:45.666012Z"
    },
    "papermill": {
     "duration": 0.041493,
     "end_time": "2021-05-21T11:27:45.666571",
     "exception": false,
     "start_time": "2021-05-21T11:27:45.625078",
     "status": "completed"
    },
    "tags": []
   },
   "outputs": [],
   "source": [
    "def read_append_return(filename, train_files_path=train_files_path, output='text'):\n",
    "    \"\"\"\n",
    "    Function to read json file and then return the text data from them and append to the dataframe\n",
    "    \"\"\"\n",
    "    json_path = os.path.join(train_files_path, (filename+'.json'))\n",
    "    headings = []\n",
    "    contents = []\n",
    "    combined = []\n",
    "    with open(json_path, 'r') as f:\n",
    "        json_decode = json.load(f)\n",
    "        for data in json_decode:\n",
    "            headings.append(data.get('section_title'))\n",
    "            contents.append(data.get('text'))\n",
    "            combined.append(data.get('section_title'))\n",
    "            combined.append(data.get('text'))\n",
    "    \n",
    "    all_headings = ' '.join(headings)\n",
    "    all_contents = ' '.join(contents)\n",
    "    all_data = '. '.join(combined)\n",
    "    \n",
    "    if output == 'text':\n",
    "        return all_contents\n",
    "    elif output == 'head':\n",
    "        return all_headings\n",
    "    else:\n",
    "        return all_data\n",
    "    \n",
    "    \n",
    "def text_cleaning(text):\n",
    "    '''\n",
    "    Converts all text to lower case, Removes special charecters, emojis and multiple spaces\n",
    "    text - Sentence that needs to be cleaned\n",
    "    '''\n",
    "    text = ''.join([k for k in text if k not in string.punctuation])\n",
    "    text = re.sub('[^A-Za-z0-9]+', ' ', str(text).lower()).strip()\n",
    "    # text = re.sub(\"/'+/g\", ' ', text)\n",
    "    return text"
   ]
  },
  {
   "cell_type": "code",
   "execution_count": 115,
   "id": "charitable-script",
   "metadata": {
    "execution": {
     "iopub.execute_input": "2021-05-21T11:27:45.726164Z",
     "iopub.status.busy": "2021-05-21T11:27:45.725546Z",
     "iopub.status.idle": "2021-05-21T11:27:45.729371Z",
     "shell.execute_reply": "2021-05-21T11:27:45.728951Z"
    },
    "papermill": {
     "duration": 0.035225,
     "end_time": "2021-05-21T11:27:45.729503",
     "exception": false,
     "start_time": "2021-05-21T11:27:45.694278",
     "status": "completed"
    },
    "tags": []
   },
   "outputs": [],
   "source": [
    "if BASELINE_HELPING or ALL_BLENDED:\n",
    "    tqdm.pandas()\n",
    "\n",
    "    train['text'] = train['Id'].progress_apply(read_append_return)\n",
    "\n",
    "    sample_submission['text'] = sample_submission['Id'].progress_apply(partial(read_append_return, train_files_path=test_files_path))\n",
    "\n",
    "    train.head()"
   ]
  },
  {
   "cell_type": "code",
   "execution_count": 116,
   "id": "agricultural-isaac",
   "metadata": {
    "execution": {
     "iopub.execute_input": "2021-05-21T11:27:45.788117Z",
     "iopub.status.busy": "2021-05-21T11:27:45.787279Z",
     "iopub.status.idle": "2021-05-21T11:27:45.789831Z",
     "shell.execute_reply": "2021-05-21T11:27:45.789382Z"
    },
    "papermill": {
     "duration": 0.032893,
     "end_time": "2021-05-21T11:27:45.789943",
     "exception": false,
     "start_time": "2021-05-21T11:27:45.757050",
     "status": "completed"
    },
    "tags": []
   },
   "outputs": [],
   "source": [
    "if BASELINE_HELPING or ALL_BLENDED:\n",
    "    tqdm.pandas()\n",
    "    \n",
    "    train['text'] = train['text'].progress_apply(text_cleaning)"
   ]
  },
  {
   "cell_type": "markdown",
   "id": "knowing-nightmare",
   "metadata": {
    "papermill": {
     "duration": 0.026957,
     "end_time": "2021-05-21T11:27:45.909782",
     "exception": false,
     "start_time": "2021-05-21T11:27:45.882825",
     "status": "completed"
    },
    "tags": []
   },
   "source": [
    "## Aggregate final predictions and write submission file"
   ]
  },
  {
   "cell_type": "code",
   "execution_count": 33,
   "id": "million-leisure",
   "metadata": {
    "execution": {
     "iopub.execute_input": "2021-05-21T11:27:45.973108Z",
     "iopub.status.busy": "2021-05-21T11:27:45.971359Z",
     "iopub.status.idle": "2021-05-21T11:27:45.973688Z",
     "shell.execute_reply": "2021-05-21T11:27:45.974073Z"
    },
    "papermill": {
     "duration": 0.037169,
     "end_time": "2021-05-21T11:27:45.974185",
     "exception": false,
     "start_time": "2021-05-21T11:27:45.937016",
     "status": "completed"
    },
    "tags": []
   },
   "outputs": [],
   "source": [
    "final_predictions = []\n",
    "\n",
    "if ALL_BLENDED:\n",
    "    for literal_match, mlm_pred in zip(literal_preds, pred_mlm_labels):\n",
    "        temp = [literal_match, mlm_pred]\n",
    "        temp = [pred for pred in temp if pred]\n",
    "        temp = ('|').join(temp)\n",
    "        final_predictions.append(temp)\n",
    "elif MATCH_ONLY:\n",
    "    final_predictions = literal_preds\n",
    "\n",
    "else:    \n",
    "    for literal_match, mlm_pred in zip(literal_preds, pred_mlm_labels):\n",
    "        if literal_match:\n",
    "            final_predictions.append(literal_match)\n",
    "        else:\n",
    "            final_predictions.append(mlm_pred)\n",
    "\n",
    "sample_submission['PredictionString'] = final_predictions"
   ]
  },
  {
   "cell_type": "code",
   "execution_count": 35,
   "id": "dedicated-slovenia",
   "metadata": {
    "execution": {
     "iopub.execute_input": "2021-05-21T11:27:46.033796Z",
     "iopub.status.busy": "2021-05-21T11:27:46.033162Z",
     "iopub.status.idle": "2021-05-21T11:27:46.046526Z",
     "shell.execute_reply": "2021-05-21T11:27:46.046022Z"
    },
    "papermill": {
     "duration": 0.045171,
     "end_time": "2021-05-21T11:27:46.046623",
     "exception": false,
     "start_time": "2021-05-21T11:27:46.001452",
     "status": "completed"
    },
    "tags": []
   },
   "outputs": [
    {
     "data": {
      "text/html": [
       "<div>\n",
       "<style scoped>\n",
       "    .dataframe tbody tr th:only-of-type {\n",
       "        vertical-align: middle;\n",
       "    }\n",
       "\n",
       "    .dataframe tbody tr th {\n",
       "        vertical-align: top;\n",
       "    }\n",
       "\n",
       "    .dataframe thead th {\n",
       "        text-align: right;\n",
       "    }\n",
       "</style>\n",
       "<table border=\"1\" class=\"dataframe\">\n",
       "  <thead>\n",
       "    <tr style=\"text-align: right;\">\n",
       "      <th></th>\n",
       "      <th>Id</th>\n",
       "      <th>PredictionString</th>\n",
       "    </tr>\n",
       "  </thead>\n",
       "  <tbody>\n",
       "    <tr>\n",
       "      <th>0</th>\n",
       "      <td>2100032a-7c33-4bff-97ef-690822c43466</td>\n",
       "      <td>adni|alzheimer s disease neuroimaging initiati...</td>\n",
       "    </tr>\n",
       "    <tr>\n",
       "      <th>1</th>\n",
       "      <td>2f392438-e215-4169-bebf-21ac4ff253e1</td>\n",
       "      <td>common core of data|nces common core of data|t...</td>\n",
       "    </tr>\n",
       "    <tr>\n",
       "      <th>2</th>\n",
       "      <td>3f316b38-1a24-45a9-8d8c-4e05a42257c6</td>\n",
       "      <td>slosh model|noaa storm surge inundation|sea la...</td>\n",
       "    </tr>\n",
       "    <tr>\n",
       "      <th>3</th>\n",
       "      <td>8e6996b4-ca08-4c0b-bed2-aaf07a4c6a60</td>\n",
       "      <td>rural urban continuum codes</td>\n",
       "    </tr>\n",
       "  </tbody>\n",
       "</table>\n",
       "</div>"
      ],
      "text/plain": [
       "                                     Id  \\\n",
       "0  2100032a-7c33-4bff-97ef-690822c43466   \n",
       "1  2f392438-e215-4169-bebf-21ac4ff253e1   \n",
       "2  3f316b38-1a24-45a9-8d8c-4e05a42257c6   \n",
       "3  8e6996b4-ca08-4c0b-bed2-aaf07a4c6a60   \n",
       "\n",
       "                                    PredictionString  \n",
       "0  adni|alzheimer s disease neuroimaging initiati...  \n",
       "1  common core of data|nces common core of data|t...  \n",
       "2  slosh model|noaa storm surge inundation|sea la...  \n",
       "3                        rural urban continuum codes  "
      ]
     },
     "execution_count": 35,
     "metadata": {},
     "output_type": "execute_result"
    }
   ],
   "source": [
    "sample_submission['PredictionString'] = final_predictions\n",
    "sample_submission[['Id', 'PredictionString']].to_csv('mlm_submission.csv', index=False)\n",
    "\n",
    "sample_submission.head()"
   ]
  },
  {
   "cell_type": "markdown",
   "id": "artistic-finding",
   "metadata": {
    "papermill": {
     "duration": 0.027892,
     "end_time": "2021-05-21T11:27:46.102503",
     "exception": false,
     "start_time": "2021-05-21T11:27:46.074611",
     "status": "completed"
    },
    "tags": []
   },
   "source": [
    "# Evaluation Metric"
   ]
  },
  {
   "cell_type": "code",
   "execution_count": 117,
   "id": "micro-tanzania",
   "metadata": {
    "code_folding": [],
    "execution": {
     "iopub.execute_input": "2021-05-21T11:27:46.168154Z",
     "iopub.status.busy": "2021-05-21T11:27:46.166841Z",
     "iopub.status.idle": "2021-05-21T11:27:46.169223Z",
     "shell.execute_reply": "2021-05-21T11:27:46.169686Z"
    },
    "papermill": {
     "duration": 0.038926,
     "end_time": "2021-05-21T11:27:46.169840",
     "exception": false,
     "start_time": "2021-05-21T11:27:46.130914",
     "status": "completed"
    },
    "tags": []
   },
   "outputs": [],
   "source": [
    "# https://www.kaggle.com/c/coleridgeinitiative-show-us-the-data/discussion/230091\n",
    "def compute_fbeta(y_true: List[List[str]],\n",
    "                  y_pred: List[List[str]],\n",
    "                  beta: float = 0.5) -> float:\n",
    "    \"\"\"Compute the Jaccard-based micro FBeta score.\n",
    "\n",
    "    References\n",
    "    ----------\n",
    "    - https://www.kaggle.com/c/coleridgeinitiative-show-us-the-data/overview/evaluation\n",
    "    \"\"\"\n",
    "\n",
    "    def _jaccard_similarity(str1: str, str2: str) -> float:\n",
    "        a = set(str1.split()) \n",
    "        b = set(str2.split())\n",
    "        c = a.intersection(b)\n",
    "        return float(len(c)) / (len(a) + len(b) - len(c))\n",
    "\n",
    "    tp = 0  # true positive\n",
    "    fp = 0  # false positive\n",
    "    fn = 0  # false negative\n",
    "    for ground_truth_list, predicted_string_list in zip(y_true, y_pred):\n",
    "        predicted_string_list_sorted = sorted(predicted_string_list)\n",
    "        for ground_truth in sorted(ground_truth_list):            \n",
    "            if len(predicted_string_list_sorted) == 0:\n",
    "                fn += 1\n",
    "            else:\n",
    "                similarity_scores = [\n",
    "                    _jaccard_similarity(ground_truth, predicted_string)\n",
    "                    for predicted_string in predicted_string_list_sorted\n",
    "                ]\n",
    "                matched_idx = np.argmax(similarity_scores)\n",
    "                if similarity_scores[matched_idx] >= 0.5:\n",
    "                    predicted_string_list_sorted.pop(matched_idx)\n",
    "                    tp += 1\n",
    "                else:\n",
    "                    fn += 1\n",
    "        fp += len(predicted_string_list_sorted)\n",
    "\n",
    "    tp *= (1 + beta ** 2)\n",
    "    fn *= beta ** 2\n",
    "    fbeta_score = tp / (tp + fp + fn)\n",
    "    return fbeta_score"
   ]
  },
  {
   "cell_type": "code",
   "execution_count": null,
   "id": "def918ea",
   "metadata": {},
   "outputs": [],
   "source": []
  },
  {
   "cell_type": "code",
   "execution_count": 118,
   "id": "4012c6e9",
   "metadata": {},
   "outputs": [
    {
     "name": "stdout",
     "output_type": "stream",
     "text": [
      "[['alzheimer s disease neuroimaging initiative adni']] \n",
      " [['adni', 'alzheimer s disease neuroimaging initiative adni']] \n",
      "\n",
      "[['german cnd', 'us adni']] \n",
      " [['adni']] \n",
      "\n",
      "[['uw global data']] \n",
      " [['ibtracs', 'international best track archive for climate stewardship']] \n",
      "\n",
      "[['alzheimer s disease neuroimaging initiative dataset', 'alzheimer s disease neuroimaging initiative adni']] \n",
      " [['adni', 'alzheimer s disease neuroimaging initiative adni']] \n",
      "\n",
      "[['rush memory and aging project']] \n",
      " [['adni']] \n",
      "\n",
      "[['alzheimer s disease neuroimaging initiative adni']] \n",
      " [['adni', 'alzheimer s disease neuroimaging initiative adni', 'pubmed']] \n",
      "\n",
      "[['alzheimer s disease neuroimaging initiative adni']] \n",
      " [['adni', 'baltimore longitudinal study of aging', 'baltimore longitudinal study of aging blsa', 'alzheimer s disease neuroimaging initiative adni']] \n",
      "\n",
      "[['environmental education database of organizations and programs eedop']] \n",
      " [['common core of data', 'national center for education statistics common core of data']] \n",
      "\n",
      "[['international mathematics report findings']] \n",
      " [['trends in international mathematics and science study', 'national assessment of educational progress', 'progress in international reading literacy study']] \n",
      "\n",
      "[['national hydrography dataset plus nhdplus']] \n",
      " [['noaa c cap', 'coastal change analysis program']] \n",
      "\n",
      "[['alzheimer s disease neuroimaging initiative adni']] \n",
      " [['adni', 'alzheimer s disease neuroimaging initiative adni']] \n",
      "\n",
      "[['amyging amyloid']] \n",
      " [['adni', 'alzheimer s disease neuroimaging initiative adni']] \n",
      "\n",
      "[['alzheimer s disease neuroimaging initiative adni nih', 'rotterdam study', 'ad ni']] \n",
      " [['adni', 'alzheimer s disease neuroimaging initiative adni']] \n",
      "\n",
      "[['alzheimers disease neuroimaging initiative adni']] \n",
      " [['adni', 'alzheimers disease neuroimaging initiative', 'alzheimer s disease neuroimaging initiative adni']] \n",
      "\n",
      "[['alzheimer s disease neuroimaging initiative adni']] \n",
      " [['adni', 'alzheimer s disease neuroimaging initiative adni']] \n",
      "\n",
      "[['kindergarten data file']] \n",
      " [['common core of data', 'early childhood longitudinal study', 'private school universe survey']] \n",
      "\n",
      "[['alzheimer s disease neuroimaging initiative adni national institutes of health grant u01 ag024904 and dod adni department of defense', 'alzheimer s disease neuroimaging initiative adni', 'australian imaging biomarkers and lifestyle', 'and adni go']] \n",
      " [['adni', 'alzheimer s disease neuroimaging initiative adni']] \n",
      "\n",
      "[['business research and development and innovation survey brdis data']] \n",
      " [['survey of industrial research and development', 'product classification']] \n",
      "\n",
      "[['baltimore longitudinal study of aging', 'sydney memory and aging study', 'cardiovascular health study', 'hardy weinberg', 'aric study']] \n",
      " [['baltimore longitudinal study of aging', 'biosystems']] \n",
      "\n",
      "[['australian imaging biomarkers and lifestyle aibl', 'aibl a']] \n",
      " [['adni']] \n",
      "\n",
      "[['alzheimer s disease neuroimaging initiative adni', 'mri csf and']] \n",
      " [['adni', 'alzheimer s disease neuroimaging initiative adni']] \n",
      "\n",
      "[['alzheimer s disease neuroimaging initiative adni', 'human connectome project hcp']] \n",
      " [['adni', 'alzheimer s disease neuroimaging initiative adni']] \n",
      "\n",
      "[['blue mountain study', 'rotterdam study fig', 'barbados eye study', 'beaver dam study', 'rotterdam study']] \n",
      " [['baltimore longitudinal study of aging', 'baltimore longitudinal study of aging blsa']] \n",
      "\n",
      "[['alzheimer s disease neuroimaging initiative adni']] \n",
      " [['adni', 'alzheimer s disease neuroimaging initiative adni']] \n",
      "\n",
      "[['gridded soil survey geographic']] \n",
      " [['agricultural resource management survey']] \n",
      "\n",
      "[['us national alzheimer s coordinating center']] \n",
      " [['adni', 'alzheimer s disease neuroimaging initiative adni']] \n",
      "\n",
      "[['alzheimer s disease neuroimaging initiative adni']] \n",
      " [['adni', 'alzheimer s disease neuroimaging initiative adni']] \n",
      "\n",
      "[['rotterdam study']] \n",
      " [['baltimore longitudinal study of aging']] \n",
      "\n",
      "[['alzheimer s disease neuroimaging']] \n",
      " [['adni']] \n",
      "\n",
      "[['nirep na40 dataset']] \n",
      " [['adni']] \n",
      "\n",
      "[['alzheimer s disease neuroimaging initiative adni']] \n",
      " [['adni', 'alzheimer s disease neuroimaging initiative adni']] \n",
      "\n",
      "[['ibsr and oasis asm cnn', 'bet bse']] \n",
      " [['alzheimers disease neuroimaging initiative']] \n",
      "\n",
      "[['talis teaching and learning international survey pisa']] \n",
      " [['trends in international mathematics and science study']] \n",
      "\n",
      "[['rapid data table']] \n",
      " [['world ocean database']] \n",
      "\n",
      "[['iy temperatube and water quali iy data acquired by usgs']] \n",
      " [['national water level observation network']] \n",
      "\n",
      "[['baltimore longitudinal study of aging', 'flint men s health study']] \n",
      " [['baltimore longitudinal study of aging']] \n",
      "\n"
     ]
    }
   ],
   "source": [
    "if COMPUTE_CV:\n",
    "    for literal_match, mlm_pred in zip(literal_preds, pred_mlm_labels):\n",
    "        if mlm_pred:\n",
    "            literal_match=[literal_match.split(\"|\")]\n",
    "            mlm_pred=[mlm_pred.split(\"|\")]\n",
    "            if compute_fbeta(literal_match,mlm_pred)!=1:\n",
    "                print(mlm_pred,\"\\n\",literal_match,\"\\n\")\n"
   ]
  },
  {
   "cell_type": "code",
   "execution_count": 37,
   "id": "hydraulic-fundamental",
   "metadata": {
    "execution": {
     "iopub.execute_input": "2021-05-21T11:27:46.230617Z",
     "iopub.status.busy": "2021-05-21T11:27:46.229786Z",
     "iopub.status.idle": "2021-05-21T11:27:46.235431Z",
     "shell.execute_reply": "2021-05-21T11:27:46.234755Z"
    },
    "papermill": {
     "duration": 0.038395,
     "end_time": "2021-05-21T11:27:46.235562",
     "exception": false,
     "start_time": "2021-05-21T11:27:46.197167",
     "status": "completed"
    },
    "tags": []
   },
   "outputs": [
    {
     "name": "stdout",
     "output_type": "stream",
     "text": [
      "COMPUTE_CV = False\n",
      "ALL_BLENDED = False\n",
      "BASELINE_HELPING = False\n",
      "MATCH_ONLY = False\n",
      "KEN_MATCHING = True\n",
      "BS_CLEANING = False\n",
      "SEED = 42\n"
     ]
    }
   ],
   "source": [
    "if COMPUTE_CV:\n",
    "    COMPUTE_CV_SCORE = compute_fbeta(sample_submission['cleaned_label'].apply(lambda x: [x]),\\\n",
    "                  sample_submission['PredictionString'].apply(lambda x: x.split('|')))\n",
    "    print('COMPUTE_CV_SCORE =', COMPUTE_CV_SCORE)\n",
    "else:\n",
    "    print(f'COMPUTE_CV = {COMPUTE_CV}')\n",
    "    \n",
    "print(f'ALL_BLENDED = {ALL_BLENDED}')\n",
    "print(f'BASELINE_HELPING = {BASELINE_HELPING}')\n",
    "print(f'MATCH_ONLY = {MATCH_ONLY}')\n",
    "print(f'KEN_MATCHING = {KEN_MATCHING}')\n",
    "print(f'BS_CLEANING = {BS_CLEANING}')\n",
    "print(f'SEED = {SEED}')"
   ]
  },
  {
   "cell_type": "markdown",
   "id": "gross-halloween",
   "metadata": {
    "papermill": {
     "duration": 0.027663,
     "end_time": "2021-05-21T11:27:46.291514",
     "exception": false,
     "start_time": "2021-05-21T11:27:46.263851",
     "status": "completed"
    },
    "tags": []
   },
   "source": [
    "|   | CV | LB |\n",
    "| --- | --- | --- |\n",
    "| s57 adnl_govt_labels |   | 0.573 |\n",
    "| 42 w/ adnl_govt_labels |   | 0.557 |\n",
    "| adnl_govt_labels_26897 | 0.136 |   |\n",
    "| adnl_govt_labels |   | 0.556 |\n",
    "| adnl_govt_labels KEN |   |   |\n",
    "| 42 w/ adnl_govt_labels KEN |   | 0.557 |\n",
    "| **RKM adnl_govt_labels w/ 42** | **0.514** | **0.574** |\n",
    "| RKM adnl_govt_labels BS_CLEANING w/ 42 |   | 0.568 |\n",
    "| RKM adnl_govt_labels_26897 |   | 0.244 |\n",
    "| RKM adnl_govt_labels w/ 42_48 |   | 0.574 |\n",
    "| **RKM adnl_govt_labels w/ 42_36** |   | **0.574** |\n",
    "| RKM adnl_govt_labels w/ 42_60 |   | 0.574 |\n",
    "| RKM adnl_govt_labels w/ 42_24 |   | 0.573 |\n",
    "| RKM adnl_govt_labels w/ 42_60 |   |   |"
   ]
  },
  {
   "cell_type": "code",
   "execution_count": null,
   "id": "6946b12f",
   "metadata": {},
   "outputs": [],
   "source": []
  }
 ],
 "metadata": {
  "kernelspec": {
   "display_name": "Python 3",
   "language": "python",
   "name": "python3"
  },
  "language_info": {
   "codemirror_mode": {
    "name": "ipython",
    "version": 3
   },
   "file_extension": ".py",
   "mimetype": "text/x-python",
   "name": "python",
   "nbconvert_exporter": "python",
   "pygments_lexer": "ipython3",
   "version": "3.6.12"
  },
  "papermill": {
   "default_parameters": {},
   "duration": 123.184193,
   "end_time": "2021-05-21T11:27:47.832630",
   "environment_variables": {},
   "exception": null,
   "input_path": "__notebook__.ipynb",
   "output_path": "__notebook__.ipynb",
   "parameters": {},
   "start_time": "2021-05-21T11:25:44.648437",
   "version": "2.3.2"
  },
  "widgets": {
   "application/vnd.jupyter.widget-state+json": {
    "state": {
     "015eb8ad3e08400d840ba9962c48a356": {
      "model_module": "@jupyter-widgets/controls",
      "model_module_version": "1.5.0",
      "model_name": "DescriptionStyleModel",
      "state": {
       "_model_module": "@jupyter-widgets/controls",
       "_model_module_version": "1.5.0",
       "_model_name": "DescriptionStyleModel",
       "_view_count": null,
       "_view_module": "@jupyter-widgets/base",
       "_view_module_version": "1.2.0",
       "_view_name": "StyleView",
       "description_width": ""
      }
     },
     "04df830b0d2144f7830cc3c2c7aabef7": {
      "model_module": "@jupyter-widgets/controls",
      "model_module_version": "1.5.0",
      "model_name": "DescriptionStyleModel",
      "state": {
       "_model_module": "@jupyter-widgets/controls",
       "_model_module_version": "1.5.0",
       "_model_name": "DescriptionStyleModel",
       "_view_count": null,
       "_view_module": "@jupyter-widgets/base",
       "_view_module_version": "1.2.0",
       "_view_name": "StyleView",
       "description_width": ""
      }
     },
     "0fac756aef7744f38b950cbdbead76b6": {
      "model_module": "@jupyter-widgets/base",
      "model_module_version": "1.2.0",
      "model_name": "LayoutModel",
      "state": {
       "_model_module": "@jupyter-widgets/base",
       "_model_module_version": "1.2.0",
       "_model_name": "LayoutModel",
       "_view_count": null,
       "_view_module": "@jupyter-widgets/base",
       "_view_module_version": "1.2.0",
       "_view_name": "LayoutView",
       "align_content": null,
       "align_items": null,
       "align_self": null,
       "border": null,
       "bottom": null,
       "display": null,
       "flex": null,
       "flex_flow": null,
       "grid_area": null,
       "grid_auto_columns": null,
       "grid_auto_flow": null,
       "grid_auto_rows": null,
       "grid_column": null,
       "grid_gap": null,
       "grid_row": null,
       "grid_template_areas": null,
       "grid_template_columns": null,
       "grid_template_rows": null,
       "height": null,
       "justify_content": null,
       "justify_items": null,
       "left": null,
       "margin": null,
       "max_height": null,
       "max_width": null,
       "min_height": null,
       "min_width": null,
       "object_fit": null,
       "object_position": null,
       "order": null,
       "overflow": null,
       "overflow_x": null,
       "overflow_y": null,
       "padding": null,
       "right": null,
       "top": null,
       "visibility": null,
       "width": null
      }
     },
     "1449d3d07742489ebd351f8d09ca391f": {
      "model_module": "@jupyter-widgets/base",
      "model_module_version": "1.2.0",
      "model_name": "LayoutModel",
      "state": {
       "_model_module": "@jupyter-widgets/base",
       "_model_module_version": "1.2.0",
       "_model_name": "LayoutModel",
       "_view_count": null,
       "_view_module": "@jupyter-widgets/base",
       "_view_module_version": "1.2.0",
       "_view_name": "LayoutView",
       "align_content": null,
       "align_items": null,
       "align_self": null,
       "border": null,
       "bottom": null,
       "display": null,
       "flex": null,
       "flex_flow": null,
       "grid_area": null,
       "grid_auto_columns": null,
       "grid_auto_flow": null,
       "grid_auto_rows": null,
       "grid_column": null,
       "grid_gap": null,
       "grid_row": null,
       "grid_template_areas": null,
       "grid_template_columns": null,
       "grid_template_rows": null,
       "height": null,
       "justify_content": null,
       "justify_items": null,
       "left": null,
       "margin": null,
       "max_height": null,
       "max_width": null,
       "min_height": null,
       "min_width": null,
       "object_fit": null,
       "object_position": null,
       "order": null,
       "overflow": null,
       "overflow_x": null,
       "overflow_y": null,
       "padding": null,
       "right": null,
       "top": null,
       "visibility": null,
       "width": null
      }
     },
     "274639113bdb485fbcf0b56d2ffbd844": {
      "model_module": "@jupyter-widgets/base",
      "model_module_version": "1.2.0",
      "model_name": "LayoutModel",
      "state": {
       "_model_module": "@jupyter-widgets/base",
       "_model_module_version": "1.2.0",
       "_model_name": "LayoutModel",
       "_view_count": null,
       "_view_module": "@jupyter-widgets/base",
       "_view_module_version": "1.2.0",
       "_view_name": "LayoutView",
       "align_content": null,
       "align_items": null,
       "align_self": null,
       "border": null,
       "bottom": null,
       "display": null,
       "flex": null,
       "flex_flow": null,
       "grid_area": null,
       "grid_auto_columns": null,
       "grid_auto_flow": null,
       "grid_auto_rows": null,
       "grid_column": null,
       "grid_gap": null,
       "grid_row": null,
       "grid_template_areas": null,
       "grid_template_columns": null,
       "grid_template_rows": null,
       "height": null,
       "justify_content": null,
       "justify_items": null,
       "left": null,
       "margin": null,
       "max_height": null,
       "max_width": null,
       "min_height": null,
       "min_width": null,
       "object_fit": null,
       "object_position": null,
       "order": null,
       "overflow": null,
       "overflow_x": null,
       "overflow_y": null,
       "padding": null,
       "right": null,
       "top": null,
       "visibility": null,
       "width": null
      }
     },
     "2c043240c03e4b239c51dcb3bf7f7228": {
      "model_module": "@jupyter-widgets/base",
      "model_module_version": "1.2.0",
      "model_name": "LayoutModel",
      "state": {
       "_model_module": "@jupyter-widgets/base",
       "_model_module_version": "1.2.0",
       "_model_name": "LayoutModel",
       "_view_count": null,
       "_view_module": "@jupyter-widgets/base",
       "_view_module_version": "1.2.0",
       "_view_name": "LayoutView",
       "align_content": null,
       "align_items": null,
       "align_self": null,
       "border": null,
       "bottom": null,
       "display": null,
       "flex": null,
       "flex_flow": null,
       "grid_area": null,
       "grid_auto_columns": null,
       "grid_auto_flow": null,
       "grid_auto_rows": null,
       "grid_column": null,
       "grid_gap": null,
       "grid_row": null,
       "grid_template_areas": null,
       "grid_template_columns": null,
       "grid_template_rows": null,
       "height": null,
       "justify_content": null,
       "justify_items": null,
       "left": null,
       "margin": null,
       "max_height": null,
       "max_width": null,
       "min_height": null,
       "min_width": null,
       "object_fit": null,
       "object_position": null,
       "order": null,
       "overflow": null,
       "overflow_x": null,
       "overflow_y": null,
       "padding": null,
       "right": null,
       "top": null,
       "visibility": null,
       "width": null
      }
     },
     "36fe963179f54614af2afe7af5d29522": {
      "model_module": "@jupyter-widgets/base",
      "model_module_version": "1.2.0",
      "model_name": "LayoutModel",
      "state": {
       "_model_module": "@jupyter-widgets/base",
       "_model_module_version": "1.2.0",
       "_model_name": "LayoutModel",
       "_view_count": null,
       "_view_module": "@jupyter-widgets/base",
       "_view_module_version": "1.2.0",
       "_view_name": "LayoutView",
       "align_content": null,
       "align_items": null,
       "align_self": null,
       "border": null,
       "bottom": null,
       "display": null,
       "flex": null,
       "flex_flow": null,
       "grid_area": null,
       "grid_auto_columns": null,
       "grid_auto_flow": null,
       "grid_auto_rows": null,
       "grid_column": null,
       "grid_gap": null,
       "grid_row": null,
       "grid_template_areas": null,
       "grid_template_columns": null,
       "grid_template_rows": null,
       "height": null,
       "justify_content": null,
       "justify_items": null,
       "left": null,
       "margin": null,
       "max_height": null,
       "max_width": null,
       "min_height": null,
       "min_width": null,
       "object_fit": null,
       "object_position": null,
       "order": null,
       "overflow": null,
       "overflow_x": null,
       "overflow_y": null,
       "padding": null,
       "right": null,
       "top": null,
       "visibility": null,
       "width": "20px"
      }
     },
     "38ed9bb51fa34283bbdfc245e6752ad9": {
      "model_module": "@jupyter-widgets/controls",
      "model_module_version": "1.5.0",
      "model_name": "ProgressStyleModel",
      "state": {
       "_model_module": "@jupyter-widgets/controls",
       "_model_module_version": "1.5.0",
       "_model_name": "ProgressStyleModel",
       "_view_count": null,
       "_view_module": "@jupyter-widgets/base",
       "_view_module_version": "1.2.0",
       "_view_name": "StyleView",
       "bar_color": null,
       "description_width": "initial"
      }
     },
     "3adcdfa5677a4a04bec80775445b7f14": {
      "model_module": "@jupyter-widgets/controls",
      "model_module_version": "1.5.0",
      "model_name": "HBoxModel",
      "state": {
       "_dom_classes": [],
       "_model_module": "@jupyter-widgets/controls",
       "_model_module_version": "1.5.0",
       "_model_name": "HBoxModel",
       "_view_count": null,
       "_view_module": "@jupyter-widgets/controls",
       "_view_module_version": "1.5.0",
       "_view_name": "HBoxView",
       "box_style": "",
       "children": [
        "IPY_MODEL_fb48fdc579ab4e6ca4f37626b1b67512",
        "IPY_MODEL_577a6b3787ab43828dc61c220b2f2273"
       ],
       "layout": "IPY_MODEL_4daf8b81a2ec42998fd5fb2912eb81e5"
      }
     },
     "43a26159926f4739bb49258bc1a76a5a": {
      "model_module": "@jupyter-widgets/controls",
      "model_module_version": "1.5.0",
      "model_name": "ProgressStyleModel",
      "state": {
       "_model_module": "@jupyter-widgets/controls",
       "_model_module_version": "1.5.0",
       "_model_name": "ProgressStyleModel",
       "_view_count": null,
       "_view_module": "@jupyter-widgets/base",
       "_view_module_version": "1.2.0",
       "_view_name": "StyleView",
       "bar_color": null,
       "description_width": "initial"
      }
     },
     "4daf8b81a2ec42998fd5fb2912eb81e5": {
      "model_module": "@jupyter-widgets/base",
      "model_module_version": "1.2.0",
      "model_name": "LayoutModel",
      "state": {
       "_model_module": "@jupyter-widgets/base",
       "_model_module_version": "1.2.0",
       "_model_name": "LayoutModel",
       "_view_count": null,
       "_view_module": "@jupyter-widgets/base",
       "_view_module_version": "1.2.0",
       "_view_name": "LayoutView",
       "align_content": null,
       "align_items": null,
       "align_self": null,
       "border": null,
       "bottom": null,
       "display": null,
       "flex": null,
       "flex_flow": null,
       "grid_area": null,
       "grid_auto_columns": null,
       "grid_auto_flow": null,
       "grid_auto_rows": null,
       "grid_column": null,
       "grid_gap": null,
       "grid_row": null,
       "grid_template_areas": null,
       "grid_template_columns": null,
       "grid_template_rows": null,
       "height": null,
       "justify_content": null,
       "justify_items": null,
       "left": null,
       "margin": null,
       "max_height": null,
       "max_width": null,
       "min_height": null,
       "min_width": null,
       "object_fit": null,
       "object_position": null,
       "order": null,
       "overflow": null,
       "overflow_x": null,
       "overflow_y": null,
       "padding": null,
       "right": null,
       "top": null,
       "visibility": null,
       "width": null
      }
     },
     "549db78e8bfa43b19f4c71556b4ba6a5": {
      "model_module": "@jupyter-widgets/base",
      "model_module_version": "1.2.0",
      "model_name": "LayoutModel",
      "state": {
       "_model_module": "@jupyter-widgets/base",
       "_model_module_version": "1.2.0",
       "_model_name": "LayoutModel",
       "_view_count": null,
       "_view_module": "@jupyter-widgets/base",
       "_view_module_version": "1.2.0",
       "_view_name": "LayoutView",
       "align_content": null,
       "align_items": null,
       "align_self": null,
       "border": null,
       "bottom": null,
       "display": null,
       "flex": null,
       "flex_flow": null,
       "grid_area": null,
       "grid_auto_columns": null,
       "grid_auto_flow": null,
       "grid_auto_rows": null,
       "grid_column": null,
       "grid_gap": null,
       "grid_row": null,
       "grid_template_areas": null,
       "grid_template_columns": null,
       "grid_template_rows": null,
       "height": null,
       "justify_content": null,
       "justify_items": null,
       "left": null,
       "margin": null,
       "max_height": null,
       "max_width": null,
       "min_height": null,
       "min_width": null,
       "object_fit": null,
       "object_position": null,
       "order": null,
       "overflow": null,
       "overflow_x": null,
       "overflow_y": null,
       "padding": null,
       "right": null,
       "top": null,
       "visibility": null,
       "width": null
      }
     },
     "577a6b3787ab43828dc61c220b2f2273": {
      "model_module": "@jupyter-widgets/controls",
      "model_module_version": "1.5.0",
      "model_name": "HTMLModel",
      "state": {
       "_dom_classes": [],
       "_model_module": "@jupyter-widgets/controls",
       "_model_module_version": "1.5.0",
       "_model_name": "HTMLModel",
       "_view_count": null,
       "_view_module": "@jupyter-widgets/controls",
       "_view_module_version": "1.5.0",
       "_view_name": "HTMLView",
       "description": "",
       "description_tooltip": null,
       "layout": "IPY_MODEL_2c043240c03e4b239c51dcb3bf7f7228",
       "placeholder": "​",
       "style": "IPY_MODEL_fb0bcc0990914cb6b0b34850f7ef0e56",
       "value": "&lt;tqdm.notebook.tqdm_notebook object at 0x7f4c3e8901d0&gt;"
      }
     },
     "65f8dad02269414c8b013fe50b494a31": {
      "model_module": "@jupyter-widgets/controls",
      "model_module_version": "1.5.0",
      "model_name": "HTMLModel",
      "state": {
       "_dom_classes": [],
       "_model_module": "@jupyter-widgets/controls",
       "_model_module_version": "1.5.0",
       "_model_name": "HTMLModel",
       "_view_count": null,
       "_view_module": "@jupyter-widgets/controls",
       "_view_module_version": "1.5.0",
       "_view_name": "HTMLView",
       "description": "",
       "description_tooltip": null,
       "layout": "IPY_MODEL_bfc0ad52d43a4a5f8745669b0623e656",
       "placeholder": "​",
       "style": "IPY_MODEL_04df830b0d2144f7830cc3c2c7aabef7",
       "value": "&lt;tqdm.notebook.tqdm_notebook object at 0x7f4c3e8fca90&gt;"
      }
     },
     "6663b578e8c541088b81055d112ca974": {
      "model_module": "@jupyter-widgets/base",
      "model_module_version": "1.2.0",
      "model_name": "LayoutModel",
      "state": {
       "_model_module": "@jupyter-widgets/base",
       "_model_module_version": "1.2.0",
       "_model_name": "LayoutModel",
       "_view_count": null,
       "_view_module": "@jupyter-widgets/base",
       "_view_module_version": "1.2.0",
       "_view_name": "LayoutView",
       "align_content": null,
       "align_items": null,
       "align_self": null,
       "border": null,
       "bottom": null,
       "display": null,
       "flex": null,
       "flex_flow": null,
       "grid_area": null,
       "grid_auto_columns": null,
       "grid_auto_flow": null,
       "grid_auto_rows": null,
       "grid_column": null,
       "grid_gap": null,
       "grid_row": null,
       "grid_template_areas": null,
       "grid_template_columns": null,
       "grid_template_rows": null,
       "height": null,
       "justify_content": null,
       "justify_items": null,
       "left": null,
       "margin": null,
       "max_height": null,
       "max_width": null,
       "min_height": null,
       "min_width": null,
       "object_fit": null,
       "object_position": null,
       "order": null,
       "overflow": null,
       "overflow_x": null,
       "overflow_y": null,
       "padding": null,
       "right": null,
       "top": null,
       "visibility": null,
       "width": null
      }
     },
     "6a904e3b527740308f4290f99e6c4331": {
      "model_module": "@jupyter-widgets/controls",
      "model_module_version": "1.5.0",
      "model_name": "HTMLModel",
      "state": {
       "_dom_classes": [],
       "_model_module": "@jupyter-widgets/controls",
       "_model_module_version": "1.5.0",
       "_model_name": "HTMLModel",
       "_view_count": null,
       "_view_module": "@jupyter-widgets/controls",
       "_view_module_version": "1.5.0",
       "_view_name": "HTMLView",
       "description": "",
       "description_tooltip": null,
       "layout": "IPY_MODEL_734fa8b2e8554ecfb9722ff885628e64",
       "placeholder": "​",
       "style": "IPY_MODEL_015eb8ad3e08400d840ba9962c48a356",
       "value": "&lt;tqdm.notebook.tqdm_notebook object at 0x7f4c3f174150&gt;"
      }
     },
     "734fa8b2e8554ecfb9722ff885628e64": {
      "model_module": "@jupyter-widgets/base",
      "model_module_version": "1.2.0",
      "model_name": "LayoutModel",
      "state": {
       "_model_module": "@jupyter-widgets/base",
       "_model_module_version": "1.2.0",
       "_model_name": "LayoutModel",
       "_view_count": null,
       "_view_module": "@jupyter-widgets/base",
       "_view_module_version": "1.2.0",
       "_view_name": "LayoutView",
       "align_content": null,
       "align_items": null,
       "align_self": null,
       "border": null,
       "bottom": null,
       "display": null,
       "flex": null,
       "flex_flow": null,
       "grid_area": null,
       "grid_auto_columns": null,
       "grid_auto_flow": null,
       "grid_auto_rows": null,
       "grid_column": null,
       "grid_gap": null,
       "grid_row": null,
       "grid_template_areas": null,
       "grid_template_columns": null,
       "grid_template_rows": null,
       "height": null,
       "justify_content": null,
       "justify_items": null,
       "left": null,
       "margin": null,
       "max_height": null,
       "max_width": null,
       "min_height": null,
       "min_width": null,
       "object_fit": null,
       "object_position": null,
       "order": null,
       "overflow": null,
       "overflow_x": null,
       "overflow_y": null,
       "padding": null,
       "right": null,
       "top": null,
       "visibility": null,
       "width": null
      }
     },
     "a54840ed5c814bb0be713ade7179291d": {
      "model_module": "@jupyter-widgets/controls",
      "model_module_version": "1.5.0",
      "model_name": "HTMLModel",
      "state": {
       "_dom_classes": [],
       "_model_module": "@jupyter-widgets/controls",
       "_model_module_version": "1.5.0",
       "_model_name": "HTMLModel",
       "_view_count": null,
       "_view_module": "@jupyter-widgets/controls",
       "_view_module_version": "1.5.0",
       "_view_name": "HTMLView",
       "description": "",
       "description_tooltip": null,
       "layout": "IPY_MODEL_6663b578e8c541088b81055d112ca974",
       "placeholder": "​",
       "style": "IPY_MODEL_d8326b70aba04fa6b6f5966a6876b1d4",
       "value": "&lt;tqdm.notebook.tqdm_notebook object at 0x7f4c3e890350&gt;"
      }
     },
     "a981ef94e01b423f8a18b1786c9e6751": {
      "model_module": "@jupyter-widgets/controls",
      "model_module_version": "1.5.0",
      "model_name": "FloatProgressModel",
      "state": {
       "_dom_classes": [],
       "_model_module": "@jupyter-widgets/controls",
       "_model_module_version": "1.5.0",
       "_model_name": "FloatProgressModel",
       "_view_count": null,
       "_view_module": "@jupyter-widgets/controls",
       "_view_module_version": "1.5.0",
       "_view_name": "ProgressView",
       "bar_style": "success",
       "description": "",
       "description_tooltip": null,
       "layout": "IPY_MODEL_0fac756aef7744f38b950cbdbead76b6",
       "max": 4,
       "min": 0,
       "orientation": "horizontal",
       "style": "IPY_MODEL_38ed9bb51fa34283bbdfc245e6752ad9",
       "value": 4
      }
     },
     "ab179a7130494cd8bd724e48fa84c6e5": {
      "model_module": "@jupyter-widgets/base",
      "model_module_version": "1.2.0",
      "model_name": "LayoutModel",
      "state": {
       "_model_module": "@jupyter-widgets/base",
       "_model_module_version": "1.2.0",
       "_model_name": "LayoutModel",
       "_view_count": null,
       "_view_module": "@jupyter-widgets/base",
       "_view_module_version": "1.2.0",
       "_view_name": "LayoutView",
       "align_content": null,
       "align_items": null,
       "align_self": null,
       "border": null,
       "bottom": null,
       "display": null,
       "flex": null,
       "flex_flow": null,
       "grid_area": null,
       "grid_auto_columns": null,
       "grid_auto_flow": null,
       "grid_auto_rows": null,
       "grid_column": null,
       "grid_gap": null,
       "grid_row": null,
       "grid_template_areas": null,
       "grid_template_columns": null,
       "grid_template_rows": null,
       "height": null,
       "justify_content": null,
       "justify_items": null,
       "left": null,
       "margin": null,
       "max_height": null,
       "max_width": null,
       "min_height": null,
       "min_width": null,
       "object_fit": null,
       "object_position": null,
       "order": null,
       "overflow": null,
       "overflow_x": null,
       "overflow_y": null,
       "padding": null,
       "right": null,
       "top": null,
       "visibility": null,
       "width": null
      }
     },
     "b9ac8f95f91d45a98465ca2e58ea763e": {
      "model_module": "@jupyter-widgets/controls",
      "model_module_version": "1.5.0",
      "model_name": "HBoxModel",
      "state": {
       "_dom_classes": [],
       "_model_module": "@jupyter-widgets/controls",
       "_model_module_version": "1.5.0",
       "_model_name": "HBoxModel",
       "_view_count": null,
       "_view_module": "@jupyter-widgets/controls",
       "_view_module_version": "1.5.0",
       "_view_name": "HBoxView",
       "box_style": "",
       "children": [
        "IPY_MODEL_a981ef94e01b423f8a18b1786c9e6751",
        "IPY_MODEL_6a904e3b527740308f4290f99e6c4331"
       ],
       "layout": "IPY_MODEL_ab179a7130494cd8bd724e48fa84c6e5"
      }
     },
     "bf78a40b4b1b465c9a83ce50215eaf40": {
      "model_module": "@jupyter-widgets/controls",
      "model_module_version": "1.5.0",
      "model_name": "ProgressStyleModel",
      "state": {
       "_model_module": "@jupyter-widgets/controls",
       "_model_module_version": "1.5.0",
       "_model_name": "ProgressStyleModel",
       "_view_count": null,
       "_view_module": "@jupyter-widgets/base",
       "_view_module_version": "1.2.0",
       "_view_name": "StyleView",
       "bar_color": null,
       "description_width": "initial"
      }
     },
     "bfc0ad52d43a4a5f8745669b0623e656": {
      "model_module": "@jupyter-widgets/base",
      "model_module_version": "1.2.0",
      "model_name": "LayoutModel",
      "state": {
       "_model_module": "@jupyter-widgets/base",
       "_model_module_version": "1.2.0",
       "_model_name": "LayoutModel",
       "_view_count": null,
       "_view_module": "@jupyter-widgets/base",
       "_view_module_version": "1.2.0",
       "_view_name": "LayoutView",
       "align_content": null,
       "align_items": null,
       "align_self": null,
       "border": null,
       "bottom": null,
       "display": null,
       "flex": null,
       "flex_flow": null,
       "grid_area": null,
       "grid_auto_columns": null,
       "grid_auto_flow": null,
       "grid_auto_rows": null,
       "grid_column": null,
       "grid_gap": null,
       "grid_row": null,
       "grid_template_areas": null,
       "grid_template_columns": null,
       "grid_template_rows": null,
       "height": null,
       "justify_content": null,
       "justify_items": null,
       "left": null,
       "margin": null,
       "max_height": null,
       "max_width": null,
       "min_height": null,
       "min_width": null,
       "object_fit": null,
       "object_position": null,
       "order": null,
       "overflow": null,
       "overflow_x": null,
       "overflow_y": null,
       "padding": null,
       "right": null,
       "top": null,
       "visibility": null,
       "width": null
      }
     },
     "cc8eccef32ab4597ba22caf945ad908c": {
      "model_module": "@jupyter-widgets/controls",
      "model_module_version": "1.5.0",
      "model_name": "FloatProgressModel",
      "state": {
       "_dom_classes": [],
       "_model_module": "@jupyter-widgets/controls",
       "_model_module_version": "1.5.0",
       "_model_name": "FloatProgressModel",
       "_view_count": null,
       "_view_module": "@jupyter-widgets/controls",
       "_view_module_version": "1.5.0",
       "_view_name": "ProgressView",
       "bar_style": "success",
       "description": "",
       "description_tooltip": null,
       "layout": "IPY_MODEL_36fe963179f54614af2afe7af5d29522",
       "max": 1,
       "min": 0,
       "orientation": "horizontal",
       "style": "IPY_MODEL_d4ee287e17c149bcaf08c412ead163c1",
       "value": 1
      }
     },
     "d4ee287e17c149bcaf08c412ead163c1": {
      "model_module": "@jupyter-widgets/controls",
      "model_module_version": "1.5.0",
      "model_name": "ProgressStyleModel",
      "state": {
       "_model_module": "@jupyter-widgets/controls",
       "_model_module_version": "1.5.0",
       "_model_name": "ProgressStyleModel",
       "_view_count": null,
       "_view_module": "@jupyter-widgets/base",
       "_view_module_version": "1.2.0",
       "_view_name": "StyleView",
       "bar_color": null,
       "description_width": "initial"
      }
     },
     "d8326b70aba04fa6b6f5966a6876b1d4": {
      "model_module": "@jupyter-widgets/controls",
      "model_module_version": "1.5.0",
      "model_name": "DescriptionStyleModel",
      "state": {
       "_model_module": "@jupyter-widgets/controls",
       "_model_module_version": "1.5.0",
       "_model_name": "DescriptionStyleModel",
       "_view_count": null,
       "_view_module": "@jupyter-widgets/base",
       "_view_module_version": "1.2.0",
       "_view_name": "StyleView",
       "description_width": ""
      }
     },
     "d8fb4762108f447a9c5c0e9582961cb1": {
      "model_module": "@jupyter-widgets/controls",
      "model_module_version": "1.5.0",
      "model_name": "HBoxModel",
      "state": {
       "_dom_classes": [],
       "_model_module": "@jupyter-widgets/controls",
       "_model_module_version": "1.5.0",
       "_model_name": "HBoxModel",
       "_view_count": null,
       "_view_module": "@jupyter-widgets/controls",
       "_view_module_version": "1.5.0",
       "_view_name": "HBoxView",
       "box_style": "",
       "children": [
        "IPY_MODEL_dd2219de091f42fb9fd9154c0ca76dd9",
        "IPY_MODEL_a54840ed5c814bb0be713ade7179291d"
       ],
       "layout": "IPY_MODEL_549db78e8bfa43b19f4c71556b4ba6a5"
      }
     },
     "dd2219de091f42fb9fd9154c0ca76dd9": {
      "model_module": "@jupyter-widgets/controls",
      "model_module_version": "1.5.0",
      "model_name": "FloatProgressModel",
      "state": {
       "_dom_classes": [],
       "_model_module": "@jupyter-widgets/controls",
       "_model_module_version": "1.5.0",
       "_model_name": "FloatProgressModel",
       "_view_count": null,
       "_view_module": "@jupyter-widgets/controls",
       "_view_module_version": "1.5.0",
       "_view_name": "ProgressView",
       "bar_style": "success",
       "description": "",
       "description_tooltip": null,
       "layout": "IPY_MODEL_ef167a6bb3dc41dbb2fdfc30cefa3fb5",
       "max": 4,
       "min": 0,
       "orientation": "horizontal",
       "style": "IPY_MODEL_bf78a40b4b1b465c9a83ce50215eaf40",
       "value": 4
      }
     },
     "ef167a6bb3dc41dbb2fdfc30cefa3fb5": {
      "model_module": "@jupyter-widgets/base",
      "model_module_version": "1.2.0",
      "model_name": "LayoutModel",
      "state": {
       "_model_module": "@jupyter-widgets/base",
       "_model_module_version": "1.2.0",
       "_model_name": "LayoutModel",
       "_view_count": null,
       "_view_module": "@jupyter-widgets/base",
       "_view_module_version": "1.2.0",
       "_view_name": "LayoutView",
       "align_content": null,
       "align_items": null,
       "align_self": null,
       "border": null,
       "bottom": null,
       "display": null,
       "flex": null,
       "flex_flow": null,
       "grid_area": null,
       "grid_auto_columns": null,
       "grid_auto_flow": null,
       "grid_auto_rows": null,
       "grid_column": null,
       "grid_gap": null,
       "grid_row": null,
       "grid_template_areas": null,
       "grid_template_columns": null,
       "grid_template_rows": null,
       "height": null,
       "justify_content": null,
       "justify_items": null,
       "left": null,
       "margin": null,
       "max_height": null,
       "max_width": null,
       "min_height": null,
       "min_width": null,
       "object_fit": null,
       "object_position": null,
       "order": null,
       "overflow": null,
       "overflow_x": null,
       "overflow_y": null,
       "padding": null,
       "right": null,
       "top": null,
       "visibility": null,
       "width": null
      }
     },
     "f6d0ddac60ef44b7bc21cbf1cd506362": {
      "model_module": "@jupyter-widgets/controls",
      "model_module_version": "1.5.0",
      "model_name": "HBoxModel",
      "state": {
       "_dom_classes": [],
       "_model_module": "@jupyter-widgets/controls",
       "_model_module_version": "1.5.0",
       "_model_name": "HBoxModel",
       "_view_count": null,
       "_view_module": "@jupyter-widgets/controls",
       "_view_module_version": "1.5.0",
       "_view_name": "HBoxView",
       "box_style": "",
       "children": [
        "IPY_MODEL_cc8eccef32ab4597ba22caf945ad908c",
        "IPY_MODEL_65f8dad02269414c8b013fe50b494a31"
       ],
       "layout": "IPY_MODEL_1449d3d07742489ebd351f8d09ca391f"
      }
     },
     "fb0bcc0990914cb6b0b34850f7ef0e56": {
      "model_module": "@jupyter-widgets/controls",
      "model_module_version": "1.5.0",
      "model_name": "DescriptionStyleModel",
      "state": {
       "_model_module": "@jupyter-widgets/controls",
       "_model_module_version": "1.5.0",
       "_model_name": "DescriptionStyleModel",
       "_view_count": null,
       "_view_module": "@jupyter-widgets/base",
       "_view_module_version": "1.2.0",
       "_view_name": "StyleView",
       "description_width": ""
      }
     },
     "fb48fdc579ab4e6ca4f37626b1b67512": {
      "model_module": "@jupyter-widgets/controls",
      "model_module_version": "1.5.0",
      "model_name": "FloatProgressModel",
      "state": {
       "_dom_classes": [],
       "_model_module": "@jupyter-widgets/controls",
       "_model_module_version": "1.5.0",
       "_model_name": "FloatProgressModel",
       "_view_count": null,
       "_view_module": "@jupyter-widgets/controls",
       "_view_module_version": "1.5.0",
       "_view_name": "ProgressView",
       "bar_style": "success",
       "description": "",
       "description_tooltip": null,
       "layout": "IPY_MODEL_274639113bdb485fbcf0b56d2ffbd844",
       "max": 4,
       "min": 0,
       "orientation": "horizontal",
       "style": "IPY_MODEL_43a26159926f4739bb49258bc1a76a5a",
       "value": 4
      }
     }
    },
    "version_major": 2,
    "version_minor": 0
   }
  }
 },
 "nbformat": 4,
 "nbformat_minor": 5
}
