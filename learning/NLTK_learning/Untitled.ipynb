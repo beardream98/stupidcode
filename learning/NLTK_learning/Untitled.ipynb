{
 "cells": [
  {
   "cell_type": "code",
   "execution_count": 1,
   "id": "025a3b43",
   "metadata": {},
   "outputs": [
    {
     "name": "stdout",
     "output_type": "stream",
     "text": [
      "*** Introductory Examples for the NLTK Book ***\n",
      "Loading text1, ..., text9 and sent1, ..., sent9\n",
      "Type the name of the text or sentence to view it.\n",
      "Type: 'texts()' or 'sents()' to list the materials.\n",
      "text1: Moby Dick by Herman Melville 1851\n",
      "text2: Sense and Sensibility by Jane Austen 1811\n",
      "text3: The Book of Genesis\n",
      "text4: Inaugural Address Corpus\n",
      "text5: Chat Corpus\n",
      "text6: Monty Python and the Holy Grail\n",
      "text7: Wall Street Journal\n",
      "text8: Personals Corpus\n",
      "text9: The Man Who Was Thursday by G . K . Chesterton 1908\n"
     ]
    }
   ],
   "source": [
    "from nltk.book import *\n",
    "%matplotlib inline"
   ]
  },
  {
   "cell_type": "code",
   "execution_count": 2,
   "id": "e73e9b04",
   "metadata": {},
   "outputs": [
    {
     "name": "stdout",
     "output_type": "stream",
     "text": [
      "Displaying 8 of 8 matches:\n",
      ", on the mere suspicion of something wrong , had been arrested ere he touched a\n",
      "d one . So good - bye to thee -- and wrong not Captain Ahab , because he happen\n",
      "en sea . But when a man suspects any wrong , it sometimes happens that if he be\n",
      "that old man has a sort of turned me wrong side out . By the Lord , I must have\n",
      "oving such pictures of the whale all wrong . It may be that the primal source o\n",
      "yet that small section of him is all wrong . It looks more like the tapering ta\n",
      "et something better . I hope I do no wrong , Mr . Starbuck . It is the captain \n",
      "ribly conscious of something fatally wrong . The jaw - bone tiller smote my sid\n",
      "in now take what this for more could as would go about were did round\n",
      "creation though do time hands\n",
      "am_glad a_pretty a_lucky is_pretty be_glad\n"
     ]
    }
   ],
   "source": [
    "#search\n",
    "\n",
    "# search times\n",
    "text1.concordance(\"wrong\")\n",
    "#search similar\n",
    "text1.similar(\"wrong\")\n",
    "\n",
    "# search context use two or more word \n",
    "text2.common_contexts([\"monstrous\",\"very\"])\n",
    "\n",
    "# show location of word\n",
    "text4.dispersion_plot([\"citizens\",\"democracy\",\"freedom\",\"duties\",\"Ameica\"])\n",
    "\n",
    "# 固定搭配\n",
    "text4.collocations()"
   ]
  },
  {
   "cell_type": "code",
   "execution_count": 11,
   "id": "e2c6af7a",
   "metadata": {},
   "outputs": [
    {
     "data": {
      "image/png": "[encoded data removed]",
      "text/plain": [
       "<Figure size 432x288 with 1 Axes>"
      ]
     },
     "metadata": {
      "needs_background": "light"
     },
     "output_type": "display_data"
    }
   ],
   "source": [
    "# a dictionary :word as key ,frequency as value\n",
    "fdist1=FreqDist(text1)\n",
    "\n",
    "\n",
    "# cumulative counts of the words in top 50 \n",
    "fdist1.plot(50,cumulative=True)\n",
    "\n",
    "# frequence of diffrenent length word\n",
    "fdist=FreqDist([len(w) for w in text1])\n",
    "fdist.plot()\n",
    "\n",
    "# conditinal frequence\n",
    "from nltk.corpus import brown\n",
    "#(condition,word) 条件还是自己写 （c，w）格式用于统计绘图\n",
    "cfd=nltk.ConditionalFreqDist((genere,word)  \n",
    "                            for genere in [\"news\",\"romance\"]\n",
    "                            for word in brown.words(categories=genere))\n",
    "# cfd.plot() \n",
    "cfd.tabulate(conditions=[\"news\"],samples=[\"word\"]) \n"
   ]
  },
  {
   "cell_type": "code",
   "execution_count": 15,
   "id": "4e2c31c2",
   "metadata": {},
   "outputs": [
    {
     "data": {
      "text/plain": [
       "['austen-emma.txt',\n",
       " 'austen-persuasion.txt',\n",
       " 'austen-sense.txt',\n",
       " 'bible-kjv.txt',\n",
       " 'blake-poems.txt',\n",
       " 'bryant-stories.txt',\n",
       " 'burgess-busterbrown.txt',\n",
       " 'carroll-alice.txt',\n",
       " 'chesterton-ball.txt',\n",
       " 'chesterton-brown.txt',\n",
       " 'chesterton-thursday.txt',\n",
       " 'edgeworth-parents.txt',\n",
       " 'melville-moby_dick.txt',\n",
       " 'milton-paradise.txt',\n",
       " 'shakespeare-caesar.txt',\n",
       " 'shakespeare-hamlet.txt',\n",
       " 'shakespeare-macbeth.txt',\n",
       " 'whitman-leaves.txt']"
      ]
     },
     "execution_count": 15,
     "metadata": {},
     "output_type": "execute_result"
    }
   ],
   "source": [
    "import nltk\n",
    "# book resource \n",
    "nltk.corpus.gutenberg.fileids()#query for filename\n",
    "\n",
    "nltk.corpus.reuters.categories() #query for categories\n",
    "# words list\n",
    "emma=nltk.corpus.gutenberg.words(\"austen-emma.txt\")\n",
    "# char list\n",
    "nltk.corpus.gutenberg.raw(\"austen-emma.txt\")\n",
    "\n",
    "#sentence list\n",
    "nltk.corpus.gutenberg.sents(\"austen-emma.txt\")\n",
    "\n"
   ]
  },
  {
   "cell_type": "code",
   "execution_count": 35,
   "id": "7a49c44f",
   "metadata": {},
   "outputs": [],
   "source": [
    "# import yours text resource\n",
    "from nltk.corpus import PlaintextCorpusReader\n",
    "corpus_root=r\"C:\\Users\\Lenovo\\Desktop\\gittest\" #r 代表禁止转义\n",
    "wordlists=PlaintextCorpusReader(corpus_root,\".*\") #文件地址 与正则表达式\n",
    "wordlists.fileids()"
   ]
  },
  {
   "cell_type": "code",
   "execution_count": 37,
   "id": "beb33bd1",
   "metadata": {},
   "outputs": [
    {
     "name": "stdout",
     "output_type": "stream",
     "text": [
      "living\n",
      "creature\n",
      "that\n",
      "he\n",
      "said\n",
      ",\n",
      "and\n",
      "the\n",
      "land\n",
      "of\n",
      "the\n",
      "land\n",
      "of\n",
      "the\n",
      "land\n"
     ]
    }
   ],
   "source": [
    "# random generate text\n",
    "def generate_model(cfdist,word,num=15):\n",
    "    for i in range(num):\n",
    "        print(word)\n",
    "        word=cfdist[word].max()\n",
    "text=nltk.corpus.genesis.words(\"english-kjv.txt\")\n",
    "bigrams=nltk.bigrams(text)\n",
    "cfd=nltk.ConditionalFreqDist(bigrams)\n",
    "\n",
    "generate_model(cfd,\"living\")"
   ]
  },
  {
   "cell_type": "code",
   "execution_count": 54,
   "id": "41b210a4",
   "metadata": {},
   "outputs": [
    {
     "data": {
      "text/plain": [
       "[Lemma('car.n.01.car'),\n",
       " Lemma('car.n.02.car'),\n",
       " Lemma('car.n.03.car'),\n",
       " Lemma('car.n.04.car'),\n",
       " Lemma('cable_car.n.01.car')]"
      ]
     },
     "execution_count": 54,
     "metadata": {},
     "output_type": "execute_result"
    }
   ],
   "source": [
    "# wordnet synet:同义词集合 lemma：同义词\n",
    "from nltk.corpus import wordnet as wn\n",
    "wn.synsets(\"motorcar\")\n",
    "wn.synset(\"car.n.01\").lemma_names()\n",
    "wn.lemmas(\"car\")\n",
    "\n",
    "# lemma 访问同义词 \n",
    "wn.lemma(\"car.n.01.automobile\")\n",
    "wn.lemma(\"car.n.01.automobile\").synset()\n",
    "wn.lemma(\"car.n.01.automobile\").name()\n",
    "\n"
   ]
  },
  {
   "cell_type": "code",
   "execution_count": 74,
   "id": "c3217929",
   "metadata": {},
   "outputs": [],
   "source": [
    "# read books from network or others\n",
    "from urllib.request import urlopen\n",
    "url=\"https://www.gutenberg.org/files/2554/2554-0.txt\"\n",
    "proxies={\"http\":\"http://someproxy.com:3128\"}\n",
    "raw=urlopen(url).read()\n",
    "\n",
    "# decode :bytes to str \n",
    "tokens=nltk.word_tokenize(raw.decode(\"utf-8\"))\n",
    "# turn to nltk.text\n",
    "text=nltk.Text(tokens)\n",
    "text.concordance(\"anybody\")\n",
    "\n",
    "raw=raw.decode(\"utf-8\")\n",
    "raw.find(\"PART I\")\n",
    "# index of the last one\n",
    "raw.find(\"End of Project Gutenberg’s Crime and Punishment\")"
   ]
  },
  {
   "cell_type": "code",
   "execution_count": 90,
   "id": "3272450b",
   "metadata": {},
   "outputs": [],
   "source": [
    "# read html\n",
    "from bs4 import BeautifulSoup\n",
    "url=\"https://www.runoob.com/python/att-string-rfind.html\"\n",
    "html=urlopen(url).read()\n",
    "\n",
    "raw=BeautifulSoup(html).get_text()\n",
    "tokens=nltk.word_tokenize(raw)"
   ]
  },
  {
   "cell_type": "code",
   "execution_count": 104,
   "id": "0d249489",
   "metadata": {},
   "outputs": [
    {
     "ename": "LookupError",
     "evalue": "\n**********************************************************************\n  Resource \u001b[93municode_samples.polish-lat2.txt\u001b[0m not found.\n  Please use the NLTK Downloader to obtain the resource:\n\n  \u001b[31m>>> import nltk\n  >>> nltk.download('unicode_samples.polish-lat2.txt')\n  \u001b[0m\n  For more information see: https://www.nltk.org/data.html\n\n  Attempted to load \u001b[93mcorpora/unicode_samples.polish-lat2.txt\u001b[0m\n\n  Searched in:\n    - 'C:\\\\Users\\\\Lenovo/nltk_data'\n    - 'D:\\\\anaconda\\\\envs\\\\python36\\\\nltk_data'\n    - 'D:\\\\anaconda\\\\envs\\\\python36\\\\share\\\\nltk_data'\n    - 'D:\\\\anaconda\\\\envs\\\\python36\\\\lib\\\\nltk_data'\n    - 'C:\\\\Users\\\\Lenovo\\\\AppData\\\\Roaming\\\\nltk_data'\n    - 'C:\\\\nltk_data'\n    - 'D:\\\\nltk_data'\n    - 'E:\\\\nltk_data'\n**********************************************************************\n",
     "output_type": "error",
     "traceback": [
      "\u001b[1;31m---------------------------------------------------------------------------\u001b[0m",
      "\u001b[1;31mLookupError\u001b[0m                               Traceback (most recent call last)",
      "\u001b[1;32m<ipython-input-104-9a801eb9c01a>\u001b[0m in \u001b[0;36m<module>\u001b[1;34m()\u001b[0m\n\u001b[1;32m----> 1\u001b[1;33m \u001b[0mpath\u001b[0m\u001b[1;33m=\u001b[0m\u001b[0mnltk\u001b[0m\u001b[1;33m.\u001b[0m\u001b[0mdata\u001b[0m\u001b[1;33m.\u001b[0m\u001b[0mfind\u001b[0m\u001b[1;33m(\u001b[0m\u001b[1;34m\"corpora/unicode_samples.polish-lat2.txt\"\u001b[0m\u001b[1;33m)\u001b[0m\u001b[1;33m\u001b[0m\u001b[1;33m\u001b[0m\u001b[0m\n\u001b[0m\u001b[0;32m      2\u001b[0m \u001b[1;32mimport\u001b[0m \u001b[0mcodecs\u001b[0m\u001b[1;33m\u001b[0m\u001b[1;33m\u001b[0m\u001b[0m\n\u001b[0;32m      3\u001b[0m \u001b[0mf\u001b[0m\u001b[1;33m=\u001b[0m\u001b[0mcodecs\u001b[0m\u001b[1;33m.\u001b[0m\u001b[0mopen\u001b[0m\u001b[1;33m(\u001b[0m\u001b[0mpath\u001b[0m\u001b[1;33m,\u001b[0m\u001b[0mencoding\u001b[0m\u001b[1;33m=\u001b[0m\u001b[1;34m\"latin2\"\u001b[0m\u001b[1;33m)\u001b[0m\u001b[1;33m\u001b[0m\u001b[1;33m\u001b[0m\u001b[0m\n",
      "\u001b[1;32mD:\\anaconda\\envs\\python36\\lib\\site-packages\\nltk\\data.py\u001b[0m in \u001b[0;36mfind\u001b[1;34m(resource_name, paths)\u001b[0m\n\u001b[0;32m    581\u001b[0m     \u001b[0msep\u001b[0m \u001b[1;33m=\u001b[0m \u001b[1;34m\"*\"\u001b[0m \u001b[1;33m*\u001b[0m \u001b[1;36m70\u001b[0m\u001b[1;33m\u001b[0m\u001b[1;33m\u001b[0m\u001b[0m\n\u001b[0;32m    582\u001b[0m     \u001b[0mresource_not_found\u001b[0m \u001b[1;33m=\u001b[0m \u001b[1;34m\"\\n%s\\n%s\\n%s\\n\"\u001b[0m \u001b[1;33m%\u001b[0m \u001b[1;33m(\u001b[0m\u001b[0msep\u001b[0m\u001b[1;33m,\u001b[0m \u001b[0mmsg\u001b[0m\u001b[1;33m,\u001b[0m \u001b[0msep\u001b[0m\u001b[1;33m)\u001b[0m\u001b[1;33m\u001b[0m\u001b[1;33m\u001b[0m\u001b[0m\n\u001b[1;32m--> 583\u001b[1;33m     \u001b[1;32mraise\u001b[0m \u001b[0mLookupError\u001b[0m\u001b[1;33m(\u001b[0m\u001b[0mresource_not_found\u001b[0m\u001b[1;33m)\u001b[0m\u001b[1;33m\u001b[0m\u001b[1;33m\u001b[0m\u001b[0m\n\u001b[0m\u001b[0;32m    584\u001b[0m \u001b[1;33m\u001b[0m\u001b[0m\n\u001b[0;32m    585\u001b[0m \u001b[1;33m\u001b[0m\u001b[0m\n",
      "\u001b[1;31mLookupError\u001b[0m: \n**********************************************************************\n  Resource \u001b[93municode_samples.polish-lat2.txt\u001b[0m not found.\n  Please use the NLTK Downloader to obtain the resource:\n\n  \u001b[31m>>> import nltk\n  >>> nltk.download('unicode_samples.polish-lat2.txt')\n  \u001b[0m\n  For more information see: https://www.nltk.org/data.html\n\n  Attempted to load \u001b[93mcorpora/unicode_samples.polish-lat2.txt\u001b[0m\n\n  Searched in:\n    - 'C:\\\\Users\\\\Lenovo/nltk_data'\n    - 'D:\\\\anaconda\\\\envs\\\\python36\\\\nltk_data'\n    - 'D:\\\\anaconda\\\\envs\\\\python36\\\\share\\\\nltk_data'\n    - 'D:\\\\anaconda\\\\envs\\\\python36\\\\lib\\\\nltk_data'\n    - 'C:\\\\Users\\\\Lenovo\\\\AppData\\\\Roaming\\\\nltk_data'\n    - 'C:\\\\nltk_data'\n    - 'D:\\\\nltk_data'\n    - 'E:\\\\nltk_data'\n**********************************************************************\n"
     ]
    }
   ],
   "source": [
    "path=nltk.data.find(\"corpora/unicode_samples.polish-lat2.txt\")\n",
    "import codecs\n",
    "f=codecs.open(path,encoding=\"latin2\")"
   ]
  },
  {
   "cell_type": "code",
   "execution_count": 118,
   "id": "525d9a95",
   "metadata": {},
   "outputs": [
    {
     "name": "stdout",
     "output_type": "stream",
     "text": [
      "b'\\xe6\\x88\\x91\\xe7\\x9a\\x84\\xe6\\xaf\\x8f\\xe4\\xb8\\x80\\xe5\\xa4\\xa9'\n",
      "b'\\xe9\\x83\\xbd\\xe6\\x98\\xaf'\n",
      "b'\\xe9\\x83\\xbd\\xe6\\x98\\xaf'\n",
      "b'\\xe6\\x97\\xa0\\xe6\\x84\\x8f\\xe4\\xb9\\x89\\xe7\\x9a\\x84'\n"
     ]
    }
   ],
   "source": [
    "# encode and decode \n",
    "path=r\"C:\\Users\\Lenovo\\Desktop\\text1.txt\"\n",
    "import codecs\n",
    "f=codecs.open(path,encoding=\"utf-8\") #指定以什么编码方式读入\n",
    "for line in f: \n",
    "    line=line.strip()\n",
    "    print(line.encode(\"utf-8\"))  #指定以何种方式进行编码"
   ]
  },
  {
   "cell_type": "code",
   "execution_count": 131,
   "id": "eb2a4c0a",
   "metadata": {},
   "outputs": [],
   "source": [
    "import re \n",
    "wordlist=[w for w in nltk.corpus.words.words(\"en\") if w.islower()]\n",
    "patten1=\"ed$\"\n",
    "[w for w in wordlist if re.search(patten1,w)]\n",
    "patten2=\"^..j..t..$\"\n",
    "[w for w in wordlist if re.search(patten2,w)]\n",
    "\n",
    "patten3=\"^sing?\"\n",
    "[w for w in wordlist if re.search(patten3,w)]\n",
    "\n",
    "# [] set / ^ in [] means ! \n",
    "patten4=\"^[ghi][mno][jlk][def]$\"\n",
    "[w for w in wordlist if re.search(patten4,w)]\n",
    "# + repeat of the char in front of \"+\" >1\n",
    "#*repeat of the char in front of \"*\" >0\n",
    "patten5=\"^gram+\"\n",
    "[w for w in wordlist if re.search(patten5,w)]\n"
   ]
  },
  {
   "cell_type": "code",
   "execution_count": 151,
   "id": "49d26079",
   "metadata": {},
   "outputs": [],
   "source": [
    "wsj=sorted(set(nltk.corpus.treebank.words()))\n",
    "[w for w in wsj if re.search(\"^[0-9]+\\.[0-9]+$\",w)]\n",
    "# {num1,num2} num1~num2 repeate time \n",
    "#{num} num repeate time\n",
    "[w for w in wsj if re.search(\"^[0-9]{4}$\",w)]\n",
    "\n",
    "# 操作符范围\n",
    "b=[w for w in wsj if re.search(\"(ed|ing)$\",w)]\n",
    "\n",
    "# 禁止python解释器 解释字符串  但不妨碍re理解如/.\n",
    "r\"\\band\\b\"\n",
    "\"\\band\\b\"\n",
    "\n",
    "#findall\n",
    "fd=nltk.FreqDist(vs for w in wsj for vs in re.findall(r\"[aeiou]{2,}\",w))\n",
    "fd.items()"
   ]
  },
  {
   "cell_type": "code",
   "execution_count": 155,
   "id": "66620e4b",
   "metadata": {},
   "outputs": [],
   "source": [
    "rotokas_words=nltk.corpus.toolbox.words(\"rotokas.dic\")\n",
    "cvs=[cv for w in rotokas_words for cv in re.findall(r\"[ptksvr][aeiou]\",w)]\n",
    "# \"ab\" ab生成条件\n",
    "cfd=nltk.ConditionalFreqDist(cvs)\n",
    "cfd.tabulate()\n",
    "\n",
    "re.findall(r\"^.*(ing|ly|ed)$\",\"processing\")\n",
    "#括号会默认提取子字符串 \n",
    "re.findall(r\"^.*(?:ing|ly|ed)$\",\"processing\")\n",
    "#提取两部分 返回为（）形式\n",
    "re.findall(r\"^(.*)(ing|ly|ed)$\",\"processing\")\n",
    "\n",
    "#对文本中单词进行匹配\n",
    "a=[\"processing \",\"started\"]\n",
    "text=nltk.Text(a)\n",
    "text.findall(r\"<.*> <started>\")\n",
    "# 标记匹配部分\n",
    "nltk.re_show(r\"(ing|ly|ed)$\",\"abc processing\"\n",
    "             \n",
    "#词干提取\n",
    "proter=nltk.PorterStemmer()\n",
    "[porter.stem(t) for t in wordlist]"
   ]
  },
  {
   "cell_type": "code",
   "execution_count": null,
   "id": "0b75e1d0",
   "metadata": {},
   "outputs": [],
   "source": [
    "#分词\n",
    "\n",
    "#\\W匹配所有非字母、非数字、非下划线 \\s匹配空白字符\n",
    "re.split(r\"\\W+\",raw)\n",
    "re.findall(r\"\\w+|\\S\\w*\")\n",
    "\n",
    "#分词器\n",
    "text=\"That U.S.A. poster-print costs $12.40...\"\n",
    "pattern=regexp_tokenize(patten,text)\n",
    "\n",
    "# 分句器\n",
    "from nltk.tokenize import sent_tokenize\n",
    "sent_tokenizer=nltk.data.load(\"tokenizers/punkt/english.pickle\")\n",
    "\n",
    "text=nltk.corpus.gutenberg.raw(\"chesterton-thursday.txt\")\n",
    "sents=sent_tokenizer.tokenize(text)\n"
   ]
  },
  {
   "cell_type": "code",
   "execution_count": null,
   "id": "91b7b690",
   "metadata": {},
   "outputs": [],
   "source": []
  }
 ],
 "metadata": {
  "kernelspec": {
   "display_name": "Python [conda env:python36] *",
   "language": "python",
   "name": "conda-env-python36-py"
  },
  "language_info": {
   "codemirror_mode": {
    "name": "ipython",
    "version": 3
   },
   "file_extension": ".py",
   "mimetype": "text/x-python",
   "name": "python",
   "nbconvert_exporter": "python",
   "pygments_lexer": "ipython3",
   "version": "3.6.12"
  }
 },
 "nbformat": 4,
 "nbformat_minor": 5
}
