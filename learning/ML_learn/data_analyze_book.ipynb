{
 "cells": [
  {
   "cell_type": "code",
   "execution_count": 1,
   "metadata": {},
   "outputs": [],
   "source": [
    "import sys\n",
    "import csv"
   ]
  },
  {
   "cell_type": "code",
   "execution_count": 1,
   "metadata": {},
   "outputs": [],
   "source": [
    "import numpy as np"
   ]
  },
  {
   "cell_type": "code",
   "execution_count": 4,
   "metadata": {},
   "outputs": [],
   "source": []
  },
  {
   "cell_type": "code",
   "execution_count": 7,
   "metadata": {},
   "outputs": [],
   "source": [
    "from sklearn import datasets\n",
    "from sklearn.model_selection import train_test_split"
   ]
  },
  {
   "cell_type": "code",
   "execution_count": 9,
   "metadata": {},
   "outputs": [],
   "source": []
  },
  {
   "cell_type": "code",
   "execution_count": 38,
   "metadata": {},
   "outputs": [],
   "source": [
    "iris=datasets.load_iris() #从datasets中导入数据\n",
    "x=iris.data #导入输入数据\n",
    "y=iris.target#导入测试数据"
   ]
  },
  {
   "cell_type": "code",
   "execution_count": 17,
   "metadata": {
    "scrolled": true
   },
   "outputs": [],
   "source": [
    "X_train,X_test,Y_train,Y_test=train_test_split(x,y,test_size=0.3)  #拆分训练集和验证集 顺便打乱数据排序"
   ]
  },
  {
   "cell_type": "code",
   "execution_count": 39,
   "metadata": {},
   "outputs": [
    {
     "data": {
      "text/plain": [
       "0.9555555555555556"
      ]
     },
     "execution_count": 39,
     "metadata": {},
     "output_type": "execute_result"
    }
   ],
   "source": [
    "from sklearn.neighbors import KNeighborsClassifier #\n",
    "knn=KNeighborsClassifier(n_neighbors=5) #选择knn邻近模型，返回一个模型对象\n",
    "knn.fit(X_train,Y_train) #训练\n",
    "knn.predict(X_test) #预测\n",
    "knn.score(X_test,Y_test) #计算准确率\n"
   ]
  },
  {
   "cell_type": "code",
   "execution_count": 40,
   "metadata": {},
   "outputs": [],
   "source": [
    "#使用pickle 存储模型\n",
    "import pickle\n",
    "with open(\"knn.pickle\",\"wb\") as file_obj:  #存储模型 文件后缀为.pickle\n",
    "    pickle.dump(knn, file_obj) \n"
   ]
  },
  {
   "cell_type": "code",
   "execution_count": 41,
   "metadata": {},
   "outputs": [
    {
     "name": "stdout",
     "output_type": "stream",
     "text": [
      "[2]\n"
     ]
    }
   ],
   "source": [
    "with open(\"knn.pickle\",\"rb\") as file_obj: #导入模型\n",
    "    knn2=pickle.load(file_obj)\n",
    "    print(knn2.predict(X_train[0:1]))"
   ]
  },
  {
   "cell_type": "code",
   "execution_count": 45,
   "metadata": {},
   "outputs": [
    {
     "name": "stdout",
     "output_type": "stream",
     "text": [
      "[2]\n"
     ]
    }
   ],
   "source": [
    "#使用joblib 存储模型 \n",
    "import joblib \n",
    "joblib.dump(knn2,'knn2.pkl') #保存模型 文件后缀为.pkl\n",
    "knn3=joblib.load(\"knn2.pkl\") #导入模型\n",
    "print(knn3.predict(X_train[0:1]))"
   ]
  },
  {
   "cell_type": "code",
   "execution_count": 30,
   "metadata": {},
   "outputs": [
    {
     "name": "stdout",
     "output_type": "stream",
     "text": [
      "0.9733333333333334\n"
     ]
    }
   ],
   "source": [
    "from sklearn.model_selection import cross_val_score\n",
    "knn=KNeighborsClassifier(n_neighbors=5) \n",
    "scores=cross_val_score(knn,x,y,cv=5,scoring=\"accuracy\") #交差验证 cv 验证折数\n",
    "print(scores.mean()) #输出平均准确率"
   ]
  },
  {
   "cell_type": "code",
   "execution_count": 21,
   "metadata": {},
   "outputs": [],
   "source": []
  },
  {
   "cell_type": "code",
   "execution_count": 24,
   "metadata": {},
   "outputs": [
    {
     "name": "stdout",
     "output_type": "stream",
     "text": [
      "[[  10.     2.7    3.6]\n",
      " [-100.     5.    -2. ]\n",
      " [ 120.    20.    40. ]]\n",
      "[[ 0.         -0.85170713 -0.55138018]\n",
      " [-1.22474487 -0.55187146 -0.852133  ]\n",
      " [ 1.22474487  1.40357859  1.40351318]]\n"
     ]
    }
   ],
   "source": [
    "from sklearn import preprocessing\n",
    "a=np.array([[10,2.7,3.6],[-100,5,-2],[120,20,40]],dtype=np.float64)\n",
    "print(a)\n",
    "preprocessing.scale(a) #标准化"
   ]
  },
  {
   "cell_type": "code",
   "execution_count": 37,
   "metadata": {},
   "outputs": [
    {
     "ename": "SyntaxError",
     "evalue": "EOF while scanning triple-quoted string literal (<ipython-input-37-81504216bea3>, line 16)",
     "output_type": "error",
     "traceback": [
      "\u001b[1;36m  File \u001b[1;32m\"<ipython-input-37-81504216bea3>\"\u001b[1;36m, line \u001b[1;32m16\u001b[0m\n\u001b[1;33m    plt.plot(train_sizes,test_loss_mean,\"o-\",color=\"g\",label=\"Cross-validation\")\u001b[0m\n\u001b[1;37m                                                                                \n^\u001b[0m\n\u001b[1;31mSyntaxError\u001b[0m\u001b[1;31m:\u001b[0m EOF while scanning triple-quoted string literal\n"
     ]
    }
   ],
   "source": [
    "from sklearn.model_selection import learning_curve\n",
    "from sklearn.datasets import load_digits\n",
    "from sklearn.svm import  SVC\n",
    "import matplotlib.pyplot as plt\n",
    "\n",
    "digits=load_digits()\n",
    "digit_x=digits.data\n",
    "digit_y=digits.target\n",
    "\"\"\"\n",
    "train_sizes:训练节点，训练完成程度\n",
    "train_loss,test_loss :与train_sizes对应的训练程度时的损失\n",
    "\"\"\"\n",
    "train_sizes,train_loss,test_loss=learning_curve(\n",
    "    SVC(gamma=0.001),digit_x,digit_y,cv=10,scoring='neg_mean_squared_error',\n",
    "    train_sizes=[0.1,0.25,0.5,0.75,1])\n",
    "train_loss_mean=-np.mean(train_loss,axis=1)\n",
    "test_loss_mean=-np.mean(test_loss,axis=1)\n",
    "plt.plot(train_sizes,train_loss_mean,\"o-\",color=\"r\",label=\"Training\")\n",
    "plt.plot(train_sizes,test_loss_mean,\"o-\",color=\"g\",label=\"Cross-validation\")\n"
   ]
  },
  {
   "cell_type": "code",
   "execution_count": 36,
   "metadata": {},
   "outputs": [
    {
     "data": {
      "text/plain": [
       "[<matplotlib.lines.Line2D at 0x134ebf01b00>]"
      ]
     },
     "execution_count": 36,
     "metadata": {},
     "output_type": "execute_result"
    },
    {
     "data": {
      "image/png": "[encoded data removed]",
      "text/plain": [
       "<Figure size 432x288 with 1 Axes>"
      ]
     },
     "metadata": {
      "needs_background": "light"
     },
     "output_type": "display_data"
    }
   ],
   "source": [
    "from sklearn.model_selection import validation_curve\n",
    "\n",
    "param_range=np.logspace(-6,-2.3,5) #参数取值列表，logspace 默认以10为底产生等比数列\n",
    "#验证曲线\n",
    "train_loss,test_loss=validation_curve(\n",
    "    SVC(),digit_x,digit_y,param_name=\"gamma\",param_range=param_range,cv=10,scoring='neg_mean_squared_error')\n",
    "train_loss_mean=-np.mean(train_loss,axis=1)\n",
    "test_loss_mean=-np.mean(test_loss,axis=1)\n",
    "plt.plot(param_range,train_loss_mean,\"o-\",color=\"r\",label=\"Training\")\n",
    "plt.plot(param_range,test_loss_mean,\"o-\",color=\"g\",label=\"Cross-validation\")"
   ]
  },
  {
   "cell_type": "code",
   "execution_count": 5,
   "metadata": {},
   "outputs": [],
   "source": []
  },
  {
   "cell_type": "code",
   "execution_count": null,
   "metadata": {},
   "outputs": [],
   "source": []
  },
  {
   "cell_type": "code",
   "execution_count": 15,
   "metadata": {},
   "outputs": [],
   "source": [
    "#通过sklearn 提供的包生成测试数据\n",
    "from sklearn.datasets import make_classification\n",
    "\n",
    "test_data,test_target = make_classification(n_samples=6, n_features=5, n_informative=2, \n",
    "    n_redundant=2, n_classes=2, n_clusters_per_class=2, scale=1.0, \n",
    "    random_state=20)\n",
    "\n",
    "# n_samples：指定样本数\n",
    "# n_features：指定特征数\n",
    "# n_classes：指定几分类\n",
    "# random_state：随机种子，使得随机状可重\n"
   ]
  }
 ],
 "metadata": {
  "kernelspec": {
   "display_name": "Python 3",
   "language": "python",
   "name": "python3"
  },
  "language_info": {
   "codemirror_mode": {
    "name": "ipython",
    "version": 3
   },
   "file_extension": ".py",
   "mimetype": "text/x-python",
   "name": "python",
   "nbconvert_exporter": "python",
   "pygments_lexer": "ipython3",
   "version": "3.8.3"
  }
 },
 "nbformat": 4,
 "nbformat_minor": 5
}
