{
 "cells": [
  {
   "cell_type": "code",
   "execution_count": 4,
   "id": "b3292214",
   "metadata": {},
   "outputs": [],
   "source": [
    "import torch\n",
    "import torchvision\n",
    "import torch.nn as nn\n",
    "import numpy as np\n",
    "import torchvision.transforms as transforms"
   ]
  },
  {
   "cell_type": "markdown",
   "id": "04501050",
   "metadata": {},
   "source": [
    "## basci autograd example 1"
   ]
  },
  {
   "cell_type": "code",
   "execution_count": 8,
   "id": "64124051",
   "metadata": {},
   "outputs": [],
   "source": [
    "x=torch.tensor(1.,requires_grad=True)\n",
    "w=torch.tensor(2.,requires_grad=True)\n",
    "b=torch.tensor(3.,requires_grad=True)"
   ]
  },
  {
   "cell_type": "code",
   "execution_count": 10,
   "id": "097138e5",
   "metadata": {},
   "outputs": [],
   "source": [
    "y=w*x+b\n",
    "y.backward()"
   ]
  },
  {
   "cell_type": "code",
   "execution_count": 11,
   "id": "4fb36773",
   "metadata": {},
   "outputs": [
    {
     "name": "stdout",
     "output_type": "stream",
     "text": [
      "tensor(2.)\n",
      "tensor(1.)\n",
      "tensor(1.)\n"
     ]
    }
   ],
   "source": [
    "print(x.grad)\n",
    "print(w.grad)\n",
    "print(b.grad)"
   ]
  },
  {
   "cell_type": "markdown",
   "id": "fede1b6a",
   "metadata": {},
   "source": [
    "# # basic autograd example 2"
   ]
  },
  {
   "cell_type": "code",
   "execution_count": 12,
   "id": "5c7f637d",
   "metadata": {},
   "outputs": [
    {
     "name": "stdout",
     "output_type": "stream",
     "text": [
      "w: Parameter containing:\n",
      "tensor([[-0.2102, -0.1064, -0.4972],\n",
      "        [ 0.5036,  0.3606,  0.1494]], requires_grad=True)\n",
      "b: Parameter containing:\n",
      "tensor([ 0.0995, -0.4277], requires_grad=True)\n"
     ]
    }
   ],
   "source": [
    "x=torch.randn(10,3)\n",
    "y=torch.rand(10,2)\n",
    "\n",
    "linear=nn.Linear(3,2)\n",
    "print(\"w:\",linear.weight)\n",
    "print(\"b:\",linear.bias)"
   ]
  },
  {
   "cell_type": "code",
   "execution_count": 13,
   "id": "c00763b5",
   "metadata": {},
   "outputs": [
    {
     "name": "stdout",
     "output_type": "stream",
     "text": [
      "loss: tensor(0.9506, grad_fn=<MseLossBackward>)\n",
      "dL/dW: tensor([[ 0.0539, -0.1343, -0.4312],\n",
      "        [ 0.4738,  0.4349, -0.1674]])\n",
      "dl/db: tensor([-0.4598, -0.9888])\n"
     ]
    }
   ],
   "source": [
    "criterion=nn.MSELoss()\n",
    "optimizer=torch.optim.SGD(linear.parameters(),lr=0.01)\n",
    "\n",
    "pred=linear(x)\n",
    "loss=criterion(pred,y)\n",
    "print(\"loss:\",loss)\n",
    "loss.backward()\n",
    "\n",
    "print(\"dL/dW:\",linear.weight.grad)\n",
    "print(\"dl/db:\",linear.bias.grad)"
   ]
  },
  {
   "cell_type": "code",
   "execution_count": 18,
   "id": "cb22eb5f",
   "metadata": {},
   "outputs": [
    {
     "name": "stdout",
     "output_type": "stream",
     "text": [
      "loss after 1 step optimization 0.8786223530769348\n"
     ]
    }
   ],
   "source": [
    "optimizer.step()\n",
    "pred=linear(x)\n",
    "loss=criterion(pred,y)\n",
    "print(\"loss after 1 step optimization\",loss.item())"
   ]
  },
  {
   "cell_type": "markdown",
   "id": "be446129",
   "metadata": {},
   "source": [
    "## Input pipeline"
   ]
  },
  {
   "cell_type": "code",
   "execution_count": 19,
   "id": "a4229bf7",
   "metadata": {},
   "outputs": [
    {
     "name": "stdout",
     "output_type": "stream",
     "text": [
      "Downloading https://www.cs.toronto.edu/~kriz/cifar-10-python.tar.gz to ../../data/cifar-10-python.tar.gz\n"
     ]
    },
    {
     "data": {
      "application/vnd.jupyter.widget-view+json": {
       "model_id": "bb23ec6424b441239dec191e3bac82d1",
       "version_major": 2,
       "version_minor": 0
      },
      "text/plain": [
       "  0%|          | 0/170498071 [00:00<?, ?it/s]"
      ]
     },
     "metadata": {},
     "output_type": "display_data"
    },
    {
     "name": "stdout",
     "output_type": "stream",
     "text": [
      "Extracting ../../data/cifar-10-python.tar.gz to ../../data/\n"
     ]
    }
   ],
   "source": [
    "train_dataset = torchvision.datasets.CIFAR10(root='../../data/',\n",
    "                                             train=True, \n",
    "                                             transform=transforms.ToTensor(),\n",
    "                                             download=True)"
   ]
  },
  {
   "cell_type": "code",
   "execution_count": 21,
   "id": "8c225e56",
   "metadata": {},
   "outputs": [
    {
     "name": "stdout",
     "output_type": "stream",
     "text": [
      "torch.Size([3, 32, 32])\n",
      "6\n"
     ]
    }
   ],
   "source": [
    "image,label=train_dataset[0]\n",
    "print(image.size())\n",
    "print(label)"
   ]
  },
  {
   "cell_type": "code",
   "execution_count": 27,
   "id": "1e98201b",
   "metadata": {},
   "outputs": [],
   "source": [
    "train_loader= torch.utils.data.DataLoader(dataset=train_dataset,batch_size=64,shuffle=True)\n",
    "\n",
    "data_iter=iter(train_loader)\n",
    "\n",
    "images,labels=data_iter.next()\n",
    "\n",
    "for images,labels in train_loader:\n",
    "    pass"
   ]
  },
  {
   "cell_type": "code",
   "execution_count": 28,
   "id": "9610171d",
   "metadata": {},
   "outputs": [
    {
     "ename": "TypeError",
     "evalue": "'module' object is not callable",
     "output_type": "error",
     "traceback": [
      "\u001b[1;31m---------------------------------------------------------------------------\u001b[0m",
      "\u001b[1;31mTypeError\u001b[0m                                 Traceback (most recent call last)",
      "\u001b[1;32m<ipython-input-28-876d29812d5e>\u001b[0m in \u001b[0;36m<module>\u001b[1;34m()\u001b[0m\n\u001b[0;32m     12\u001b[0m         \u001b[1;32mreturn\u001b[0m \u001b[1;36m0\u001b[0m\u001b[1;33m\u001b[0m\u001b[1;33m\u001b[0m\u001b[0m\n\u001b[0;32m     13\u001b[0m \u001b[0mcustom_dataset\u001b[0m\u001b[1;33m=\u001b[0m\u001b[0mCustomDataset\u001b[0m\u001b[1;33m(\u001b[0m\u001b[1;33m)\u001b[0m\u001b[1;33m\u001b[0m\u001b[1;33m\u001b[0m\u001b[0m\n\u001b[1;32m---> 14\u001b[1;33m \u001b[0mtrain_loader\u001b[0m\u001b[1;33m=\u001b[0m\u001b[0mtorch\u001b[0m\u001b[1;33m.\u001b[0m\u001b[0mutils\u001b[0m\u001b[1;33m.\u001b[0m\u001b[0mdata\u001b[0m\u001b[1;33m.\u001b[0m\u001b[0mdataloader\u001b[0m\u001b[1;33m(\u001b[0m\u001b[0mdataset\u001b[0m\u001b[1;33m=\u001b[0m\u001b[0mcustom_dataset\u001b[0m\u001b[1;33m,\u001b[0m\u001b[0mbatch_size\u001b[0m\u001b[1;33m=\u001b[0m\u001b[1;36m64\u001b[0m\u001b[1;33m,\u001b[0m\u001b[0mshuffle\u001b[0m\u001b[1;33m=\u001b[0m\u001b[1;32mTrue\u001b[0m\u001b[1;33m)\u001b[0m\u001b[1;33m\u001b[0m\u001b[1;33m\u001b[0m\u001b[0m\n\u001b[0m\u001b[0;32m     15\u001b[0m \u001b[1;33m\u001b[0m\u001b[0m\n",
      "\u001b[1;31mTypeError\u001b[0m: 'module' object is not callable"
     ]
    }
   ],
   "source": [
    "class CustomDataset(torch.utils.data.DataLoader):\n",
    "    def __init__(self):\n",
    "        # Initialize file paths or a list of file name \n",
    "        pass\n",
    "    def __getitem__(self,index):\n",
    "        #read one data from file \n",
    "        #preprocess the data\n",
    "        # return a data pair(e.g image and label)\n",
    "        pass\n",
    "    def __len__(self):\n",
    "        #You should change o to the total size of your dataset\n",
    "        return 0\n",
    "custom_dataset=CustomDataset()\n",
    "train_loader=torch.utils.data.dataloader(dataset=custom_dataset,batch_size=64,shuffle=True)\n",
    "\n"
   ]
  },
  {
   "cell_type": "markdown",
   "id": "26540b01",
   "metadata": {},
   "source": [
    "### Pretrained model"
   ]
  },
  {
   "cell_type": "code",
   "execution_count": 31,
   "id": "33df613e",
   "metadata": {},
   "outputs": [
    {
     "name": "stderr",
     "output_type": "stream",
     "text": [
      "Downloading: \"https://download.pytorch.org/models/resnet18-5c106cde.pth\" to C:\\Users\\Lenovo/.cache\\torch\\hub\\checkpoints\\resnet18-5c106cde.pth\n"
     ]
    },
    {
     "data": {
      "application/vnd.jupyter.widget-view+json": {
       "model_id": "8d5a4acbad62489b927cfe8f97a36a90",
       "version_major": 2,
       "version_minor": 0
      },
      "text/plain": [
       "  0%|          | 0.00/44.7M [00:00<?, ?B/s]"
      ]
     },
     "metadata": {},
     "output_type": "display_data"
    },
    {
     "name": "stdout",
     "output_type": "stream",
     "text": [
      "torch.Size([64, 100])\n"
     ]
    }
   ],
   "source": [
    "resnet=torchvision.models.resnet18(pretrained=True)\n",
    "\n",
    "for param in resnet.parameters():\n",
    "    param.requires_grad=False\n",
    "\n",
    "resnet.fc=nn.Linear(resnet.fc.in_features,100) \n",
    "\n",
    "images=torch.randn(64,3,224,224)\n",
    "outputs=resnet(images)\n",
    "print(outputs.size())"
   ]
  },
  {
   "cell_type": "code",
   "execution_count": 32,
   "id": "0f034ce6",
   "metadata": {},
   "outputs": [
    {
     "data": {
      "text/plain": [
       "<All keys matched successfully>"
      ]
     },
     "execution_count": 32,
     "metadata": {},
     "output_type": "execute_result"
    }
   ],
   "source": [
    "# save and load the entire model\n",
    "torch.save(resnet,\"model.ckpt\")\n",
    "model=torch.load(\"model.ckpt\")\n",
    "\n",
    "#save and load only the model parameters\n",
    "torch.save(resnet.state_dict(),\"params.ckpt\")\n",
    "resnet.load_state_dict(torch.load(\"params.ckpt\"))"
   ]
  },
  {
   "cell_type": "markdown",
   "id": "a77819d5",
   "metadata": {},
   "source": [
    "# LINEAR "
   ]
  },
  {
   "cell_type": "code",
   "execution_count": 2,
   "id": "6f14d7c4",
   "metadata": {},
   "outputs": [],
   "source": [
    "    \n",
    "import torch\n",
    "import torch.nn as nn\n",
    "import numpy as np\n",
    "import matplotlib.pyplot as plt\n",
    "%matplotlib inline"
   ]
  },
  {
   "cell_type": "code",
   "execution_count": 3,
   "id": "44b4eeeb",
   "metadata": {},
   "outputs": [],
   "source": [
    "input_size = 1\n",
    "output_size = 1\n",
    "num_epochs = 60\n",
    "learning_rate = 0.001"
   ]
  },
  {
   "cell_type": "code",
   "execution_count": 4,
   "id": "b62dc7a3",
   "metadata": {},
   "outputs": [],
   "source": [
    "x_train = np.array([[3.3], [4.4], [5.5], [6.71], [6.93], [4.168], \n",
    "                    [9.779], [6.182], [7.59], [2.167], [7.042], \n",
    "                    [10.791], [5.313], [7.997], [3.1]], dtype=np.float32)\n",
    "\n",
    "y_train = np.array([[1.7], [2.76], [2.09], [3.19], [1.694], [1.573], \n",
    "                    [3.366], [2.596], [2.53], [1.221], [2.827], \n",
    "                    [3.465], [1.65], [2.904], [1.3]], dtype=np.float32)"
   ]
  },
  {
   "cell_type": "code",
   "execution_count": 5,
   "id": "c298eeaa",
   "metadata": {},
   "outputs": [
    {
     "name": "stdout",
     "output_type": "stream",
     "text": [
      "Epoch [5/60], Loss: 29.8365\n",
      "Epoch [10/60], Loss: 12.1931\n",
      "Epoch [15/60], Loss: 5.0455\n",
      "Epoch [20/60], Loss: 2.1499\n",
      "Epoch [25/60], Loss: 0.9768\n",
      "Epoch [30/60], Loss: 0.5015\n",
      "Epoch [35/60], Loss: 0.3090\n",
      "Epoch [40/60], Loss: 0.2310\n",
      "Epoch [45/60], Loss: 0.1994\n",
      "Epoch [50/60], Loss: 0.1865\n",
      "Epoch [55/60], Loss: 0.1813\n",
      "Epoch [60/60], Loss: 0.1792\n"
     ]
    }
   ],
   "source": [
    "model=nn.Linear(input_size,output_size)\n",
    "criterion=nn.MSELoss()\n",
    "optimizer=torch.optim.SGD(model.parameters(),lr=learning_rate)\n",
    "for epoch in range(num_epochs):\n",
    "    inputs=torch.from_numpy(x_train)\n",
    "    target=torch.from_numpy(y_train)\n",
    "    outputs=model(inputs)\n",
    "    \n",
    "    loss=criterion(outputs,target)\n",
    "    optimizer.zero_grad()\n",
    "    loss.backward()\n",
    "    optimizer.step()\n",
    "    if (epoch+1) % 5 == 0:\n",
    "        print ('Epoch [{}/{}], Loss: {:.4f}'.format(epoch+1, num_epochs, loss.item()))\n",
    "predicted = model(torch.from_numpy(x_train)).detach().numpy()\n",
    "# plt.plot(x_train, y_train, 'ro', label='Original data')\n",
    "# plt.plot(x_train, predicted, label='Fitted line')\n",
    "# plt.legend()\n",
    "# plt.show()"
   ]
  },
  {
   "cell_type": "code",
   "execution_count": 6,
   "id": "0376d38a",
   "metadata": {},
   "outputs": [],
   "source": [
    "torch.save(model.state_dict(),\"model.ckpt\")"
   ]
  },
  {
   "cell_type": "code",
   "execution_count": 7,
   "id": "226afd5a",
   "metadata": {},
   "outputs": [],
   "source": [
    "!mkdir \"pytorch_learn\""
   ]
  },
  {
   "cell_type": "code",
   "execution_count": 9,
   "id": "60581cad",
   "metadata": {},
   "outputs": [
    {
     "name": "stderr",
     "output_type": "stream",
     "text": [
      "'rm' 不是内部或外部命令，也不是可运行的程序\n",
      "或批处理文件。\n"
     ]
    }
   ],
   "source": []
  },
  {
   "cell_type": "code",
   "execution_count": null,
   "id": "54609378",
   "metadata": {},
   "outputs": [],
   "source": []
  }
 ],
 "metadata": {
  "kernelspec": {
   "display_name": "Python [conda env:python36] *",
   "language": "python",
   "name": "conda-env-python36-py"
  },
  "language_info": {
   "codemirror_mode": {
    "name": "ipython",
    "version": 3
   },
   "file_extension": ".py",
   "mimetype": "text/x-python",
   "name": "python",
   "nbconvert_exporter": "python",
   "pygments_lexer": "ipython3",
   "version": "3.6.12"
  }
 },
 "nbformat": 4,
 "nbformat_minor": 5
}
