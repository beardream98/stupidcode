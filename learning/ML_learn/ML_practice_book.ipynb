{
 "cells": [
  {
   "cell_type": "code",
   "execution_count": 43,
   "id": "afd149e2",
   "metadata": {},
   "outputs": [],
   "source": [
    "import pandas as pd"
   ]
  },
  {
   "cell_type": "code",
   "execution_count": 44,
   "id": "f8c491de",
   "metadata": {},
   "outputs": [],
   "source": [
    "import numpy as np"
   ]
  },
  {
   "cell_type": "code",
   "execution_count": 45,
   "id": "e3e94e5d",
   "metadata": {},
   "outputs": [],
   "source": [
    "column_names=[\"Sample code number\",\"Clump Thickness\",\"Uniformity of Cell Size\",\"Uniformity of Cell Shape\",\"Marginal Adhesion\",\"Single Epithlial Cell Size\",\n",
    "             \"Bare Nuclei\",\"Bland Chromatin\",\"Normal Nucleoli\",\"Mitoses\",\"Class\"]"
   ]
  },
  {
   "cell_type": "code",
   "execution_count": 46,
   "id": "19692af0",
   "metadata": {},
   "outputs": [],
   "source": [
    "# download data from internet\n",
    "data=pd.read_csv(\"http://archive.ics.uci.edu/ml/machine-learning-databases/breast-cancer-wisconsin/breast-cancer-wisconsin.data\",names=column_names)"
   ]
  },
  {
   "cell_type": "code",
   "execution_count": 47,
   "id": "6c09680a",
   "metadata": {},
   "outputs": [],
   "source": [
    "# replace nan with ? ,? is a standard representation for nan\n",
    "data=data.replace(to_replace=\"?\",value=np.nan)"
   ]
  },
  {
   "cell_type": "code",
   "execution_count": 48,
   "id": "e444c7dd",
   "metadata": {},
   "outputs": [],
   "source": [
    "data=data.dropna(how='any')"
   ]
  },
  {
   "cell_type": "code",
   "execution_count": 49,
   "id": "37c90156",
   "metadata": {},
   "outputs": [
    {
     "data": {
      "text/plain": [
       "(683, 11)"
      ]
     },
     "execution_count": 49,
     "metadata": {},
     "output_type": "execute_result"
    }
   ],
   "source": [
    "data.shape"
   ]
  },
  {
   "cell_type": "code",
   "execution_count": 50,
   "id": "4002c37b",
   "metadata": {},
   "outputs": [],
   "source": [
    "from sklearn import datasets\n",
    "from sklearn.model_selection import train_test_split"
   ]
  },
  {
   "cell_type": "code",
   "execution_count": 68,
   "id": "00c20b01",
   "metadata": {},
   "outputs": [],
   "source": [
    "#读取数据  train_test_split 可以接受dataframe 格式 \n",
    "X_train,X_test,y_train,y_test=train_test_split(data[column_names[1:10]],data[column_names[10]],test_size=0.25,random_state=33)"
   ]
  },
  {
   "cell_type": "code",
   "execution_count": 69,
   "id": "b3275c3e",
   "metadata": {},
   "outputs": [
    {
     "data": {
      "text/plain": [
       "2    344\n",
       "4    168\n",
       "Name: Class, dtype: int64"
      ]
     },
     "execution_count": 69,
     "metadata": {},
     "output_type": "execute_result"
    }
   ],
   "source": [
    "y_train.value_counts() #标签统计"
   ]
  },
  {
   "cell_type": "code",
   "execution_count": 71,
   "id": "eb681d5b",
   "metadata": {},
   "outputs": [],
   "source": [
    "from sklearn.preprocessing import StandardScaler\n",
    "from sklearn.linear_model import LogisticRegression\n",
    "from sklearn.linear_model import SGDClassifier\n",
    "\n",
    "\n",
    "\n",
    "lr=LogisticRegression()\n",
    "sgdc=SGDClassifier()\n",
    "\n",
    "lr.fit(X_train,y_train)\n",
    "\n",
    "lr_y_predict=lr.predict(X_test)\n",
    "\n",
    "sgdc.fit(X_train,y_train)\n",
    "\n",
    "sgdc_y_predict=sgdc.predict(X_test)\n",
    "\n"
   ]
  },
  {
   "cell_type": "code",
   "execution_count": 72,
   "id": "41b6a165",
   "metadata": {},
   "outputs": [
    {
     "data": {
      "text/plain": [
       "0.9824561403508771"
      ]
     },
     "execution_count": 72,
     "metadata": {},
     "output_type": "execute_result"
    }
   ],
   "source": [
    "lr.score(X_test,y_test)"
   ]
  },
  {
   "cell_type": "code",
   "execution_count": 73,
   "id": "261a1bf5",
   "metadata": {},
   "outputs": [
    {
     "data": {
      "text/plain": [
       "0.9707602339181286"
      ]
     },
     "execution_count": 73,
     "metadata": {},
     "output_type": "execute_result"
    }
   ],
   "source": [
    "sgdc.score(X_test,y_test)"
   ]
  },
  {
   "cell_type": "code",
   "execution_count": 74,
   "id": "bb3579e3",
   "metadata": {},
   "outputs": [
    {
     "name": "stdout",
     "output_type": "stream",
     "text": [
      "              precision    recall  f1-score   support\n",
      "\n",
      "      Benign       0.98      0.99      0.99       100\n",
      "    Maligant       0.99      0.97      0.98        71\n",
      "\n",
      "    accuracy                           0.98       171\n",
      "   macro avg       0.98      0.98      0.98       171\n",
      "weighted avg       0.98      0.98      0.98       171\n",
      "\n"
     ]
    }
   ],
   "source": [
    "from sklearn.metrics import classification_report\n",
    "print(classification_report(y_test,lr_y_predict,target_names=[\"Benign\",\"Maligant\"]))"
   ]
  },
  {
   "cell_type": "code",
   "execution_count": 75,
   "id": "b5a714ec",
   "metadata": {},
   "outputs": [
    {
     "name": "stdout",
     "output_type": "stream",
     "text": [
      "              precision    recall  f1-score   support\n",
      "\n",
      "      Benign       0.96      0.99      0.98       100\n",
      "    Maligant       0.99      0.94      0.96        71\n",
      "\n",
      "    accuracy                           0.97       171\n",
      "   macro avg       0.97      0.97      0.97       171\n",
      "weighted avg       0.97      0.97      0.97       171\n",
      "\n"
     ]
    }
   ],
   "source": [
    "print(classification_report(y_test,sgdc_y_predict,target_names=[\"Benign\",\"Maligant\"]))"
   ]
  },
  {
   "cell_type": "code",
   "execution_count": 112,
   "id": "ff2b4139",
   "metadata": {},
   "outputs": [
    {
     "name": "stdout",
     "output_type": "stream",
     "text": [
      "[[ 0.  3. 11. 15.]\n",
      " [ 0.  7. 14. 16.]\n",
      " [ 0.  6. 15. 11.]\n",
      " [ 0.  3. 13.  7.]]\n"
     ]
    }
   ],
   "source": [
    "from sklearn.datasets import load_digits\n",
    "from sklearn.preprocessing import StandardScaler\n",
    "digits=load_digits()\n",
    "X_train,X_test,y_train,y_test=train_test_split(digits.data,digits.target,test_size=0.25,random_state=33)\n",
    "print(X_test[1:5,1:5])\n",
    "ss=StandardScaler()\n",
    "\n"
   ]
  },
  {
   "cell_type": "code",
   "execution_count": 120,
   "id": "c4b66ec8",
   "metadata": {},
   "outputs": [
    {
     "name": "stdout",
     "output_type": "stream",
     "text": [
      "              precision    recall  f1-score   support\n",
      "\n",
      "           0       0.97      1.00      0.99        35\n",
      "           1       0.93      0.98      0.95        54\n",
      "           2       0.98      1.00      0.99        44\n",
      "           3       0.92      0.98      0.95        46\n",
      "           4       0.94      0.94      0.94        35\n",
      "           5       0.96      0.92      0.94        48\n",
      "           6       0.96      0.98      0.97        51\n",
      "           7       1.00      1.00      1.00        35\n",
      "           8       0.96      0.83      0.89        58\n",
      "           9       0.91      0.93      0.92        44\n",
      "\n",
      "    accuracy                           0.95       450\n",
      "   macro avg       0.95      0.96      0.95       450\n",
      "weighted avg       0.95      0.95      0.95       450\n",
      "\n"
     ]
    },
    {
     "name": "stderr",
     "output_type": "stream",
     "text": [
      "D:\\anaconda\\envs\\python36\\lib\\site-packages\\sklearn\\svm\\_base.py:986: ConvergenceWarning: Liblinear failed to converge, increase the number of iterations.\n",
      "  \"the number of iterations.\", ConvergenceWarning)\n"
     ]
    }
   ],
   "source": [
    "from sklearn.svm import LinearSVC \n",
    "lsvc=LinearSVC(dual=True)\n",
    "lsvc.fit(X_train,y_train)\n",
    "y_predict=lsvc.predict(X_test)\n",
    "print(classification_report(y_test,y_predict,target_names=digits.target_names.astype(str)))"
   ]
  },
  {
   "cell_type": "code",
   "execution_count": 103,
   "id": "e0975b08",
   "metadata": {},
   "outputs": [
    {
     "data": {
      "text/plain": [
       "0.9511111111111111"
      ]
     },
     "execution_count": 103,
     "metadata": {},
     "output_type": "execute_result"
    }
   ],
   "source": []
  },
  {
   "cell_type": "code",
   "execution_count": 124,
   "id": "9dcf1479",
   "metadata": {},
   "outputs": [
    {
     "name": "stdout",
     "output_type": "stream",
     "text": [
      "18846\n",
      "From: Mamatha Devineni Ratnam <mr47+@andrew.cmu.edu>\n",
      "Subject: Pens fans reactions\n",
      "Organization: Post Office, Carnegie Mellon, Pittsburgh, PA\n",
      "Lines: 12\n",
      "NNTP-Posting-Host: po4.andrew.cmu.edu\n",
      "\n",
      "\n",
      "\n",
      "I am sure some bashers of Pens fans are pretty confused about the lack\n",
      "of any kind of posts about the recent Pens massacre of the Devils. Actually,\n",
      "I am  bit puzzled too and a bit relieved. However, I am going to put an end\n",
      "to non-PIttsburghers' relief with a bit of praise for the Pens. Man, they\n",
      "are killing those Devils worse than I thought. Jagr just showed you why\n",
      "he is much better than his regular season stats. He is also a lot\n",
      "fo fun to watch in the playoffs. Bowman should let JAgr have a lot of\n",
      "fun in the next couple of games since the Pens are going to beat the pulp out of Jersey anyway. I was very disappointed not to see the Islanders lose the final\n",
      "regular season game.          PENS RULE!!!\n",
      "\n",
      "\n"
     ]
    }
   ],
   "source": [
    "from sklearn.datasets import fetch_20newsgroups\n",
    "news=fetch_20newsgroups(subset=\"all\")\n",
    "print(len(news.data))\n",
    "print(news.data[0])"
   ]
  },
  {
   "cell_type": "code",
   "execution_count": 129,
   "id": "68822464",
   "metadata": {},
   "outputs": [
    {
     "name": "stdout",
     "output_type": "stream",
     "text": [
      "                          precision    recall  f1-score   support\n",
      "\n",
      "             alt.atheism       0.86      0.86      0.86       201\n",
      "           comp.graphics       0.59      0.86      0.70       250\n",
      " comp.os.ms-windows.misc       0.89      0.10      0.17       248\n",
      "comp.sys.ibm.pc.hardware       0.60      0.88      0.72       240\n",
      "   comp.sys.mac.hardware       0.93      0.78      0.85       242\n",
      "          comp.windows.x       0.82      0.84      0.83       263\n",
      "            misc.forsale       0.91      0.70      0.79       257\n",
      "               rec.autos       0.89      0.89      0.89       238\n",
      "         rec.motorcycles       0.98      0.92      0.95       276\n",
      "      rec.sport.baseball       0.98      0.91      0.95       251\n",
      "        rec.sport.hockey       0.93      0.99      0.96       233\n",
      "               sci.crypt       0.86      0.98      0.91       238\n",
      "         sci.electronics       0.85      0.88      0.86       249\n",
      "                 sci.med       0.92      0.94      0.93       245\n",
      "               sci.space       0.89      0.96      0.92       221\n",
      "  soc.religion.christian       0.78      0.96      0.86       232\n",
      "      talk.politics.guns       0.88      0.96      0.92       251\n",
      "   talk.politics.mideast       0.90      0.98      0.94       231\n",
      "      talk.politics.misc       0.79      0.89      0.84       188\n",
      "      talk.religion.misc       0.93      0.44      0.60       158\n",
      "\n",
      "                accuracy                           0.84      4712\n",
      "               macro avg       0.86      0.84      0.82      4712\n",
      "            weighted avg       0.86      0.84      0.82      4712\n",
      "\n"
     ]
    }
   ],
   "source": [
    "X_train,X_test,y_train,y_test=train_test_split(news.data,news.target,test_size=0.25,random_state=33)\n",
    "from sklearn.feature_extraction.text import CountVectorizer\n",
    "vec=CountVectorizer()\n",
    "X_train=vec.fit_transform(X_train)\n",
    "X_test=vec.transform(X_test)\n",
    "\n",
    "from sklearn.naive_bayes import MultinomialNB\n",
    "mnb=MultinomialNB()\n",
    "mnb.fit(X_train,y_train)\n",
    "y_mnb_predict=mnb.predict(X_test)\n",
    "\n",
    "print(classification_report(y_test,y_mnb_predict,target_names=news.target_names))"
   ]
  },
  {
   "cell_type": "code",
   "execution_count": null,
   "id": "29dc5fcd",
   "metadata": {},
   "outputs": [],
   "source": []
  },
  {
   "cell_type": "code",
   "execution_count": 130,
   "id": "3834b8bd",
   "metadata": {},
   "outputs": [
    {
     "name": "stdout",
     "output_type": "stream",
     "text": [
      ".. _iris_dataset:\n",
      "\n",
      "Iris plants dataset\n",
      "--------------------\n",
      "\n",
      "**Data Set Characteristics:**\n",
      "\n",
      "    :Number of Instances: 150 (50 in each of three classes)\n",
      "    :Number of Attributes: 4 numeric, predictive attributes and the class\n",
      "    :Attribute Information:\n",
      "        - sepal length in cm\n",
      "        - sepal width in cm\n",
      "        - petal length in cm\n",
      "        - petal width in cm\n",
      "        - class:\n",
      "                - Iris-Setosa\n",
      "                - Iris-Versicolour\n",
      "                - Iris-Virginica\n",
      "                \n",
      "    :Summary Statistics:\n",
      "\n",
      "    ============== ==== ==== ======= ===== ====================\n",
      "                    Min  Max   Mean    SD   Class Correlation\n",
      "    ============== ==== ==== ======= ===== ====================\n",
      "    sepal length:   4.3  7.9   5.84   0.83    0.7826\n",
      "    sepal width:    2.0  4.4   3.05   0.43   -0.4194\n",
      "    petal length:   1.0  6.9   3.76   1.76    0.9490  (high!)\n",
      "    petal width:    0.1  2.5   1.20   0.76    0.9565  (high!)\n",
      "    ============== ==== ==== ======= ===== ====================\n",
      "\n",
      "    :Missing Attribute Values: None\n",
      "    :Class Distribution: 33.3% for each of 3 classes.\n",
      "    :Creator: R.A. Fisher\n",
      "    :Donor: Michael Marshall (MARSHALL%PLU@io.arc.nasa.gov)\n",
      "    :Date: July, 1988\n",
      "\n",
      "The famous Iris database, first used by Sir R.A. Fisher. The dataset is taken\n",
      "from Fisher's paper. Note that it's the same as in R, but not as in the UCI\n",
      "Machine Learning Repository, which has two wrong data points.\n",
      "\n",
      "This is perhaps the best known database to be found in the\n",
      "pattern recognition literature.  Fisher's paper is a classic in the field and\n",
      "is referenced frequently to this day.  (See Duda & Hart, for example.)  The\n",
      "data set contains 3 classes of 50 instances each, where each class refers to a\n",
      "type of iris plant.  One class is linearly separable from the other 2; the\n",
      "latter are NOT linearly separable from each other.\n",
      "\n",
      ".. topic:: References\n",
      "\n",
      "   - Fisher, R.A. \"The use of multiple measurements in taxonomic problems\"\n",
      "     Annual Eugenics, 7, Part II, 179-188 (1936); also in \"Contributions to\n",
      "     Mathematical Statistics\" (John Wiley, NY, 1950).\n",
      "   - Duda, R.O., & Hart, P.E. (1973) Pattern Classification and Scene Analysis.\n",
      "     (Q327.D83) John Wiley & Sons.  ISBN 0-471-22361-1.  See page 218.\n",
      "   - Dasarathy, B.V. (1980) \"Nosing Around the Neighborhood: A New System\n",
      "     Structure and Classification Rule for Recognition in Partially Exposed\n",
      "     Environments\".  IEEE Transactions on Pattern Analysis and Machine\n",
      "     Intelligence, Vol. PAMI-2, No. 1, 67-71.\n",
      "   - Gates, G.W. (1972) \"The Reduced Nearest Neighbor Rule\".  IEEE Transactions\n",
      "     on Information Theory, May 1972, 431-433.\n",
      "   - See also: 1988 MLC Proceedings, 54-64.  Cheeseman et al\"s AUTOCLASS II\n",
      "     conceptual clustering system finds 3 classes in the data.\n",
      "   - Many, many more ...\n"
     ]
    }
   ],
   "source": [
    "from sklearn.datasets import load_iris\n",
    "iris=load_iris()\n",
    "print(iris.DESCR)"
   ]
  },
  {
   "cell_type": "code",
   "execution_count": 131,
   "id": "4c2e009f",
   "metadata": {},
   "outputs": [
    {
     "name": "stdout",
     "output_type": "stream",
     "text": [
      "              precision    recall  f1-score   support\n",
      "\n",
      "      setosa       1.00      1.00      1.00         8\n",
      "  versicolor       0.73      1.00      0.85        11\n",
      "   virginica       1.00      0.79      0.88        19\n",
      "\n",
      "    accuracy                           0.89        38\n",
      "   macro avg       0.91      0.93      0.91        38\n",
      "weighted avg       0.92      0.89      0.90        38\n",
      "\n"
     ]
    }
   ],
   "source": [
    "X_train,X_test,y_train,y_test=train_test_split(iris.data,iris.target,test_size=0.25,random_state=33)\n",
    "from sklearn.neighbors import KNeighborsClassifier\n",
    "\n",
    "ss_iris=StandardScaler()\n",
    "\n",
    "X_train=ss_iris.fit_transform(X_train)\n",
    "X_test=ss_iris.transform(X_test)\n",
    "\n",
    "knn=KNeighborsClassifier()\n",
    "knn.fit(X_train,y_train)\n",
    "\n",
    "y_knn_pred=knn.predict(X_test)\n",
    "\n",
    "print(classification_report(y_test,y_knn_pred,target_names=iris.target_names))"
   ]
  },
  {
   "cell_type": "code",
   "execution_count": 1,
   "id": "25362751",
   "metadata": {},
   "outputs": [],
   "source": [
    "#决策树"
   ]
  },
  {
   "cell_type": "code",
   "execution_count": 24,
   "id": "c3b3263a",
   "metadata": {},
   "outputs": [],
   "source": [
    "import pandas as pd\n",
    "titanic=pd.read_csv(\"https://biostat.app.vumc.org/wiki/pub/Main/DataSets/titanic.txt\")"
   ]
  },
  {
   "cell_type": "code",
   "execution_count": 25,
   "id": "bd9e1f15",
   "metadata": {},
   "outputs": [
    {
     "name": "stdout",
     "output_type": "stream",
     "text": [
      "         row.names     survived         age\n",
      "count  1313.000000  1313.000000  633.000000\n",
      "mean    657.000000     0.341965   31.194181\n",
      "std     379.174762     0.474549   14.747525\n",
      "min       1.000000     0.000000    0.166700\n",
      "25%     329.000000     0.000000   21.000000\n",
      "50%     657.000000     0.000000   30.000000\n",
      "75%     985.000000     1.000000   41.000000\n",
      "max    1313.000000     1.000000   71.000000\n",
      "<class 'pandas.core.frame.DataFrame'>\n",
      "RangeIndex: 1313 entries, 0 to 1312\n",
      "Data columns (total 11 columns):\n",
      " #   Column     Non-Null Count  Dtype  \n",
      "---  ------     --------------  -----  \n",
      " 0   row.names  1313 non-null   int64  \n",
      " 1   pclass     1313 non-null   object \n",
      " 2   survived   1313 non-null   int64  \n",
      " 3   name       1313 non-null   object \n",
      " 4   age        633 non-null    float64\n",
      " 5   embarked   821 non-null    object \n",
      " 6   home.dest  754 non-null    object \n",
      " 7   room       77 non-null     object \n",
      " 8   ticket     69 non-null     object \n",
      " 9   boat       347 non-null    object \n",
      " 10  sex        1313 non-null   object \n",
      "dtypes: float64(1), int64(2), object(8)\n",
      "memory usage: 113.0+ KB\n",
      "None\n"
     ]
    }
   ],
   "source": [
    "print(titanic.describe())\n",
    "print(titanic.info()) #数据缺失情况"
   ]
  },
  {
   "cell_type": "code",
   "execution_count": 27,
   "id": "ad1c35f6",
   "metadata": {},
   "outputs": [],
   "source": [
    "X=titanic[[\"pclass\",\"age\",\"sex\"]]\n",
    "y=titanic[\"survived\"]"
   ]
  },
  {
   "cell_type": "code",
   "execution_count": 28,
   "id": "fd61d730",
   "metadata": {},
   "outputs": [
    {
     "name": "stderr",
     "output_type": "stream",
     "text": [
      "D:\\anaconda\\envs\\python36\\lib\\site-packages\\pandas\\core\\series.py:4536: SettingWithCopyWarning: \n",
      "A value is trying to be set on a copy of a slice from a DataFrame\n",
      "\n",
      "See the caveats in the documentation: https://pandas.pydata.org/pandas-docs/stable/user_guide/indexing.html#returning-a-view-versus-a-copy\n",
      "  downcast=downcast,\n"
     ]
    }
   ],
   "source": [
    "age_mean=X.age.mean()  #数据处理\n",
    "X[\"age\"].fillna(age_mean,inplace=True)\n"
   ]
  },
  {
   "cell_type": "code",
   "execution_count": 29,
   "id": "74014ecc",
   "metadata": {},
   "outputs": [
    {
     "name": "stderr",
     "output_type": "stream",
     "text": [
      "D:\\anaconda\\envs\\python36\\lib\\site-packages\\pandas\\core\\frame.py:1490: FutureWarning: Using short name for 'orient' is deprecated. Only the options: ('dict', list, 'series', 'split', 'records', 'index') will be used in a future version. Use one of the above to silence this warning.\n",
      "  FutureWarning,\n"
     ]
    }
   ],
   "source": [
    "from sklearn.model_selection import train_test_split\n",
    "X_train,X_test,y_train,y_test=train_test_split(X,y,test_size=0.25,random_state=33)\n",
    "from sklearn.feature_extraction import DictVectorizer\n",
    "vec=DictVectorizer(sparse=False)\n",
    "\n",
    "X_train=vec.fit_transform(X_train.to_dict(orient=\"record\"))\n",
    "X_test=vec.transform(X_test.to_dict(orient=\"record\"))\n"
   ]
  },
  {
   "cell_type": "code",
   "execution_count": 30,
   "id": "39c51343",
   "metadata": {},
   "outputs": [
    {
     "name": "stdout",
     "output_type": "stream",
     "text": [
      "[17:47:03] WARNING: ..\\src\\learner.cc:1061: Starting in XGBoost 1.3.0, the default evaluation metric used with the objective 'binary:logistic' was changed from 'error' to 'logloss'. Explicitly set eval_metric if you'd like to restore the old behavior.\n"
     ]
    },
    {
     "name": "stderr",
     "output_type": "stream",
     "text": [
      "D:\\anaconda\\envs\\python36\\lib\\site-packages\\xgboost\\sklearn.py:888: UserWarning: The use of label encoder in XGBClassifier is deprecated and will be removed in a future release. To remove this warning, do the following: 1) Pass option use_label_encoder=False when constructing XGBClassifier object; and 2) Encode your labels (y) as integers starting with 0, i.e. 0, 1, 2, ..., [num_class - 1].\n",
      "  warnings.warn(label_encoder_deprecation_msg, UserWarning)\n"
     ]
    },
    {
     "data": {
      "text/plain": [
       "0.7750759878419453"
      ]
     },
     "execution_count": 30,
     "metadata": {},
     "output_type": "execute_result"
    }
   ],
   "source": [
    "from xgboost import XGBClassifier\n",
    "xgbc=XGBClassifier()\n",
    "xgbc.fit(X_train,y_train)\n",
    "xgbc.score(X_test,y_test)"
   ]
  },
  {
   "cell_type": "code",
   "execution_count": 54,
   "id": "e6493b2d",
   "metadata": {},
   "outputs": [
    {
     "name": "stdout",
     "output_type": "stream",
     "text": [
      "0.817629179331307\n"
     ]
    }
   ],
   "source": [
    "from sklearn.tree import DecisionTreeClassifier\n",
    "from sklearn.metrics import classification_report\n",
    "dtc=DecisionTreeClassifier(criterion=\"entropy\")\n",
    "\n",
    "dtc.fit(X_train,y_train)\n",
    "print(dtc.score(X_test,y_test))"
   ]
  },
  {
   "cell_type": "code",
   "execution_count": 55,
   "id": "062928cb",
   "metadata": {},
   "outputs": [
    {
     "data": {
      "text/plain": [
       "0.8206686930091185"
      ]
     },
     "execution_count": 55,
     "metadata": {},
     "output_type": "execute_result"
    }
   ],
   "source": [
    "from sklearn import feature_selection\n",
    "\n",
    "fs=feature_selection.SelectPercentile(feature_selection.chi2,percentile=20)\n",
    "X_train_fs=fs.fit_transform(X_train,y_train)\n",
    "dtc.fit(X_train_fs,y_train)\n",
    "X_test_fs=fs.transform(X_test)\n",
    "dtc.score(X_test_fs,y_test)"
   ]
  },
  {
   "cell_type": "code",
   "execution_count": 63,
   "id": "f4e15c4e",
   "metadata": {},
   "outputs": [
    {
     "name": "stdout",
     "output_type": "stream",
     "text": [
      "[0.85064229 0.85673884 0.87502849 0.88621154 0.86687558 0.87194655\n",
      " 0.86991091 0.86788563 0.86992645 0.8709365  0.86991609 0.86280949\n",
      " 0.87094686 0.86484513 0.86688076 0.86483995 0.86483995 0.86587071\n",
      " 0.86383508 0.86179944 0.86179426 0.86078939 0.86788045 0.86891122\n",
      " 0.86789081 0.86890604 0.86688076 0.86584999 0.86890086 0.86790117\n",
      " 0.86890604 0.86892158 0.86993681 0.87095204 0.86280949 0.86892158\n",
      " 0.8668704  0.87093132 0.86789599 0.87196208 0.86992645 0.86483995\n",
      " 0.86587589 0.86281985 0.86485031 0.86790117 0.85873822 0.86281467\n",
      " 0.86586553 0.85977934]\n",
      "7\n"
     ]
    }
   ],
   "source": [
    "#交叉验证\n",
    "import numpy as np\n",
    "from sklearn.model_selection import cross_val_score\n",
    "precentiles=range(1,100,2)\n",
    "results=[]\n",
    "\n",
    "for i in precentiles:\n",
    "    fs=feature_selection.SelectPercentile(feature_selection.chi2,percentile=i)\n",
    "    X_train_fs=fs.fit_transform(X_train,y_train)\n",
    "    scores=cross_val_score(dtc,X_train_fs,y_train,cv=5)\n",
    "    results=np.append(results,scores.mean())\n",
    "\n",
    "print(results)\n",
    "\n",
    "opt=np.where(results==results.max())[0]\n",
    "print(precentiles[3])"
   ]
  },
  {
   "cell_type": "code",
   "execution_count": null,
   "id": "d1780e37",
   "metadata": {},
   "outputs": [],
   "source": []
  },
  {
   "cell_type": "code",
   "execution_count": 1,
   "id": "b0354785",
   "metadata": {},
   "outputs": [],
   "source": [
    "#回归模型 boston"
   ]
  },
  {
   "cell_type": "code",
   "execution_count": 2,
   "id": "a3d3184d",
   "metadata": {},
   "outputs": [
    {
     "name": "stdout",
     "output_type": "stream",
     "text": [
      ".. _boston_dataset:\n",
      "\n",
      "Boston house prices dataset\n",
      "---------------------------\n",
      "\n",
      "**Data Set Characteristics:**  \n",
      "\n",
      "    :Number of Instances: 506 \n",
      "\n",
      "    :Number of Attributes: 13 numeric/categorical predictive. Median Value (attribute 14) is usually the target.\n",
      "\n",
      "    :Attribute Information (in order):\n",
      "        - CRIM     per capita crime rate by town\n",
      "        - ZN       proportion of residential land zoned for lots over 25,000 sq.ft.\n",
      "        - INDUS    proportion of non-retail business acres per town\n",
      "        - CHAS     Charles River dummy variable (= 1 if tract bounds river; 0 otherwise)\n",
      "        - NOX      nitric oxides concentration (parts per 10 million)\n",
      "        - RM       average number of rooms per dwelling\n",
      "        - AGE      proportion of owner-occupied units built prior to 1940\n",
      "        - DIS      weighted distances to five Boston employment centres\n",
      "        - RAD      index of accessibility to radial highways\n",
      "        - TAX      full-value property-tax rate per $10,000\n",
      "        - PTRATIO  pupil-teacher ratio by town\n",
      "        - B        1000(Bk - 0.63)^2 where Bk is the proportion of blacks by town\n",
      "        - LSTAT    % lower status of the population\n",
      "        - MEDV     Median value of owner-occupied homes in $1000's\n",
      "\n",
      "    :Missing Attribute Values: None\n",
      "\n",
      "    :Creator: Harrison, D. and Rubinfeld, D.L.\n",
      "\n",
      "This is a copy of UCI ML housing dataset.\n",
      "https://archive.ics.uci.edu/ml/machine-learning-databases/housing/\n",
      "\n",
      "\n",
      "This dataset was taken from the StatLib library which is maintained at Carnegie Mellon University.\n",
      "\n",
      "The Boston house-price data of Harrison, D. and Rubinfeld, D.L. 'Hedonic\n",
      "prices and the demand for clean air', J. Environ. Economics & Management,\n",
      "vol.5, 81-102, 1978.   Used in Belsley, Kuh & Welsch, 'Regression diagnostics\n",
      "...', Wiley, 1980.   N.B. Various transformations are used in the table on\n",
      "pages 244-261 of the latter.\n",
      "\n",
      "The Boston house-price data has been used in many machine learning papers that address regression\n",
      "problems.   \n",
      "     \n",
      ".. topic:: References\n",
      "\n",
      "   - Belsley, Kuh & Welsch, 'Regression diagnostics: Identifying Influential Data and Sources of Collinearity', Wiley, 1980. 244-261.\n",
      "   - Quinlan,R. (1993). Combining Instance-Based and Model-Based Learning. In Proceedings on the Tenth International Conference of Machine Learning, 236-243, University of Massachusetts, Amherst. Morgan Kaufmann.\n",
      "\n"
     ]
    }
   ],
   "source": [
    "from sklearn.datasets import load_boston\n",
    "boston=load_boston()\n",
    "print(boston.DESCR)"
   ]
  },
  {
   "cell_type": "code",
   "execution_count": 19,
   "id": "f63022a5",
   "metadata": {},
   "outputs": [
    {
     "name": "stdout",
     "output_type": "stream",
     "text": [
      "50.0\n",
      "5.0\n"
     ]
    }
   ],
   "source": [
    "from sklearn.model_selection import train_test_split\n",
    "import numpy as np\n",
    "X=boston.data\n",
    "y=boston.target\n",
    "\n",
    "#检查结果上下限\n",
    "X_train,X_test,y_train,y_test=train_test_split(X,y,random_state=33,test_size=0.25)\n",
    "print(np.max(boston.target))\n",
    "print(np.min(boston.target))"
   ]
  },
  {
   "cell_type": "code",
   "execution_count": 20,
   "id": "21ceafa4",
   "metadata": {},
   "outputs": [
    {
     "name": "stdout",
     "output_type": "stream",
     "text": [
      "(379,)\n"
     ]
    },
    {
     "data": {
      "text/plain": [
       "(127, 1)"
      ]
     },
     "execution_count": 20,
     "metadata": {},
     "output_type": "execute_result"
    }
   ],
   "source": [
    "#标准化\n",
    "from sklearn.preprocessing import StandardScaler\n",
    "ss_X=StandardScaler()\n",
    "ss_y=StandardScaler()\n",
    "\n",
    "\n",
    "X_train=ss_X.fit_transform(X_train)\n",
    "X_test=ss_X.transform(X_test)\n",
    "\n",
    "y_train=y_train.reshape(-1,1)\n",
    "y_train=ss_y.fit_transform(y_train)\n",
    "y_test=y_test.reshape(-1,1)\n",
    "y_test=ss_y.transform(y_test)\n",
    "\n",
    "# from sklearn import preprocessing\n",
    "# y_train=preprocessing.scale(y_train)\n",
    "# y_test=preprocessing.scale(y_test)\n",
    "#feature 一般指列  scale axis=0 对feature进行标准化\n",
    "#using lr and sgd\n",
    "from sklearn.linear_model import LinearRegression\n",
    "lr=LinearRegression()\n",
    "lr.fit(X_train,y_train)\n",
    "lr_y_predict=lr.predict(X_test)\n",
    "lr_y_predict.shape\n"
   ]
  },
  {
   "cell_type": "code",
   "execution_count": 24,
   "id": "eda55ab4",
   "metadata": {},
   "outputs": [
    {
     "name": "stdout",
     "output_type": "stream",
     "text": [
      "0.675795501452948\n",
      "25.139236520353457\n",
      "3.5325325437053983\n"
     ]
    }
   ],
   "source": [
    "from sklearn.metrics import r2_score,mean_squared_error,mean_absolute_error\n",
    "print(r2_score(y_test,lr_y_predict))#r2 —square 衡量模型回归结果可被真实值验证的百分比\n",
    "print(mean_squared_error(ss_y.inverse_transform(y_test),ss_y.inverse_transform(lr_y_predict))) #均方误差\n",
    "print(mean_absolute_error(ss_y.inverse_transform(y_test),ss_y.inverse_transform(lr_y_predict)))#平均绝对误差"
   ]
  },
  {
   "cell_type": "code",
   "execution_count": 28,
   "id": "041b18c4",
   "metadata": {},
   "outputs": [
    {
     "name": "stdout",
     "output_type": "stream",
     "text": [
      "0.6506595464215357\n",
      "0.4036506510255131\n",
      "0.7559887416340945\n"
     ]
    },
    {
     "name": "stderr",
     "output_type": "stream",
     "text": [
      "D:\\anaconda\\envs\\python36\\lib\\site-packages\\sklearn\\utils\\validation.py:63: DataConversionWarning: A column-vector y was passed when a 1d array was expected. Please change the shape of y to (n_samples, ), for example using ravel().\n",
      "  return f(*args, **kwargs)\n",
      "D:\\anaconda\\envs\\python36\\lib\\site-packages\\sklearn\\utils\\validation.py:63: DataConversionWarning: A column-vector y was passed when a 1d array was expected. Please change the shape of y to (n_samples, ), for example using ravel().\n",
      "  return f(*args, **kwargs)\n",
      "D:\\anaconda\\envs\\python36\\lib\\site-packages\\sklearn\\utils\\validation.py:63: DataConversionWarning: A column-vector y was passed when a 1d array was expected. Please change the shape of y to (n_samples, ), for example using ravel().\n",
      "  return f(*args, **kwargs)\n"
     ]
    }
   ],
   "source": [
    "#svr 线性回归模型 \n",
    "from sklearn.svm import  SVR\n",
    "linear_svr=SVR(kernel=\"linear\")\n",
    "linear_svr.fit(X_train,y_train)\n",
    "print(linear_svr.score(X_test,y_test))\n",
    "\n",
    "from sklearn.svm import  SVR\n",
    "poly_svr=SVR(kernel=\"poly\")\n",
    "poly_svr.fit(X_train,y_train)\n",
    "print(poly_svr.score(X_test,y_test))\n",
    "\n",
    "from sklearn.svm import  SVR\n",
    "rbf_svr=SVR(kernel=\"rbf\")\n",
    "rbf_svr.fit(X_train,y_train)\n",
    "print(rbf_svr.score(X_test,y_test))"
   ]
  },
  {
   "cell_type": "code",
   "execution_count": null,
   "id": "739d17f8",
   "metadata": {},
   "outputs": [],
   "source": []
  },
  {
   "cell_type": "code",
   "execution_count": 30,
   "id": "06f03d34",
   "metadata": {},
   "outputs": [
    {
     "name": "stdout",
     "output_type": "stream",
     "text": [
      "0.6907212176346006\n",
      "23.981877165354337\n",
      "2.9650393700787396\n",
      "0.7201094821421603\n",
      "21.703073090490353\n",
      "2.801125502210876\n"
     ]
    }
   ],
   "source": [
    "#k近邻分类\n",
    "from sklearn.neighbors import KNeighborsRegressor\n",
    "\n",
    "uni_knr=KNeighborsRegressor(weights=\"uniform\")\n",
    "uni_knr.fit(X_train,y_train)\n",
    "uni_knr_y_predict=uni_knr.predict(X_test)\n",
    "\n",
    "dis_knr=KNeighborsRegressor(weights=\"distance\")\n",
    "dis_knr.fit(X_train,y_train)\n",
    "dis_knr_y_predict=dis_knr.predict(X_test)\n",
    "\n",
    "print(r2_score(y_test,uni_knr_y_predict))#模型默认误差\n",
    "print(mean_squared_error(ss_y.inverse_transform(y_test),ss_y.inverse_transform(uni_knr_y_predict))) #均方误差\n",
    "print(mean_absolute_error(ss_y.inverse_transform(y_test),ss_y.inverse_transform(uni_knr_y_predict)))#绝对误差\n",
    "\n",
    "print(r2_score(y_test,dis_knr_y_predict))#模型默认误差\n",
    "print(mean_squared_error(ss_y.inverse_transform(y_test),ss_y.inverse_transform(dis_knr_y_predict))) #均方误差\n",
    "print(mean_absolute_error(ss_y.inverse_transform(y_test),ss_y.inverse_transform(dis_knr_y_predict)))#绝对误差"
   ]
  },
  {
   "cell_type": "code",
   "execution_count": null,
   "id": "c1d365cc",
   "metadata": {},
   "outputs": [],
   "source": []
  },
  {
   "cell_type": "code",
   "execution_count": 1,
   "id": "35f42a71",
   "metadata": {},
   "outputs": [],
   "source": [
    "#聚类计算 "
   ]
  },
  {
   "cell_type": "code",
   "execution_count": 2,
   "id": "7e0d2d20",
   "metadata": {},
   "outputs": [],
   "source": [
    "import numpy as np\n",
    "import matplotlib.pyplot as plt\n",
    "import pandas as pd"
   ]
  },
  {
   "cell_type": "code",
   "execution_count": 6,
   "id": "ad3e9331",
   "metadata": {},
   "outputs": [
    {
     "name": "stdout",
     "output_type": "stream",
     "text": [
      "0.6630577949326525\n"
     ]
    }
   ],
   "source": [
    "digits_train=pd.read_csv(\"https://archive.ics.uci.edu/ml/machine-learning-databases/optdigits/optdigits.tra\",header=None)\n",
    "digits_test=pd.read_csv(\"https://archive.ics.uci.edu/ml/machine-learning-databases/optdigits/optdigits.tes\",header=None)\n",
    "\n",
    "X_train=digits_train[np.arange(64)]\n",
    "y_train=digits_train[64]\n",
    "\n",
    "X_test=digits_test[np.arange(64)]\n",
    "y_test=digits_test[64]\n",
    "\n",
    "from sklearn.cluster import KMeans\n",
    "\n",
    "kmeans=KMeans(n_clusters=10)\n",
    "kmeans.fit(X_train)\n",
    "y_pred=kmeans.predict(X_test)\n",
    "\n",
    "from sklearn import metrics\n",
    "print(metrics.adjusted_rand_score(y_test,y_pred)) #带有正确类别信息时\n",
    "\n"
   ]
  },
  {
   "cell_type": "code",
   "execution_count": 14,
   "id": "2d404b1e",
   "metadata": {},
   "outputs": [
    {
     "data": {
      "image/png": "[encoded data removed]",
      "text/plain": [
       "<Figure size 432x288 with 1 Axes>"
      ]
     },
     "metadata": {
      "needs_background": "light"
     },
     "output_type": "display_data"
    }
   ],
   "source": [
    "#pca主成分分析\n",
    "from sklearn.decomposition import PCA\n",
    "estimator=PCA(n_components=2)\n",
    "X_pca=estimator.fit_transform(X_train)\n",
    "\n",
    "from matplotlib import pyplot as plt \n",
    "def plot_pca_scatter():\n",
    "    colors=[\"black\",\"blue\",\"purple\",\"yellow\",\"white\",\"red\",\"lime\",\"cyan\",\"orange\",\"gray\"]\n",
    "    for i in range(len(colors)):\n",
    "        px=X_pca[:,0][y_train.to_numpy()==i]\n",
    "        py=X_pca[:,1][y_train.to_numpy()==i]\n",
    "        plt.scatter(px,py,c=colors[i])\n",
    "    \n",
    "    plt.legend(np.arange(0,10).astype(str))\n",
    "    plt.xlabel(\"First Principal Component\")\n",
    "    plt.ylabel(\"Second Principal Component\")\n",
    "    plt.show()\n",
    "\n",
    "plot_pca_scatter()"
   ]
  },
  {
   "cell_type": "code",
   "execution_count": 13,
   "id": "80466bbd",
   "metadata": {},
   "outputs": [],
   "source": [
    "import pandas as pd\n",
    "X_train=vec.fit_transform(X_train.to_dict(orient=\"record\"))\n",
    "X_test=vec.fit_transform(X_test.to_dict(orient=\"record\"))"
   ]
  },
  {
   "cell_type": "code",
   "execution_count": 20,
   "id": "af63ff05",
   "metadata": {},
   "outputs": [
    {
     "name": "stdout",
     "output_type": "stream",
     "text": [
      "            city  temperature\n",
      "0          Dubai         33.0\n",
      "1         London         12.0\n",
      "2  San Fransisco         18.0\n"
     ]
    }
   ],
   "source": [
    "#特征提取\n",
    "measurements=[{'city':\"Dubai\",\"temperature\":33.},{'city':\"London\",\"temperature\":12.},{'city':\"San Fransisco\",\"temperature\":18.}]\n",
    "\n",
    "from sklearn.feature_extraction import DictVectorizer\n",
    "vec=DictVectorizer()\n",
    "\n",
    "print(vec.fit_transform(measurements))\n",
    "print(vec.get_feature_names())\n",
    "#使用pandas 进行特征转换方法：\n",
    "# X_train.to_dict(orient=\"record\")"
   ]
  },
  {
   "cell_type": "code",
   "execution_count": 23,
   "id": "94a9e8ba",
   "metadata": {},
   "outputs": [
    {
     "name": "stdout",
     "output_type": "stream",
     "text": [
      "0.8397707979626485\n"
     ]
    }
   ],
   "source": [
    "from sklearn.datasets import fetch_20newsgroups\n",
    "news=fetch_20newsgroups(subset=\"all\")\n",
    "\n",
    "from sklearn.model_selection import train_test_split\n",
    "X_train,X_test,y_train,y_test=train_test_split(news.data,news.target,test_size=0.25,random_state=33)\n",
    "\n",
    "#Countvectorize 不考虑词在全部文档的词频\n",
    "from sklearn.feature_extraction.text import  CountVectorizer\n",
    "count_vec=CountVectorizer()\n",
    "X_count_train=count_vec.fit_transform(X_train)\n",
    "X_count_test=count_vec.transform(X_test)\n",
    "\n",
    "from sklearn.naive_bayes import MultinomialNB\n",
    "\n",
    "mnb_count=MultinomialNB()\n",
    "\n",
    "mnb_count.fit(X_count_train,y_train)\n",
    "\n",
    "print(mnb_count.score(X_count_test,y_test))"
   ]
  },
  {
   "cell_type": "code",
   "execution_count": 25,
   "id": "75c44bb2",
   "metadata": {},
   "outputs": [
    {
     "name": "stdout",
     "output_type": "stream",
     "text": [
      "0.8463497453310697\n"
     ]
    }
   ],
   "source": [
    "#TfidfVectorize 考虑词在全部文档的词频\n",
    "from sklearn.feature_extraction.text import TfidfVectorizer\n",
    "\n",
    "tfidf_vec=TfidfVectorizer()\n",
    "\n",
    "X_tfidf_train=tfidf_vec.fit_transform(X_train)\n",
    "X_tfidf_test=tfidf_vec.transform(X_test)\n",
    "\n",
    "mnb_tfidf=MultinomialNB()\n",
    "\n",
    "mnb_tfidf.fit(X_tfidf_train,y_train)\n",
    "print(mnb_tfidf.score(X_tfidf_test,y_test))"
   ]
  },
  {
   "cell_type": "code",
   "execution_count": 26,
   "id": "e9231bde",
   "metadata": {},
   "outputs": [
    {
     "data": {
      "text/plain": [
       "0.8637521222410866"
      ]
     },
     "execution_count": 26,
     "metadata": {},
     "output_type": "execute_result"
    }
   ],
   "source": [
    "#使用停用词处理\n",
    "count_filter_vec=CountVectorizer(analyzer=\"word\",stop_words=\"english\")\n",
    "X_count_filter_train=count_filter_vec.fit_transform(X_train)\n",
    "X_count_filter_test=count_filter_vec.transform(X_test)\n",
    "\n",
    "mnb_count_filter=MultinomialNB()\n",
    "mnb_count_filter.fit(X_count_filter_train,y_train)\n",
    "mnb_count_filter.score(X_count_filter_test,y_test)"
   ]
  },
  {
   "cell_type": "code",
   "execution_count": 64,
   "id": "75ec6515",
   "metadata": {},
   "outputs": [
    {
     "data": {
      "text/plain": [
       "0.5050474537914386"
      ]
     },
     "execution_count": 64,
     "metadata": {},
     "output_type": "execute_result"
    }
   ],
   "source": [
    "#l1和l2正则化\n",
    "from sklearn.linear_model import Lasso\n",
    "lasso1=Lasso()\n",
    "lasso1.fit(X_train,y_train)\n",
    "lasso1.score(X_test,y_test)\n",
    "\n",
    "from sklearn.linear_model import Ridge\n",
    "Ridge1=Ridge()\n",
    "Ridge1.fit(X_train,y_train)\n",
    "Ridge1.score(X_test,y_test)"
   ]
  },
  {
   "cell_type": "code",
   "execution_count": null,
   "id": "b4268266",
   "metadata": {},
   "outputs": [],
   "source": [
    "#超参数搜索"
   ]
  },
  {
   "cell_type": "code",
   "execution_count": 80,
   "id": "c843cf9f",
   "metadata": {},
   "outputs": [
    {
     "name": "stdout",
     "output_type": "stream",
     "text": [
      "Fitting 3 folds for each of 12 candidates, totalling 36 fits\n",
      "Wall time: 46.8 s\n",
      "0.8226666666666667\n"
     ]
    }
   ],
   "source": [
    "#网格搜索 单进程\n",
    "from sklearn.datasets import fetch_20newsgroups\n",
    "news=fetch_20newsgroups(subset=\"all\")\n",
    "import numpy as np\n",
    "from sklearn.model_selection import train_test_split\n",
    "X_train,X_test,y_train,y_test=train_test_split(news.data[:3000],news.target[:3000],test_size=0.25,random_state=33)\n",
    "\n",
    "from sklearn.svm import SVC\n",
    "from sklearn.feature_extraction.text import TfidfVectorizer\n",
    "from sklearn.pipeline import Pipeline\n",
    " \n",
    "clf=Pipeline([(\"vect\",TfidfVectorizer(stop_words=\"english\",analyzer=\"word\")),(\"svc\",SVC())]) #管道整合特征提取和模型\n",
    "\n",
    "parameters={\"svc__gamma\":np.logspace(-2,1,4),\"svc__C\":np.logspace(-1,1,3)} #参数下划线为两格\n",
    "\n",
    "from sklearn.model_selection import  GridSearchCV\n",
    "\n",
    "gs=GridSearchCV(clf,parameters,verbose=2,refit=True,cv=3,n_jobs=-1) \n",
    "#网格搜索 refit=true 会用最好的参数进行训练得到一个真正的模型 可以使用predict\n",
    "#n_jobs =-1 代表使用全部cpu\n",
    "%time _=gs.fit(X_train,y_train) #%time是ipython的magic命令\n",
    "gs.best_params_,gs.best_score_\n",
    "\n",
    "print(gs.score(X_test,y_test))"
   ]
  },
  {
   "cell_type": "code",
   "execution_count": 1,
   "id": "7a2bb197",
   "metadata": {},
   "outputs": [],
   "source": [
    "#自然语言处理"
   ]
  },
  {
   "cell_type": "code",
   "execution_count": 11,
   "id": "4242b8e8",
   "metadata": {},
   "outputs": [],
   "source": [
    "sent1=\"The cat is walking in the bedroom.\"\n",
    "sent2=\"A dog was running across the kitchen.\"\n",
    "import nltk\n",
    "#词汇分割\n",
    "tokens_1=nltk.word_tokenize(sent1)\n",
    "tokens_2=nltk.word_tokenize(sent2)\n",
    "\n",
    "#输出词根 就是词原型\n",
    "stemmer=nltk.stem.PorterStemmer()\n",
    "stem_1=[stemmer.stem(t) for t in tokens_1]\n",
    "stem_2=[stemmer.stem(t) for t in tokens_2]\n",
    "#词性标注\n",
    "pos_tag_1=nltk.tag.pos_tag(tokens_1)\n",
    "pos_tag_2=nltk.tag.pos_tag(tokens_2)\n"
   ]
  },
  {
   "cell_type": "code",
   "execution_count": 12,
   "id": "2e5c1000",
   "metadata": {},
   "outputs": [],
   "source": [
    "from sklearn.datasets import fetch_20newsgroups\n",
    "news=fetch_20newsgroups(subset=\"all\")\n",
    "X,y=news.data,news.target\n",
    "\n",
    "from bs4 import BeautifulSoup\n",
    "import nltk,re"
   ]
  },
  {
   "cell_type": "code",
   "execution_count": 19,
   "id": "91a9a7f0",
   "metadata": {},
   "outputs": [
    {
     "name": "stderr",
     "output_type": "stream",
     "text": [
      "D:\\anaconda\\envs\\python36\\lib\\site-packages\\ipykernel_launcher.py:30: DeprecationWarning: Call to deprecated `init_sims` (Gensim 4.0.0 implemented internal optimizations that make calls to init_sims() unnecessary. init_sims() is now obsoleted and will be completely removed in future versions. See https://github.com/RaRe-Technologies/gensim/wiki/Migrating-from-Gensim-3.x-to-4).\n"
     ]
    }
   ],
   "source": [
    "#将句子拆成单个token\n",
    "def news_to_sentence(news):\n",
    "    news_text=BeautifulSoup(news).get_text()\n",
    "    tokenizer=nltk.data.load(\"tokenizers/punkt/english.pickle\")\n",
    "    raw_sentences=tokenizer.tokenize(news_text)\n",
    "    sentences=[]\n",
    "    for sent in raw_sentences:\n",
    "        sentences.append(re.sub(\"[^a-zA-Z]\",\" \",sent.lower().strip()).split())\n",
    "    return sentences\n",
    "\n",
    "sentences=[]\n",
    "\n",
    "for x in X:\n",
    "    sentences+=news_to_sentence(x)\n",
    "from gensim.models import word2vec\n",
    "#词向量维度\n",
    "num_features=300\n",
    "#被考虑词汇频度\n",
    "min_word_count=20\n",
    "#线程\n",
    "num_workers=2\n",
    "#上下文\n",
    "context=5\n",
    "downsampling=0.001\n",
    "\n",
    "from gensim.models import word2vec\n",
    "\n",
    "model=word2vec.Word2Vec(sentences,workers=num_workers,vector_size=num_features,min_count=min_word_count,window=context,sample=downsampling)\n",
    "\n",
    "model.init_sims(replace=True)\n",
    "\n"
   ]
  },
  {
   "cell_type": "code",
   "execution_count": 20,
   "id": "645b97f0",
   "metadata": {},
   "outputs": [
    {
     "data": {
      "text/plain": [
       "[('afternoon', 0.8316015005111694),\n",
       " ('weekend', 0.7808550000190735),\n",
       " ('evening', 0.7444403171539307),\n",
       " ('saturday', 0.7276070713996887),\n",
       " ('friday', 0.7031944394111633),\n",
       " ('night', 0.6788550615310669),\n",
       " ('sunday', 0.6784330010414124),\n",
       " ('thursday', 0.6499049663543701),\n",
       " ('summer', 0.6426658630371094),\n",
       " ('week', 0.6353022456169128)]"
      ]
     },
     "execution_count": 20,
     "metadata": {},
     "output_type": "execute_result"
    }
   ],
   "source": [
    "model.wv.most_similar(\"morning\")"
   ]
  },
  {
   "cell_type": "code",
   "execution_count": 4,
   "id": "cde40af9",
   "metadata": {},
   "outputs": [],
   "source": [
    "#tensorflow \n",
    "import tensorflow as tf\n",
    "import numpy as np "
   ]
  },
  {
   "cell_type": "code",
   "execution_count": 10,
   "id": "610b8659",
   "metadata": {},
   "outputs": [
    {
     "name": "stdout",
     "output_type": "stream",
     "text": [
      "[[14.]]\n"
     ]
    }
   ],
   "source": [
    "matrix1=tf.constant([[3.,3.]])\n",
    "matrix2=tf.constant([[2.],[2.]])\n",
    "product=tf.matmul(matrix1,matrix2)\n",
    "linear=tf.add(product,tf.constant(2.0))\n",
    "\n",
    "with tf.Session() as sess:\n",
    "    result=sess.run(linear)\n",
    "    print(result)"
   ]
  },
  {
   "cell_type": "code",
   "execution_count": 41,
   "id": "ba5c6887",
   "metadata": {},
   "outputs": [
    {
     "name": "stdout",
     "output_type": "stream",
     "text": [
      "(524, 3) (524,) (175, 3) (175,)\n",
      "(3, 524) (524,) (3, 175) (175,)\n"
     ]
    }
   ],
   "source": [
    "import pandas as pd\n",
    "column_names=[\"Clump Thickness\",\"Uniformity of Cell Size\",\"Single Epithlial Cell Size\",\"Class\"]\n",
    "data=pd.read_csv(\"http://archive.ics.uci.edu/ml/machine-learning-databases/breast-cancer-wisconsin/breast-cancer-wisconsin.data\",names=column_names)\n",
    "data=data.replace(to_replace=\"?\",value=np.nan)\n",
    "data=data.dropna(how='any')\n",
    "from sklearn.model_selection import  train_test_split\n",
    "data_train,data_test=np.float32(data[column_names[0:3]]),np.float32(data[column_names[3]])\n",
    "X_train,X_test,y_train,y_test=train_test_split(data_train,data_test,test_size=0.25,random_state=33)\n",
    "X_train,y_train,X_test,y_test=X_train.T,y_train.T,X_test.T,y_test.T"
   ]
  },
  {
   "cell_type": "code",
   "execution_count": 44,
   "id": "1efc4003",
   "metadata": {},
   "outputs": [
    {
     "name": "stdout",
     "output_type": "stream",
     "text": [
      "WARNING:tensorflow:From D:\\anaconda\\envs\\python36\\lib\\site-packages\\tensorflow\\python\\util\\tf_should_use.py:107: initialize_all_variables (from tensorflow.python.ops.variables) is deprecated and will be removed after 2017-03-02.\n",
      "Instructions for updating:\n",
      "Use `tf.global_variables_initializer` instead.\n",
      "0 [[-0.27241695  0.8444808   0.14055192]] [0.02793792]\n",
      "200 [[0.27825028 0.09541001 0.10186518]] [1.178979]\n",
      "400 [[0.22493154 0.10328814 0.06503814]] [1.4879218]\n",
      "600 [[0.20840879 0.10573053 0.0536253 ]] [1.5836551]\n",
      "800 [[0.20328888 0.10648733 0.05008878]] [1.6133201]\n"
     ]
    }
   ],
   "source": [
    "y_train,y_test=np.reshape(y_train,(1,-1)),np.reshape(y_test,(1,-1))\n",
    "\n",
    "b=tf.Variable(tf.zeros([1]))\n",
    "W=tf.Variable(tf.random_uniform([1,3],-1.0,1.0))\n",
    "\n",
    "y=tf.matmul(W,X_train)+b\n",
    "\n",
    "loss=tf.reduce_mean(tf.square(y-y_train))\n",
    "\n",
    "optimizer=tf.train.GradientDescentOptimizer(0.01)\n",
    "\n",
    "train=optimizer.minimize(loss)\n",
    "\n",
    "init=tf.initialize_all_variables()\n",
    "sess=tf.Session()\n",
    "sess.run(init)\n",
    "\n",
    "for step in range(0,1000):\n",
    "    sess.run(train)\n",
    "    if step%200==0:\n",
    "        print(step,sess.run(W),sess.run(b))"
   ]
  },
  {
   "cell_type": "code",
   "execution_count": null,
   "id": "fed357d3",
   "metadata": {},
   "outputs": [],
   "source": []
  }
 ],
 "metadata": {
  "kernelspec": {
   "display_name": "Python 3",
   "language": "python",
   "name": "python3"
  },
  "language_info": {
   "codemirror_mode": {
    "name": "ipython",
    "version": 3
   },
   "file_extension": ".py",
   "mimetype": "text/x-python",
   "name": "python",
   "nbconvert_exporter": "python",
   "pygments_lexer": "ipython3",
   "version": "3.6.12"
  }
 },
 "nbformat": 4,
 "nbformat_minor": 5
}
