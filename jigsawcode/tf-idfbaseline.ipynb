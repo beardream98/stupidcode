{
 "cells": [
  {
   "cell_type": "markdown",
   "id": "18af6e83",
   "metadata": {
    "papermill": {
     "duration": 0.022176,
     "end_time": "2022-01-29T07:47:40.420898",
     "exception": false,
     "start_time": "2022-01-29T07:47:40.398722",
     "status": "completed"
    },
    "tags": []
   },
   "source": [
    "# libraries"
   ]
  },
  {
   "cell_type": "code",
   "execution_count": 1,
   "id": "5d1c9ad0",
   "metadata": {
    "execution": {
     "iopub.execute_input": "2022-01-29T07:47:40.463593Z",
     "iopub.status.busy": "2022-01-29T07:47:40.461734Z",
     "iopub.status.idle": "2022-01-29T07:47:42.573935Z",
     "shell.execute_reply": "2022-01-29T07:47:42.573222Z",
     "shell.execute_reply.started": "2022-01-29T06:53:19.336605Z"
    },
    "papermill": {
     "duration": 2.134921,
     "end_time": "2022-01-29T07:47:42.574102",
     "exception": false,
     "start_time": "2022-01-29T07:47:40.439181",
     "status": "completed"
    },
    "tags": []
   },
   "outputs": [
    {
     "data": {
      "text/html": [
       "<style type='text/css'>\n",
       ".datatable table.frame { margin-bottom: 0; }\n",
       ".datatable table.frame thead { border-bottom: none; }\n",
       ".datatable table.frame tr.coltypes td {  color: #FFFFFF;  line-height: 6px;  padding: 0 0.5em;}\n",
       ".datatable .bool    { background: #DDDD99; }\n",
       ".datatable .object  { background: #565656; }\n",
       ".datatable .int     { background: #5D9E5D; }\n",
       ".datatable .float   { background: #4040CC; }\n",
       ".datatable .str     { background: #CC4040; }\n",
       ".datatable .time    { background: #40CC40; }\n",
       ".datatable .row_index {  background: var(--jp-border-color3);  border-right: 1px solid var(--jp-border-color0);  color: var(--jp-ui-font-color3);  font-size: 9px;}\n",
       ".datatable .frame tbody td { text-align: left; }\n",
       ".datatable .frame tr.coltypes .row_index {  background: var(--jp-border-color0);}\n",
       ".datatable th:nth-child(2) { padding-left: 12px; }\n",
       ".datatable .hellipsis {  color: var(--jp-cell-editor-border-color);}\n",
       ".datatable .vellipsis {  background: var(--jp-layout-color0);  color: var(--jp-cell-editor-border-color);}\n",
       ".datatable .na {  color: var(--jp-cell-editor-border-color);  font-size: 80%;}\n",
       ".datatable .sp {  opacity: 0.25;}\n",
       ".datatable .footer { font-size: 9px; }\n",
       ".datatable .frame_dimensions {  background: var(--jp-border-color3);  border-top: 1px solid var(--jp-border-color0);  color: var(--jp-ui-font-color3);  display: inline-block;  opacity: 0.6;  padding: 1px 10px 1px 5px;}\n",
       "</style>\n"
      ],
      "text/plain": [
       "<IPython.core.display.HTML object>"
      ]
     },
     "metadata": {},
     "output_type": "display_data"
    }
   ],
   "source": [
    "import pandas as pd\n",
    "import numpy as np\n",
    "import os\n",
    "import matplotlib.pyplot as plt\n",
    "import seaborn as sns\n",
    "from collections import defaultdict\n",
    "import time\n",
    "import scipy.optimize as optimize\n",
    "import lightgbm as lgb\n",
    "from bs4 import BeautifulSoup\n",
    "\n",
    "\n",
    "from sklearn.model_selection import train_test_split\n",
    "from sklearn.linear_model import Ridge, LinearRegression\n",
    "from sklearn.feature_extraction.text import TfidfVectorizer\n",
    "from sklearn.model_selection import StratifiedKFold\n",
    "from sklearn.metrics import mean_squared_error\n",
    "from scipy.stats import rankdata\n",
    "\n",
    "from collections import defaultdict\n",
    "from sklearn.pipeline import Pipeline, FeatureUnion\n",
    "from sklearn.base import TransformerMixin, BaseEstimator\n",
    "from tqdm import tqdm\n",
    "\n",
    "import time\n",
    "import re \n",
    "import scipy\n",
    "from scipy import sparse\n",
    "import gc \n",
    "from IPython.display import display, HTML\n",
    "from pprint import pprint\n",
    "import warnings\n",
    "warnings.filterwarnings(\"ignore\")"
   ]
  },
  {
   "cell_type": "code",
   "execution_count": 2,
   "id": "e3e6fd90",
   "metadata": {
    "execution": {
     "iopub.execute_input": "2022-01-29T07:47:42.615831Z",
     "iopub.status.busy": "2022-01-29T07:47:42.614872Z",
     "iopub.status.idle": "2022-01-29T07:47:42.616956Z",
     "shell.execute_reply": "2022-01-29T07:47:42.617451Z",
     "shell.execute_reply.started": "2022-01-29T06:53:21.919655Z"
    },
    "papermill": {
     "duration": 0.024892,
     "end_time": "2022-01-29T07:47:42.617616",
     "exception": false,
     "start_time": "2022-01-29T07:47:42.592724",
     "status": "completed"
    },
    "tags": []
   },
   "outputs": [],
   "source": [
    "\n",
    "Fold_type=2\n",
    "is_test=False\n",
    "translate_aug=False\n",
    "fast_vec=True\n",
    "#记得改kdict 里面的tranlate的值\n"
   ]
  },
  {
   "cell_type": "code",
   "execution_count": 3,
   "id": "af090b9f",
   "metadata": {
    "execution": {
     "iopub.execute_input": "2022-01-29T07:47:42.657556Z",
     "iopub.status.busy": "2022-01-29T07:47:42.656645Z",
     "iopub.status.idle": "2022-01-29T07:47:42.659654Z",
     "shell.execute_reply": "2022-01-29T07:47:42.660161Z",
     "shell.execute_reply.started": "2022-01-29T06:53:21.927202Z"
    },
    "papermill": {
     "duration": 0.024432,
     "end_time": "2022-01-29T07:47:42.660335",
     "exception": false,
     "start_time": "2022-01-29T07:47:42.635903",
     "status": "completed"
    },
    "tags": []
   },
   "outputs": [],
   "source": [
    "fold_num_k=5\n",
    "fold_num_s=1\n",
    "\n",
    "fast_factor=1"
   ]
  },
  {
   "cell_type": "code",
   "execution_count": 4,
   "id": "259bf48b",
   "metadata": {
    "execution": {
     "iopub.execute_input": "2022-01-29T07:47:42.699867Z",
     "iopub.status.busy": "2022-01-29T07:47:42.698942Z",
     "iopub.status.idle": "2022-01-29T07:47:42.703908Z",
     "shell.execute_reply": "2022-01-29T07:47:42.704446Z",
     "shell.execute_reply.started": "2022-01-29T06:53:21.941821Z"
    },
    "papermill": {
     "duration": 0.026268,
     "end_time": "2022-01-29T07:47:42.704612",
     "exception": false,
     "start_time": "2022-01-29T07:47:42.678344",
     "status": "completed"
    },
    "tags": []
   },
   "outputs": [
    {
     "data": {
      "text/plain": [
       "'\\n如果需要增加数据集 检查 data_names, 是否clean 检查clean data，create fold 处，name2dict处\\n'"
      ]
     },
     "execution_count": 4,
     "metadata": {},
     "output_type": "execute_result"
    }
   ],
   "source": [
    "\"\"\"\n",
    "如果需要增加数据集 检查 data_names, 是否clean 检查clean data，create fold 处，name2dict处\n",
    "\"\"\""
   ]
  },
  {
   "cell_type": "code",
   "execution_count": 5,
   "id": "e430e67f",
   "metadata": {
    "execution": {
     "iopub.execute_input": "2022-01-29T07:47:42.744778Z",
     "iopub.status.busy": "2022-01-29T07:47:42.743849Z",
     "iopub.status.idle": "2022-01-29T07:47:42.749228Z",
     "shell.execute_reply": "2022-01-29T07:47:42.749720Z",
     "shell.execute_reply.started": "2022-01-29T06:53:21.958322Z"
    },
    "papermill": {
     "duration": 0.027165,
     "end_time": "2022-01-29T07:47:42.749877",
     "exception": false,
     "start_time": "2022-01-29T07:47:42.722712",
     "status": "completed"
    },
    "tags": []
   },
   "outputs": [],
   "source": [
    "# data_names=[\"jc_\",\"juc_\",\"rud_\",\"jcc_\"]\n",
    "# model_choice=[\"ridge\",\"gbm\"]\n",
    "# factor=[0.5,0.5]\n",
    "\n",
    "\"\"\"\n",
    "data_names 使用的数据集 可用的包括 (数据名称后面的_不能少):\n",
    "jc_ :代表 第一届数据 \n",
    "rud_ rud 数据\n",
    "jcc1_ 对jc使用第一种clean方式\n",
    "jcc2_ 对jc使用第二种clean方式\n",
    "\n",
    "juc_ 第二届比赛数据\n",
    "\n",
    "\n",
    "\"\"\"\n",
    "\n",
    "# data_names=[\"jc_\",\"rud_\",\"jcc1_\",\"jcc2_\",\"jc_fr_\",\"jc_de_\",\"jc_es_\"]\n",
    "# data_names=[\"jc_\",\"rud_\"]\n",
    "data_names=[\"jc_\",\"rud_\",\"jcc1_\",\"jcc2_\"]\n",
    "\n",
    "jc_num,jc_rate,rud_rate=3,4,1\n",
    "factor_data=[jc_rate/jc_num,rud_rate,jc_rate/jc_num,jc_rate/jc_num,jc_rate/jc_num,jc_rate/jc_num,jc_rate/jc_num]\n",
    "\n",
    "#这里是用于翻译增强 可以不用管\n",
    "translate_data=[\"jc_s_\"]\n",
    "translate_language=[\"fr_text\",\"de_text\",\"es_text\"]\n",
    "clean_data={\"jcc1_s_\":1,\"jcc2_s_\":2}\n",
    "\n",
    "#这里是选择模型 可选参数 包括 ridge 和gbm factor用于指定相应权值 ，gbm重复试验的结果看效果不好，选择放弃\n",
    "model_choice=[\"ridge\"]\n",
    "factor=[1]"
   ]
  },
  {
   "cell_type": "code",
   "execution_count": 6,
   "id": "addb2757",
   "metadata": {
    "execution": {
     "iopub.execute_input": "2022-01-29T07:47:42.789857Z",
     "iopub.status.busy": "2022-01-29T07:47:42.788944Z",
     "iopub.status.idle": "2022-01-29T07:47:42.793160Z",
     "shell.execute_reply": "2022-01-29T07:47:42.793690Z",
     "shell.execute_reply.started": "2022-01-29T06:53:21.971030Z"
    },
    "papermill": {
     "duration": 0.02569,
     "end_time": "2022-01-29T07:47:42.793846",
     "exception": false,
     "start_time": "2022-01-29T07:47:42.768156",
     "status": "completed"
    },
    "tags": []
   },
   "outputs": [],
   "source": [
    "system_path=r\"../input\"\n",
    "model_all=[\"ridge\",\"gbm\"]\n",
    "for model_name in model_all:\n",
    "    if model_name not in os.listdir():\n",
    "        os.makedirs(f\"{model_name}\")\n",
    "out_path=r\"./\""
   ]
  },
  {
   "cell_type": "markdown",
   "id": "7e3bb158",
   "metadata": {
    "papermill": {
     "duration": 0.018273,
     "end_time": "2022-01-29T07:47:42.831206",
     "exception": false,
     "start_time": "2022-01-29T07:47:42.812933",
     "status": "completed"
    },
    "tags": []
   },
   "source": [
    "# Data"
   ]
  },
  {
   "cell_type": "code",
   "execution_count": 7,
   "id": "e5cae96e",
   "metadata": {
    "execution": {
     "iopub.execute_input": "2022-01-29T07:47:42.871812Z",
     "iopub.status.busy": "2022-01-29T07:47:42.871171Z",
     "iopub.status.idle": "2022-01-29T07:47:42.875420Z",
     "shell.execute_reply": "2022-01-29T07:47:42.875859Z",
     "shell.execute_reply.started": "2022-01-29T06:54:42.274634Z"
    },
    "papermill": {
     "duration": 0.026418,
     "end_time": "2022-01-29T07:47:42.876014",
     "exception": false,
     "start_time": "2022-01-29T07:47:42.849596",
     "status": "completed"
    },
    "tags": []
   },
   "outputs": [],
   "source": [
    "\n",
    "\n",
    "#第一届 jigsaw比赛 数据（challenge） Toxic Comment Classification Challenge\n",
    "\n",
    "jc_path=os.path.join(system_path,\"jigsaw-toxic-comment-classification-challenge\")\n",
    "jc_trans_path=os.path.join(system_path,\"jc-trans\")\n",
    "#ruddit 数据\\\n",
    "run_path=os.path.join(system_path,\"ruddit-jigsaw-dataset/Dataset\")\n",
    "#第二届 jigsaw比赛 对少数人群不歧视\n",
    "juc_path=os.path.join(system_path,\"jigsaw-unintended-bias-in-toxicity-classification\")\n",
    "\n",
    "#本次比赛数据 作为val\n",
    "jts_path=os.path.join(system_path,\"jigsaw-toxic-severity-rating\")\n",
    "\n",
    "# #数据抽样存储路径\n",
    "gbm_save_path=os.path.join(out_path,\"gbm\")\n",
    "ridge_save_path=os.path.join(out_path,\"ridge\")"
   ]
  },
  {
   "cell_type": "code",
   "execution_count": 8,
   "id": "d37fa988",
   "metadata": {
    "execution": {
     "iopub.execute_input": "2022-01-29T07:47:42.918977Z",
     "iopub.status.busy": "2022-01-29T07:47:42.918424Z",
     "iopub.status.idle": "2022-01-29T07:47:43.539081Z",
     "shell.execute_reply": "2022-01-29T07:47:43.538440Z",
     "shell.execute_reply.started": "2022-01-29T06:54:46.314154Z"
    },
    "papermill": {
     "duration": 0.644969,
     "end_time": "2022-01-29T07:47:43.539237",
     "exception": false,
     "start_time": "2022-01-29T07:47:42.894268",
     "status": "completed"
    },
    "tags": []
   },
   "outputs": [],
   "source": [
    "#验证集和测试集\n",
    "df_val = pd.read_csv(os.path.join(jts_path,\"validation_data.csv\"))\n",
    "\n",
    "df_test = pd.read_csv(os.path.join(jts_path,\"comments_to_score.csv\"))"
   ]
  },
  {
   "cell_type": "markdown",
   "id": "f7f040c8",
   "metadata": {
    "papermill": {
     "duration": 0.018153,
     "end_time": "2022-01-29T07:47:43.576562",
     "exception": false,
     "start_time": "2022-01-29T07:47:43.558409",
     "status": "completed"
    },
    "tags": []
   },
   "source": [
    "导入数据"
   ]
  },
  {
   "cell_type": "code",
   "execution_count": 9,
   "id": "12c951ad",
   "metadata": {
    "execution": {
     "iopub.execute_input": "2022-01-29T07:47:43.620837Z",
     "iopub.status.busy": "2022-01-29T07:47:43.620225Z",
     "iopub.status.idle": "2022-01-29T07:47:47.373803Z",
     "shell.execute_reply": "2022-01-29T07:47:47.373154Z",
     "shell.execute_reply.started": "2022-01-29T06:54:48.017862Z"
    },
    "papermill": {
     "duration": 3.778815,
     "end_time": "2022-01-29T07:47:47.373943",
     "exception": false,
     "start_time": "2022-01-29T07:47:43.595128",
     "status": "completed"
    },
    "tags": []
   },
   "outputs": [
    {
     "name": "stdout",
     "output_type": "stream",
     "text": [
      "comments with toxic behaviour:22468\n"
     ]
    }
   ],
   "source": [
    "#第一届比赛数据 以0/1为分值 \n",
    "features = [\"toxic\",\"severe_toxic\",\"obscene\",\"threat\",\"insult\",\"identity_hate\"]\n",
    "\n",
    "jc_train_df = pd.read_csv(os.path.join(jc_path,\"train.csv\"))\n",
    "jc_test_df = pd.read_csv(os.path.join(jc_path,\"test.csv\"))\n",
    "temp_df = pd.read_csv(os.path.join(jc_path,\"test_labels.csv\"))\n",
    "\n",
    "jc_test_df = jc_test_df.merge ( temp_df, on =\"id\")\n",
    "#drop test data not used for scoring\n",
    "jc_test_df = jc_test_df.query (\"toxic != -1\")\n",
    "jc_test_df=jc_test_df[jc_test_df[features].sum(axis=1)>0]\n",
    "\n",
    "jc_df = jc_train_df.append ( jc_test_df ) \n",
    "\n",
    "# jc_df=jc_train_df\n",
    "\n",
    "# 将代表有毒行为的筛选出来\n",
    "jc_df[\"toxic_subtype_sum\"]=jc_df[features].sum(axis=1)\n",
    "jc_df[\"toxic_behaviour\"]=jc_df[\"toxic_subtype_sum\"].map(lambda x: x > 0)\n",
    "\n",
    "tot_toxic_behaviour = jc_df[\"toxic_behaviour\"].sum()\n",
    "print(f'comments with toxic behaviour:{tot_toxic_behaviour}')\n",
    "jc_df=jc_df.reset_index(drop=True)"
   ]
  },
  {
   "cell_type": "code",
   "execution_count": 10,
   "id": "dbcf238d",
   "metadata": {
    "execution": {
     "iopub.execute_input": "2022-01-29T07:47:47.418512Z",
     "iopub.status.busy": "2022-01-29T07:47:47.417878Z",
     "iopub.status.idle": "2022-01-29T07:47:47.476034Z",
     "shell.execute_reply": "2022-01-29T07:47:47.475523Z",
     "shell.execute_reply.started": "2022-01-29T06:54:52.029865Z"
    },
    "papermill": {
     "duration": 0.083415,
     "end_time": "2022-01-29T07:47:47.476166",
     "exception": false,
     "start_time": "2022-01-29T07:47:47.392751",
     "status": "completed"
    },
    "tags": []
   },
   "outputs": [
    {
     "data": {
      "text/plain": [
       "(165814, 9)"
      ]
     },
     "execution_count": 10,
     "metadata": {},
     "output_type": "execute_result"
    }
   ],
   "source": [
    "#第一届比赛 数据预处理\n",
    "# toxic = 1.0\n",
    "# severe_toxic = 2.0\n",
    "# obscene = 1.0\n",
    "# threat = 1.0\n",
    "# insult = 1.0\n",
    "# identity_hate = 2.0\n",
    "cat_mtpl = {'obscene': 0.16, 'toxic': 0.32, 'threat': 1.5, \n",
    "            'insult': 0.64, 'severe_toxic': 1.5, 'identity_hate': 1.5}\n",
    "PSEUDO_LABEL_WEIGHT = 0.033\n",
    "toxic_labels=[k for k in cat_mtpl.keys()]\n",
    "def create_train (df):\n",
    "    \n",
    "    for category in cat_mtpl:\n",
    "        df[category] = df[category] * cat_mtpl[category]\n",
    "    df['y'] = df.loc[:, toxic_labels].sum(axis=1)\n",
    "    \n",
    "    \n",
    "    df = df[[\"id\",'comment_text', 'y', 'toxic', 'severe_toxic', 'obscene', 'threat', 'insult', 'identity_hate']].rename(columns={'comment_text': 'text'})\n",
    "    return df\n",
    "        \n",
    "jc_df = create_train (jc_df)\n",
    "jc_df.shape"
   ]
  },
  {
   "cell_type": "code",
   "execution_count": 11,
   "id": "a7ba470b",
   "metadata": {
    "code_folding": [],
    "execution": {
     "iopub.execute_input": "2022-01-29T07:47:47.520132Z",
     "iopub.status.busy": "2022-01-29T07:47:47.519539Z",
     "iopub.status.idle": "2022-01-29T07:47:47.584986Z",
     "shell.execute_reply": "2022-01-29T07:47:47.585498Z",
     "shell.execute_reply.started": "2022-01-29T06:54:52.103528Z"
    },
    "papermill": {
     "duration": 0.090162,
     "end_time": "2022-01-29T07:47:47.585673",
     "exception": false,
     "start_time": "2022-01-29T07:47:47.495511",
     "status": "completed"
    },
    "tags": []
   },
   "outputs": [
    {
     "name": "stdout",
     "output_type": "stream",
     "text": [
      "rud_df:(5838, 5)\n"
     ]
    }
   ],
   "source": [
    "#ruddit 数据\n",
    "rud_df = pd.read_csv(os.path.join(run_path,\"ruddit_with_text.csv\"))\n",
    "\n",
    "print(f\"rud_df:{rud_df.shape}\")\n",
    "rud_df['y'] = rud_df['offensiveness_score'].map(lambda x: 0.0 if x <=0 else x)\n",
    "# rud_df['y'] = rud_df['offensiveness_score']\n",
    "\n",
    "rud_df = rud_df[['txt', 'y']].rename(columns={'txt': 'text'})\n",
    "dele_flag=\"[deleted]\"\n",
    "rud_df=rud_df.query(\"text!=@dele_flag\")"
   ]
  },
  {
   "cell_type": "code",
   "execution_count": 12,
   "id": "206492a2",
   "metadata": {
    "code_folding": [],
    "execution": {
     "iopub.execute_input": "2022-01-29T07:47:47.628127Z",
     "iopub.status.busy": "2022-01-29T07:47:47.627162Z",
     "iopub.status.idle": "2022-01-29T07:47:47.638889Z",
     "shell.execute_reply": "2022-01-29T07:47:47.639302Z",
     "shell.execute_reply.started": "2022-01-29T06:54:52.184242Z"
    },
    "papermill": {
     "duration": 0.034603,
     "end_time": "2022-01-29T07:47:47.639472",
     "exception": false,
     "start_time": "2022-01-29T07:47:47.604869",
     "status": "completed"
    },
    "tags": []
   },
   "outputs": [],
   "source": [
    "#clean data\n",
    "def clean1(text):\n",
    "\n",
    "    # Clean some punctutations\n",
    "    text=re.sub(r'\\n', r' \\n ',text)\n",
    "    text=re.sub(r'([a-zA-Z]+)([/!?.])([a-zA-Z]+)',r'\\1 \\2 \\3',text)\n",
    "    \n",
    "    # Replace repeating characters more than 3 times to length of 3\n",
    "    text=re.sub(r'([*!?\\'])\\1\\1{2,}',r'\\1\\1\\1',text)\n",
    "    \n",
    "    # Add space around repeating characters\n",
    "    text=re.sub(r'([*!?\\']+)',r' \\1 ',text)\n",
    "    \n",
    "    # patterns with repeating characters \n",
    "    text=re.sub(r'([a-zA-Z])\\1{2,}\\b',r'\\1\\1',text)\n",
    "    text=re.sub(r'([a-zA-Z])\\1\\1{2,}\\B',r'\\1\\1\\1',text)\n",
    "    text=re.sub(r'[ ]{2,}',' ',text)\n",
    "    text = text.strip()\n",
    "    \n",
    "    return text\n",
    "\n",
    "\n",
    "def clean2(text):\n",
    "    '''\n",
    "    Cleans text into a basic form for NLP. Operations include the following:-\n",
    "    1. Remove special charecters like &, #, etc\n",
    "    2. Removes extra spaces\n",
    "    3. Removes embedded URL links\n",
    "    4. Removes HTML tags\n",
    "    5. Removes emojis\n",
    "    \n",
    "    text - Text piece to be cleaned.\n",
    "    '''\n",
    "    template = re.compile(r'https?://\\S+|www\\.\\S+') #Removes website links\n",
    "    text = template.sub(r'', text)\n",
    "    \n",
    "    soup = BeautifulSoup(text, 'lxml') #Removes HTML tags\n",
    "    only_text = soup.get_text()\n",
    "    text = only_text\n",
    "    \n",
    "    emoji_pattern = re.compile(\"[\"\n",
    "                               u\"\\U0001F600-\\U0001F64F\"  # emoticons\n",
    "                               u\"\\U0001F300-\\U0001F5FF\"  # symbols & pictographs\n",
    "                               u\"\\U0001F680-\\U0001F6FF\"  # transport & map symbols\n",
    "                               u\"\\U0001F1E0-\\U0001F1FF\"  # flags (iOS)\n",
    "                               u\"\\U00002702-\\U000027B0\"\n",
    "                               u\"\\U000024C2-\\U0001F251\"\n",
    "                               \"]+\", flags=re.UNICODE)\n",
    "    text = emoji_pattern.sub(r'', text)\n",
    "    \n",
    "    text = re.sub(r\"[^a-zA-Z\\d]\", \" \", text) #Remove special Charecters\n",
    "    text = re.sub(' +', ' ', text) #Remove Extra Spaces\n",
    "    text = text.strip() # remove spaces at the beginning and at the end of string\n",
    "\n",
    "    return text\n",
    "def clean3(text):\n",
    "    '''\n",
    "    1+2\n",
    "    '''\n",
    "    text=re.sub(r'\\n', r' \\n ',text)\n",
    "    text=re.sub(r'([a-zA-Z]+)([/!?.])([a-zA-Z]+)',r'\\1 \\2 \\3',text)\n",
    "    \n",
    "    # Replace repeating characters more than 3 times to length of 3\n",
    "    text=re.sub(r'([*!?\\'])\\1\\1{2,}',r'\\1\\1\\1',text)\n",
    "    \n",
    "    # Add space around repeating characters\n",
    "    text=re.sub(r'([*!?\\']+)',r' \\1 ',text)\n",
    "    \n",
    "    # patterns with repeating characters \n",
    "    text=re.sub(r'([a-zA-Z])\\1{2,}\\b',r'\\1\\1',text)\n",
    "    text=re.sub(r'([a-zA-Z])\\1\\1{2,}\\B',r'\\1\\1\\1',text)\n",
    "    text=re.sub(r'[ ]{2,}',' ',text)\n",
    "    text = text.strip()\n",
    "    \n",
    "    template = re.compile(r'https?://\\S+|www\\.\\S+') #Removes website links\n",
    "    text = template.sub(r'', text)\n",
    "    \n",
    "    soup = BeautifulSoup(text, 'lxml') #Removes HTML tags\n",
    "    only_text = soup.get_text()\n",
    "    text = only_text\n",
    "    \n",
    "    emoji_pattern = re.compile(\"[\"\n",
    "                               u\"\\U0001F600-\\U0001F64F\"  # emoticons\n",
    "                               u\"\\U0001F300-\\U0001F5FF\"  # symbols & pictographs\n",
    "                               u\"\\U0001F680-\\U0001F6FF\"  # transport & map symbols\n",
    "                               u\"\\U0001F1E0-\\U0001F1FF\"  # flags (iOS)\n",
    "                               u\"\\U00002702-\\U000027B0\"\n",
    "                               u\"\\U000024C2-\\U0001F251\"\n",
    "                               \"]+\", flags=re.UNICODE)\n",
    "    text = emoji_pattern.sub(r'', text)\n",
    "    \n",
    "    text = re.sub(r\"[^a-zA-Z\\d]\", \" \", text) #Remove special Charecters\n",
    "    text = re.sub(' +', ' ', text) #Remove Extra Spaces\n",
    "    text = text.strip() # remove spaces at the beginning and at the end of string\n",
    "\n",
    "    return text\n"
   ]
  },
  {
   "cell_type": "code",
   "execution_count": 13,
   "id": "45362533",
   "metadata": {
    "execution": {
     "iopub.execute_input": "2022-01-29T07:47:47.681359Z",
     "iopub.status.busy": "2022-01-29T07:47:47.680471Z",
     "iopub.status.idle": "2022-01-29T07:48:59.488815Z",
     "shell.execute_reply": "2022-01-29T07:48:59.489338Z",
     "shell.execute_reply.started": "2022-01-29T06:54:52.200833Z"
    },
    "papermill": {
     "duration": 71.830904,
     "end_time": "2022-01-29T07:48:59.489538",
     "exception": false,
     "start_time": "2022-01-29T07:47:47.658634",
     "status": "completed"
    },
    "tags": []
   },
   "outputs": [
    {
     "name": "stderr",
     "output_type": "stream",
     "text": [
      "100%|██████████| 165814/165814 [00:21<00:00, 7611.24it/s]\n",
      "100%|██████████| 165814/165814 [00:49<00:00, 3318.47it/s]\n"
     ]
    }
   ],
   "source": [
    "tqdm.pandas()\n",
    "# clean 数据\n",
    "def clean_df(df,clean_type):\n",
    "    clean_df=df.copy()\n",
    "    \n",
    "    if clean_type==1:\n",
    "        \n",
    "        clean_df['text']=clean_df['text'].progress_apply(clean1)\n",
    "    elif clean_type==2:\n",
    "        \n",
    "        clean_df['text']=clean_df['text'].progress_apply(clean2)\n",
    "    elif clean_type==3:\n",
    "        clean_df['text']=clean_df['text'].progress_apply(clean3)\n",
    "    return clean_df\n",
    "jcc1_df=clean_df(jc_df,1)\n",
    "jcc2_df=clean_df(jc_df,2)\n",
    "# jcc3_df=clean_df(jc_df,3)"
   ]
  },
  {
   "cell_type": "markdown",
   "id": "40d38c3a",
   "metadata": {
    "papermill": {
     "duration": 0.176766,
     "end_time": "2022-01-29T07:48:59.840493",
     "exception": false,
     "start_time": "2022-01-29T07:48:59.663727",
     "status": "completed"
    },
    "tags": []
   },
   "source": [
    "# 消重"
   ]
  },
  {
   "cell_type": "markdown",
   "id": "864a35ef",
   "metadata": {
    "papermill": {
     "duration": 0.1899,
     "end_time": "2022-01-29T07:49:00.221478",
     "exception": false,
     "start_time": "2022-01-29T07:49:00.031578",
     "status": "completed"
    },
    "tags": []
   },
   "source": [
    "## 分值显示"
   ]
  },
  {
   "cell_type": "code",
   "execution_count": 14,
   "id": "67ece989",
   "metadata": {
    "code_folding": [
     0
    ],
    "execution": {
     "iopub.execute_input": "2022-01-29T07:49:00.575035Z",
     "iopub.status.busy": "2022-01-29T07:49:00.574452Z",
     "iopub.status.idle": "2022-01-29T07:49:00.577240Z",
     "shell.execute_reply": "2022-01-29T07:49:00.576674Z",
     "shell.execute_reply.started": "2022-01-29T06:56:07.780708Z"
    },
    "papermill": {
     "duration": 0.181961,
     "end_time": "2022-01-29T07:49:00.577376",
     "exception": false,
     "start_time": "2022-01-29T07:49:00.395415",
     "status": "completed"
    },
    "tags": []
   },
   "outputs": [],
   "source": [
    "def show_data(train_df):\n",
    "    printed = []\n",
    "    for i in sorted(train_df.y.unique()):\n",
    "        n = np.round(i, 2) \n",
    "        if n in printed:\n",
    "            continue\n",
    "        printed.append(n)\n",
    "        print(f\"{len(printed):<3}: {i:.5f}\\t{repr(np.random.choice(train_df[train_df.y==i]['text']))[:300]}\")"
   ]
  },
  {
   "cell_type": "markdown",
   "id": "1f0e7d8c",
   "metadata": {
    "papermill": {
     "duration": 0.176756,
     "end_time": "2022-01-29T07:49:00.929126",
     "exception": false,
     "start_time": "2022-01-29T07:49:00.752370",
     "status": "completed"
    },
    "tags": []
   },
   "source": [
    "# create fold"
   ]
  },
  {
   "cell_type": "code",
   "execution_count": 15,
   "id": "b8c0e9a2",
   "metadata": {
    "code_folding": [
     0
    ],
    "execution": {
     "iopub.execute_input": "2022-01-29T07:49:01.291613Z",
     "iopub.status.busy": "2022-01-29T07:49:01.290976Z",
     "iopub.status.idle": "2022-01-29T07:49:01.293634Z",
     "shell.execute_reply": "2022-01-29T07:49:01.293199Z",
     "shell.execute_reply.started": "2022-01-29T06:56:07.788998Z"
    },
    "papermill": {
     "duration": 0.18617,
     "end_time": "2022-01-29T07:49:01.293764",
     "exception": false,
     "start_time": "2022-01-29T07:49:01.107594",
     "status": "completed"
    },
    "tags": []
   },
   "outputs": [],
   "source": [
    "def create_fold_sample(df,n_folds=3,frac_1=0.8,frac_1_factor=1.5,select_num=0,balance=False,translate=False):\n",
    "    df_dict={}\n",
    "    #正样本 大于等于select_num\n",
    "    select_list=-(df['y'] <select_num)\n",
    "    min_len=select_list.sum()\n",
    "    if translate==True:\n",
    "        min_len=4*min_len\n",
    "    for fld in range(n_folds):\n",
    "        if balance==False:\n",
    "#             df_y0_undersample=df[df.y<select_num].sample(n=int(min_len*frac_1*frac_1_factor), random_state = 10*(fld+1))\n",
    "            df_y0_undersample=df[df.y<select_num].sample(n=int(min_len*frac_1*frac_1_factor), random_state = 201)\n",
    "\n",
    "            tmp_df = pd.concat([df[select_list].sample(frac=frac_1, random_state = 10*(fld+1)),df_y0_undersample ])\n",
    "        else:\n",
    "            tmp_df = df.sample(frac=frac_1, random_state = 10*(fld+1))\n",
    "            \n",
    "        df_dict[fld]=tmp_df\n",
    "\n",
    "    return df_dict\n"
   ]
  },
  {
   "cell_type": "code",
   "execution_count": 16,
   "id": "d1837052",
   "metadata": {
    "code_folding": [
     0
    ],
    "execution": {
     "iopub.execute_input": "2022-01-29T07:49:01.645887Z",
     "iopub.status.busy": "2022-01-29T07:49:01.645306Z",
     "iopub.status.idle": "2022-01-29T07:49:01.647845Z",
     "shell.execute_reply": "2022-01-29T07:49:01.647391Z",
     "shell.execute_reply.started": "2022-01-29T06:56:07.807830Z"
    },
    "papermill": {
     "duration": 0.180852,
     "end_time": "2022-01-29T07:49:01.647981",
     "exception": false,
     "start_time": "2022-01-29T07:49:01.467129",
     "status": "completed"
    },
    "tags": []
   },
   "outputs": [],
   "source": [
    "if is_test==True:\n",
    "    jc_df=jc_df[0:400]\n",
    "    rud_df=rud_df[0:400]\n",
    "    jcc_df=jcc_df[0:400]"
   ]
  },
  {
   "cell_type": "code",
   "execution_count": 17,
   "id": "a01a1211",
   "metadata": {
    "code_folding": [],
    "execution": {
     "iopub.execute_input": "2022-01-29T07:49:02.005828Z",
     "iopub.status.busy": "2022-01-29T07:49:02.005094Z",
     "iopub.status.idle": "2022-01-29T07:49:02.134468Z",
     "shell.execute_reply": "2022-01-29T07:49:02.135059Z",
     "shell.execute_reply.started": "2022-01-29T06:56:07.822032Z"
    },
    "papermill": {
     "duration": 0.312916,
     "end_time": "2022-01-29T07:49:02.135251",
     "exception": false,
     "start_time": "2022-01-29T07:49:01.822335",
     "status": "completed"
    },
    "tags": []
   },
   "outputs": [],
   "source": [
    "if is_test==True:\n",
    "\n",
    "    jc_df_sdict=create_fold_sample(jc_df,n_folds=fold_num_s,frac_1=0.8,frac_1_factor=1.5,select_num=0.001,balance=True,translate=translate_aug)\n",
    "    rud_df_sdict=create_fold_sample(rud_df,n_folds=fold_num_s,frac_1=0.8,frac_1_factor=1.5,select_num=0.5,balance=True)\n",
    "    jcc1_df_sdict=create_fold_sample(jcc1_df,n_folds=fold_num_s,frac_1=0.8,frac_1_factor=1.5,select_num=0.001,balance=True)\n",
    "    jcc2_df_sdict=create_fold_sample(jcc2_df,n_folds=fold_num_s,frac_1=0.8,frac_1_factor=1.5,select_num=0.001,balance=True)\n",
    "    \n",
    "if is_test==False:\n",
    "\n",
    "    jc_df_sdict=create_fold_sample(jc_df,n_folds=fold_num_s,frac_1=1,frac_1_factor=1.5,select_num=0.001,balance=False,translate=translate_aug)\n",
    "    rud_df_sdict=create_fold_sample(rud_df,n_folds=fold_num_s,frac_1=1,frac_1_factor=1,select_num=0.5,balance=True)\n",
    "    jcc1_df_sdict=create_fold_sample(jcc1_df,n_folds=fold_num_s,frac_1=1,frac_1_factor=1.5,select_num=0.001,balance=False)\n",
    "    jcc2_df_sdict=create_fold_sample(jcc2_df,n_folds=fold_num_s,frac_1=1,frac_1_factor=1.5,select_num=0.001,balance=False)\n",
    "\n",
    "    \n",
    "    \n",
    "#     jc_df_kdict[0].shape\n",
    "#     juc_df_kdict[0].shape\n",
    "#     rud_df_kdict[0].shape\n",
    "#     jcc_df_sdict[0].shape"
   ]
  },
  {
   "cell_type": "code",
   "execution_count": 18,
   "id": "419e48d9",
   "metadata": {
    "execution": {
     "iopub.execute_input": "2022-01-29T07:49:02.490350Z",
     "iopub.status.busy": "2022-01-29T07:49:02.486666Z",
     "iopub.status.idle": "2022-01-29T07:49:29.842014Z",
     "shell.execute_reply": "2022-01-29T07:49:29.842489Z",
     "shell.execute_reply.started": "2022-01-29T06:56:07.981354Z"
    },
    "papermill": {
     "duration": 27.533762,
     "end_time": "2022-01-29T07:49:29.842689",
     "exception": false,
     "start_time": "2022-01-29T07:49:02.308927",
     "status": "completed"
    },
    "tags": []
   },
   "outputs": [],
   "source": [
    "from scipy.sparse import hstack\n",
    "from scipy import sparse\n",
    "from gensim.models import KeyedVectors, FastText\n",
    "\n",
    "fmodel = FastText.load('../input/jigsaw-regression-based-data/FastText-jigsaw-256D/Jigsaw-Fasttext-Word-Embeddings-256D.bin')\n",
    "def splitter(text):\n",
    "    tokens = []\n",
    "    \n",
    "    for word in text.split(' '):\n",
    "        tokens.append(word)\n",
    "    \n",
    "    return tokens\n",
    "\n",
    "def vectorizer(text):\n",
    "    tokens = splitter(text)\n",
    "    \n",
    "    x = np.mean(fmodel.wv[tokens], axis = 0).reshape(1, -1)\n",
    "    \n",
    "    return np.squeeze(x,axis=0)   \n",
    "def text2fasttextarray(text):\n",
    "    X_fast=[]\n",
    "    for t in text:\n",
    "        X_fast.append(vectorizer(t))\n",
    "    X_fast=np.matrix(X_fast)\n",
    "    \n",
    "    return X_fast\n"
   ]
  },
  {
   "cell_type": "markdown",
   "id": "7ad6fe6b",
   "metadata": {
    "papermill": {
     "duration": 0.176025,
     "end_time": "2022-01-29T07:49:30.193716",
     "exception": false,
     "start_time": "2022-01-29T07:49:30.017691",
     "status": "completed"
    },
    "tags": []
   },
   "source": [
    "# ridge"
   ]
  },
  {
   "cell_type": "code",
   "execution_count": 19,
   "id": "a06a54f7",
   "metadata": {
    "execution": {
     "iopub.execute_input": "2022-01-29T07:49:30.550793Z",
     "iopub.status.busy": "2022-01-29T07:49:30.545053Z",
     "iopub.status.idle": "2022-01-29T07:49:30.565360Z",
     "shell.execute_reply": "2022-01-29T07:49:30.564744Z",
     "shell.execute_reply.started": "2022-01-29T06:56:37.418417Z"
    },
    "papermill": {
     "duration": 0.198068,
     "end_time": "2022-01-29T07:49:30.565494",
     "exception": false,
     "start_time": "2022-01-29T07:49:30.367426",
     "status": "completed"
    },
    "tags": []
   },
   "outputs": [],
   "source": [
    "import joblib\n",
    "def ridge_cv(df_dic,n_folds,model_pre=\"jc_k_ridge_\",df_val=df_val,clean_prm=0,translate=False):\n",
    "    val_preds_arr1 = np.zeros((df_val.shape[0], n_folds))\n",
    "    val_preds_arr2 = np.zeros((df_val.shape[0], n_folds))\n",
    "    test_preds_arr = np.zeros((df_test.shape[0], n_folds))\n",
    "    for fld in tqdm(range(n_folds)):\n",
    "        df = df_dic[fld]\n",
    "        vec = TfidfVectorizer(analyzer='char_wb', max_df=0.5, min_df=3, ngram_range=(3, 5) )\n",
    "        vec_pre=model_pre+\"vec_\"\n",
    "        if translate!=True:\n",
    "            text=df[\"text\"]\n",
    "            y=df[\"y\"]\n",
    "        else:\n",
    "            trans_df=df.dropna(axis=0,subset = [\"fr_text\"])\n",
    "            text=pd.concat([df[\"text\"],trans_df[\"fr_text\"],trans_df[\"es_text\"],trans_df[\"de_text\"]])\n",
    "            y=pd.concat([df[\"y\"],trans_df[\"y\"],trans_df[\"y\"],trans_df[\"y\"]])\n",
    "        X=vec.fit_transform(text)\n",
    "#         joblib.dump(vec,os.path.join(ridge_save_path,f'{vec_pre}{fld}.pkl')) #保存模型 文件后缀为.pkl\n",
    "        model=Ridge(alpha=0.5)\n",
    "        model.fit(X,y)\n",
    "        if fast_vec==True:\n",
    "            X_f=text2fasttextarray(text)\n",
    "            model_f=Ridge(alpha=0.5)\n",
    "            model_f.fit(X_f,y)\n",
    "        if clean_prm==1:\n",
    "            X_less_toxic = df_val.apply(lambda row :clean1(row[\"less_toxic\"]),axis=1)\n",
    "            X_more_toxic = df_val.apply(lambda row :clean1(row[\"more_toxic\"]),axis=1)\n",
    "            X_test = df_test.apply(lambda row :clean1(row[\"text\"]),axis=1)\n",
    "    \n",
    "        elif clean_prm==2:\n",
    "            X_less_toxic = df_val.apply(lambda row :clean2(row[\"less_toxic\"]),axis=1)\n",
    "            X_more_toxic = df_val.apply(lambda row :clean2(row[\"more_toxic\"]),axis=1)\n",
    "            X_test = df_test.apply(lambda row :clean2(row[\"text\"]),axis=1)\n",
    "        elif clean_prm==3:\n",
    "            X_less_toxic = df_val.apply(lambda row :clean3(row[\"less_toxic\"]),axis=1)\n",
    "            X_more_toxic = df_val.apply(lambda row :clean3(row[\"more_toxic\"]),axis=1)\n",
    "            X_test = df_test.apply(lambda row :clean3(row[\"text\"]),axis=1)\n",
    "\n",
    "        else:\n",
    "            X_less_toxic = df_val['less_toxic']\n",
    "            X_more_toxic = df_val['more_toxic']\n",
    "            X_test = df_test['text']\n",
    "        if fast_vec==True:\n",
    "            X_less_toxic_f=text2fasttextarray(X_less_toxic)\n",
    "            X_more_toxic_f=text2fasttextarray(X_more_toxic)\n",
    "            X_test_f=text2fasttextarray(X_test)\n",
    "            \n",
    "            val_preds_arr1[:,fld]=model_f.predict(X_less_toxic_f)*fast_factor\n",
    "            val_preds_arr2[:,fld]=model_f.predict(X_more_toxic_f)*fast_factor\n",
    "            test_preds_arr[:,fld]=model_f.predict(X_test_f)*fast_factor\n",
    "#             joblib.dump(model,os.path.join(ridge_save_path,f'{model_pre}_f_{fld}.pkl')) #保存模型 文件后缀为.pkl\n",
    "            \n",
    "        X_less_toxic = vec.transform(X_less_toxic)\n",
    "        X_more_toxic = vec.transform(X_more_toxic)\n",
    "        X_test = vec.transform(X_test)\n",
    "        \n",
    "            \n",
    "        val_preds_arr1[:,fld] += model.predict(X_less_toxic)\n",
    "        val_preds_arr2[:,fld] += model.predict(X_more_toxic)\n",
    "\n",
    "        test_preds_arr[:,fld] += model.predict(X_test)\n",
    "            \n",
    "#         joblib.dump(model,os.path.join(ridge_save_path,f'{model_pre}{fld}.pkl')) #保存模型 文件后缀为.pkl\n",
    "        del model,vec\n",
    "        \n",
    "    p1=val_preds_arr1.mean(axis=1)\n",
    "    p2=val_preds_arr2.mean(axis=1)\n",
    "    pv=test_preds_arr.mean(axis=1)\n",
    "    print(f'Validation Accuracy is { np.round((p1 < p2).mean() * 100,2)}')        \n",
    "    return p1,p2,pv"
   ]
  },
  {
   "cell_type": "markdown",
   "id": "999764d4",
   "metadata": {
    "papermill": {
     "duration": 0.174438,
     "end_time": "2022-01-29T07:49:30.914005",
     "exception": false,
     "start_time": "2022-01-29T07:49:30.739567",
     "status": "completed"
    },
    "tags": []
   },
   "source": [
    "# lightgbm"
   ]
  },
  {
   "cell_type": "code",
   "execution_count": 20,
   "id": "f3ef730d",
   "metadata": {
    "code_folding": [
     0
    ],
    "execution": {
     "iopub.execute_input": "2022-01-29T07:49:31.269874Z",
     "iopub.status.busy": "2022-01-29T07:49:31.269282Z",
     "iopub.status.idle": "2022-01-29T07:49:31.272158Z",
     "shell.execute_reply": "2022-01-29T07:49:31.271681Z",
     "shell.execute_reply.started": "2022-01-29T06:56:37.442735Z"
    },
    "papermill": {
     "duration": 0.18135,
     "end_time": "2022-01-29T07:49:31.272318",
     "exception": false,
     "start_time": "2022-01-29T07:49:31.090968",
     "status": "completed"
    },
    "tags": []
   },
   "outputs": [],
   "source": [
    "def lightgbm_cv(df_dic,n_folds,model_pre=\"jc_k_gbm_\",df_val=df_val,clean_prm=False,translate=False):\n",
    "    return 0"
   ]
  },
  {
   "cell_type": "code",
   "execution_count": 21,
   "id": "b4041b69",
   "metadata": {
    "execution": {
     "iopub.execute_input": "2022-01-29T07:49:31.627994Z",
     "iopub.status.busy": "2022-01-29T07:49:31.627365Z",
     "iopub.status.idle": "2022-01-29T08:00:21.901420Z",
     "shell.execute_reply": "2022-01-29T08:00:21.901957Z",
     "shell.execute_reply.started": "2022-01-29T07:06:38.358646Z"
    },
    "papermill": {
     "duration": 650.456698,
     "end_time": "2022-01-29T08:00:21.902389",
     "exception": false,
     "start_time": "2022-01-29T07:49:31.445691",
     "status": "completed"
    },
    "tags": []
   },
   "outputs": [
    {
     "name": "stderr",
     "output_type": "stream",
     "text": [
      "100%|██████████| 1/1 [03:27<00:00, 207.42s/it]\n"
     ]
    },
    {
     "name": "stdout",
     "output_type": "stream",
     "text": [
      "Validation Accuracy is 67.52\n"
     ]
    },
    {
     "name": "stderr",
     "output_type": "stream",
     "text": [
      "100%|██████████| 1/1 [01:53<00:00, 113.41s/it]\n"
     ]
    },
    {
     "name": "stdout",
     "output_type": "stream",
     "text": [
      "Validation Accuracy is 66.06\n"
     ]
    },
    {
     "name": "stderr",
     "output_type": "stream",
     "text": [
      "100%|██████████| 1/1 [03:09<00:00, 189.14s/it]\n"
     ]
    },
    {
     "name": "stdout",
     "output_type": "stream",
     "text": [
      "Validation Accuracy is 67.71\n"
     ]
    },
    {
     "name": "stderr",
     "output_type": "stream",
     "text": [
      "100%|██████████| 1/1 [02:17<00:00, 137.58s/it]\n"
     ]
    },
    {
     "name": "stdout",
     "output_type": "stream",
     "text": [
      "Validation Accuracy is 67.89\n",
      " Validation Accuracy is 68.0284\n"
     ]
    }
   ],
   "source": [
    "p1=defaultdict()\n",
    "p2=defaultdict()\n",
    "pv=defaultdict()\n",
    "\n",
    "val_data=df_val\n",
    "\n",
    "func_dict={\"ridge\":ridge_cv,\"gbm\":lightgbm_cv}\n",
    "# func_dict.get(x)\n",
    "\n",
    "if Fold_type==2:\n",
    "    pre_names=[ data_name+\"s_\" for data_name in data_names]\n",
    "    name2dict={\"jc_s_\":jc_df_sdict,\"rud_s_\":rud_df_sdict,\n",
    "               \"jcc1_s_\":jcc1_df_sdict,\"jcc2_s_\":jcc2_df_sdict}\n",
    "    fold_num=fold_num_s\n",
    "\n",
    "p1_ensenmble = np.zeros((val_data.shape[0]))\n",
    "p2_ensenmble = np.zeros((val_data.shape[0]))\n",
    "score=np.zeros((df_test.shape[0]))\n",
    "\n",
    "for d_index,pre_name in enumerate(pre_names):\n",
    "    ###model_pre_ridge:jc_s_ridge_ pre_name:jc_s_ model:jc_s_ridge_{fold} vec:jc_s_ridge_vec_{fold}\n",
    "    #pre_name jc_s_ model_name jc_s_ridge_\n",
    "    clean_prm=False\n",
    "    translate=False\n",
    "    \n",
    "    p1[pre_name],p2[pre_name]=np.zeros((val_data.shape[0])),np.zeros((val_data.shape[0]))\n",
    "    pv[pre_name]=np.zeros((df_test.shape[0]))\n",
    "    if pre_name in clean_data.keys():\n",
    "        clean_prm=clean_data[pre_name]\n",
    "\n",
    "    for index,model_name in enumerate(model_choice):\n",
    "        cv_func=func_dict.get(model_name)\n",
    "        model_pre=pre_name+model_name+\"_\"\n",
    "        p1[model_pre],p2[model_pre],pv[model_pre]=cv_func(name2dict[pre_name],n_folds=fold_num,df_val=val_data,\n",
    "                                                        model_pre=model_pre,clean_prm=clean_prm,translate=translate)\n",
    "\n",
    "        p1[pre_name]= p1[pre_name]+ p1[model_pre]*factor[index]\n",
    "        p2[pre_name]= p2[pre_name]+ p2[model_pre]*factor[index]\n",
    "        pv[pre_name]= pv[pre_name]+ pv[model_pre]*factor[index]\n",
    "\n",
    "    kmax=max(p1[pre_name].max(),p2[pre_name].max())\n",
    "    result=df_val.copy()\n",
    "    result[\"less_value\"]=p1[pre_name]\n",
    "    result[\"more_value\"]=p2[pre_name]\n",
    "    result.to_csv(f\"{pre_name}.csv\")\n",
    "    p1_ensenmble=p1_ensenmble+factor_data[d_index]*p1[pre_name]/kmax\n",
    "    p2_ensenmble=p2_ensenmble+factor_data[d_index]*p2[pre_name]/kmax\n",
    "    score=score+factor_data[d_index]*pv[pre_name]/kmax\n",
    "\n",
    "print(f' Validation Accuracy is { np.round((p1_ensenmble < p2_ensenmble).mean() * 100,4)}') \n",
    "\n",
    "    \n",
    "df_test['score'] = rankdata(score, method='ordinal')\n"
   ]
  },
  {
   "cell_type": "code",
   "execution_count": 22,
   "id": "4be26c8d",
   "metadata": {
    "execution": {
     "iopub.execute_input": "2022-01-29T08:00:22.295097Z",
     "iopub.status.busy": "2022-01-29T08:00:22.293983Z",
     "iopub.status.idle": "2022-01-29T08:00:22.307860Z",
     "shell.execute_reply": "2022-01-29T08:00:22.308351Z",
     "shell.execute_reply.started": "2022-01-29T07:00:16.909648Z"
    },
    "papermill": {
     "duration": 0.200139,
     "end_time": "2022-01-29T08:00:22.308539",
     "exception": false,
     "start_time": "2022-01-29T08:00:22.108400",
     "status": "completed"
    },
    "tags": []
   },
   "outputs": [],
   "source": [
    "df_test[['comment_id', 'score']].to_csv(\"submission.csv\", index=False)"
   ]
  },
  {
   "cell_type": "code",
   "execution_count": null,
   "id": "76897e76",
   "metadata": {
    "papermill": {
     "duration": 0.178054,
     "end_time": "2022-01-29T08:00:22.667973",
     "exception": false,
     "start_time": "2022-01-29T08:00:22.489919",
     "status": "completed"
    },
    "tags": []
   },
   "outputs": [],
   "source": []
  }
 ],
 "metadata": {
  "kernelspec": {
   "display_name": "Python 3",
   "language": "python",
   "name": "python3"
  },
  "language_info": {
   "codemirror_mode": {
    "name": "ipython",
    "version": 3
   },
   "file_extension": ".py",
   "mimetype": "text/x-python",
   "name": "python",
   "nbconvert_exporter": "python",
   "pygments_lexer": "ipython3",
   "version": "3.7.10"
  },
  "papermill": {
   "default_parameters": {},
   "duration": 771.538542,
   "end_time": "2022-01-29T08:00:24.160697",
   "environment_variables": {},
   "exception": null,
   "input_path": "__notebook__.ipynb",
   "output_path": "__notebook__.ipynb",
   "parameters": {},
   "start_time": "2022-01-29T07:47:32.622155",
   "version": "2.3.3"
  }
 },
 "nbformat": 4,
 "nbformat_minor": 5
}
